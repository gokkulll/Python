{
 "cells": [
  {
   "cell_type": "code",
   "execution_count": 1,
   "id": "2e35ef93-49c9-44bc-8fc0-b0f2c6b1742b",
   "metadata": {},
   "outputs": [
    {
     "data": {
      "text/plain": [
       "{10, 20, 30, 40}"
      ]
     },
     "execution_count": 1,
     "metadata": {},
     "output_type": "execute_result"
    }
   ],
   "source": [
    "s1 = {10,20,30,40,40}\n",
    "s1\n"
   ]
  },
  {
   "cell_type": "code",
   "execution_count": 2,
   "id": "2a9517ae-8450-4d28-8791-eb94755a7fed",
   "metadata": {},
   "outputs": [
    {
     "data": {
      "text/plain": [
       "set"
      ]
     },
     "execution_count": 2,
     "metadata": {},
     "output_type": "execute_result"
    }
   ],
   "source": [
    "type(s1)"
   ]
  },
  {
   "cell_type": "code",
   "execution_count": 3,
   "id": "e851adb8-9908-40c9-9145-ccc364f13eac",
   "metadata": {},
   "outputs": [
    {
     "data": {
      "text/plain": [
       "{10, 20, 30, 40, 50}"
      ]
     },
     "execution_count": 3,
     "metadata": {},
     "output_type": "execute_result"
    }
   ],
   "source": [
    "s2 = set((10,20,30,40,50))\n",
    "s2"
   ]
  },
  {
   "cell_type": "code",
   "execution_count": 4,
   "id": "b1227f53-b9ec-401e-bba7-f56c221e2e8a",
   "metadata": {},
   "outputs": [
    {
     "data": {
      "text/plain": [
       "{10, 30, 40, 50}"
      ]
     },
     "execution_count": 4,
     "metadata": {},
     "output_type": "execute_result"
    }
   ],
   "source": [
    "s2.remove(20)\n",
    "s2"
   ]
  },
  {
   "cell_type": "code",
   "execution_count": 6,
   "id": "6d5eeabc-06fe-441a-b94f-6b9150e4aedb",
   "metadata": {},
   "outputs": [
    {
     "data": {
      "text/plain": [
       "{10, 30, 40, 50, 100}"
      ]
     },
     "execution_count": 6,
     "metadata": {},
     "output_type": "execute_result"
    }
   ],
   "source": [
    "s2.add(100)\n",
    "s2"
   ]
  },
  {
   "cell_type": "code",
   "execution_count": 7,
   "id": "fee793c0-272a-4337-97f0-a1e4801fb15d",
   "metadata": {},
   "outputs": [
    {
     "data": {
      "text/plain": [
       "{10, 30, 40, 50}"
      ]
     },
     "execution_count": 7,
     "metadata": {},
     "output_type": "execute_result"
    }
   ],
   "source": [
    "s2.discard(100)\n",
    "s2"
   ]
  },
  {
   "cell_type": "code",
   "execution_count": 3,
   "id": "bb296b81-a81a-496a-90b8-c24db3a0292a",
   "metadata": {},
   "outputs": [
    {
     "data": {
      "text/plain": [
       "{10, 20, 30, 40, 50}"
      ]
     },
     "execution_count": 3,
     "metadata": {},
     "output_type": "execute_result"
    }
   ],
   "source": [
    "s3 = {10,20,30,40,50}\n",
    "s3"
   ]
  },
  {
   "cell_type": "code",
   "execution_count": 4,
   "id": "72f2c447-fd7c-4d2f-8b8c-aca6634b83cb",
   "metadata": {},
   "outputs": [
    {
     "name": "stdout",
     "output_type": "stream",
     "text": [
      "{40, 10, 50, 20, 30}\n"
     ]
    }
   ],
   "source": [
    "print(s3)"
   ]
  },
  {
   "cell_type": "code",
   "execution_count": 5,
   "id": "c46652e9-2afb-41b0-a78f-c8f44306415c",
   "metadata": {},
   "outputs": [
    {
     "name": "stdout",
     "output_type": "stream",
     "text": [
      "{40, 10, 50, 20, 30, 31}\n"
     ]
    }
   ],
   "source": [
    "s3.add(31)\n",
    "print(s3)"
   ]
  },
  {
   "cell_type": "code",
   "execution_count": 12,
   "id": "0bbb4ae5-cf55-4981-b45c-77e2586d0a8b",
   "metadata": {},
   "outputs": [
    {
     "name": "stdout",
     "output_type": "stream",
     "text": [
      "{5, 6} {5, 6, 7, 8, 9}\n"
     ]
    }
   ],
   "source": [
    "a = {1,2,3,4,5,6}\n",
    "b = {5,6,7,8,9}\n",
    "\n",
    "c = a.union(b)\n",
    "c\n",
    "d = a.intersection(b)\n",
    "d\n",
    "a.difference(b)\n",
    "a.symmetric_difference(b)\n",
    "\n",
    "a.intersection_update(b)\n",
    "a\n",
    "print(a,b)"
   ]
  },
  {
   "cell_type": "code",
   "execution_count": 15,
   "id": "92fb46a3-0f94-4e65-9a62-84ec7cca38a6",
   "metadata": {},
   "outputs": [
    {
     "data": {
      "text/plain": [
       "True"
      ]
     },
     "execution_count": 15,
     "metadata": {},
     "output_type": "execute_result"
    }
   ],
   "source": [
    "z = {1,2,3,4,5,6,7,8,9}\n",
    "x = {1,2,3,4}\n",
    "x.issubset(z)\n",
    "z.issubset(x)\n",
    "z.issuperset(x)"
   ]
  },
  {
   "cell_type": "code",
   "execution_count": 16,
   "id": "60bc0bae-5570-4c88-9c4b-3b1d6891d480",
   "metadata": {},
   "outputs": [
    {
     "data": {
      "text/plain": [
       "['__and__',\n",
       " '__class__',\n",
       " '__contains__',\n",
       " '__delattr__',\n",
       " '__dir__',\n",
       " '__doc__',\n",
       " '__eq__',\n",
       " '__format__',\n",
       " '__ge__',\n",
       " '__getattribute__',\n",
       " '__gt__',\n",
       " '__hash__',\n",
       " '__iand__',\n",
       " '__init__',\n",
       " '__init_subclass__',\n",
       " '__ior__',\n",
       " '__isub__',\n",
       " '__iter__',\n",
       " '__ixor__',\n",
       " '__le__',\n",
       " '__len__',\n",
       " '__lt__',\n",
       " '__ne__',\n",
       " '__new__',\n",
       " '__or__',\n",
       " '__rand__',\n",
       " '__reduce__',\n",
       " '__reduce_ex__',\n",
       " '__repr__',\n",
       " '__ror__',\n",
       " '__rsub__',\n",
       " '__rxor__',\n",
       " '__setattr__',\n",
       " '__sizeof__',\n",
       " '__str__',\n",
       " '__sub__',\n",
       " '__subclasshook__',\n",
       " '__xor__',\n",
       " 'add',\n",
       " 'clear',\n",
       " 'copy',\n",
       " 'difference',\n",
       " 'difference_update',\n",
       " 'discard',\n",
       " 'intersection',\n",
       " 'intersection_update',\n",
       " 'isdisjoint',\n",
       " 'issubset',\n",
       " 'issuperset',\n",
       " 'pop',\n",
       " 'remove',\n",
       " 'symmetric_difference',\n",
       " 'symmetric_difference_update',\n",
       " 'union',\n",
       " 'update']"
      ]
     },
     "execution_count": 16,
     "metadata": {},
     "output_type": "execute_result"
    }
   ],
   "source": [
    "dir(set)"
   ]
  },
  {
   "cell_type": "code",
   "execution_count": 19,
   "id": "27ee593b-579f-4a33-849d-3cb7108cd6cd",
   "metadata": {},
   "outputs": [
    {
     "data": {
      "text/plain": [
       "{1, 2, 3, 4, 5, 6, 7, 8}"
      ]
     },
     "execution_count": 19,
     "metadata": {},
     "output_type": "execute_result"
    }
   ],
   "source": [
    "s1 = {1,2,3,4,5}\n",
    "s1\n",
    "s1.update([6,7,8])\n",
    "s1"
   ]
  },
  {
   "cell_type": "code",
   "execution_count": 2,
   "id": "a1f73906-e437-4734-8a7b-85aa169b2c94",
   "metadata": {},
   "outputs": [
    {
     "data": {
      "text/plain": [
       "{1, 2, 3, 4, 5, 6, 7}"
      ]
     },
     "execution_count": 2,
     "metadata": {},
     "output_type": "execute_result"
    }
   ],
   "source": [
    "\n",
    "s1 = {1,2,3,4,5,6,7}\n",
    "s1"
   ]
  },
  {
   "cell_type": "code",
   "execution_count": 3,
   "id": "9c158dfa-60dd-412c-8c3f-796de5373dfa",
   "metadata": {},
   "outputs": [
    {
     "data": {
      "text/plain": [
       "{1, 2, 3, 5, 6, 7}"
      ]
     },
     "execution_count": 3,
     "metadata": {},
     "output_type": "execute_result"
    }
   ],
   "source": [
    "s1.discard(4)\n",
    "s1"
   ]
  },
  {
   "cell_type": "code",
   "execution_count": 4,
   "id": "aab92942-1c37-459b-a933-94f626f3f085",
   "metadata": {},
   "outputs": [
    {
     "data": {
      "text/plain": [
       "set"
      ]
     },
     "execution_count": 4,
     "metadata": {},
     "output_type": "execute_result"
    }
   ],
   "source": [
    "s = set()\n",
    "type(s)"
   ]
  },
  {
   "cell_type": "code",
   "execution_count": 8,
   "id": "4501be0f-b7b3-4ea1-896d-13a0cd09ba4c",
   "metadata": {},
   "outputs": [
    {
     "name": "stdout",
     "output_type": "stream",
     "text": [
      "{12, 4}\n"
     ]
    }
   ],
   "source": [
    "s = {x for x in [12,3,4,67,23] if x%2==0}\n",
    "print(s)\n"
   ]
  },
  {
   "cell_type": "code",
   "execution_count": 12,
   "id": "a8b636d6-ba31-4093-a445-d938820b1d24",
   "metadata": {},
   "outputs": [
    {
     "data": {
      "text/plain": [
       "{'E', 'H', 'I', 'L', 'N', 'P', 'S'}"
      ]
     },
     "execution_count": 12,
     "metadata": {},
     "output_type": "execute_result"
    }
   ],
   "source": [
    "s = {x.upper() for x in \"phillipines\"}\n",
    "s\n"
   ]
  },
  {
   "cell_type": "code",
   "execution_count": null,
   "id": "d0a0045c-1729-4166-8742-136e3d4fcc53",
   "metadata": {},
   "outputs": [],
   "source": []
  }
 ],
 "metadata": {
  "kernelspec": {
   "display_name": "Python 3 (ipykernel)",
   "language": "python",
   "name": "python3"
  },
  "language_info": {
   "codemirror_mode": {
    "name": "ipython",
    "version": 3
   },
   "file_extension": ".py",
   "mimetype": "text/x-python",
   "name": "python",
   "nbconvert_exporter": "python",
   "pygments_lexer": "ipython3",
   "version": "3.8.10"
  }
 },
 "nbformat": 4,
 "nbformat_minor": 5
}
