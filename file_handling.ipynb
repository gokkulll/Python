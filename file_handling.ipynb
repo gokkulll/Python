{
 "cells": [
  {
   "cell_type": "code",
   "execution_count": 3,
   "id": "d41b7ffe-ac7b-4b79-8096-05f7b2f2ce8e",
   "metadata": {},
   "outputs": [
    {
     "name": "stdout",
     "output_type": "stream",
     "text": [
      "hello\n",
      "bro \n",
      "we won\n",
      "\n"
     ]
    }
   ],
   "source": [
    "#file reading\n",
    "\n",
    "file = open(\"mytext.txt\", 'r')\n",
    "str = file.read()\n",
    "print(str)\n",
    "file.close()"
   ]
  },
  {
   "cell_type": "code",
   "execution_count": 5,
   "id": "5420d2ab-9515-4e59-aa63-b1a467b8c6c8",
   "metadata": {},
   "outputs": [],
   "source": [
    "#file writing\n",
    "\n",
    "\n",
    "file = open(\"mydocs.txt\", 'w')\n",
    "file.write(\"hello!\\n\")\n",
    "file.write(\"Do you know python?\")\n",
    "file.close()"
   ]
  },
  {
   "cell_type": "code",
   "execution_count": 9,
   "id": "9acc89c2-71fb-4a13-bd18-f35a396b9e76",
   "metadata": {},
   "outputs": [],
   "source": [
    "#file append\n",
    "\n",
    "file = open(\"mydocs.txt\", \"a\")\n",
    "file.write(\"\\nhello sir\")\n",
    "file.write(\"\\ni know somethings in python\")\n",
    "file.close()"
   ]
  },
  {
   "cell_type": "code",
   "execution_count": 11,
   "id": "0f52a19c-c328-4afa-b83d-1ee801f7ed43",
   "metadata": {},
   "outputs": [
    {
     "name": "stdout",
     "output_type": "stream",
     "text": [
      "hello!\n",
      "Do you know python?\n",
      "hello sir\n",
      "i know somethings in python\n",
      "Good bye\n"
     ]
    }
   ],
   "source": [
    "#file\" read and write (r+)\n",
    "\n",
    "\n",
    "'''w+ = write + read\n",
    "a+ = append + read\n",
    "x = compulsary no already existing file, it will create the new file and write it'''\n",
    "\n",
    "\n",
    "\n",
    "file = open(\"mydocs.txt\", \"r+\")\n",
    "str = file.read()\n",
    "print(str)\n",
    "\n",
    "file.write(\"\\nGood bye\")\n",
    "file.close()\n",
    "\n"
   ]
  },
  {
   "cell_type": "code",
   "execution_count": 13,
   "id": "0e6e28a8-abc8-4bea-81bf-2d92e8a56041",
   "metadata": {},
   "outputs": [
    {
     "name": "stdout",
     "output_type": "stream",
     "text": [
      "mytext.txt\n",
      "r\n",
      "True\n"
     ]
    }
   ],
   "source": [
    "file = open(\"mytext.txt\", \"r\")\n",
    "file.close()\n",
    "\n",
    "print(file.name)\n",
    "print(file.mode)\n",
    "print(file.closed)"
   ]
  },
  {
   "cell_type": "code",
   "execution_count": 15,
   "id": "fc567106-c23c-4318-b56d-689587de8366",
   "metadata": {},
   "outputs": [],
   "source": [
    "file = open(\"fruits.txt\", 'w')\n",
    "file.write(\"grapes are violet\\n\")\n",
    "file.write(\"apples are red\\n\")\n",
    "file.write(\"oranges are orange\")\n",
    "file.close()"
   ]
  },
  {
   "cell_type": "code",
   "execution_count": 27,
   "id": "88da908b-44a9-4215-9e03-ec7c40f3f51b",
   "metadata": {},
   "outputs": [
    {
     "name": "stdout",
     "output_type": "stream",
     "text": [
      "grapes are violet\n",
      "apples are red\n",
      "oranges are orange\n",
      "[]\n"
     ]
    }
   ],
   "source": [
    "file = open(\"fruits.txt\", \"r\")\n",
    "#str = file.read()\n",
    "#print(str)\n",
    "str1 = file.readline()\n",
    "print(str1, end = '')\n",
    "\n",
    "str1 = file.readline()\n",
    "print(str1, end ='')\n",
    "\n",
    "str1 = file.readline()\n",
    "print(str1)"
   ]
  },
  {
   "cell_type": "code",
   "execution_count": 28,
   "id": "e7dc2840-4cad-4074-a738-9be930306659",
   "metadata": {},
   "outputs": [
    {
     "name": "stdout",
     "output_type": "stream",
     "text": [
      "[]\n"
     ]
    }
   ],
   "source": [
    "str2 = file.readlines()\n",
    "print(str2)"
   ]
  },
  {
   "cell_type": "code",
   "execution_count": 35,
   "id": "849c8620-78cd-475f-9231-5877ab0169fb",
   "metadata": {},
   "outputs": [
    {
     "name": "stdout",
     "output_type": "stream",
     "text": [
      "['hello\\n', 'bro \\n', 'we won\\n']\n"
     ]
    }
   ],
   "source": [
    "file = open(\"mytext.txt\", \"r\")\n",
    "lines = file.readlines()\n",
    "print(lines)"
   ]
  },
  {
   "cell_type": "code",
   "execution_count": 5,
   "id": "ecfb1b3e-4b02-4c7f-adda-4d1162f384df",
   "metadata": {},
   "outputs": [],
   "source": [
    "file = open(\"python1.png\", \"rb\")\n",
    "f = file.read()\n",
    "\n",
    "copy = open(\"python2.jpg\", \"wb\")\n",
    "copy.write(f)\n",
    "copy.close()\n",
    "file.close()\n"
   ]
  }
 ],
 "metadata": {
  "kernelspec": {
   "display_name": "Python 3 (ipykernel)",
   "language": "python",
   "name": "python3"
  },
  "language_info": {
   "codemirror_mode": {
    "name": "ipython",
    "version": 3
   },
   "file_extension": ".py",
   "mimetype": "text/x-python",
   "name": "python",
   "nbconvert_exporter": "python",
   "pygments_lexer": "ipython3",
   "version": "3.8.10"
  }
 },
 "nbformat": 4,
 "nbformat_minor": 5
}
