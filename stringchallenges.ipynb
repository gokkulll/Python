{
 "cells": [
  {
   "cell_type": "code",
   "execution_count": 3,
   "id": "ae090c4e-2605-44f1-9969-a494b9defb47",
   "metadata": {},
   "outputs": [
    {
     "name": "stdout",
     "output_type": "stream",
     "text": [
      "['c', 'c', 'd', 'h', 'i', 'k', 'k', 'l', 'l', 'l', 'n', 's', 'u', 'x', 'z']\n",
      "ccdhikklllnsuxz\n"
     ]
    }
   ],
   "source": [
    "s1=\"hklcxlslkzciudn\"\n",
    "\n",
    "ss=sorted(s1)\n",
    "\n",
    "print(ss)\n",
    "\n",
    "str1 = ''.join(ss)\n",
    "print(str1)"
   ]
  },
  {
   "cell_type": "code",
   "execution_count": 8,
   "id": "417920d6-3ec6-46ad-84f1-b9862b45154b",
   "metadata": {},
   "outputs": [
    {
     "name": "stdin",
     "output_type": "stream",
     "text": [
      "Enter the item name rice\n",
      "Enter the price of the item 200\n"
     ]
    },
    {
     "name": "stdout",
     "output_type": "stream",
     "text": [
      "7\n",
      "18\n",
      "rice..................200\n"
     ]
    }
   ],
   "source": [
    "'''writing item names and their prices separted by commas'''\n",
    "\n",
    "\n",
    "\n",
    "\n",
    "item = input(\"Enter the item name\")\n",
    "price = input(\"Enter the price of the item\")\n",
    "\n",
    "length_1=len(item)+len(price)\n",
    "\n",
    "print(length_1)\n",
    "\n",
    "dot = \".\" * (25 - length_1)\n",
    "\n",
    "print(len(dot))\n",
    "\n",
    "print(item+dot+price)"
   ]
  },
  {
   "cell_type": "code",
   "execution_count": 12,
   "id": "5e08a6cf-7bd4-475a-aaaa-779ad5af09a2",
   "metadata": {},
   "outputs": [
    {
     "name": "stdin",
     "output_type": "stream",
     "text": [
      "Enter the password gokul\n",
      "Enter the confirm password dsk\n"
     ]
    },
    {
     "name": "stdout",
     "output_type": "stream",
     "text": [
      "password not matching\n"
     ]
    }
   ],
   "source": [
    "''' password and confirm password are same'''\n",
    "\n",
    "\n",
    "\n",
    "pass1 = input(\"Enter the password\")\n",
    "c_pass = input(\"Enter the confirm password\")\n",
    "\n",
    "if pass1 == c_pass:\n",
    "    print(\"Yes, the pass is matching\")\n",
    "else:\n",
    "    if pass1.casefold() == c_pass.casefold():\n",
    "        print(\"please, kindly check the password cases\")\n",
    "    else:\n",
    "        print(\"password not matching\")\n",
    "               "
   ]
  },
  {
   "cell_type": "code",
   "execution_count": 16,
   "id": "ba9b6bef-861a-4654-b8ae-67a66777cdda",
   "metadata": {},
   "outputs": [
    {
     "name": "stdin",
     "output_type": "stream",
     "text": [
      "Enter the 16 Digit number 5658 7699 9957 8899\n"
     ]
    },
    {
     "name": "stdout",
     "output_type": "stream",
     "text": [
      "**** **** ****  8899\n"
     ]
    }
   ],
   "source": [
    "''' atm number diplay '''\n",
    "\n",
    "ATM_NO = input(\"Enter the 16 Digit number\")\n",
    "\n",
    "last_digit = ATM_NO[15:]\n",
    "\n",
    "star = '*' * 4 + ' '\n",
    "\n",
    "Display = (star * 3 + ' '+last_digit)\n",
    "print(Display)"
   ]
  },
  {
   "cell_type": "code",
   "execution_count": 3,
   "id": "2c6f55fa-8d2e-425a-9ae4-ff3d83d70fed",
   "metadata": {},
   "outputs": [
    {
     "name": "stdin",
     "output_type": "stream",
     "text": [
      "Enter the Email gokul@gmail.com\n"
     ]
    },
    {
     "name": "stdout",
     "output_type": "stream",
     "text": [
      "5\n",
      "user name: gokul\n",
      "domain name: gmail.com\n"
     ]
    }
   ],
   "source": [
    "''' find user name and domain name '''\n",
    "\n",
    "email = input(\"Enter the Email\")\n",
    "\n",
    "atrate = email.find('@')\n",
    "print(atrate)\n",
    "\n",
    "print(\"user name:\",email[:atrate])\n",
    "print(\"domain name:\",email[atrate+1:])"
   ]
  },
  {
   "cell_type": "code",
   "execution_count": 5,
   "id": "43a6d2ea-d034-46dd-86b4-8e92f7dd81ff",
   "metadata": {},
   "outputs": [
    {
     "name": "stdin",
     "output_type": "stream",
     "text": [
      "Enter the string skyyks\n"
     ]
    },
    {
     "name": "stdout",
     "output_type": "stream",
     "text": [
      "palindrome\n"
     ]
    }
   ],
   "source": [
    "''' check whether the string is palindrome or not '''\n",
    "\n",
    "s1 = input(\"Enter the string\")\n",
    "s2=s1[::-1]\n",
    "\n",
    "if s1==s2:\n",
    "    print(\"palindrome\")\n",
    "else:\n",
    "    print(\"not a palindrome\")"
   ]
  },
  {
   "cell_type": "code",
   "execution_count": 7,
   "id": "b40c509f-28af-450a-a3b7-0d1b07be7758",
   "metadata": {},
   "outputs": [
    {
     "name": "stdin",
     "output_type": "stream",
     "text": [
      "Enter the string gokul\n"
     ]
    },
    {
     "name": "stdout",
     "output_type": "stream",
     "text": [
      "Palindrome of the given string is: gokullukog\n"
     ]
    }
   ],
   "source": [
    "''' make a palindrome of a given string '''\n",
    "\n",
    "s1= input(\"Enter the string\")\n",
    "\n",
    "s2 = s1[::-1]\n",
    "palindrome_string = s1+s2\n",
    "print(\"Palindrome of the given string is:\", palindrome_string)"
   ]
  },
  {
   "cell_type": "code",
   "execution_count": 6,
   "id": "2ee622ac-4358-4a83-abaa-015549e8c66e",
   "metadata": {},
   "outputs": [
    {
     "name": "stdin",
     "output_type": "stream",
     "text": [
      "Enter the day in the dd/mm/yy form: 08/03/2024\n"
     ]
    },
    {
     "name": "stdout",
     "output_type": "stream",
     "text": [
      "Day: 08\n",
      "month: 03\n",
      "year: 2024\n"
     ]
    }
   ],
   "source": [
    "''' find the day month year from the given date'''\n",
    "\n",
    "mydate = input(\"Enter the day in the dd/mm/yy form:\")\n",
    "a = mydate.split('/')\n",
    "\n",
    "print(\"Day:\",a[0])\n",
    "print(\"month:\",a[1])\n",
    "print(\"year:\", a[2])"
   ]
  },
  {
   "cell_type": "code",
   "execution_count": 22,
   "id": "5de70147-ead5-41ac-b847-92a146a2952a",
   "metadata": {},
   "outputs": [
    {
     "name": "stdin",
     "output_type": "stream",
     "text": [
      "Enter the string1 decimal\n",
      "Enter the string2 medical\n"
     ]
    },
    {
     "name": "stdout",
     "output_type": "stream",
     "text": [
      "\n",
      "Not a Anagram\n"
     ]
    }
   ],
   "source": [
    "''' check whether the given string is a anagram'''\n",
    "\n",
    "s1 = input(\"Enter the string1\")\n",
    "s2 = input(\"Enter the string2\")\n",
    "\n",
    "if len(s1) == len(s2):\n",
    "    print(\"\\nNot a Anagram\")\n",
    "else:\n",
    "    for x in s1:\n",
    "        if x not in s2:\n",
    "\n",
    "    \n",
    "            print(\"\\nNot a Anagram\")\n",
    "            break;\n",
    "    else:\n",
    "        print(\"\\nAnagram\")"
   ]
  },
  {
   "cell_type": "code",
   "execution_count": 26,
   "id": "fe092737-09fb-474c-9fff-725f17e5168d",
   "metadata": {},
   "outputs": [
    {
     "name": "stdin",
     "output_type": "stream",
     "text": [
      "Enter the given string GoKuL\n"
     ]
    },
    {
     "name": "stdout",
     "output_type": "stream",
     "text": [
      "ouGKL\n"
     ]
    }
   ],
   "source": [
    "''' rearrange the given string in lower,uppercase'''\n",
    "\n",
    "s1 = input(\"Enter the given string\")\n",
    "lower=''\n",
    "upper=''\n",
    "\n",
    "for x in s1:\n",
    "    if x.islower():\n",
    "        lower+=x\n",
    "    else:\n",
    "        upper+=x\n",
    "\n",
    "str2=lower+upper\n",
    "\n",
    "print(str2)\n",
    "\n",
    "    "
   ]
  },
  {
   "cell_type": "code",
   "execution_count": 34,
   "id": "59161a7c-f910-417b-8590-cd0de4667f0b",
   "metadata": {},
   "outputs": [
    {
     "name": "stdin",
     "output_type": "stream",
     "text": [
      "Enter the string gokul_123@gmail.com\n"
     ]
    },
    {
     "name": "stdout",
     "output_type": "stream",
     "text": [
      "gokul123gmailcom\n"
     ]
    }
   ],
   "source": [
    "''' to remove punctuation from a given string'''\n",
    "\n",
    "punct = \"[!\\\"#$%&'()*+,-./:;<=>?@[\\]^_`{|}~]\"\n",
    "\n",
    "s1 = input(\"Enter the string\")\n",
    "s2 = ''\n",
    "for x in s1:\n",
    "    if x not in punct:\n",
    "        s2 = s2+x\n",
    "        \n",
    "\n",
    "print(s2)\n",
    "\n",
    "\n"
   ]
  },
  {
   "cell_type": "code",
   "execution_count": null,
   "id": "c2665369-679f-4155-b7d0-1b316a29ce36",
   "metadata": {},
   "outputs": [],
   "source": []
  }
 ],
 "metadata": {
  "kernelspec": {
   "display_name": "Python 3 (ipykernel)",
   "language": "python",
   "name": "python3"
  },
  "language_info": {
   "codemirror_mode": {
    "name": "ipython",
    "version": 3
   },
   "file_extension": ".py",
   "mimetype": "text/x-python",
   "name": "python",
   "nbconvert_exporter": "python",
   "pygments_lexer": "ipython3",
   "version": "3.8.10"
  }
 },
 "nbformat": 4,
 "nbformat_minor": 5
}
