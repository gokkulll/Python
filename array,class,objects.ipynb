{
 "cells": [
  {
   "cell_type": "code",
   "execution_count": 4,
   "id": "abcbf716-aa95-450a-a891-10d5ba01aba3",
   "metadata": {},
   "outputs": [
    {
     "name": "stdout",
     "output_type": "stream",
     "text": [
      "toyato\n",
      "3\n"
     ]
    }
   ],
   "source": [
    "cars = [\"ford\", \"toyato\", \"maruti\"]\n",
    "x = cars[1]\n",
    "print(x)\n",
    "y = len(cars)\n",
    "print(y)"
   ]
  },
  {
   "cell_type": "code",
   "execution_count": 1,
   "id": "c11a3963-c90a-4246-8a63-95dbf28a59c3",
   "metadata": {},
   "outputs": [
    {
     "name": "stdout",
     "output_type": "stream",
     "text": [
      "<class '__main__.myclass'>\n"
     ]
    }
   ],
   "source": [
    "class myclass():\n",
    "    x = 3\n",
    "\n",
    "print(myclass)\n"
   ]
  },
  {
   "cell_type": "code",
   "execution_count": 2,
   "id": "cbd66188-0097-472e-9d99-bd93e446800e",
   "metadata": {},
   "outputs": [
    {
     "name": "stdout",
     "output_type": "stream",
     "text": [
      "10\n"
     ]
    }
   ],
   "source": [
    "class learn():\n",
    "    x = 10\n",
    "\n",
    "p1 = learn()\n",
    "print(p1.x)"
   ]
  },
  {
   "cell_type": "code",
   "execution_count": 33,
   "id": "6d3974e4-e894-49e1-9c9a-d45546c1be51",
   "metadata": {},
   "outputs": [
    {
     "name": "stdout",
     "output_type": "stream",
     "text": [
      "John(36)\n",
      "John(36)\n"
     ]
    }
   ],
   "source": [
    "class Person:\n",
    "    def __init__(self, name, age):\n",
    "        self.name = name\n",
    "        self.age = age\n",
    "    def __str__(self):\n",
    "        return f\"{self.name}({self.age})\"\n",
    "p1 = Person(\"John\", 36)\n",
    "\n",
    "print(p1)\n",
    "print(p1)\n"
   ]
  },
  {
   "cell_type": "code",
   "execution_count": 20,
   "id": "90e805be-5068-400d-a284-610e1977b0d2",
   "metadata": {},
   "outputs": [
    {
     "name": "stdout",
     "output_type": "stream",
     "text": [
      "C program\n",
      "C++ program\n",
      "90\n",
      "99\n",
      "<__main__.learn object at 0x7f445c224910>\n"
     ]
    }
   ],
   "source": [
    "class learn():\n",
    "    def __init__(self, name, marks):\n",
    "        self.name = name\n",
    "        self.marks = marks\n",
    "\n",
    "p1 = learn(\"C program\", 90)\n",
    "p2 = learn(\"C++ program\", 99)\n",
    "\n",
    "print(p1.name)\n",
    "print(p2.name)\n",
    "print(p1.marks)\n",
    "print(p2.marks)\n",
    "print(p1)"
   ]
  },
  {
   "cell_type": "code",
   "execution_count": 36,
   "id": "95e90bb9-06f6-4e6e-a3f4-c8e38ae083dc",
   "metadata": {},
   "outputs": [
    {
     "name": "stdout",
     "output_type": "stream",
     "text": [
      "raju is good\n"
     ]
    }
   ],
   "source": [
    "def myfun(name):\n",
    "    print(name + \" is good\")\n",
    "\n",
    "myfun(\"raju\")"
   ]
  },
  {
   "cell_type": "code",
   "execution_count": 40,
   "id": "3a4274de-608c-4aa1-8902-29a9d2c16bd1",
   "metadata": {},
   "outputs": [
    {
     "name": "stdout",
     "output_type": "stream",
     "text": [
      "Gokul 21\n"
     ]
    }
   ],
   "source": [
    "class myfunc():\n",
    "    def __init__(features, name, age, char):\n",
    "        features.name = name\n",
    "        features.age = age\n",
    "        features.char = char\n",
    "\n",
    "p1 = myfunc(\"Gokul\", 21, \"bad\")\n",
    "p2 = myfunc(\"tharun\", 22, \"very bad\")\n",
    "print((p1.name), (p1.age))"
   ]
  },
  {
   "cell_type": "code",
   "execution_count": 43,
   "id": "a6514b76-27e8-4610-b7c3-44292d6b9645",
   "metadata": {},
   "outputs": [
    {
     "ename": "TypeError",
     "evalue": "person() takes no arguments",
     "output_type": "error",
     "traceback": [
      "\u001b[0;31m---------------------------------------------------------------------------\u001b[0m",
      "\u001b[0;31mTypeError\u001b[0m                                 Traceback (most recent call last)",
      "Cell \u001b[0;32mIn[43], line 8\u001b[0m\n\u001b[1;32m      5\u001b[0m     \u001b[38;5;28;01mdef\u001b[39;00m \u001b[38;5;21m_1strow_\u001b[39m():\n\u001b[1;32m      6\u001b[0m         \u001b[38;5;28;01mreturn\u001b[39;00m \u001b[38;5;124mf\u001b[39m\u001b[38;5;124m\"\u001b[39m\u001b[38;5;132;01m{\u001b[39;00m\u001b[38;5;28mself\u001b[39m\u001b[38;5;241m.\u001b[39mname\u001b[38;5;132;01m}\u001b[39;00m\u001b[38;5;124m(\u001b[39m\u001b[38;5;132;01m{\u001b[39;00m\u001b[38;5;28mself\u001b[39m\u001b[38;5;241m.\u001b[39mage\u001b[38;5;132;01m}\u001b[39;00m\u001b[38;5;124m)\u001b[39m\u001b[38;5;124m\"\u001b[39m\n\u001b[0;32m----> 8\u001b[0m p1 \u001b[38;5;241m=\u001b[39m \u001b[43mperson\u001b[49m\u001b[43m(\u001b[49m\u001b[38;5;124;43m\"\u001b[39;49m\u001b[38;5;124;43mgokul\u001b[39;49m\u001b[38;5;124;43m\"\u001b[39;49m\u001b[43m,\u001b[49m\u001b[43m \u001b[49m\u001b[38;5;241;43m21\u001b[39;49m\u001b[43m)\u001b[49m\n\u001b[1;32m      9\u001b[0m \u001b[38;5;28mprint\u001b[39m(p1)\n",
      "\u001b[0;31mTypeError\u001b[0m: person() takes no arguments"
     ]
    }
   ],
   "source": [
    "class person():\n",
    "    def student(self, name, char):\n",
    "        self.name = name\n",
    "        self.char = char\n",
    "    def _1strow_():\n",
    "        return f\"{self.name}({self.age})\"\n",
    "\n",
    "p1 = person(\"gokul\", 21)\n",
    "print(p1)\n",
    "        \n"
   ]
  },
  {
   "cell_type": "code",
   "execution_count": null,
   "id": "d8bb9e68-91b4-4cbb-85f4-6ff3289d1b27",
   "metadata": {},
   "outputs": [],
   "source": []
  }
 ],
 "metadata": {
  "kernelspec": {
   "display_name": "Python 3 (ipykernel)",
   "language": "python",
   "name": "python3"
  },
  "language_info": {
   "codemirror_mode": {
    "name": "ipython",
    "version": 3
   },
   "file_extension": ".py",
   "mimetype": "text/x-python",
   "name": "python",
   "nbconvert_exporter": "python",
   "pygments_lexer": "ipython3",
   "version": "3.8.10"
  }
 },
 "nbformat": 4,
 "nbformat_minor": 5
}
