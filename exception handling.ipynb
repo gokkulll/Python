{
 "cells": [
  {
   "cell_type": "code",
   "execution_count": 9,
   "id": "ed38b779-0b0d-44f3-83b2-6fa0459eb312",
   "metadata": {},
   "outputs": [
    {
     "ename": "TypeError",
     "evalue": "unsupported operand type(s) for +: 'int' and 'str'",
     "output_type": "error",
     "traceback": [
      "\u001b[0;31m---------------------------------------------------------------------------\u001b[0m",
      "\u001b[0;31mTypeError\u001b[0m                                 Traceback (most recent call last)",
      "Cell \u001b[0;32mIn[9], line 5\u001b[0m\n\u001b[1;32m      3\u001b[0m s \u001b[38;5;241m=\u001b[39m \u001b[38;5;241m10\u001b[39m\n\u001b[1;32m      4\u001b[0m a \u001b[38;5;241m=\u001b[39m \u001b[38;5;124m'\u001b[39m\u001b[38;5;124mnumber\u001b[39m\u001b[38;5;124m'\u001b[39m\n\u001b[0;32m----> 5\u001b[0m c \u001b[38;5;241m=\u001b[39m \u001b[43ms\u001b[49m\u001b[38;5;241;43m+\u001b[39;49m\u001b[43ma\u001b[49m\n\u001b[1;32m      6\u001b[0m \u001b[38;5;66;03m#c = str(s) + a\u001b[39;00m\n\u001b[1;32m      7\u001b[0m \u001b[38;5;28mprint\u001b[39m(c)\n",
      "\u001b[0;31mTypeError\u001b[0m: unsupported operand type(s) for +: 'int' and 'str'"
     ]
    }
   ],
   "source": [
    "#type error\n",
    "\n",
    "s = 10\n",
    "a = 'number'\n",
    "c = s+a\n",
    "#c = str(s) + a\n",
    "print(c)"
   ]
  },
  {
   "cell_type": "code",
   "execution_count": 5,
   "id": "1e31b866-aa61-42e5-9994-0130247bd89e",
   "metadata": {},
   "outputs": [
    {
     "name": "stdin",
     "output_type": "stream",
     "text": [
      "Enter the index number 3\n"
     ]
    },
    {
     "name": "stdout",
     "output_type": "stream",
     "text": [
      "40\n",
      "hello\n",
      "exceuted completely\n"
     ]
    }
   ],
   "source": [
    "#exception handling without crashing\n",
    "L =[10,20,30,40,50]\n",
    "try:\n",
    "    index = int(input(\"Enter the index number\"))\n",
    "    res = print(L[index])\n",
    "    print(\"hello\")\n",
    "except:\n",
    "    print(\"Invalid index\")\n",
    "\n",
    "print(\"exceuted completely\")"
   ]
  },
  {
   "cell_type": "code",
   "execution_count": 25,
   "id": "0c8911fd-c289-4f71-88a6-59de7fffe0dc",
   "metadata": {},
   "outputs": [
    {
     "name": "stdin",
     "output_type": "stream",
     "text": [
      "Enter the index number: k\n"
     ]
    },
    {
     "name": "stdout",
     "output_type": "stream",
     "text": [
      "invalid literal for int() with base 10: 'k'\n"
     ]
    }
   ],
   "source": [
    "L = [1,2,3,4,5]\n",
    "\n",
    "try:\n",
    "    index = int(input(\"Enter the index number:\"))\n",
    "    res = print(L[index])\n",
    "    print(\"Code Exceution Completely\")\n",
    "\n",
    "#except IndexError:\n",
    " #   print(\"invalid index number\")\n",
    "\n",
    "#except ValueError:\n",
    " #   print(\"Enter the numbers only\")\n",
    "\n",
    "except (IndexError,ValueError) as msg:\n",
    "    print(msg)\n",
    "\n"
   ]
  },
  {
   "cell_type": "code",
   "execution_count": 29,
   "id": "a7505397-01f4-4105-8a23-0babf3e41341",
   "metadata": {},
   "outputs": [
    {
     "name": "stdin",
     "output_type": "stream",
     "text": [
      "Enter the first number 5\n",
      "Enter the second number 0\n"
     ]
    },
    {
     "name": "stdout",
     "output_type": "stream",
     "text": [
      "Error:Division by zero\n"
     ]
    }
   ],
   "source": [
    "#without using try and except\n",
    "\n",
    "a = int(input(\"Enter the first number\"))\n",
    "b = int(input(\"Enter the second number\"))\n",
    "if b!=0:\n",
    "    c = a//b\n",
    "    print(c)\n",
    "else:\n",
    "    print(\"Error:Division by zero\")"
   ]
  },
  {
   "cell_type": "code",
   "execution_count": 42,
   "id": "4c42435f-53e0-4621-93b5-679d97080b54",
   "metadata": {},
   "outputs": [
    {
     "name": "stdin",
     "output_type": "stream",
     "text": [
      "Enter the first number 6\n",
      "Enter the second number 0\n"
     ]
    },
    {
     "name": "stdout",
     "output_type": "stream",
     "text": [
      "Error:Division Modulo\n"
     ]
    }
   ],
   "source": [
    "#using function without usng try and except\n",
    "\n",
    "def div(a,b):\n",
    "    if b!=0:\n",
    "        c = a//b\n",
    "        return c\n",
    "    else:\n",
    "        return -1\n",
    "\n",
    "a = int(input(\"Enter the first number\"))\n",
    "b = int(input(\"Enter the second number\"))\n",
    "c = div(a,b)\n",
    "if c == -1:\n",
    "    print(\"Error:Division Modulo\")\n",
    "else:\n",
    "    print(c)\n",
    "    "
   ]
  },
  {
   "cell_type": "code",
   "execution_count": 2,
   "id": "c33676c2-2310-410e-b026-85b5e9c0f5a0",
   "metadata": {},
   "outputs": [
    {
     "name": "stdin",
     "output_type": "stream",
     "text": [
      "Enter the first value: 2\n",
      "Enter the second value: 0\n"
     ]
    },
    {
     "name": "stdout",
     "output_type": "stream",
     "text": [
      "ZeroDivisionError\n"
     ]
    }
   ],
   "source": [
    "def div(a,b):\n",
    "    if b!=0:\n",
    "        c = a//b\n",
    "        return c\n",
    "    else:\n",
    "        raise ZeroDivisionError\n",
    "\n",
    "a = int(input(\"Enter the first value:\"))\n",
    "b = int(input(\"Enter the second value:\"))\n",
    "\n",
    "try:\n",
    "    c = div(a,b)\n",
    "    print(c)\n",
    "\n",
    "except:\n",
    "    print(\"ZeroDivisionError\")"
   ]
  },
  {
   "cell_type": "code",
   "execution_count": 6,
   "id": "64b1876b-13c1-4775-815f-18ef42b14944",
   "metadata": {},
   "outputs": [
    {
     "name": "stdin",
     "output_type": "stream",
     "text": [
      "Enter the first number 3\n",
      "Enter the second number 0\n"
     ]
    },
    {
     "name": "stdout",
     "output_type": "stream",
     "text": [
      "integer division or modulo by zero\n"
     ]
    }
   ],
   "source": [
    "a = int(input(\"Enter the first number\"))\n",
    "b = int(input(\"Enter the second number\"))\n",
    "\n",
    "try:\n",
    "    c = a//b\n",
    "\n",
    "except ZeroDivisionError as msg:\n",
    "    print(msg)\n",
    "\n",
    "else:\n",
    "    print(\"The result is:\", c)"
   ]
  },
  {
   "cell_type": "code",
   "execution_count": 1,
   "id": "43f7e896-59c6-4e10-81d1-dba9ce98e79e",
   "metadata": {},
   "outputs": [
    {
     "name": "stdout",
     "output_type": "stream",
     "text": [
      "myerror\n"
     ]
    }
   ],
   "source": [
    "class myerr(Exception):\n",
    "    def __init__(self,msg):\n",
    "        self.msg=msg\n",
    "    def __str__(self):\n",
    "        return self.msg\n",
    "\n",
    "try:\n",
    "    raise myerr('myerror')\n",
    "\n",
    "except myerr as e:\n",
    "    print(e)"
   ]
  },
  {
   "cell_type": "code",
   "execution_count": 5,
   "id": "bf461f0e-ee7a-42c8-8b66-506054974bdb",
   "metadata": {},
   "outputs": [
    {
     "name": "stdin",
     "output_type": "stream",
     "text": [
      "Enter the first integer 12\n",
      "Enter the second integer 3\n"
     ]
    },
    {
     "name": "stdout",
     "output_type": "stream",
     "text": [
      "4\n"
     ]
    }
   ],
   "source": [
    "#nested exception \n",
    "\n",
    "try:\n",
    "    a = int(input(\"Enter the first integer\"))\n",
    "    try:\n",
    "        b = int(input(\"Enter the second integer\"))\n",
    "        try:\n",
    "            c = a//b\n",
    "            print(c)\n",
    "        except ZeroDivisionError as msg:\n",
    "            print(msg)\n",
    "    except ValueError as msg:\n",
    "        print(msg)\n",
    "\n",
    "except ValueError as msg:\n",
    "    print(msg)"
   ]
  },
  {
   "cell_type": "code",
   "execution_count": null,
   "id": "b731e51a-8bea-42c8-ab33-638e3ca73869",
   "metadata": {},
   "outputs": [],
   "source": []
  }
 ],
 "metadata": {
  "kernelspec": {
   "display_name": "Python 3 (ipykernel)",
   "language": "python",
   "name": "python3"
  },
  "language_info": {
   "codemirror_mode": {
    "name": "ipython",
    "version": 3
   },
   "file_extension": ".py",
   "mimetype": "text/x-python",
   "name": "python",
   "nbconvert_exporter": "python",
   "pygments_lexer": "ipython3",
   "version": "3.8.10"
  }
 },
 "nbformat": 4,
 "nbformat_minor": 5
}
