{
 "cells": [
  {
   "cell_type": "code",
   "execution_count": 4,
   "id": "60d5d29d-5986-4276-915b-b6b0a2a4ec9f",
   "metadata": {},
   "outputs": [
    {
     "name": "stdin",
     "output_type": "stream",
     "text": [
      "Enter the year: 2024\n"
     ]
    },
    {
     "name": "stdout",
     "output_type": "stream",
     "text": [
      "1\n",
      "4\n",
      "7\n",
      "No. of Mondays are: 3\n"
     ]
    }
   ],
   "source": [
    "#counting how many mondays on the given year\n",
    "\n",
    "\n",
    "import datetime\n",
    "\n",
    "year = int(input(\"Enter the year:\"))\n",
    "\n",
    "monday = 0\n",
    "\n",
    "for month in range(1,13):\n",
    "    dt = datetime.date(year,month,1)\n",
    "\n",
    "    if dt.weekday() == 0:\n",
    "       print(month)\n",
    "       monday += 1\n",
    "\n",
    "print(\"No. of Mondays are:\", monday)"
   ]
  },
  {
   "cell_type": "code",
   "execution_count": null,
   "id": "05ff8a74-3466-4a5f-b03a-14527c5500b3",
   "metadata": {},
   "outputs": [],
   "source": [
    "#how much time is taken to exceute a loop\n",
    "\n",
    "import time\n",
    "\n",
    "start_time = time.time()\n",
    "\n",
    "for i in range(100000000):\n",
    "    pass\n",
    "\n",
    "end_time = time.time()\n",
    "\n",
    "Exceution_time = end_time - start_time\n",
    "\n",
    "print(Exceution_time)  \n",
    "\n",
    "\n",
    "#        or\n",
    "\n",
    "\n",
    "'''import datetime\n",
    "\n",
    "start_time = datetime.datetime.now()\n",
    "\n",
    "for i in range(1000):\n",
    "    pass\n",
    "\n",
    "end_time = datetime.datetime.now()\n",
    "\n",
    "Exceution_time= end_time - start_time\n",
    "\n",
    "print(Exceution_time)\n",
    "\n",
    "'''\n",
    "\n",
    "# the time module is faster than the datetime module\n"
   ]
  },
  {
   "cell_type": "code",
   "execution_count": 12,
   "id": "09342ae8-9f16-42dd-a6bf-bdc3777ccea0",
   "metadata": {},
   "outputs": [
    {
     "name": "stdin",
     "output_type": "stream",
     "text": [
      "Enter the dd-mm-yyyy format 32-09-2002\n"
     ]
    },
    {
     "ename": "valueExceptionError",
     "evalue": "month are out of the range",
     "output_type": "error",
     "traceback": [
      "\u001b[0;31m---------------------------------------------------------------------------\u001b[0m",
      "\u001b[0;31mvalueExceptionError\u001b[0m                       Traceback (most recent call last)",
      "Cell \u001b[0;32mIn[12], line 18\u001b[0m\n\u001b[1;32m     14\u001b[0m     \u001b[38;5;28;01mraise\u001b[39;00m valueExceptionError(\u001b[38;5;124m\"\u001b[39m\u001b[38;5;124mdays are out of the range\u001b[39m\u001b[38;5;124m\"\u001b[39m)\n\u001b[1;32m     16\u001b[0m \u001b[38;5;28;01mif\u001b[39;00m \u001b[38;5;28mint\u001b[39m(m) \u001b[38;5;241m<\u001b[39m \u001b[38;5;241m12\u001b[39m:\n\u001b[0;32m---> 18\u001b[0m       \u001b[38;5;28;01mraise\u001b[39;00m valueExceptionError(\u001b[38;5;124m\"\u001b[39m\u001b[38;5;124mmonth are out of the range\u001b[39m\u001b[38;5;124m\"\u001b[39m)\n\u001b[1;32m     20\u001b[0m dt1 \u001b[38;5;241m=\u001b[39m datetime\u001b[38;5;241m.\u001b[39mdatetime(\u001b[38;5;28mint\u001b[39m(y),\u001b[38;5;28mint\u001b[39m(m),\u001b[38;5;28mint\u001b[39m(d))\n\u001b[1;32m     22\u001b[0m \u001b[38;5;28mprint\u001b[39m(dt1)\n",
      "\u001b[0;31mvalueExceptionError\u001b[0m: month are out of the range"
     ]
    }
   ],
   "source": [
    "#convering string date to datetime module\n",
    "\n",
    "import datetime\n",
    "\n",
    "\n",
    "class valueExceptionError(Exception):\n",
    "    pass\n",
    "    \n",
    "date = input(\"Enter the dd-mm-yyyy format\")\n",
    "\n",
    "d,m,y = date.split('-')\n",
    "\n",
    "if int(d) < 31:\n",
    "    raise valueExceptionError(\"days are out of the range\")\n",
    "\n",
    "if int(m) < 12:\n",
    "    \n",
    "      raise valueExceptionError(\"month are out of the range\")\n",
    "\n",
    "dt1 = datetime.datetime(int(y),int(m),int(d))\n",
    "\n",
    "print(dt1)"
   ]
  },
  {
   "cell_type": "code",
   "execution_count": 9,
   "id": "4060fc3c-192d-4856-90d7-3e401a8ecd4d",
   "metadata": {},
   "outputs": [
    {
     "name": "stdout",
     "output_type": "stream",
     "text": [
      "21\n"
     ]
    }
   ],
   "source": [
    "#finding the age of the given dob\n",
    "\n",
    "\n",
    "from datetime import *\n",
    "\n",
    "def age(dob):\n",
    "\n",
    "    today = date.today()\n",
    "\n",
    "    years = today.year - dob.year\n",
    "\n",
    "    if (today.month, today.day) < (dob.month, dob.day):\n",
    "        years -= 1\n",
    "\n",
    "    return years\n",
    "\n",
    "print(age(date(2002,9,20)))"
   ]
  },
  {
   "cell_type": "code",
   "execution_count": 17,
   "id": "860cade7-d9ac-4420-bd1b-277c46556cef",
   "metadata": {},
   "outputs": [
    {
     "name": "stdout",
     "output_type": "stream",
     "text": [
      "2024-05-13\n",
      "previous day: 2024-05-10\n"
     ]
    }
   ],
   "source": [
    "#finding the date of a particular day in a week\n",
    "\n",
    "\n",
    "import datetime as dt\n",
    "\n",
    "def Finding(day):\n",
    "\n",
    "    week_days = ['Monday','Tuesday','Wednesday','Thursday','Friday']\n",
    "\n",
    "    today = dt.date.today()\n",
    "\n",
    "    t_dw = today.weekday()\n",
    "\n",
    "    w_tw = week_days.index(day)\n",
    "\n",
    "    diff = t_dw - w_tw\n",
    "\n",
    "    if diff < 0:\n",
    "        new_date = today + dt.timedelta(diff)\n",
    "    else:\n",
    "        new_date = today - dt.timedelta(7-diff)\n",
    "    return new_date\n",
    "\n",
    "print(dt.date.today())\n",
    "\n",
    "print(\"previous day:\", Finding(\"Thursday\"))\n"
   ]
  },
  {
   "cell_type": "code",
   "execution_count": 23,
   "id": "1bae4fd4-fc3a-4064-8cec-12d6a9e65a64",
   "metadata": {},
   "outputs": [
    {
     "name": "stdout",
     "output_type": "stream",
     "text": [
      "2020-01-05\n",
      "2020-01-12\n",
      "2020-01-19\n",
      "2020-01-26\n",
      "2020-02-02\n",
      "2020-02-09\n",
      "2020-02-16\n",
      "2020-02-23\n",
      "2020-03-01\n",
      "2020-03-08\n",
      "2020-03-15\n",
      "2020-03-22\n",
      "2020-03-29\n",
      "2020-04-05\n",
      "2020-04-12\n",
      "2020-04-19\n",
      "2020-04-26\n",
      "2020-05-03\n",
      "2020-05-10\n",
      "2020-05-17\n",
      "2020-05-24\n",
      "2020-05-31\n",
      "2020-06-07\n",
      "2020-06-14\n",
      "2020-06-21\n",
      "2020-06-28\n",
      "2020-07-05\n",
      "2020-07-12\n",
      "2020-07-19\n",
      "2020-07-26\n",
      "2020-08-02\n",
      "2020-08-09\n",
      "2020-08-16\n",
      "2020-08-23\n",
      "2020-08-30\n",
      "2020-09-06\n",
      "2020-09-13\n",
      "2020-09-20\n",
      "2020-09-27\n",
      "2020-10-04\n",
      "2020-10-11\n",
      "2020-10-18\n",
      "2020-10-25\n",
      "2020-11-01\n",
      "2020-11-08\n",
      "2020-11-15\n",
      "2020-11-22\n",
      "2020-11-29\n",
      "2020-12-06\n",
      "2020-12-13\n",
      "2020-12-20\n",
      "2020-12-27\n"
     ]
    }
   ],
   "source": [
    "#find all sundays in a given year\n",
    "\n",
    "import datetime\n",
    "\n",
    "def sundays(year):\n",
    "\n",
    "    y_fd = datetime.date(year,1,1)\n",
    "    t_dw = y_fd.weekday()\n",
    "    i_d = datetime.timedelta(6-t_dw)\n",
    "\n",
    "    sun = y_fd + i_d\n",
    "\n",
    "    while sun.year == year:\n",
    "        print(sun)\n",
    "        sun += datetime.timedelta(7)\n",
    "\n",
    "\n",
    "\n",
    "sundays(2020)\n",
    "    "
   ]
  },
  {
   "cell_type": "code",
   "execution_count": 27,
   "id": "aedd7a36-377b-4a79-a4f2-fb8605682bc4",
   "metadata": {},
   "outputs": [
    {
     "name": "stdin",
     "output_type": "stream",
     "text": [
      "Enter the date in dd-mm-yyyy format: 20-09-2002\n"
     ]
    },
    {
     "name": "stdout",
     "output_type": "stream",
     "text": [
      "263\n"
     ]
    }
   ],
   "source": [
    "#print the day number of the date\n",
    "\n",
    "import datetime\n",
    "\n",
    "g_date = input(\"Enter the date in dd-mm-yyyy format:\")\n",
    "\n",
    "d,m,y = g_date.split('-')\n",
    "\n",
    "fo_date = datetime.date(int(y), int(m), int(d))\n",
    "\n",
    "fi_date= datetime.date(int(y),1,1)\n",
    "\n",
    "diff = fo_date - fi_date\n",
    "\n",
    "print(diff.days + 1)"
   ]
  },
  {
   "cell_type": "code",
   "execution_count": 1,
   "id": "bc995146-27ca-40bb-b891-c52f9c836e31",
   "metadata": {},
   "outputs": [
    {
     "name": "stdin",
     "output_type": "stream",
     "text": [
      "Enter Year:  2002\n"
     ]
    },
    {
     "name": "stdout",
     "output_type": "stream",
     "text": [
      "12 - 1 - 2002\n",
      "9 - 2 - 2002\n",
      "9 - 3 - 2002\n",
      "13 - 4 - 2002\n",
      "11 - 5 - 2002\n",
      "8 - 6 - 2002\n",
      "13 - 7 - 2002\n",
      "10 - 8 - 2002\n",
      "14 - 9 - 2002\n",
      "12 - 10 - 2002\n",
      "9 - 11 - 2002\n",
      "14 - 12 - 2002\n"
     ]
    }
   ],
   "source": [
    "\n",
    "import calendar\n",
    "\n",
    "year = int(input('Enter Year: '))\n",
    "\n",
    "for month in range(1, 13):\n",
    "    cal = calendar.monthcalendar(year, month)\n",
    "\n",
    "    first_week = cal[0]\n",
    "    second_week = cal[1]\n",
    "    third_week = cal[2]\n",
    "\n",
    "    if first_week[5] != 0:\n",
    "        print(second_week[5], '-', month, '-', year)\n",
    "    else:\n",
    "        print(third_week[5], '-', month, '-', year)\n",
    "\n",
    "\n"
   ]
  },
  {
   "cell_type": "code",
   "execution_count": null,
   "id": "5bcaa024-01af-4f17-9582-cc7f9a5130fc",
   "metadata": {},
   "outputs": [],
   "source": []
  }
 ],
 "metadata": {
  "kernelspec": {
   "display_name": "Python 3 (ipykernel)",
   "language": "python",
   "name": "python3"
  },
  "language_info": {
   "codemirror_mode": {
    "name": "ipython",
    "version": 3
   },
   "file_extension": ".py",
   "mimetype": "text/x-python",
   "name": "python",
   "nbconvert_exporter": "python",
   "pygments_lexer": "ipython3",
   "version": "3.8.10"
  }
 },
 "nbformat": 4,
 "nbformat_minor": 5
}
