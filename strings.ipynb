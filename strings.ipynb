{
 "cells": [
  {
   "cell_type": "code",
   "execution_count": 3,
   "id": "1282d36d-ccb1-40bc-9009-c832466a1bd4",
   "metadata": {},
   "outputs": [
    {
     "data": {
      "text/plain": [
       "'hello world'"
      ]
     },
     "execution_count": 3,
     "metadata": {},
     "output_type": "execute_result"
    }
   ],
   "source": [
    "s3='hello' ' world'\n",
    "s3"
   ]
  },
  {
   "cell_type": "code",
   "execution_count": 5,
   "id": "faf050da-826e-4d9d-9930-227501a4a08c",
   "metadata": {},
   "outputs": [
    {
     "name": "stdout",
     "output_type": "stream",
     "text": [
      "h\n",
      "e\n",
      "l\n",
      "l\n",
      "o\n",
      " \n",
      "w\n",
      "o\n",
      "r\n",
      "l\n",
      "d\n"
     ]
    }
   ],
   "source": [
    "s1 = 'hello world'\n",
    "for x in range(0,len(s1)):\n",
    "    print(s1[x])"
   ]
  },
  {
   "cell_type": "code",
   "execution_count": 7,
   "id": "77cb9f78-4fcd-469f-9593-3cfd48e6d48f",
   "metadata": {},
   "outputs": [
    {
     "name": "stdout",
     "output_type": "stream",
     "text": [
      "d\n",
      "l\n",
      "r\n",
      "o\n",
      "w\n",
      " \n",
      "o\n",
      "l\n",
      "l\n",
      "e\n",
      "h\n"
     ]
    }
   ],
   "source": [
    "for j in range(len(s1)-1,-1,-1):\n",
    "    print(s1[j])"
   ]
  },
  {
   "cell_type": "code",
   "execution_count": 4,
   "id": "5620887e-1d16-4812-b0e8-e81222cdc4ba",
   "metadata": {},
   "outputs": [
    {
     "name": "stdout",
     "output_type": "stream",
     "text": [
      "true\n"
     ]
    }
   ],
   "source": [
    "x = 'Alaska'\n",
    "y = 'Canada'\n",
    "if x!=y:\n",
    "    print(\"true\")\n",
    "else:\n",
    "    print(\"false\")"
   ]
  },
  {
   "cell_type": "code",
   "execution_count": 5,
   "id": "04a3aa10-0d39-44cb-8c22-4400b91905e6",
   "metadata": {},
   "outputs": [
    {
     "data": {
      "text/plain": [
       "['__add__',\n",
       " '__class__',\n",
       " '__contains__',\n",
       " '__delattr__',\n",
       " '__dir__',\n",
       " '__doc__',\n",
       " '__eq__',\n",
       " '__format__',\n",
       " '__ge__',\n",
       " '__getattribute__',\n",
       " '__getitem__',\n",
       " '__getnewargs__',\n",
       " '__gt__',\n",
       " '__hash__',\n",
       " '__init__',\n",
       " '__init_subclass__',\n",
       " '__iter__',\n",
       " '__le__',\n",
       " '__len__',\n",
       " '__lt__',\n",
       " '__mod__',\n",
       " '__mul__',\n",
       " '__ne__',\n",
       " '__new__',\n",
       " '__reduce__',\n",
       " '__reduce_ex__',\n",
       " '__repr__',\n",
       " '__rmod__',\n",
       " '__rmul__',\n",
       " '__setattr__',\n",
       " '__sizeof__',\n",
       " '__str__',\n",
       " '__subclasshook__',\n",
       " 'capitalize',\n",
       " 'casefold',\n",
       " 'center',\n",
       " 'count',\n",
       " 'encode',\n",
       " 'endswith',\n",
       " 'expandtabs',\n",
       " 'find',\n",
       " 'format',\n",
       " 'format_map',\n",
       " 'index',\n",
       " 'isalnum',\n",
       " 'isalpha',\n",
       " 'isascii',\n",
       " 'isdecimal',\n",
       " 'isdigit',\n",
       " 'isidentifier',\n",
       " 'islower',\n",
       " 'isnumeric',\n",
       " 'isprintable',\n",
       " 'isspace',\n",
       " 'istitle',\n",
       " 'isupper',\n",
       " 'join',\n",
       " 'ljust',\n",
       " 'lower',\n",
       " 'lstrip',\n",
       " 'maketrans',\n",
       " 'partition',\n",
       " 'replace',\n",
       " 'rfind',\n",
       " 'rindex',\n",
       " 'rjust',\n",
       " 'rpartition',\n",
       " 'rsplit',\n",
       " 'rstrip',\n",
       " 'split',\n",
       " 'splitlines',\n",
       " 'startswith',\n",
       " 'strip',\n",
       " 'swapcase',\n",
       " 'title',\n",
       " 'translate',\n",
       " 'upper',\n",
       " 'zfill']"
      ]
     },
     "execution_count": 5,
     "metadata": {},
     "output_type": "execute_result"
    }
   ],
   "source": [
    "dir(str)"
   ]
  },
  {
   "cell_type": "code",
   "execution_count": 7,
   "id": "8dfbefbe-b14c-46d0-b972-5bcbd128a030",
   "metadata": {},
   "outputs": [
    {
     "name": "stdout",
     "output_type": "stream",
     "text": [
      "Help on built-in function startswith:\n",
      "\n",
      "startswith(...) method of builtins.str instance\n",
      "    S.startswith(prefix[, start[, end]]) -> bool\n",
      "    \n",
      "    Return True if S starts with the specified prefix, False otherwise.\n",
      "    With optional start, test S beginning at that position.\n",
      "    With optional end, stop comparing S at that position.\n",
      "    prefix can also be a tuple of strings to try.\n",
      "\n"
     ]
    }
   ],
   "source": [
    "s=\"hello,how are u?\"\n",
    "help(s.startswith)"
   ]
  },
  {
   "cell_type": "code",
   "execution_count": 1,
   "id": "28f62d59-5040-4add-b521-7bd5e322f088",
   "metadata": {},
   "outputs": [
    {
     "data": {
      "text/plain": [
       "4"
      ]
     },
     "execution_count": 1,
     "metadata": {},
     "output_type": "execute_result"
    }
   ],
   "source": [
    "s = \"hello, how are you\"\n",
    "s.find(\"o\")"
   ]
  },
  {
   "cell_type": "code",
   "execution_count": 3,
   "id": "6c909fa1-dbb7-4e53-939d-7c73838b050b",
   "metadata": {},
   "outputs": [
    {
     "data": {
      "text/plain": [
       "8"
      ]
     },
     "execution_count": 3,
     "metadata": {},
     "output_type": "execute_result"
    }
   ],
   "source": [
    "s.find(\"o\",5,12)"
   ]
  },
  {
   "cell_type": "code",
   "execution_count": 4,
   "id": "96ff9312-6127-49e1-a3ad-acc946b0b54a",
   "metadata": {},
   "outputs": [
    {
     "data": {
      "text/plain": [
       "8"
      ]
     },
     "execution_count": 4,
     "metadata": {},
     "output_type": "execute_result"
    }
   ],
   "source": [
    "s.rfind(\"o\",6,12)"
   ]
  },
  {
   "cell_type": "code",
   "execution_count": 5,
   "id": "1fb6435f-c55a-4d89-8160-33a5e7349619",
   "metadata": {},
   "outputs": [
    {
     "data": {
      "text/plain": [
       "-1"
      ]
     },
     "execution_count": 5,
     "metadata": {},
     "output_type": "execute_result"
    }
   ],
   "source": [
    "s.find(\"x\")"
   ]
  },
  {
   "cell_type": "code",
   "execution_count": 6,
   "id": "469edb69-9960-4ff3-b68c-28f9d37a5b54",
   "metadata": {},
   "outputs": [
    {
     "ename": "ValueError",
     "evalue": "substring not found",
     "output_type": "error",
     "traceback": [
      "\u001b[0;31m---------------------------------------------------------------------------\u001b[0m",
      "\u001b[0;31mValueError\u001b[0m                                Traceback (most recent call last)",
      "Cell \u001b[0;32mIn[6], line 1\u001b[0m\n\u001b[0;32m----> 1\u001b[0m \u001b[43ms\u001b[49m\u001b[38;5;241;43m.\u001b[39;49m\u001b[43mindex\u001b[49m\u001b[43m(\u001b[49m\u001b[38;5;124;43m\"\u001b[39;49m\u001b[38;5;124;43mz\u001b[39;49m\u001b[38;5;124;43m\"\u001b[39;49m\u001b[43m)\u001b[49m\n",
      "\u001b[0;31mValueError\u001b[0m: substring not found"
     ]
    }
   ],
   "source": [
    "s.index(\"z\")"
   ]
  },
  {
   "cell_type": "code",
   "execution_count": 7,
   "id": "dbc93010-978f-42bd-9c2a-cc2ae84f8599",
   "metadata": {},
   "outputs": [
    {
     "data": {
      "text/plain": [
       "4"
      ]
     },
     "execution_count": 7,
     "metadata": {},
     "output_type": "execute_result"
    }
   ],
   "source": [
    "s.index(\"o\")"
   ]
  },
  {
   "cell_type": "code",
   "execution_count": 8,
   "id": "59b84c12-e3ca-4312-83eb-a3cd2f260589",
   "metadata": {},
   "outputs": [
    {
     "data": {
      "text/plain": [
       "1"
      ]
     },
     "execution_count": 8,
     "metadata": {},
     "output_type": "execute_result"
    }
   ],
   "source": [
    "s.count(\"a\")"
   ]
  },
  {
   "cell_type": "code",
   "execution_count": 3,
   "id": "01ff0ef9-9841-4b23-a21c-0c08c2cbc280",
   "metadata": {},
   "outputs": [
    {
     "data": {
      "text/plain": [
       "'python    '"
      ]
     },
     "execution_count": 3,
     "metadata": {},
     "output_type": "execute_result"
    }
   ],
   "source": [
    "z = \"python\"\n",
    "y=z.ljust(10)\n",
    "y"
   ]
  },
  {
   "cell_type": "code",
   "execution_count": 6,
   "id": "727c35de-7909-49b6-bce6-bed7bdd5ef2e",
   "metadata": {},
   "outputs": [
    {
     "data": {
      "text/plain": [
       "'  python  '"
      ]
     },
     "execution_count": 6,
     "metadata": {},
     "output_type": "execute_result"
    }
   ],
   "source": [
    "y = z.center(10)\n",
    "y"
   ]
  },
  {
   "cell_type": "code",
   "execution_count": 7,
   "id": "96981d46-6de2-4ade-b4a2-53cd0d13243e",
   "metadata": {},
   "outputs": [
    {
     "data": {
      "text/plain": [
       "'$$python$$'"
      ]
     },
     "execution_count": 7,
     "metadata": {},
     "output_type": "execute_result"
    }
   ],
   "source": [
    "y=z.center(10,\"$\")\n",
    "y"
   ]
  },
  {
   "cell_type": "code",
   "execution_count": 10,
   "id": "3c043c32-012e-43ae-935f-2baad3954a70",
   "metadata": {},
   "outputs": [
    {
     "data": {
      "text/plain": [
       "'pyhton'"
      ]
     },
     "execution_count": 10,
     "metadata": {},
     "output_type": "execute_result"
    }
   ],
   "source": [
    "z =\"  pyhton \"\n",
    "z.strip()\n"
   ]
  },
  {
   "cell_type": "code",
   "execution_count": 11,
   "id": "d788126d-d0ec-4c4b-ad33-b8ef60bdabed",
   "metadata": {},
   "outputs": [
    {
     "data": {
      "text/plain": [
       "'python'"
      ]
     },
     "execution_count": 11,
     "metadata": {},
     "output_type": "execute_result"
    }
   ],
   "source": [
    "w = \"... ... $$$python\"\n",
    "w.strip(\". $\")"
   ]
  },
  {
   "cell_type": "code",
   "execution_count": 12,
   "id": "15e74813-a7cc-416b-a2da-a30c131e8c8a",
   "metadata": {},
   "outputs": [
    {
     "data": {
      "text/plain": [
       "'... ... $$$python'"
      ]
     },
     "execution_count": 12,
     "metadata": {},
     "output_type": "execute_result"
    }
   ],
   "source": [
    "w\n"
   ]
  },
  {
   "cell_type": "code",
   "execution_count": 13,
   "id": "69c82c9e-f297-4aa6-82f3-5a33bdf8a032",
   "metadata": {},
   "outputs": [
    {
     "data": {
      "text/plain": [
       "'how are you'"
      ]
     },
     "execution_count": 13,
     "metadata": {},
     "output_type": "execute_result"
    }
   ],
   "source": [
    "a =\"HOW are You\"\n",
    "a.lower()\n"
   ]
  },
  {
   "cell_type": "code",
   "execution_count": 14,
   "id": "f064360f-37cb-4886-874f-ecbfd0bb3b85",
   "metadata": {},
   "outputs": [
    {
     "data": {
      "text/plain": [
       "'HOW ARE YOU'"
      ]
     },
     "execution_count": 14,
     "metadata": {},
     "output_type": "execute_result"
    }
   ],
   "source": [
    "a.upper()"
   ]
  },
  {
   "cell_type": "code",
   "execution_count": 17,
   "id": "917665f9-f105-4e6e-8c0d-020f395cb03a",
   "metadata": {},
   "outputs": [
    {
     "data": {
      "text/plain": [
       "'How Are You'"
      ]
     },
     "execution_count": 17,
     "metadata": {},
     "output_type": "execute_result"
    }
   ],
   "source": [
    "a.title()\n"
   ]
  },
  {
   "cell_type": "code",
   "execution_count": 18,
   "id": "a1dfe3ea-3d87-488d-ae9f-d8f3419b1e04",
   "metadata": {},
   "outputs": [
    {
     "data": {
      "text/plain": [
       "'How are you'"
      ]
     },
     "execution_count": 18,
     "metadata": {},
     "output_type": "execute_result"
    }
   ],
   "source": [
    "a.capitalize()"
   ]
  },
  {
   "cell_type": "code",
   "execution_count": 19,
   "id": "628b8370-9206-4620-b7f0-2e95eebf7a4f",
   "metadata": {},
   "outputs": [
    {
     "data": {
      "text/plain": [
       "'how ARE yOU'"
      ]
     },
     "execution_count": 19,
     "metadata": {},
     "output_type": "execute_result"
    }
   ],
   "source": [
    "a.swapcase()"
   ]
  },
  {
   "cell_type": "code",
   "execution_count": 2,
   "id": "6d4b46ec-942e-4d98-a4c9-e6e03374d5dd",
   "metadata": {},
   "outputs": [
    {
     "data": {
      "text/plain": [
       "True"
      ]
     },
     "execution_count": 2,
     "metadata": {},
     "output_type": "execute_result"
    }
   ],
   "source": [
    "s = \"length\"\n",
    "s.isidentifier()"
   ]
  },
  {
   "cell_type": "code",
   "execution_count": 6,
   "id": "d1fde0d6-f207-4ebd-9b80-27ef21744b9a",
   "metadata": {},
   "outputs": [
    {
     "data": {
      "text/plain": [
       "True"
      ]
     },
     "execution_count": 6,
     "metadata": {},
     "output_type": "execute_result"
    }
   ],
   "source": [
    "w=\"@length\"\n",
    "s.isidentifier()"
   ]
  },
  {
   "cell_type": "code",
   "execution_count": 7,
   "id": "14657e9a-59e6-4374-8ec0-9898cba0dc82",
   "metadata": {},
   "outputs": [
    {
     "data": {
      "text/plain": [
       "False"
      ]
     },
     "execution_count": 7,
     "metadata": {},
     "output_type": "execute_result"
    }
   ],
   "source": [
    "s=\"@3length\"\n",
    "s.isidentifier()"
   ]
  },
  {
   "cell_type": "code",
   "execution_count": 9,
   "id": "2f78e351-3330-4590-a852-8ba4af3a8e6a",
   "metadata": {},
   "outputs": [
    {
     "data": {
      "text/plain": [
       "True"
      ]
     },
     "execution_count": 9,
     "metadata": {},
     "output_type": "execute_result"
    }
   ],
   "source": [
    "s=\"if\"\n",
    "s.isprintable()"
   ]
  },
  {
   "cell_type": "code",
   "execution_count": 11,
   "id": "75ecd421-38be-408e-bf25-994cbff71366",
   "metadata": {},
   "outputs": [
    {
     "data": {
      "text/plain": [
       "False"
      ]
     },
     "execution_count": 11,
     "metadata": {},
     "output_type": "execute_result"
    }
   ],
   "source": [
    "s=\"hello\\n how are u\"\n",
    "s.isprintable()"
   ]
  },
  {
   "cell_type": "code",
   "execution_count": 13,
   "id": "fc804ef2-e118-43b3-92a2-b86a072a5eb5",
   "metadata": {},
   "outputs": [
    {
     "data": {
      "text/plain": [
       "True"
      ]
     },
     "execution_count": 13,
     "metadata": {},
     "output_type": "execute_result"
    }
   ],
   "source": [
    "g = \"python is a easy language\"\n",
    "g.startswith(\"p\")"
   ]
  },
  {
   "cell_type": "code",
   "execution_count": 14,
   "id": "ade1cb8d-6de2-4867-bedc-c80e26b7e85f",
   "metadata": {},
   "outputs": [
    {
     "data": {
      "text/plain": [
       "True"
      ]
     },
     "execution_count": 14,
     "metadata": {},
     "output_type": "execute_result"
    }
   ],
   "source": [
    "g.startswith('a',10)"
   ]
  },
  {
   "cell_type": "code",
   "execution_count": 15,
   "id": "7fe7edf0-bd2b-4a5f-8aef-7fe4c4e3bfe9",
   "metadata": {},
   "outputs": [
    {
     "data": {
      "text/plain": [
       "True"
      ]
     },
     "execution_count": 15,
     "metadata": {},
     "output_type": "execute_result"
    }
   ],
   "source": [
    "g.endswith(\"age\")"
   ]
  },
  {
   "cell_type": "code",
   "execution_count": 20,
   "id": "2a8b12c3-04e5-4de8-80e4-807b026e83e6",
   "metadata": {},
   "outputs": [
    {
     "ename": "AttributeError",
     "evalue": "'str' object has no attribute 'removesuffix'",
     "output_type": "error",
     "traceback": [
      "\u001b[0;31m---------------------------------------------------------------------------\u001b[0m",
      "\u001b[0;31mAttributeError\u001b[0m                            Traceback (most recent call last)",
      "Cell \u001b[0;32mIn[20], line 2\u001b[0m\n\u001b[1;32m      1\u001b[0m h\u001b[38;5;241m=\u001b[39m\u001b[38;5;124m\"\u001b[39m\u001b[38;5;124mpython programming\u001b[39m\u001b[38;5;124m\"\u001b[39m\n\u001b[0;32m----> 2\u001b[0m \u001b[43mh\u001b[49m\u001b[38;5;241;43m.\u001b[39;49m\u001b[43mremovesuffix\u001b[49m(\u001b[38;5;124m\"\u001b[39m\u001b[38;5;124ming\u001b[39m\u001b[38;5;124m\"\u001b[39m)\n",
      "\u001b[0;31mAttributeError\u001b[0m: 'str' object has no attribute 'removesuffix'"
     ]
    }
   ],
   "source": [
    "h=\"python programming\"\n",
    "h.removesuffix(\"ing\")"
   ]
  },
  {
   "cell_type": "code",
   "execution_count": 1,
   "id": "f49175cd-597d-4f4a-8f43-0f7f9d1fb28d",
   "metadata": {},
   "outputs": [
    {
     "data": {
      "text/plain": [
       "('', 'py', 'thon is very easy')"
      ]
     },
     "execution_count": 1,
     "metadata": {},
     "output_type": "execute_result"
    }
   ],
   "source": [
    "f=\"python is very easy\"\n",
    "f.partition(\"py\")"
   ]
  },
  {
   "cell_type": "code",
   "execution_count": 4,
   "id": "fa34b671-2c1a-4d5d-8b3c-5b907abee652",
   "metadata": {},
   "outputs": [
    {
     "data": {
      "text/plain": [
       "('python ', 'i', 's very easy')"
      ]
     },
     "execution_count": 4,
     "metadata": {},
     "output_type": "execute_result"
    }
   ],
   "source": [
    "f.partition(\"i\")"
   ]
  },
  {
   "cell_type": "code",
   "execution_count": 8,
   "id": "ccceff00-7639-4768-965a-af22d8711bd3",
   "metadata": {},
   "outputs": [
    {
     "data": {
      "text/plain": [
       "'a,b,c,d,e'"
      ]
     },
     "execution_count": 8,
     "metadata": {},
     "output_type": "execute_result"
    }
   ],
   "source": [
    "a = \"a-b-c-d-e\"\n",
    "a.replace(\"-\",',')"
   ]
  },
  {
   "cell_type": "code",
   "execution_count": 9,
   "id": "04a848b2-0059-4368-b1c0-9670ea9f104e",
   "metadata": {},
   "outputs": [
    {
     "data": {
      "text/plain": [
       "'a%b%c-d-e'"
      ]
     },
     "execution_count": 9,
     "metadata": {},
     "output_type": "execute_result"
    }
   ],
   "source": [
    "a.replace(\"-\",\"%\",2)"
   ]
  },
  {
   "cell_type": "code",
   "execution_count": 14,
   "id": "ca7bc14e-430e-4d5e-b65a-2b30786b65de",
   "metadata": {},
   "outputs": [
    {
     "data": {
      "text/plain": [
       "'axyzbxyzc'"
      ]
     },
     "execution_count": 14,
     "metadata": {},
     "output_type": "execute_result"
    }
   ],
   "source": [
    "x = 'abc'\n",
    "y= 'xyz'\n",
    "y.join(x)"
   ]
  },
  {
   "cell_type": "code",
   "execution_count": 15,
   "id": "246a90aa-4b69-425a-8902-55fb7e9847dd",
   "metadata": {},
   "outputs": [
    {
     "data": {
      "text/plain": [
       "'xabcyabcz'"
      ]
     },
     "execution_count": 15,
     "metadata": {},
     "output_type": "execute_result"
    }
   ],
   "source": [
    "x.join(y)"
   ]
  },
  {
   "cell_type": "code",
   "execution_count": 22,
   "id": "9c4a0c67-5716-411e-8380-6d354550911f",
   "metadata": {},
   "outputs": [
    {
     "data": {
      "text/plain": [
       "'john-ajay-ram'"
      ]
     },
     "execution_count": 22,
     "metadata": {},
     "output_type": "execute_result"
    }
   ],
   "source": [
    "x=\"john\",\"ajay\",\"ram\"\n",
    "y='-'\n",
    "y.join(x)"
   ]
  },
  {
   "cell_type": "code",
   "execution_count": 27,
   "id": "e9f61e2b-acc9-4d90-ba8e-9d74c9d8dc4c",
   "metadata": {},
   "outputs": [
    {
     "data": {
      "text/plain": [
       "['a', 'b,c,d']"
      ]
     },
     "execution_count": 27,
     "metadata": {},
     "output_type": "execute_result"
    }
   ],
   "source": [
    "x=\"a,b,c,d\"\n",
    "x.split(',',1)"
   ]
  },
  {
   "cell_type": "code",
   "execution_count": 29,
   "id": "7f88c1ed-0346-4f02-bf07-a9d19fff0ae6",
   "metadata": {},
   "outputs": [
    {
     "data": {
      "text/plain": [
       "['', ',b,a,c,a,d']"
      ]
     },
     "execution_count": 29,
     "metadata": {},
     "output_type": "execute_result"
    }
   ],
   "source": [
    "x=\"a,b,a,c,a,d\"\n",
    "x.split(\"a\",1)"
   ]
  },
  {
   "cell_type": "code",
   "execution_count": 30,
   "id": "2a227a80-4a81-41c6-8e80-5451adcb2d12",
   "metadata": {},
   "outputs": [
    {
     "data": {
      "text/plain": [
       "['a', 'b\\tc']"
      ]
     },
     "execution_count": 30,
     "metadata": {},
     "output_type": "execute_result"
    }
   ],
   "source": [
    "x='a\\nb\\tc\\f'\n",
    "x.splitlines()"
   ]
  },
  {
   "cell_type": "code",
   "execution_count": 32,
   "id": "fd87a8a2-fc0b-42ca-a1b6-074293562c2d",
   "metadata": {},
   "outputs": [
    {
     "data": {
      "text/plain": [
       "['a\\n', 'b\\tc\\x0c']"
      ]
     },
     "execution_count": 32,
     "metadata": {},
     "output_type": "execute_result"
    }
   ],
   "source": [
    "x.splitlines(keepends=True)"
   ]
  },
  {
   "cell_type": "code",
   "execution_count": 33,
   "id": "c50aa0b8-ceb0-49a2-a5b6-430215317fea",
   "metadata": {},
   "outputs": [
    {
     "data": {
      "text/plain": [
       "['a', 'b', 'c']"
      ]
     },
     "execution_count": 33,
     "metadata": {},
     "output_type": "execute_result"
    }
   ],
   "source": [
    "x.split()"
   ]
  },
  {
   "cell_type": "code",
   "execution_count": null,
   "id": "d84e23f8-d099-4cc6-b2d3-15c3f0690abd",
   "metadata": {},
   "outputs": [],
   "source": []
  }
 ],
 "metadata": {
  "kernelspec": {
   "display_name": "Python 3 (ipykernel)",
   "language": "python",
   "name": "python3"
  },
  "language_info": {
   "codemirror_mode": {
    "name": "ipython",
    "version": 3
   },
   "file_extension": ".py",
   "mimetype": "text/x-python",
   "name": "python",
   "nbconvert_exporter": "python",
   "pygments_lexer": "ipython3",
   "version": "3.8.10"
  }
 },
 "nbformat": 4,
 "nbformat_minor": 5
}
