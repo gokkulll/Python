{
 "cells": [
  {
   "cell_type": "code",
   "execution_count": 4,
   "id": "d12e5258-6412-487a-baa5-4c577557ee91",
   "metadata": {},
   "outputs": [
    {
     "data": {
      "text/plain": [
       "'Gokul'"
      ]
     },
     "execution_count": 4,
     "metadata": {},
     "output_type": "execute_result"
    }
   ],
   "source": [
    "def myfunc(L):\n",
    "    return L\n",
    "\n",
    "\n",
    "d = myfunc\n",
    "d('Gokul')"
   ]
  },
  {
   "cell_type": "code",
   "execution_count": 14,
   "id": "d25db21f-8fa2-49eb-8f7f-3317e8368755",
   "metadata": {},
   "outputs": [
    {
     "name": "stdout",
     "output_type": "stream",
     "text": [
      "inner\n"
     ]
    }
   ],
   "source": [
    "def outer():\n",
    "    def inner():\n",
    "        r = print(\"inner\")\n",
    "        return r\n",
    "    inner()\n",
    "\n",
    "outer()"
   ]
  },
  {
   "cell_type": "code",
   "execution_count": 16,
   "id": "dad596fe-9447-43e4-8afa-f3f8d908bfe8",
   "metadata": {},
   "outputs": [
    {
     "name": "stdout",
     "output_type": "stream",
     "text": [
      "Hello\n"
     ]
    }
   ],
   "source": [
    "def good():\n",
    "    print(\"Hello\")\n",
    "\n",
    "def func(d):\n",
    "    return d\n",
    "    \n",
    "func(good())"
   ]
  },
  {
   "cell_type": "code",
   "execution_count": 21,
   "id": "9e8dd48e-9fe5-444e-8a9a-8bf44c64c9e0",
   "metadata": {},
   "outputs": [
    {
     "data": {
      "text/plain": [
       "21"
      ]
     },
     "execution_count": 21,
     "metadata": {},
     "output_type": "execute_result"
    }
   ],
   "source": [
    "def sum(a,b):\n",
    "    return a+b\n",
    "\n",
    "def sub(a,b):\n",
    "    return a-b\n",
    "\n",
    "def fun(d,a,b):\n",
    "    return d(a,b)\n",
    "\n",
    "\n",
    "fun(sum,10,11)"
   ]
  },
  {
   "cell_type": "code",
   "execution_count": 22,
   "id": "2a83bab6-7ea6-4925-aacb-eba8a765315b",
   "metadata": {},
   "outputs": [
    {
     "name": "stdout",
     "output_type": "stream",
     "text": [
      "**********\n",
      "helo\n",
      "**********\n"
     ]
    }
   ],
   "source": [
    "def closure():\n",
    "    \n",
    "    def inner():\n",
    "        print(\"*\" * 10)\n",
    "        print('helo')\n",
    "        print(\"*\" * 10)\n",
    "    return inner()\n",
    "    \n",
    "\n",
    "\n",
    "\n",
    "d = closure\n",
    "d()"
   ]
  },
  {
   "cell_type": "code",
   "execution_count": 9,
   "id": "60bd9054-22ea-45c8-8b11-25482eebf1f1",
   "metadata": {},
   "outputs": [
    {
     "ename": "TypeError",
     "evalue": "Dept() takes no arguments",
     "output_type": "error",
     "traceback": [
      "\u001b[0;31m---------------------------------------------------------------------------\u001b[0m",
      "\u001b[0;31mTypeError\u001b[0m                                 Traceback (most recent call last)",
      "Cell \u001b[0;32mIn[9], line 12\u001b[0m\n\u001b[1;32m      9\u001b[0m         \u001b[38;5;28;01mreturn\u001b[39;00m \u001b[38;5;28mself\u001b[39m\u001b[38;5;241m.\u001b[39mdepts[dept]\n\u001b[1;32m     11\u001b[0m d \u001b[38;5;241m=\u001b[39m Dept\n\u001b[0;32m---> 12\u001b[0m \u001b[38;5;28mprint\u001b[39m(\u001b[43md\u001b[49m\u001b[43m(\u001b[49m\u001b[38;5;124;43m'\u001b[39;49m\u001b[38;5;124;43mhr\u001b[39;49m\u001b[38;5;124;43m'\u001b[39;49m\u001b[43m)\u001b[49m)\n",
      "\u001b[0;31mTypeError\u001b[0m: Dept() takes no arguments"
     ]
    }
   ],
   "source": [
    "#caller class\n",
    "\n",
    "class Dept:\n",
    "    def __int__(self):\n",
    "        self.depts={\"hr\":\"Human resource\",\n",
    "                   \"mkm\":\"marketting manangement\"}\n",
    "\n",
    "    def __call__(self,dept):\n",
    "        return self.depts[dept]\n",
    "\n",
    "d = Dept\n",
    "print(d('hr'))\n",
    "#runs on online compiler can.t run on jupyter "
   ]
  },
  {
   "cell_type": "code",
   "execution_count": 36,
   "id": "eea3edd2-94c7-485e-88ea-dfbab7aa9619",
   "metadata": {},
   "outputs": [
    {
     "name": "stdout",
     "output_type": "stream",
     "text": [
      "marketting management\n"
     ]
    }
   ],
   "source": [
    "#closure function\n",
    "\n",
    "def Dept():\n",
    "    depts = {'hr':'human resource',\n",
    "            'mkm':'marketting management'}\n",
    "    def dname(dept):\n",
    "        return  depts[dept]\n",
    "\n",
    "    return dname\n",
    "\n",
    "\n",
    "\n",
    "\n",
    "s = Dept()\n",
    "print(s('mkm'))\n",
    "\n"
   ]
  },
  {
   "cell_type": "code",
   "execution_count": 63,
   "id": "8b8c27bc-ae66-4e02-b096-355bae8d5a93",
   "metadata": {},
   "outputs": [
    {
     "name": "stdout",
     "output_type": "stream",
     "text": [
      "**********\n",
      "Hello\n",
      "**********\n"
     ]
    }
   ],
   "source": [
    "def decorator(fun):\n",
    "    def wrapper(msg):\n",
    "        print(\"*\" * 10)\n",
    "        fun(msg)\n",
    "        print(\"*\" * 10)\n",
    "\n",
    "    return wrapper\n",
    "\n",
    "\n",
    "@decorator\n",
    "def display(msg):\n",
    "    print(msg)\n",
    "\n",
    "\n",
    "\n",
    "\n",
    "#display = decorator(display) ''' instead of this line we can use @decorator function)\n",
    "\n",
    "\n",
    "\n",
    "display('Hello')"
   ]
  },
  {
   "cell_type": "code",
   "execution_count": 57,
   "id": "efa4b038-f030-4fce-80f7-85612cb8d75f",
   "metadata": {},
   "outputs": [
    {
     "name": "stdout",
     "output_type": "stream",
     "text": [
      "*\n",
      "Hello\n",
      "*\n"
     ]
    }
   ],
   "source": [
    "def decorator(fun):\n",
    "    def wrapper():\n",
    "        print(\"*\")\n",
    "        fun()\n",
    "        print(\"*\")\n",
    "\n",
    "    return wrapper\n",
    "\n",
    "def display():\n",
    "    print('Hello')\n",
    "\n",
    "d = decorator(display)\n",
    "d()"
   ]
  },
  {
   "cell_type": "code",
   "execution_count": 65,
   "id": "39b1f528-fb29-4a2d-a5ba-46571dc024f2",
   "metadata": {},
   "outputs": [
    {
     "name": "stdout",
     "output_type": "stream",
     "text": [
      "16.0\n"
     ]
    }
   ],
   "source": [
    "k = lambda miles: 1.6 * miles\n",
    "print(k(10))"
   ]
  },
  {
   "cell_type": "code",
   "execution_count": 70,
   "id": "1f2f3799-7cd8-4b91-b8ee-f4c7c5dae976",
   "metadata": {},
   "outputs": [
    {
     "name": "stdout",
     "output_type": "stream",
     "text": [
      "12\n"
     ]
    }
   ],
   "source": [
    "k = lambda x,y: x+y\n",
    "print(k(10,2))"
   ]
  },
  {
   "cell_type": "code",
   "execution_count": 76,
   "id": "e12ccb00-bb1e-4179-813f-5739aaa372e1",
   "metadata": {},
   "outputs": [
    {
     "name": "stdout",
     "output_type": "stream",
     "text": [
      "10\n"
     ]
    }
   ],
   "source": [
    "k = lambda a,b: a if a>b else b\n",
    "print(k(10,2))"
   ]
  },
  {
   "cell_type": "code",
   "execution_count": null,
   "id": "e958e1f2-d51b-4065-8b17-2209562dcd48",
   "metadata": {},
   "outputs": [],
   "source": []
  }
 ],
 "metadata": {
  "kernelspec": {
   "display_name": "Python 3 (ipykernel)",
   "language": "python",
   "name": "python3"
  },
  "language_info": {
   "codemirror_mode": {
    "name": "ipython",
    "version": 3
   },
   "file_extension": ".py",
   "mimetype": "text/x-python",
   "name": "python",
   "nbconvert_exporter": "python",
   "pygments_lexer": "ipython3",
   "version": "3.8.10"
  }
 },
 "nbformat": 4,
 "nbformat_minor": 5
}
