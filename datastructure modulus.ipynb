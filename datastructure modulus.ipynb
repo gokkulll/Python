{
 "cells": [
  {
   "cell_type": "code",
   "execution_count": 8,
   "id": "6e972904-00eb-49a7-a6f0-6acb8934c939",
   "metadata": {},
   "outputs": [
    {
     "name": "stdout",
     "output_type": "stream",
     "text": [
      "Counter({'MARK': 3, 'JOHNY': 2, 'GOKUL': 2})\n",
      "3\n"
     ]
    },
    {
     "data": {
      "text/plain": [
       "3"
      ]
     },
     "execution_count": 8,
     "metadata": {},
     "output_type": "execute_result"
    }
   ],
   "source": [
    "L=['MARK','JOHNY','MARK','GOKUL','JOHNY','MARK','GOKUL']\n",
    "from collections import Counter\n",
    "\n",
    "c=Counter(L)\n",
    "\n",
    "print(c)\n",
    "\n",
    "print(c['MARK'])\n",
    "c.get('MARK')"
   ]
  },
  {
   "cell_type": "code",
   "execution_count": 13,
   "id": "1966a926-f9a3-4289-931a-bd2fc15ec675",
   "metadata": {},
   "outputs": [
    {
     "name": "stdout",
     "output_type": "stream",
     "text": [
      "dict_keys(['MARK', 'JOHNY', 'GOKUL'])\n",
      "dict_values([3, 2, 2])\n"
     ]
    }
   ],
   "source": [
    "print(c.keys())\n",
    "print(c.values())"
   ]
  },
  {
   "cell_type": "code",
   "execution_count": 15,
   "id": "3686dd05-aa12-4bff-be60-a01ebc7ea9fa",
   "metadata": {},
   "outputs": [
    {
     "name": "stdout",
     "output_type": "stream",
     "text": [
      "Counter({'AJAY': 4, 'MARK': 3, 'JOHNY': 2, 'GOKUL': 2})\n"
     ]
    }
   ],
   "source": [
    "c.update({'AJAY':4})\n",
    "print(c)"
   ]
  },
  {
   "cell_type": "code",
   "execution_count": 16,
   "id": "bcf20832-8678-4478-9f4a-726b06829f60",
   "metadata": {},
   "outputs": [
    {
     "name": "stdout",
     "output_type": "stream",
     "text": [
      "MARK\n",
      "MARK\n",
      "MARK\n",
      "JOHNY\n",
      "JOHNY\n",
      "GOKUL\n",
      "GOKUL\n",
      "AJAY\n",
      "AJAY\n",
      "AJAY\n",
      "AJAY\n"
     ]
    }
   ],
   "source": [
    "for i in c.elements():\n",
    "    print(i)"
   ]
  },
  {
   "cell_type": "code",
   "execution_count": 19,
   "id": "f0686ad0-7cd4-4a5d-8679-9b0e3bf69080",
   "metadata": {},
   "outputs": [
    {
     "data": {
      "text/plain": [
       "[('AJAY', 4), ('MARK', 3)]"
      ]
     },
     "execution_count": 19,
     "metadata": {},
     "output_type": "execute_result"
    }
   ],
   "source": [
    "c.most_common(2)\n"
   ]
  },
  {
   "cell_type": "code",
   "execution_count": 20,
   "id": "021a27e7-08d7-43cd-a6d6-4f9db22ea07f",
   "metadata": {},
   "outputs": [
    {
     "data": {
      "text/plain": [
       "2"
      ]
     },
     "execution_count": 20,
     "metadata": {},
     "output_type": "execute_result"
    }
   ],
   "source": [
    "c.pop('GOKUL')\n"
   ]
  },
  {
   "cell_type": "code",
   "execution_count": 21,
   "id": "2aaaad53-7df8-4400-a24b-f5ef75833e93",
   "metadata": {},
   "outputs": [
    {
     "data": {
      "text/plain": [
       "Counter({'MARK': 3, 'JOHNY': 2, 'AJAY': 4})"
      ]
     },
     "execution_count": 21,
     "metadata": {},
     "output_type": "execute_result"
    }
   ],
   "source": [
    "c"
   ]
  },
  {
   "cell_type": "code",
   "execution_count": 23,
   "id": "9f99d213-985b-44ed-9ee6-e513197a4d33",
   "metadata": {},
   "outputs": [
    {
     "data": {
      "text/plain": [
       "deque([1, 2, 3, 4, 5, 6, 7])"
      ]
     },
     "execution_count": 23,
     "metadata": {},
     "output_type": "execute_result"
    }
   ],
   "source": [
    "from collections import deque\n",
    "\n",
    "L=[1,2,3,4,5,6,7]\n",
    "\n",
    "d=deque(L)\n",
    "d"
   ]
  },
  {
   "cell_type": "code",
   "execution_count": 24,
   "id": "cd50b749-90ba-4ace-97ed-496bf31d067b",
   "metadata": {},
   "outputs": [],
   "source": [
    "d.append(8)"
   ]
  },
  {
   "cell_type": "code",
   "execution_count": 25,
   "id": "9af8cf07-fa83-4fc6-b1fd-8141c541e80b",
   "metadata": {},
   "outputs": [
    {
     "data": {
      "text/plain": [
       "deque([1, 2, 3, 4, 5, 6, 7, 8])"
      ]
     },
     "execution_count": 25,
     "metadata": {},
     "output_type": "execute_result"
    }
   ],
   "source": [
    "d"
   ]
  },
  {
   "cell_type": "code",
   "execution_count": 26,
   "id": "7c6a268d-80aa-43bf-b04b-802a5052602c",
   "metadata": {},
   "outputs": [
    {
     "data": {
      "text/plain": [
       "deque([0, 1, 2, 3, 4, 5, 6, 7, 8])"
      ]
     },
     "execution_count": 26,
     "metadata": {},
     "output_type": "execute_result"
    }
   ],
   "source": [
    "d.appendleft(0)\n",
    "d"
   ]
  },
  {
   "cell_type": "code",
   "execution_count": 27,
   "id": "69cb8f0f-1bea-4c36-bda7-98846117f9e3",
   "metadata": {},
   "outputs": [
    {
     "data": {
      "text/plain": [
       "deque([1, 2, 3, 4, 5, 6, 7, 8])"
      ]
     },
     "execution_count": 27,
     "metadata": {},
     "output_type": "execute_result"
    }
   ],
   "source": [
    "d.popleft()\n",
    "d"
   ]
  },
  {
   "cell_type": "code",
   "execution_count": 28,
   "id": "3b33aaeb-bc38-422e-a561-46159fb089f3",
   "metadata": {},
   "outputs": [
    {
     "data": {
      "text/plain": [
       "deque([1, 2, 3, 4, 5, 6, 7, 8, 9, 10])"
      ]
     },
     "execution_count": 28,
     "metadata": {},
     "output_type": "execute_result"
    }
   ],
   "source": [
    "d.extend([9,10])\n",
    "d"
   ]
  },
  {
   "cell_type": "code",
   "execution_count": 30,
   "id": "4b387543-af28-4e06-aca2-fb7c9a417fd1",
   "metadata": {},
   "outputs": [
    {
     "data": {
      "text/plain": [
       "deque([10, 1, 2, 3, 4, 5, 6, 7, 8, 9])"
      ]
     },
     "execution_count": 30,
     "metadata": {},
     "output_type": "execute_result"
    }
   ],
   "source": [
    "d.rotate(1)\n",
    "d"
   ]
  },
  {
   "cell_type": "code",
   "execution_count": 3,
   "id": "c76b7e90-6291-4b21-8ea6-78936b80460b",
   "metadata": {},
   "outputs": [
    {
     "data": {
      "text/plain": [
       "array('i', [1, 2, 3, 4])"
      ]
     },
     "execution_count": 3,
     "metadata": {},
     "output_type": "execute_result"
    }
   ],
   "source": [
    "import array\n",
    "\n",
    "arr1 = array.array('i',[1,2,3,4])\n",
    "arr1\n"
   ]
  },
  {
   "cell_type": "code",
   "execution_count": 4,
   "id": "3f3f290b-b0be-436d-b2cb-c4b1b43151ad",
   "metadata": {},
   "outputs": [
    {
     "data": {
      "text/plain": [
       "array('i', [1, 2, 3, 4, 5])"
      ]
     },
     "execution_count": 4,
     "metadata": {},
     "output_type": "execute_result"
    }
   ],
   "source": [
    "arr1.append(5)\n",
    "arr1"
   ]
  },
  {
   "cell_type": "code",
   "execution_count": 6,
   "id": "39841c9d-131a-4d9a-b633-e57857bbcf3a",
   "metadata": {},
   "outputs": [
    {
     "data": {
      "text/plain": [
       "[10]"
      ]
     },
     "execution_count": 6,
     "metadata": {},
     "output_type": "execute_result"
    }
   ],
   "source": [
    "import heapq\n",
    "h=[]\n",
    "\n",
    "heapq.heappush(h,10)\n",
    "h"
   ]
  },
  {
   "cell_type": "code",
   "execution_count": 7,
   "id": "b6690f97-cad1-4e49-9074-51c8cad527c8",
   "metadata": {},
   "outputs": [
    {
     "data": {
      "text/plain": [
       "[10, 20, 30, 40, 50]"
      ]
     },
     "execution_count": 7,
     "metadata": {},
     "output_type": "execute_result"
    }
   ],
   "source": [
    "heapq.heappush(h,20)\n",
    "heapq.heappush(h,30)\n",
    "heapq.heappush(h,40)\n",
    "heapq.heappush(h,50)\n",
    "h"
   ]
  },
  {
   "cell_type": "code",
   "execution_count": 9,
   "id": "fc8a628b-1ef6-49b2-a9f7-302806517243",
   "metadata": {},
   "outputs": [
    {
     "data": {
      "text/plain": [
       "[20, 40, 30, 50]"
      ]
     },
     "execution_count": 9,
     "metadata": {},
     "output_type": "execute_result"
    }
   ],
   "source": [
    "import heapq\n",
    "heapq.heappop(h)\n",
    "h"
   ]
  },
  {
   "cell_type": "code",
   "execution_count": 12,
   "id": "c097e9fa-034d-4832-a24c-ff63b7ecc124",
   "metadata": {},
   "outputs": [
    {
     "data": {
      "text/plain": [
       "[10, 20, 40, 30, 60, 80, 50]"
      ]
     },
     "execution_count": 12,
     "metadata": {},
     "output_type": "execute_result"
    }
   ],
   "source": [
    "import heapq\n",
    "\n",
    "l=[10,30,40,20,60,80,50]\n",
    "\n",
    "heapq.heapify(l)\n",
    "l\n"
   ]
  },
  {
   "cell_type": "code",
   "execution_count": 14,
   "id": "1dd69070-63e7-4b40-99ec-ad85a607fdab",
   "metadata": {},
   "outputs": [
    {
     "data": {
      "text/plain": [
       "[80, 60]"
      ]
     },
     "execution_count": 14,
     "metadata": {},
     "output_type": "execute_result"
    }
   ],
   "source": [
    "heapq.nlargest(2,l)\n"
   ]
  },
  {
   "cell_type": "code",
   "execution_count": 20,
   "id": "93bc540a-b53d-4225-bc53-3fca8d8e1fa3",
   "metadata": {},
   "outputs": [
    {
     "data": {
      "text/plain": [
       "[3, 10, 40, 30, 20, 80, 50, [30, 40], 30, [50, 60], 60]"
      ]
     },
     "execution_count": 20,
     "metadata": {},
     "output_type": "execute_result"
    }
   ],
   "source": [
    "heapq.heappush(l,3)\n",
    "l"
   ]
  },
  {
   "cell_type": "code",
   "execution_count": 21,
   "id": "8061d218-402c-4bbd-bbcd-45590580f458",
   "metadata": {},
   "outputs": [
    {
     "data": {
      "text/plain": [
       "[3, 10, 40, 30, 20, 80, 50, [30, 40], 30, [50, 60], 60]"
      ]
     },
     "execution_count": 21,
     "metadata": {},
     "output_type": "execute_result"
    }
   ],
   "source": [
    "l"
   ]
  },
  {
   "cell_type": "code",
   "execution_count": 23,
   "id": "1d997bff-fc27-4d45-b573-41ba868f4473",
   "metadata": {},
   "outputs": [],
   "source": [
    "import bisect\n",
    "L = [10,20,30,40,50,60,70]\n",
    "bisect.insort(L,25)"
   ]
  },
  {
   "cell_type": "code",
   "execution_count": 24,
   "id": "d8f6f114-c280-49b2-af63-c82b19240d70",
   "metadata": {},
   "outputs": [
    {
     "data": {
      "text/plain": [
       "[10, 20, 25, 30, 40, 50, 60, 70]"
      ]
     },
     "execution_count": 24,
     "metadata": {},
     "output_type": "execute_result"
    }
   ],
   "source": [
    "L"
   ]
  },
  {
   "cell_type": "code",
   "execution_count": 25,
   "id": "220eeedb-5e68-445d-9779-992d108d8808",
   "metadata": {},
   "outputs": [],
   "source": [
    "bisect.insort_left(L,60)"
   ]
  },
  {
   "cell_type": "code",
   "execution_count": 26,
   "id": "07e78473-205c-4b53-a8dd-5b40dc222b7d",
   "metadata": {},
   "outputs": [
    {
     "data": {
      "text/plain": [
       "[10, 20, 25, 30, 40, 50, 60, 60, 70]"
      ]
     },
     "execution_count": 26,
     "metadata": {},
     "output_type": "execute_result"
    }
   ],
   "source": [
    "L"
   ]
  },
  {
   "cell_type": "code",
   "execution_count": 27,
   "id": "af925988-c53f-4613-8eec-d462e4ff6ee3",
   "metadata": {},
   "outputs": [
    {
     "data": {
      "text/plain": [
       "1"
      ]
     },
     "execution_count": 27,
     "metadata": {},
     "output_type": "execute_result"
    }
   ],
   "source": [
    "bisect.bisect(L,12)\n"
   ]
  },
  {
   "cell_type": "code",
   "execution_count": null,
   "id": "d4296b2c-04e1-46fe-a940-02cb58a317e7",
   "metadata": {},
   "outputs": [],
   "source": []
  }
 ],
 "metadata": {
  "kernelspec": {
   "display_name": "Python 3 (ipykernel)",
   "language": "python",
   "name": "python3"
  },
  "language_info": {
   "codemirror_mode": {
    "name": "ipython",
    "version": 3
   },
   "file_extension": ".py",
   "mimetype": "text/x-python",
   "name": "python",
   "nbconvert_exporter": "python",
   "pygments_lexer": "ipython3",
   "version": "3.8.10"
  }
 },
 "nbformat": 4,
 "nbformat_minor": 5
}
