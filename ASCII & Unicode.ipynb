{
 "cells": [
  {
   "cell_type": "code",
   "execution_count": 1,
   "id": "ee31dbb5-fd96-4624-b6dc-6f607eb81921",
   "metadata": {},
   "outputs": [
    {
     "data": {
      "text/plain": [
       "65"
      ]
     },
     "execution_count": 1,
     "metadata": {},
     "output_type": "execute_result"
    }
   ],
   "source": [
    "s = 'A'\n",
    "ord(s)"
   ]
  },
  {
   "cell_type": "code",
   "execution_count": 2,
   "id": "83b21c0e-aa8b-4990-b809-7efaacac5e02",
   "metadata": {},
   "outputs": [
    {
     "data": {
      "text/plain": [
       "'A'"
      ]
     },
     "execution_count": 2,
     "metadata": {},
     "output_type": "execute_result"
    }
   ],
   "source": [
    "chr(65)"
   ]
  },
  {
   "cell_type": "code",
   "execution_count": 3,
   "id": "1a42d22f-637e-4235-8e17-5241a11870d5",
   "metadata": {},
   "outputs": [
    {
     "data": {
      "text/plain": [
       "'a'"
      ]
     },
     "execution_count": 3,
     "metadata": {},
     "output_type": "execute_result"
    }
   ],
   "source": [
    "chr(97)"
   ]
  },
  {
   "cell_type": "code",
   "execution_count": 4,
   "id": "fc7d19a1-1a5b-496f-89f5-4f106054801a",
   "metadata": {},
   "outputs": [
    {
     "data": {
      "text/plain": [
       "'αβγ'"
      ]
     },
     "execution_count": 4,
     "metadata": {},
     "output_type": "execute_result"
    }
   ],
   "source": [
    "a = '\\u03b1\\u03b2\\u03b3'\n",
    "a"
   ]
  },
  {
   "cell_type": "code",
   "execution_count": 5,
   "id": "5607ab6f-4323-4acd-9ee9-bc2560549b3f",
   "metadata": {},
   "outputs": [
    {
     "data": {
      "text/plain": [
       "'A'"
      ]
     },
     "execution_count": 5,
     "metadata": {},
     "output_type": "execute_result"
    }
   ],
   "source": [
    "d = '\\u0041'\n",
    "d"
   ]
  },
  {
   "cell_type": "code",
   "execution_count": 6,
   "id": "0a0e3910-6340-4c13-845c-373ca1572acd",
   "metadata": {},
   "outputs": [
    {
     "data": {
      "text/plain": [
       "'कखग'"
      ]
     },
     "execution_count": 6,
     "metadata": {},
     "output_type": "execute_result"
    }
   ],
   "source": [
    "s = '\\u0915\\u0916\\u0917'\n",
    "s"
   ]
  },
  {
   "cell_type": "code",
   "execution_count": 7,
   "id": "7d7fbc82-8ab7-4cff-a05a-b6bc44e75f3a",
   "metadata": {},
   "outputs": [
    {
     "data": {
      "text/plain": [
       "'A'"
      ]
     },
     "execution_count": 7,
     "metadata": {},
     "output_type": "execute_result"
    }
   ],
   "source": [
    "q = '\\u0041'\n",
    "q"
   ]
  },
  {
   "cell_type": "code",
   "execution_count": 10,
   "id": "ec3029e9-83ab-4a8f-8bae-898fa89a6f61",
   "metadata": {},
   "outputs": [
    {
     "data": {
      "text/plain": [
       "'A'"
      ]
     },
     "execution_count": 10,
     "metadata": {},
     "output_type": "execute_result"
    }
   ],
   "source": [
    "w = '\\x41'\n",
    "w"
   ]
  },
  {
   "cell_type": "code",
   "execution_count": 21,
   "id": "5ba251fd-5383-4a71-ab1a-5495066300a2",
   "metadata": {},
   "outputs": [
    {
     "name": "stdout",
     "output_type": "stream",
     "text": [
      "ab\u0007cdefgh"
     ]
    }
   ],
   "source": [
    "print(\"ab\\acdefgh\", end='')\n"
   ]
  },
  {
   "cell_type": "code",
   "execution_count": 8,
   "id": "1b2ae96c-9d79-455e-8c04-e1688670a3ba",
   "metadata": {},
   "outputs": [
    {
     "name": "stdout",
     "output_type": "stream",
     "text": [
      "abc's\n",
      "abc\\n's\n",
      "abc\\n\n"
     ]
    }
   ],
   "source": [
    "s = 'abc\\'s'\n",
    "d = \"abc\\\\n's\"\n",
    "f = r'abc\\n'\n",
    "print(s)\n",
    "print(d)\n",
    "\n",
    "print(f)"
   ]
  },
  {
   "cell_type": "code",
   "execution_count": 9,
   "id": "f32f5351-5ae8-41a1-83a3-11da8b89b08d",
   "metadata": {},
   "outputs": [
    {
     "data": {
      "text/plain": [
       "'$'"
      ]
     },
     "execution_count": 9,
     "metadata": {},
     "output_type": "execute_result"
    }
   ],
   "source": [
    "q = '\\N{dollar sign}'\n",
    "q"
   ]
  },
  {
   "cell_type": "code",
   "execution_count": 14,
   "id": "e991095d-a3cf-4227-8a10-dbf13ab52a6e",
   "metadata": {},
   "outputs": [
    {
     "data": {
      "text/plain": [
       "'a'"
      ]
     },
     "execution_count": 14,
     "metadata": {},
     "output_type": "execute_result"
    }
   ],
   "source": [
    "q = '\\N{latin small letter a}'\n",
    "q"
   ]
  },
  {
   "cell_type": "code",
   "execution_count": 16,
   "id": "532e16ec-e40a-4c27-b105-690b5efc744a",
   "metadata": {},
   "outputs": [
    {
     "data": {
      "text/plain": [
       "'₨'"
      ]
     },
     "execution_count": 16,
     "metadata": {},
     "output_type": "execute_result"
    }
   ],
   "source": [
    "w = '\\N{rupee sign}'\n",
    "w"
   ]
  },
  {
   "cell_type": "code",
   "execution_count": 19,
   "id": "d038fbb3-7941-463f-a18c-34ba2125381f",
   "metadata": {},
   "outputs": [
    {
     "name": "stdout",
     "output_type": "stream",
     "text": [
      "₅\n",
      "⁵\n",
      "©\n"
     ]
    },
    {
     "data": {
      "text/plain": [
       "'\\x85'"
      ]
     },
     "execution_count": 19,
     "metadata": {},
     "output_type": "execute_result"
    }
   ],
   "source": [
    "q = '\\N{subscript five}'\n",
    "w = '\\N{superscript five}'\n",
    "e = '\\N{copyright sign}'\n",
    "print(q)\n",
    "print(w)\n",
    "print(e)\n",
    "t = '\\N{next line}'\n",
    "t"
   ]
  },
  {
   "cell_type": "code",
   "execution_count": 1,
   "id": "fcc0ecb1-d923-4855-ab9f-b76d624ca416",
   "metadata": {},
   "outputs": [
    {
     "name": "stdout",
     "output_type": "stream",
     "text": [
      "73\n",
      "ravi\n",
      "23.345\n"
     ]
    }
   ],
   "source": [
    "a = 73\n",
    "b = 'ravi'\n",
    "c = 23.345\n",
    "print(a)\n",
    "print(b)\n",
    "print(c)"
   ]
  },
  {
   "cell_type": "code",
   "execution_count": 2,
   "id": "7001d207-1f2f-437b-95c8-a16b0e4138c3",
   "metadata": {},
   "outputs": [
    {
     "name": "stdout",
     "output_type": "stream",
     "text": [
      "73_ravi_23.345\n"
     ]
    }
   ],
   "source": [
    "print(a,b,c,sep='_')"
   ]
  },
  {
   "cell_type": "code",
   "execution_count": 4,
   "id": "0ac683b4-17fc-4d0e-8f31-2f7698282ea7",
   "metadata": {},
   "outputs": [
    {
     "name": "stdout",
     "output_type": "stream",
     "text": [
      "73_ravi_23.345\n"
     ]
    }
   ],
   "source": [
    "print(a,b,c,sep='_',end='\\n')"
   ]
  },
  {
   "cell_type": "code",
   "execution_count": 6,
   "id": "eeac34d1-f423-4e47-8364-30de3503602c",
   "metadata": {},
   "outputs": [
    {
     "name": "stdout",
     "output_type": "stream",
     "text": [
      "The name of the student is gokul,The rollno is 17 and the avg is 89.932400\n",
      "the name of the student is gokul,the rollno is 17 and the avg is 89.9324\n"
     ]
    }
   ],
   "source": [
    "a = 'gokul'\n",
    "rollno = 17\n",
    "avg = 89.9324\n",
    "print('The name of the student is %s,The rollno is %d and the avg is %f'%(a,rollno,avg))\n",
    "print('the name of the student is {},the rollno is {} and the avg is {}'.format(a,rollno,avg))"
   ]
  },
  {
   "cell_type": "code",
   "execution_count": 9,
   "id": "3ebc4522-0ede-4a65-b4af-984ed752c5a1",
   "metadata": {},
   "outputs": [
    {
     "name": "stdout",
     "output_type": "stream",
     "text": [
      "the roll no is    17\n"
     ]
    }
   ],
   "source": [
    "print('the roll no is %5d'%(rollno))"
   ]
  },
  {
   "cell_type": "code",
   "execution_count": 12,
   "id": "1656312c-e1da-4f1e-a816-3f8e95825510",
   "metadata": {},
   "outputs": [
    {
     "name": "stdout",
     "output_type": "stream",
     "text": [
      "the avg value is 89.932\n"
     ]
    }
   ],
   "source": [
    "print(\"the avg value is %2.3f\"%(avg))"
   ]
  },
  {
   "cell_type": "code",
   "execution_count": 8,
   "id": "d9a17388-2ed0-4db0-8646-3a93e7ff1726",
   "metadata": {},
   "outputs": [
    {
     "name": "stdout",
     "output_type": "stream",
     "text": [
      "the name is gokul     ,the rollno is      17       and the avg is 89.9\n"
     ]
    }
   ],
   "source": [
    "print('the name is {0:10},the rollno is {1:^13} and the avg is {2:1.3}'.format(a,rollno,avg))"
   ]
  },
  {
   "cell_type": "code",
   "execution_count": 10,
   "id": "7951112c-b3ad-47f4-b58d-0352bc8b5021",
   "metadata": {},
   "outputs": [
    {
     "name": "stdout",
     "output_type": "stream",
     "text": [
      "12,345,678,954\n"
     ]
    }
   ],
   "source": [
    "x = 12345678954\n",
    "print('{0:14,}'.format(x))"
   ]
  },
  {
   "cell_type": "code",
   "execution_count": 12,
   "id": "a546b01e-4772-4a68-9c99-09036648c149",
   "metadata": {},
   "outputs": [
    {
     "name": "stdout",
     "output_type": "stream",
     "text": [
      "the name is Gokul,the cls is Mca and the year is 2023\n",
      "the name is Gokul,the cls is Mca and the year is 2023\n",
      "the name is Gokul,the cls is Mca and the year is 2023\n"
     ]
    }
   ],
   "source": [
    "Name = 'Gokul'\n",
    "cls = 'Mca'\n",
    "year = 2023\n",
    "\n",
    "print('the name is %s,the cls is %s and the year is %d'%(Name,cls,year))\n",
    "\n",
    "print('the name is {},the cls is {} and the year is {}'.format(Name,cls,year))\n",
    "\n",
    "print(f'the name is {Name},the cls is {cls} and the year is {year}')"
   ]
  },
  {
   "cell_type": "code",
   "execution_count": 41,
   "id": "340db12d-5fa4-4ce1-aa00-ce2d1e41b88b",
   "metadata": {},
   "outputs": [
    {
     "data": {
      "text/plain": [
       "'a'"
      ]
     },
     "execution_count": 41,
     "metadata": {},
     "output_type": "execute_result"
    }
   ],
   "source": [
    "\n",
    "from re import *\n",
    "match('a', 'a').group()"
   ]
  },
  {
   "cell_type": "code",
   "execution_count": 16,
   "id": "6a348a0d-924f-43be-b6ce-428101389cb5",
   "metadata": {},
   "outputs": [
    {
     "data": {
      "text/plain": [
       "'a'"
      ]
     },
     "execution_count": 16,
     "metadata": {},
     "output_type": "execute_result"
    }
   ],
   "source": [
    "match('a|b', 'a').group()\n"
   ]
  },
  {
   "cell_type": "code",
   "execution_count": 18,
   "id": "2d52e517-0366-4b0f-8104-41d7f73c1382",
   "metadata": {},
   "outputs": [
    {
     "data": {
      "text/plain": [
       "'b'"
      ]
     },
     "execution_count": 18,
     "metadata": {},
     "output_type": "execute_result"
    }
   ],
   "source": [
    "match('[abcd]','bcd').group()"
   ]
  },
  {
   "cell_type": "code",
   "execution_count": 34,
   "id": "e744db3d-99ae-4876-a3e6-37a59aaba49b",
   "metadata": {},
   "outputs": [
    {
     "data": {
      "text/plain": [
       "'aaaaa'"
      ]
     },
     "execution_count": 34,
     "metadata": {},
     "output_type": "execute_result"
    }
   ],
   "source": [
    "match('[abc]+', 'baaaac').group()\n",
    "match('[abc]{5}', 'aaaaaa').group()"
   ]
  },
  {
   "cell_type": "code",
   "execution_count": 36,
   "id": "9c0f467d-ec45-489e-972a-439c5a34d937",
   "metadata": {},
   "outputs": [
    {
     "data": {
      "text/plain": [
       "'python'"
      ]
     },
     "execution_count": 36,
     "metadata": {},
     "output_type": "execute_result"
    }
   ],
   "source": [
    "match('[a-z]+', 'python').group()"
   ]
  },
  {
   "cell_type": "code",
   "execution_count": 38,
   "id": "e79538d1-b7a7-4fd2-ba5f-ccc28ce5db5f",
   "metadata": {},
   "outputs": [
    {
     "data": {
      "text/plain": [
       "'P'"
      ]
     },
     "execution_count": 38,
     "metadata": {},
     "output_type": "execute_result"
    }
   ],
   "source": [
    "match('([a-z]+|[A-Z]+)', 'Python').group()"
   ]
  },
  {
   "cell_type": "code",
   "execution_count": 46,
   "id": "096eed19-62e1-49ba-b197-30237e97c299",
   "metadata": {},
   "outputs": [
    {
     "data": {
      "text/plain": [
       "'gokul'"
      ]
     },
     "execution_count": 46,
     "metadata": {},
     "output_type": "execute_result"
    }
   ],
   "source": [
    "x = \"^gokul\"\n",
    "c=compile(x)\n",
    "r = c.search(\"gokul is a good boy\")\n",
    "r.group()"
   ]
  },
  {
   "cell_type": "code",
   "execution_count": 61,
   "id": "dfcdc782-a212-4361-9c61-dd657a474a46",
   "metadata": {},
   "outputs": [
    {
     "ename": "AttributeError",
     "evalue": "'NoneType' object has no attribute 'group'",
     "output_type": "error",
     "traceback": [
      "\u001b[0;31m---------------------------------------------------------------------------\u001b[0m",
      "\u001b[0;31mAttributeError\u001b[0m                            Traceback (most recent call last)",
      "Cell \u001b[0;32mIn[61], line 4\u001b[0m\n\u001b[1;32m      2\u001b[0m c \u001b[38;5;241m=\u001b[39m \u001b[38;5;28mcompile\u001b[39m(x)\n\u001b[1;32m      3\u001b[0m v \u001b[38;5;241m=\u001b[39m c\u001b[38;5;241m.\u001b[39msearch(\u001b[38;5;124m\"\u001b[39m\u001b[38;5;124mnatraj sir is a good tutor\u001b[39m\u001b[38;5;124m\"\u001b[39m)\n\u001b[0;32m----> 4\u001b[0m \u001b[43mv\u001b[49m\u001b[38;5;241;43m.\u001b[39;49m\u001b[43mgroup\u001b[49m()\n",
      "\u001b[0;31mAttributeError\u001b[0m: 'NoneType' object has no attribute 'group'"
     ]
    }
   ],
   "source": [
    "x = 'natrajan'\n",
    "c = compile(x)\n",
    "v = c.search(\"natraj sir is a good tutor\")\n",
    "v.group()\n"
   ]
  },
  {
   "cell_type": "code",
   "execution_count": 64,
   "id": "16b87bf4-6c26-4980-a2ca-983537555fd9",
   "metadata": {},
   "outputs": [
    {
     "data": {
      "text/plain": [
       "'seema'"
      ]
     },
     "execution_count": 64,
     "metadata": {},
     "output_type": "execute_result"
    }
   ],
   "source": [
    "e = 'seema'\n",
    "c = compile(e)\n",
    "r = c.search(\"seema is my bestie\")\n",
    "r.group()"
   ]
  },
  {
   "cell_type": "code",
   "execution_count": null,
   "id": "807464cc-ebc0-4ac6-a51c-608d80448c0c",
   "metadata": {},
   "outputs": [],
   "source": []
  }
 ],
 "metadata": {
  "kernelspec": {
   "display_name": "Python 3 (ipykernel)",
   "language": "python",
   "name": "python3"
  },
  "language_info": {
   "codemirror_mode": {
    "name": "ipython",
    "version": 3
   },
   "file_extension": ".py",
   "mimetype": "text/x-python",
   "name": "python",
   "nbconvert_exporter": "python",
   "pygments_lexer": "ipython3",
   "version": "3.8.10"
  }
 },
 "nbformat": 4,
 "nbformat_minor": 5
}
