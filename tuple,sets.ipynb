{
 "cells": [
  {
   "cell_type": "code",
   "execution_count": 1,
   "id": "32c63f12-5301-4e89-a646-351baf0a7756",
   "metadata": {},
   "outputs": [
    {
     "name": "stdout",
     "output_type": "stream",
     "text": [
      "('apple', 'grape', 'guava')\n"
     ]
    }
   ],
   "source": [
    "x = ('apple', 'grape', 'orange')\n",
    "y = list(x)\n",
    "y[2] = 'guava'\n",
    "x = tuple(y)\n",
    "print(x)"
   ]
  },
  {
   "cell_type": "code",
   "execution_count": 2,
   "id": "1bb3054a-354d-44f1-a695-f47a2f28849a",
   "metadata": {},
   "outputs": [
    {
     "name": "stdout",
     "output_type": "stream",
     "text": [
      "('apple', 'grape', 'guava', 'orange')\n"
     ]
    }
   ],
   "source": [
    "y = list(x)\n",
    "y.append(\"orange\")\n",
    "x = tuple(y)\n",
    "print(x)"
   ]
  },
  {
   "cell_type": "code",
   "execution_count": 4,
   "id": "0b3f983b-fc70-46b9-8dde-289e72c2446b",
   "metadata": {},
   "outputs": [
    {
     "name": "stdout",
     "output_type": "stream",
     "text": [
      "('apple', 'grape', 'guava', 'orange', 'pine apple')\n"
     ]
    }
   ],
   "source": [
    "y = (\"pine apple\", )\n",
    "x + y\n",
    "print(x)"
   ]
  },
  {
   "cell_type": "code",
   "execution_count": 5,
   "id": "8d3803b3-3a63-4336-9fee-8df31ff8f90e",
   "metadata": {},
   "outputs": [
    {
     "name": "stdout",
     "output_type": "stream",
     "text": [
      "grape\n"
     ]
    }
   ],
   "source": [
    "fruits = ('apple', 'grape', 'guava')\n",
    "(green , violet, brown) = fruits\n",
    "print(violet)"
   ]
  },
  {
   "cell_type": "code",
   "execution_count": 6,
   "id": "776731a0-406c-4176-a20b-38418726a06c",
   "metadata": {},
   "outputs": [
    {
     "name": "stdout",
     "output_type": "stream",
     "text": [
      "apple\n"
     ]
    }
   ],
   "source": [
    "print(green)"
   ]
  },
  {
   "cell_type": "code",
   "execution_count": 7,
   "id": "003c1384-d2df-4e00-845b-4d63ec0a8124",
   "metadata": {},
   "outputs": [
    {
     "name": "stdout",
     "output_type": "stream",
     "text": [
      "guava\n"
     ]
    }
   ],
   "source": [
    "print(brown)"
   ]
  },
  {
   "cell_type": "code",
   "execution_count": 14,
   "id": "d133b14f-6310-436e-872e-d466f2d5c9de",
   "metadata": {},
   "outputs": [
    {
     "name": "stdout",
     "output_type": "stream",
     "text": [
      "['star fruit', 'pomegranate']\n"
     ]
    }
   ],
   "source": [
    "wild_fruits = ('apple', 'orange', 'star fruit', 'pomegranate')\n",
    "(green, grey , *yellow) = wild_fruits\n",
    "print(yellow)"
   ]
  },
  {
   "cell_type": "code",
   "execution_count": 15,
   "id": "43b026ef-3eea-4d75-bd2d-24f9e1c306d8",
   "metadata": {},
   "outputs": [
    {
     "name": "stdout",
     "output_type": "stream",
     "text": [
      "orange\n"
     ]
    }
   ],
   "source": [
    "print(grey)"
   ]
  },
  {
   "cell_type": "code",
   "execution_count": 17,
   "id": "9b359180-7c1d-4b30-8cf6-0beaf1180bd7",
   "metadata": {},
   "outputs": [
    {
     "name": "stdout",
     "output_type": "stream",
     "text": [
      "['orange', 'star fruit']\n"
     ]
    }
   ],
   "source": [
    "(white, *black, red) = wild_fruits\n",
    "print(black)"
   ]
  },
  {
   "cell_type": "code",
   "execution_count": 1,
   "id": "1f572ca6-a1f8-4560-91cc-ce6ed8cd3e6e",
   "metadata": {},
   "outputs": [
    {
     "name": "stdout",
     "output_type": "stream",
     "text": [
      "gokul\n",
      "darun\n",
      "hari\n"
     ]
    }
   ],
   "source": [
    "x =['gokul', 'darun', 'hari']\n",
    "for y in x:\n",
    "    print(y)"
   ]
  },
  {
   "cell_type": "code",
   "execution_count": 3,
   "id": "f1bf37bf-16b4-4d53-a8fa-3b1e3aa73bbe",
   "metadata": {},
   "outputs": [
    {
     "name": "stdout",
     "output_type": "stream",
     "text": [
      "gokul\n",
      "darun\n",
      "hari\n"
     ]
    }
   ],
   "source": [
    "for i in range(len(x)):\n",
    "    print(x[i])"
   ]
  },
  {
   "cell_type": "code",
   "execution_count": 5,
   "id": "3f4612fe-ac46-431d-aca4-17298d9fd5d7",
   "metadata": {},
   "outputs": [
    {
     "name": "stdout",
     "output_type": "stream",
     "text": [
      "apple\n",
      "grape\n",
      "orange\n"
     ]
    }
   ],
   "source": [
    "fruits = ['apple', 'grape', 'orange']\n",
    "i = 0\n",
    "while i < len(fruits):\n",
    "    print(fruits[i])\n",
    "    i = i+1"
   ]
  },
  {
   "cell_type": "code",
   "execution_count": 6,
   "id": "0bb3e391-2fb1-4625-b238-a758b502e277",
   "metadata": {},
   "outputs": [
    {
     "name": "stdout",
     "output_type": "stream",
     "text": [
      "['apple', 'grape', 'orange', 'apple', 'grape', 'orange']\n"
     ]
    }
   ],
   "source": [
    "good_fruits = fruits * 2\n",
    "print(good_fruits)"
   ]
  },
  {
   "cell_type": "code",
   "execution_count": 8,
   "id": "dece20f5-580f-4f92-aaff-791c611c0f10",
   "metadata": {},
   "outputs": [
    {
     "name": "stdout",
     "output_type": "stream",
     "text": [
      "{'orange', 'apple'}\n"
     ]
    }
   ],
   "source": [
    "x = set((\"apple\", \"orange\"))\n",
    "print(x)"
   ]
  },
  {
   "cell_type": "code",
   "execution_count": 9,
   "id": "9b0cfa2d-3660-4cfd-8259-c8a0910b0b25",
   "metadata": {},
   "outputs": [
    {
     "name": "stdout",
     "output_type": "stream",
     "text": [
      "False\n"
     ]
    }
   ],
   "source": [
    "print('banana' in x)"
   ]
  },
  {
   "cell_type": "code",
   "execution_count": 12,
   "id": "091ee8cc-9037-495b-ad55-3766b9cfffad",
   "metadata": {},
   "outputs": [
    {
     "name": "stdout",
     "output_type": "stream",
     "text": [
      "{'pineapple', 'orange', 'apple', 'guava'}\n"
     ]
    }
   ],
   "source": [
    "y = ['guava', 'pineapple']\n",
    "x.update(y)\n",
    "print(x)"
   ]
  },
  {
   "cell_type": "code",
   "execution_count": 13,
   "id": "e65a8007-0c69-4a22-a6cd-9112f1451451",
   "metadata": {},
   "outputs": [
    {
     "name": "stdout",
     "output_type": "stream",
     "text": [
      "{'apple', 'orange', 'guava', 'grapes', 'pineapple'}\n"
     ]
    }
   ],
   "source": [
    "x.add(\"grapes\")\n",
    "print(x)"
   ]
  },
  {
   "cell_type": "code",
   "execution_count": 14,
   "id": "f430b9ab-5af6-4ec1-b138-d9268a6c7a28",
   "metadata": {},
   "outputs": [
    {
     "name": "stdout",
     "output_type": "stream",
     "text": [
      "1\n",
      "{2, 3, 4}\n"
     ]
    }
   ],
   "source": [
    "x = {1,2,3,4}\n",
    "y = x.pop()\n",
    "print(y)\n",
    "print(x)"
   ]
  },
  {
   "cell_type": "code",
   "execution_count": 15,
   "id": "9bf5732b-99ca-489c-8dee-cd99736bf808",
   "metadata": {},
   "outputs": [
    {
     "name": "stdout",
     "output_type": "stream",
     "text": [
      "set()\n"
     ]
    }
   ],
   "source": [
    "x.clear()\n",
    "print(x)"
   ]
  },
  {
   "cell_type": "code",
   "execution_count": 20,
   "id": "986fd942-7a93-4137-b36e-583d5d34862b",
   "metadata": {},
   "outputs": [
    {
     "ename": "NameError",
     "evalue": "name 'thisset' is not defined",
     "output_type": "error",
     "traceback": [
      "\u001b[0;31m---------------------------------------------------------------------------\u001b[0m",
      "\u001b[0;31mNameError\u001b[0m                                 Traceback (most recent call last)",
      "Cell \u001b[0;32mIn[20], line 5\u001b[0m\n\u001b[1;32m      1\u001b[0m thisset \u001b[38;5;241m=\u001b[39m {\u001b[38;5;124m\"\u001b[39m\u001b[38;5;124mapple\u001b[39m\u001b[38;5;124m\"\u001b[39m, \u001b[38;5;124m\"\u001b[39m\u001b[38;5;124mbanana\u001b[39m\u001b[38;5;124m\"\u001b[39m, \u001b[38;5;124m\"\u001b[39m\u001b[38;5;124mcherry\u001b[39m\u001b[38;5;124m\"\u001b[39m}\n\u001b[1;32m      3\u001b[0m \u001b[38;5;28;01mdel\u001b[39;00m thisset\n\u001b[0;32m----> 5\u001b[0m \u001b[38;5;28mprint\u001b[39m(\u001b[43mthisset\u001b[49m)\n",
      "\u001b[0;31mNameError\u001b[0m: name 'thisset' is not defined"
     ]
    }
   ],
   "source": [
    "thisset = {\"apple\", \"banana\", \"cherry\"}\n",
    "\n",
    "del thisset\n",
    "\n",
    "print(thisset)"
   ]
  },
  {
   "cell_type": "code",
   "execution_count": 22,
   "id": "483d46a6-1e8f-45a0-aa27-9668594f4001",
   "metadata": {},
   "outputs": [
    {
     "name": "stdout",
     "output_type": "stream",
     "text": [
      "{1, 2, 3, 4, 5}\n"
     ]
    }
   ],
   "source": [
    "x = {1,2,3}\n",
    "y ={4,5}\n",
    "z = x.union(y)\n",
    "print(z)"
   ]
  },
  {
   "cell_type": "code",
   "execution_count": null,
   "id": "3dd9cbb9-e4b6-4838-86f5-3260cb43c574",
   "metadata": {},
   "outputs": [],
   "source": []
  }
 ],
 "metadata": {
  "kernelspec": {
   "display_name": "Python 3 (ipykernel)",
   "language": "python",
   "name": "python3"
  },
  "language_info": {
   "codemirror_mode": {
    "name": "ipython",
    "version": 3
   },
   "file_extension": ".py",
   "mimetype": "text/x-python",
   "name": "python",
   "nbconvert_exporter": "python",
   "pygments_lexer": "ipython3",
   "version": "3.8.10"
  }
 },
 "nbformat": 4,
 "nbformat_minor": 5
}
