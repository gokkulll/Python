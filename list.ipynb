{
 "cells": [
  {
   "cell_type": "code",
   "execution_count": 1,
   "id": "7e726d5d-1ca1-454e-a1d1-6ea115854f16",
   "metadata": {},
   "outputs": [
    {
     "name": "stdout",
     "output_type": "stream",
     "text": [
      "grape\n"
     ]
    }
   ],
   "source": [
    "list = ['apple', 'watermelon', 'grape']\n",
    "print(list[2])"
   ]
  },
  {
   "cell_type": "code",
   "execution_count": 3,
   "id": "69a041fe-7fc6-4e60-b3b9-a2e82a035534",
   "metadata": {},
   "outputs": [
    {
     "name": "stdout",
     "output_type": "stream",
     "text": [
      "['apple', 'raseberry', 'mango', 'mango', 'grape']\n"
     ]
    }
   ],
   "source": [
    "list[1:2] = ['raseberry', 'mango']\n",
    "print(list)"
   ]
  },
  {
   "cell_type": "code",
   "execution_count": 5,
   "id": "e816a013-b337-4e59-af37-795a7631989e",
   "metadata": {},
   "outputs": [
    {
     "name": "stdout",
     "output_type": "stream",
     "text": [
      "['a', 'y', 'c', 'd']\n"
     ]
    }
   ],
   "source": [
    "x = ['a', 'b', 'c', 'd']\n",
    "x[1:2] = 'y'\n",
    "print(x)"
   ]
  },
  {
   "cell_type": "code",
   "execution_count": 6,
   "id": "e49da1b3-3d57-48c1-ad41-d6a77b2624af",
   "metadata": {},
   "outputs": [
    {
     "name": "stdout",
     "output_type": "stream",
     "text": [
      "['apple', 'grape', 'watermelon', 'guava', 'orange']\n"
     ]
    }
   ],
   "source": [
    "x = ['apple', 'grape', 'guava','orange', 'grape']\n",
    "x.insert(2, 'watermelon')\n",
    "print(x)"
   ]
  },
  {
   "cell_type": "code",
   "execution_count": 13,
   "id": "6a329e5f-8d22-4d52-bc71-7d4072c958c7",
   "metadata": {},
   "outputs": [
    {
     "name": "stdout",
     "output_type": "stream",
     "text": [
      "['a', 'b', 'd', 'c']\n"
     ]
    }
   ],
   "source": [
    "v = [\"a\", \"b\", \"c\", \"d\", \"c\"]\n",
    "v.remove(\"c\")\n",
    "print(v)\n"
   ]
  },
  {
   "cell_type": "code",
   "execution_count": 15,
   "id": "4f0c568e-ceb1-4466-abce-6c0c501438b0",
   "metadata": {},
   "outputs": [
    {
     "name": "stdout",
     "output_type": "stream",
     "text": [
      "['a', 'c']\n"
     ]
    }
   ],
   "source": [
    "v.pop(1)\n",
    "print(v)"
   ]
  },
  {
   "cell_type": "code",
   "execution_count": null,
   "id": "c4f58462-8451-4a8d-9464-69afd12ee5bb",
   "metadata": {},
   "outputs": [],
   "source": []
  },
  {
   "cell_type": "code",
   "execution_count": 16,
   "id": "c3caafc0-004e-4dd3-adb7-688749c86b8f",
   "metadata": {},
   "outputs": [
    {
     "name": "stdout",
     "output_type": "stream",
     "text": [
      "['a', 'b', 'd', 'c']\n"
     ]
    }
   ],
   "source": [
    "s = [\"a\", \"b\", \"c\", \"d\", \"c\"]\n",
    "s.pop(2)\n",
    "print(s)\n"
   ]
  },
  {
   "cell_type": "code",
   "execution_count": 17,
   "id": "2319112a-8d58-45b9-bbc3-6a7269bb872e",
   "metadata": {},
   "outputs": [
    {
     "data": {
      "text/plain": [
       "'c'"
      ]
     },
     "execution_count": 17,
     "metadata": {},
     "output_type": "execute_result"
    }
   ],
   "source": [
    "s.pop()"
   ]
  },
  {
   "cell_type": "code",
   "execution_count": 18,
   "id": "c4a31dbe-3f4e-494e-bfa7-eb9d918be8f6",
   "metadata": {},
   "outputs": [
    {
     "name": "stdout",
     "output_type": "stream",
     "text": [
      "['a', 'b', 'd']\n"
     ]
    }
   ],
   "source": [
    "print(s)"
   ]
  },
  {
   "cell_type": "code",
   "execution_count": 21,
   "id": "6022532e-02f4-4ccc-a56f-2fc9d8678211",
   "metadata": {},
   "outputs": [
    {
     "name": "stdout",
     "output_type": "stream",
     "text": [
      "['pencil', 'eraser', 'pen']\n"
     ]
    }
   ],
   "source": [
    "bag = ['pencil', 'eraser', 'pen', 'cooker']\n",
    "del bag[3]\n",
    "print(bag)"
   ]
  },
  {
   "cell_type": "code",
   "execution_count": 22,
   "id": "2f82ce95-17de-41ea-affe-8e10b0f49481",
   "metadata": {},
   "outputs": [
    {
     "name": "stdout",
     "output_type": "stream",
     "text": [
      "apple\n",
      "grape\n",
      "watermelon\n"
     ]
    }
   ],
   "source": [
    "x = ['apple','grape','watermelon']\n",
    "for y in x:\n",
    "    print(y)"
   ]
  },
  {
   "cell_type": "code",
   "execution_count": 27,
   "id": "ef3eed82-c3d7-4a98-b0ab-e4a72bf6326d",
   "metadata": {},
   "outputs": [
    {
     "name": "stdout",
     "output_type": "stream",
     "text": [
      "0\n",
      "apple\n",
      "1\n",
      "grape\n",
      "2\n",
      "watermelon\n"
     ]
    }
   ],
   "source": [
    "for y in range(len(x)):\n",
    "    print(y)\n",
    "    print(x[y])"
   ]
  },
  {
   "cell_type": "code",
   "execution_count": 28,
   "id": "52d6eb0a-03e2-40ca-9d2c-385f79e2627c",
   "metadata": {},
   "outputs": [
    {
     "name": "stdout",
     "output_type": "stream",
     "text": [
      "apple\n",
      "grape\n",
      "watermelon\n"
     ]
    }
   ],
   "source": [
    "x = ['apple','grape','watermelon']\n",
    "i = 0\n",
    "while i < len(x):\n",
    "    print(x[i])\n",
    "    i = i+1\n",
    "    \n"
   ]
  },
  {
   "cell_type": "code",
   "execution_count": 29,
   "id": "fb0bc8d6-9e9e-4b0f-8101-422c9ffa5ff9",
   "metadata": {},
   "outputs": [
    {
     "name": "stdout",
     "output_type": "stream",
     "text": [
      "apple\n",
      "grape\n",
      "watermelon\n"
     ]
    }
   ],
   "source": [
    "x = ['apple','grape','watermelon']\n",
    "for y in x:\n",
    "    print(y)"
   ]
  },
  {
   "cell_type": "code",
   "execution_count": 35,
   "id": "1e9e839c-7d77-4335-b865-8ad49803833a",
   "metadata": {},
   "outputs": [
    {
     "name": "stdout",
     "output_type": "stream",
     "text": [
      "['apple', 'grape', 'watermelon']\n"
     ]
    }
   ],
   "source": [
    "x = ['apple','grape','watermelon']\n",
    "new = []\n",
    "\n",
    "for y in x:\n",
    "    if \"a\" in y:\n",
    "        new.append(y)\n",
    "\n",
    "print(new)"
   ]
  },
  {
   "cell_type": "code",
   "execution_count": 36,
   "id": "e4ebf493-c2bf-46f8-af37-778a8194cf20",
   "metadata": {},
   "outputs": [
    {
     "name": "stdout",
     "output_type": "stream",
     "text": [
      "['a']\n"
     ]
    }
   ],
   "source": [
    "x = ['a', 'b', 'c', 'd']\n",
    "y = []\n",
    "\n",
    "for i in x:\n",
    "    if \"a\" !i:\n",
    "        y.append(i)\n",
    "\n",
    "print(y)"
   ]
  },
  {
   "cell_type": "code",
   "execution_count": 39,
   "id": "e616f4ce-e32b-4d48-a1f7-9b9ed6aa336b",
   "metadata": {},
   "outputs": [
    {
     "name": "stdout",
     "output_type": "stream",
     "text": [
      "['watermelon', 'grape', 'guava']\n"
     ]
    }
   ],
   "source": [
    "x = ['apple', 'watermelon', 'grape', 'guava']\n",
    "new = [y for y in x if y != 'apple']\n",
    "print(new)"
   ]
  },
  {
   "cell_type": "code",
   "execution_count": 5,
   "id": "1e9cc35f-722e-43c2-8de4-4830c1052660",
   "metadata": {},
   "outputs": [
    {
     "name": "stdout",
     "output_type": "stream",
     "text": [
      "['apple', 'grape', 'guava']\n"
     ]
    }
   ],
   "source": [
    "x = ['apple', 'grape', 'kiwi', 'guava']\n",
    "newlist= []\n",
    "\n",
    "for y in x:\n",
    "    if 'a' in y:\n",
    "        newlist.append(y)\n",
    "\n",
    "print(newlist)"
   ]
  },
  {
   "cell_type": "code",
   "execution_count": 6,
   "id": "52dbfead-9df8-4b37-8198-d2e7a12fea17",
   "metadata": {},
   "outputs": [
    {
     "name": "stdout",
     "output_type": "stream",
     "text": [
      "['apple', 'grape']\n"
     ]
    }
   ],
   "source": [
    "newlist = [y for y in x if \"e\" in y]\n",
    "print(newlist)"
   ]
  },
  {
   "cell_type": "code",
   "execution_count": 8,
   "id": "15a9386d-cd8f-4dd4-b65e-fc481c61947d",
   "metadata": {},
   "outputs": [
    {
     "name": "stdout",
     "output_type": "stream",
     "text": [
      "[12, 23, 56, 89, 100]\n"
     ]
    }
   ],
   "source": [
    "x = [100, 23,56,12,89]\n",
    "x.sort()\n",
    "print(x)"
   ]
  },
  {
   "cell_type": "code",
   "execution_count": 11,
   "id": "bb970259-fc5b-4170-99d2-9a1ff590578d",
   "metadata": {},
   "outputs": [
    {
     "name": "stdout",
     "output_type": "stream",
     "text": [
      "[100, 89, 56, 23, 12]\n"
     ]
    }
   ],
   "source": [
    "x.sort(reverse = True)\n",
    "print(x)"
   ]
  },
  {
   "cell_type": "code",
   "execution_count": 12,
   "id": "0af41fc4-cbc2-4dfe-b181-d3fd7e02c0d6",
   "metadata": {},
   "outputs": [
    {
     "name": "stdout",
     "output_type": "stream",
     "text": [
      "['apple', 'banana', 'kiwi', 'orange']\n"
     ]
    }
   ],
   "source": [
    "x = ['kiwi', 'apple', 'banana', 'orange']\n",
    "x.sort()\n",
    "print(x)"
   ]
  },
  {
   "cell_type": "code",
   "execution_count": 25,
   "id": "df294352-63d6-4880-ba56-6700ebdb5ced",
   "metadata": {},
   "outputs": [
    {
     "name": "stdout",
     "output_type": "stream",
     "text": [
      "[['apple', 'banana', 'kiwi', 'orange'], ['apple', 'banana', 'kiwi', 'orange'], ['apple', 'banana', 'kiwi', 'orange'], ['apple', 'banana', 'kiwi', 'orange']]\n"
     ]
    }
   ],
   "source": [
    "mylist = []\n",
    "for j in x:\n",
    "    mylist.append(x)\n",
    "\n",
    "print(mylist)"
   ]
  },
  {
   "cell_type": "code",
   "execution_count": 23,
   "id": "54acd980-e5f3-43e7-ae8e-52be4eb5a535",
   "metadata": {},
   "outputs": [
    {
     "name": "stdout",
     "output_type": "stream",
     "text": [
      "[['apple', 'banana', 'kiwi', 'orange'], ['apple', 'banana', 'kiwi', 'orange']]\n"
     ]
    }
   ],
   "source": [
    "thislist = mylist.copy()\n",
    "print(thislist)"
   ]
  },
  {
   "cell_type": "code",
   "execution_count": 24,
   "id": "7f0fabd0-aa44-472b-8f57-992927c146fc",
   "metadata": {},
   "outputs": [
    {
     "name": "stdout",
     "output_type": "stream",
     "text": [
      "[['apple', 'banana', 'kiwi', 'orange'], ['apple', 'banana', 'kiwi', 'orange']]\n"
     ]
    }
   ],
   "source": [
    "thislist = list(mylist)\n",
    "print(mylist)"
   ]
  },
  {
   "cell_type": "code",
   "execution_count": 27,
   "id": "006dee49-6e0e-4ff3-8a5a-0072773af99d",
   "metadata": {},
   "outputs": [
    {
     "name": "stdout",
     "output_type": "stream",
     "text": [
      "[['apple', 'kiwi'], ['apple', 'kiwi']]\n"
     ]
    }
   ],
   "source": [
    "x =['apple','kiwi']\n",
    "g = []\n",
    "for y in x:\n",
    "    g.append(x)\n",
    "\n",
    "print(g)"
   ]
  },
  {
   "cell_type": "code",
   "execution_count": 28,
   "id": "da1074d0-9d16-4638-ba0c-592d1ce22aaa",
   "metadata": {},
   "outputs": [
    {
     "name": "stdout",
     "output_type": "stream",
     "text": [
      "[1, 2, 3, 'apple', 'orange']\n"
     ]
    }
   ],
   "source": [
    "list1 = [1,2,3]\n",
    "list2 = ['apple', 'orange']\n",
    "list3 = list1 + list2\n",
    "print(list3)"
   ]
  },
  {
   "cell_type": "code",
   "execution_count": 29,
   "id": "dfb50ac3-17fa-44ed-b93d-21eaca6441d8",
   "metadata": {},
   "outputs": [
    {
     "name": "stdout",
     "output_type": "stream",
     "text": [
      "[1, 2, 3, 'apple', 'orange']\n"
     ]
    }
   ],
   "source": [
    "for x in list2:\n",
    "    list1.append(x)\n",
    "\n",
    "print(list1)"
   ]
  },
  {
   "cell_type": "code",
   "execution_count": 34,
   "id": "d076688f-35be-49ea-b50e-36d177e6a609",
   "metadata": {},
   "outputs": [
    {
     "name": "stdout",
     "output_type": "stream",
     "text": [
      "[1, 2, 3, 'apple', 'orange', 'apple', 'orange', 'apple', 'orange']\n"
     ]
    }
   ],
   "source": [
    "list1.extend(list2)\n",
    "print(list1)"
   ]
  },
  {
   "cell_type": "code",
   "execution_count": 3,
   "id": "0aaeaa74-56a5-480c-93b0-3c1e6b220270",
   "metadata": {},
   "outputs": [
    {
     "name": "stdout",
     "output_type": "stream",
     "text": [
      "[1, 2, 3, 4, 5, 6]\n"
     ]
    }
   ],
   "source": [
    "list1=[1,2,3,4,5,6]\n",
    "print(list1)"
   ]
  },
  {
   "cell_type": "code",
   "execution_count": 4,
   "id": "aaa68cf4-4b48-4329-b2a3-aa263fffeb88",
   "metadata": {},
   "outputs": [
    {
     "data": {
      "text/plain": [
       "123"
      ]
     },
     "execution_count": 4,
     "metadata": {},
     "output_type": "execute_result"
    }
   ],
   "source": [
    "list1[3]=123\n",
    "x = list1[3]\n",
    "x\n"
   ]
  },
  {
   "cell_type": "code",
   "execution_count": 5,
   "id": "8b903eb2-3131-4e8d-a2b9-8179b5bb3fa6",
   "metadata": {},
   "outputs": [
    {
     "data": {
      "text/plain": [
       "123"
      ]
     },
     "execution_count": 5,
     "metadata": {},
     "output_type": "execute_result"
    }
   ],
   "source": [
    "list1[3]"
   ]
  },
  {
   "cell_type": "code",
   "execution_count": 6,
   "id": "b339e673-b78a-48ef-833b-e968c99f515f",
   "metadata": {},
   "outputs": [
    {
     "data": {
      "text/plain": [
       "[1, 2, 3, 123, 5, 6]"
      ]
     },
     "execution_count": 6,
     "metadata": {},
     "output_type": "execute_result"
    }
   ],
   "source": [
    "list1"
   ]
  },
  {
   "cell_type": "code",
   "execution_count": 7,
   "id": "6b2ef54f-26c8-428b-8451-26e95dc8e9c3",
   "metadata": {},
   "outputs": [
    {
     "data": {
      "text/plain": [
       "[3, 123, 5]"
      ]
     },
     "execution_count": 7,
     "metadata": {},
     "output_type": "execute_result"
    }
   ],
   "source": [
    "list1[2:5]"
   ]
  },
  {
   "cell_type": "code",
   "execution_count": 11,
   "id": "ca30890a-f3d6-40a2-91f5-176955e7c7bc",
   "metadata": {},
   "outputs": [
    {
     "data": {
      "text/plain": [
       "[1, 2, 3, 123, 5, 6]"
      ]
     },
     "execution_count": 11,
     "metadata": {},
     "output_type": "execute_result"
    }
   ],
   "source": [
    "list1[-6::1]"
   ]
  },
  {
   "cell_type": "code",
   "execution_count": 12,
   "id": "6d7ca600-68b4-4321-9bfc-74958f76b948",
   "metadata": {},
   "outputs": [
    {
     "data": {
      "text/plain": [
       "[2, 3, 123, 5]"
      ]
     },
     "execution_count": 12,
     "metadata": {},
     "output_type": "execute_result"
    }
   ],
   "source": [
    "gg = list1[1:5:1]\n",
    "gg"
   ]
  },
  {
   "cell_type": "code",
   "execution_count": 13,
   "id": "585d6f61-4ac1-420a-a6d9-7c6800e5fcc6",
   "metadata": {},
   "outputs": [
    {
     "data": {
      "text/plain": [
       "[11, 12, 13, 14, 5, 6]"
      ]
     },
     "execution_count": 13,
     "metadata": {},
     "output_type": "execute_result"
    }
   ],
   "source": [
    "list1[0:4]=[11,12,13,14]\n",
    "list1\n"
   ]
  },
  {
   "cell_type": "code",
   "execution_count": 18,
   "id": "609993ea-c8e9-43c4-91e4-8d71eb3bcdb5",
   "metadata": {},
   "outputs": [
    {
     "data": {
      "text/plain": [
       "[21, 5, 6]"
      ]
     },
     "execution_count": 18,
     "metadata": {},
     "output_type": "execute_result"
    }
   ],
   "source": [
    "list1[0:3]=[21]\n",
    "list1"
   ]
  },
  {
   "cell_type": "code",
   "execution_count": 19,
   "id": "34c2f979-6370-4f4d-85e0-5090e9560f20",
   "metadata": {},
   "outputs": [
    {
     "data": {
      "text/plain": [
       "[21, 5, 6]"
      ]
     },
     "execution_count": 19,
     "metadata": {},
     "output_type": "execute_result"
    }
   ],
   "source": [
    "list1\n"
   ]
  },
  {
   "cell_type": "code",
   "execution_count": 22,
   "id": "041b4ad8-8cc2-416f-8c01-ce3c60e54d43",
   "metadata": {},
   "outputs": [
    {
     "data": {
      "text/plain": [
       "[21, 5, 6, 1, 2, 6, 3]"
      ]
     },
     "execution_count": 22,
     "metadata": {},
     "output_type": "execute_result"
    }
   ],
   "source": [
    "x =list1+[1,2,6,3]\n",
    "x"
   ]
  },
  {
   "cell_type": "code",
   "execution_count": 30,
   "id": "87edf052-892d-482a-a3dd-255c9f140abb",
   "metadata": {},
   "outputs": [
    {
     "data": {
      "text/plain": [
       "[1, 2, 3]"
      ]
     },
     "execution_count": 30,
     "metadata": {},
     "output_type": "execute_result"
    }
   ],
   "source": [
    "list3=[1,2,3]\n",
    "list3"
   ]
  },
  {
   "cell_type": "code",
   "execution_count": 35,
   "id": "cb4a60f0-ae42-4a1f-a29f-25d907f90315",
   "metadata": {},
   "outputs": [
    {
     "data": {
      "text/plain": [
       "[1, 2, 3, 4, 5, 6, 4, 5, 6]"
      ]
     },
     "execution_count": 35,
     "metadata": {},
     "output_type": "execute_result"
    }
   ],
   "source": [
    "list3.extend([4,5,6])\n",
    "list3"
   ]
  },
  {
   "cell_type": "code",
   "execution_count": 36,
   "id": "2d994696-bb85-49e8-b79a-df81f9cdb4ef",
   "metadata": {},
   "outputs": [
    {
     "ename": "AttributeError",
     "evalue": "'NoneType' object has no attribute 'append'",
     "output_type": "error",
     "traceback": [
      "\u001b[0;31m---------------------------------------------------------------------------\u001b[0m",
      "\u001b[0;31mAttributeError\u001b[0m                            Traceback (most recent call last)",
      "Cell \u001b[0;32mIn[36], line 1\u001b[0m\n\u001b[0;32m----> 1\u001b[0m \u001b[43mlist1\u001b[49m\u001b[38;5;241;43m.\u001b[39;49m\u001b[43mappend\u001b[49m([\u001b[38;5;241m0\u001b[39m,\u001b[38;5;241m10\u001b[39m])\n\u001b[1;32m      2\u001b[0m list1\n",
      "\u001b[0;31mAttributeError\u001b[0m: 'NoneType' object has no attribute 'append'"
     ]
    }
   ],
   "source": [
    "list1.append([0,10])\n",
    "list1\n",
    "\n"
   ]
  },
  {
   "cell_type": "code",
   "execution_count": 46,
   "id": "3359c6e8-e1de-496f-94f4-7471daccf28f",
   "metadata": {},
   "outputs": [
    {
     "ename": "TypeError",
     "evalue": "unsupported operand type(s) for +: 'NoneType' and 'list'",
     "output_type": "error",
     "traceback": [
      "\u001b[0;31m---------------------------------------------------------------------------\u001b[0m",
      "\u001b[0;31mTypeError\u001b[0m                                 Traceback (most recent call last)",
      "Cell \u001b[0;32mIn[46], line 1\u001b[0m\n\u001b[0;32m----> 1\u001b[0m list3 \u001b[38;5;241m=\u001b[39m \u001b[43mlist3\u001b[49m\u001b[43m \u001b[49m\u001b[38;5;241;43m+\u001b[39;49m\u001b[43m \u001b[49m\u001b[43m[\u001b[49m\u001b[38;5;241;43m7\u001b[39;49m\u001b[43m,\u001b[49m\u001b[38;5;241;43m8\u001b[39;49m\u001b[43m]\u001b[49m\n\u001b[1;32m      2\u001b[0m list3\n",
      "\u001b[0;31mTypeError\u001b[0m: unsupported operand type(s) for +: 'NoneType' and 'list'"
     ]
    }
   ],
   "source": [
    "list3 = list3 + [7,8]\n",
    "list3"
   ]
  },
  {
   "cell_type": "code",
   "execution_count": 41,
   "id": "eb50eb05-7ccc-4e81-974b-ee95920fd5a9",
   "metadata": {},
   "outputs": [
    {
     "ename": "AttributeError",
     "evalue": "'NoneType' object has no attribute 'append'",
     "output_type": "error",
     "traceback": [
      "\u001b[0;31m---------------------------------------------------------------------------\u001b[0m",
      "\u001b[0;31mAttributeError\u001b[0m                            Traceback (most recent call last)",
      "Cell \u001b[0;32mIn[41], line 1\u001b[0m\n\u001b[0;32m----> 1\u001b[0m \u001b[43mlist3\u001b[49m\u001b[38;5;241;43m.\u001b[39;49m\u001b[43mappend\u001b[49m([\u001b[38;5;241m10\u001b[39m])\n",
      "\u001b[0;31mAttributeError\u001b[0m: 'NoneType' object has no attribute 'append'"
     ]
    }
   ],
   "source": [
    "list3.append([10])\n"
   ]
  },
  {
   "cell_type": "code",
   "execution_count": 45,
   "id": "d6a060c2-81f3-4e09-af22-a4d15c2dc5ad",
   "metadata": {},
   "outputs": [
    {
     "ename": "TypeError",
     "evalue": "unsupported operand type(s) for +: 'NoneType' and 'list'",
     "output_type": "error",
     "traceback": [
      "\u001b[0;31m---------------------------------------------------------------------------\u001b[0m",
      "\u001b[0;31mTypeError\u001b[0m                                 Traceback (most recent call last)",
      "Cell \u001b[0;32mIn[45], line 1\u001b[0m\n\u001b[0;32m----> 1\u001b[0m list3 \u001b[38;5;241m=\u001b[39m \u001b[43mlist3\u001b[49m\u001b[43m \u001b[49m\u001b[38;5;241;43m+\u001b[39;49m\u001b[43m \u001b[49m\u001b[43m[\u001b[49m\u001b[38;5;241;43m10\u001b[39;49m\u001b[43m,\u001b[49m\u001b[38;5;241;43m11\u001b[39;49m\u001b[43m]\u001b[49m\n\u001b[1;32m      2\u001b[0m list3\n",
      "\u001b[0;31mTypeError\u001b[0m: unsupported operand type(s) for +: 'NoneType' and 'list'"
     ]
    }
   ],
   "source": [
    "list3 = list3 + [10,11]\n",
    "list3"
   ]
  },
  {
   "cell_type": "code",
   "execution_count": 51,
   "id": "f32fa086-fb21-4fda-878a-27ffdd9564b9",
   "metadata": {},
   "outputs": [
    {
     "data": {
      "text/plain": [
       "[1, 2, 3, 4]"
      ]
     },
     "execution_count": 51,
     "metadata": {},
     "output_type": "execute_result"
    }
   ],
   "source": [
    "list_l = [1,2,3,4]\n",
    "list_l"
   ]
  },
  {
   "cell_type": "code",
   "execution_count": 60,
   "id": "d08785c1-4ecd-429e-a210-090425de5dfb",
   "metadata": {},
   "outputs": [
    {
     "data": {
      "text/plain": [
       "[1, 2, 3, 4, 5, 6, 7, [8], 8, 8, 8, ['8'], 5, 6, 7]"
      ]
     },
     "execution_count": 60,
     "metadata": {},
     "output_type": "execute_result"
    }
   ],
   "source": [
    "list_l = list_l + [5,6,7]\n",
    "list_l"
   ]
  },
  {
   "cell_type": "code",
   "execution_count": 61,
   "id": "6d73b6cc-08d1-4b2a-bfb3-3153d4f9b9dd",
   "metadata": {},
   "outputs": [
    {
     "data": {
      "text/plain": [
       "[1, 2, 3, 4, 5, 6, 7, [8], 8, 8, 8, ['8'], 5, 6, 7]"
      ]
     },
     "execution_count": 61,
     "metadata": {},
     "output_type": "execute_result"
    }
   ],
   "source": [
    "list_l"
   ]
  },
  {
   "cell_type": "code",
   "execution_count": 62,
   "id": "b3698dad-7c61-42b7-a9db-b3bc1c04fd1c",
   "metadata": {},
   "outputs": [],
   "source": [
    "list_l.clear()"
   ]
  },
  {
   "cell_type": "code",
   "execution_count": 64,
   "id": "f3a9490a-408a-4958-8471-a15db1eda7ae",
   "metadata": {},
   "outputs": [
    {
     "data": {
      "text/plain": [
       "[]"
      ]
     },
     "execution_count": 64,
     "metadata": {},
     "output_type": "execute_result"
    }
   ],
   "source": [
    "list_l"
   ]
  },
  {
   "cell_type": "code",
   "execution_count": 65,
   "id": "3ca49599-b5cf-433a-8f5d-b7c2f026909a",
   "metadata": {},
   "outputs": [
    {
     "data": {
      "text/plain": [
       "[1, 2]"
      ]
     },
     "execution_count": 65,
     "metadata": {},
     "output_type": "execute_result"
    }
   ],
   "source": [
    "list_l = [1,2]\n",
    "list_l"
   ]
  },
  {
   "cell_type": "code",
   "execution_count": 66,
   "id": "3b9a265c-7c3d-40dd-b7b4-9643151bea7d",
   "metadata": {},
   "outputs": [],
   "source": [
    "list_l.extend([8])"
   ]
  },
  {
   "cell_type": "code",
   "execution_count": 67,
   "id": "dbbed3ab-a3a5-4f3e-a2d3-84947f657326",
   "metadata": {},
   "outputs": [
    {
     "data": {
      "text/plain": [
       "[1, 2, 8]"
      ]
     },
     "execution_count": 67,
     "metadata": {},
     "output_type": "execute_result"
    }
   ],
   "source": [
    "list_l"
   ]
  },
  {
   "cell_type": "code",
   "execution_count": 68,
   "id": "b46a49e8-c12a-4f49-8e24-524b5ff6c383",
   "metadata": {},
   "outputs": [
    {
     "data": {
      "text/plain": [
       "[1, 2, 8]"
      ]
     },
     "execution_count": 68,
     "metadata": {},
     "output_type": "execute_result"
    }
   ],
   "source": [
    "list_l"
   ]
  },
  {
   "cell_type": "code",
   "execution_count": 1,
   "id": "d3a81240-51e7-4d71-ac9f-9ec94df566f4",
   "metadata": {},
   "outputs": [
    {
     "name": "stdout",
     "output_type": "stream",
     "text": [
      "1\n",
      "2\n",
      "3\n",
      "4\n"
     ]
    }
   ],
   "source": [
    "list1=[1,2,3,4]\n",
    "for x in list1:\n",
    "    print(x)"
   ]
  },
  {
   "cell_type": "code",
   "execution_count": 2,
   "id": "67699490-75bb-4326-bbc7-956e6775d44a",
   "metadata": {},
   "outputs": [
    {
     "name": "stdout",
     "output_type": "stream",
     "text": [
      "1\n",
      "2\n",
      "3\n",
      "4\n"
     ]
    }
   ],
   "source": [
    "for i in range(0,len(list1)):\n",
    "    print(list1[i])"
   ]
  },
  {
   "cell_type": "code",
   "execution_count": 12,
   "id": "db497192-4f80-4e5a-8f2f-c7029de94435",
   "metadata": {},
   "outputs": [
    {
     "name": "stdout",
     "output_type": "stream",
     "text": [
      "4\n",
      "3\n",
      "2\n",
      "1\n"
     ]
    }
   ],
   "source": [
    "for j in range(3,-1,-1):\n",
    "    \n",
    "    print(list1[j])\n"
   ]
  },
  {
   "cell_type": "code",
   "execution_count": 18,
   "id": "bf06e634-41f8-4458-8000-98788fc2b81b",
   "metadata": {},
   "outputs": [
    {
     "name": "stdout",
     "output_type": "stream",
     "text": [
      "1\n",
      "2\n",
      "3\n",
      "4\n",
      "5\n"
     ]
    }
   ],
   "source": [
    "list1 = [1,2,3,4,5]\n",
    "i=0\n",
    "while i<5:\n",
    "    print(list1[i])\n",
    "    i=i+1"
   ]
  },
  {
   "cell_type": "code",
   "execution_count": 2,
   "id": "a4101198-f23f-4ce1-9774-2eb6b6422593",
   "metadata": {},
   "outputs": [
    {
     "data": {
      "text/plain": [
       "1"
      ]
     },
     "execution_count": 2,
     "metadata": {},
     "output_type": "execute_result"
    }
   ],
   "source": [
    "l1 =[1,2,3,4,5,1,2]\n",
    "l1.index(2)"
   ]
  },
  {
   "cell_type": "code",
   "execution_count": 3,
   "id": "3f67d8a8-172b-4e50-af41-d13fab738544",
   "metadata": {},
   "outputs": [
    {
     "data": {
      "text/plain": [
       "6"
      ]
     },
     "execution_count": 3,
     "metadata": {},
     "output_type": "execute_result"
    }
   ],
   "source": [
    "l1.index(2,2)"
   ]
  },
  {
   "cell_type": "code",
   "execution_count": 4,
   "id": "7e4380fc-556e-4d2a-97a2-ab35f29fa91e",
   "metadata": {},
   "outputs": [
    {
     "data": {
      "text/plain": [
       "0"
      ]
     },
     "execution_count": 4,
     "metadata": {},
     "output_type": "execute_result"
    }
   ],
   "source": [
    "l1.index(1,0,6)\n"
   ]
  },
  {
   "cell_type": "code",
   "execution_count": 5,
   "id": "caa512ac-e054-4598-ae24-10227900e7ea",
   "metadata": {},
   "outputs": [
    {
     "data": {
      "text/plain": [
       "5"
      ]
     },
     "execution_count": 5,
     "metadata": {},
     "output_type": "execute_result"
    }
   ],
   "source": [
    "l1.index(1,3,6)"
   ]
  },
  {
   "cell_type": "code",
   "execution_count": 6,
   "id": "17e69407-bb20-449a-afe6-77a5af9c611d",
   "metadata": {},
   "outputs": [
    {
     "data": {
      "text/plain": [
       "2"
      ]
     },
     "execution_count": 6,
     "metadata": {},
     "output_type": "execute_result"
    }
   ],
   "source": [
    "l1.count(1)"
   ]
  },
  {
   "cell_type": "code",
   "execution_count": 7,
   "id": "50f14797-7fdc-47ee-b8c8-26584792edc5",
   "metadata": {},
   "outputs": [
    {
     "data": {
      "text/plain": [
       "[2, 1, 5, 4, 3, 2, 1]"
      ]
     },
     "execution_count": 7,
     "metadata": {},
     "output_type": "execute_result"
    }
   ],
   "source": [
    "l1.reverse()\n",
    "l1"
   ]
  },
  {
   "cell_type": "code",
   "execution_count": 13,
   "id": "51af85a3-f21a-4ff7-9878-3ad6359e5327",
   "metadata": {},
   "outputs": [
    {
     "data": {
      "text/plain": [
       "[1, 1, 2, 2, 3, 4, 5]"
      ]
     },
     "execution_count": 13,
     "metadata": {},
     "output_type": "execute_result"
    }
   ],
   "source": [
    "l1.sort()\n",
    "l1"
   ]
  },
  {
   "cell_type": "code",
   "execution_count": 15,
   "id": "f9877c1e-b2d7-41d5-9513-61c32480c428",
   "metadata": {},
   "outputs": [
    {
     "data": {
      "text/plain": [
       "[5, 4, 3, 2, 2, 1, 1]"
      ]
     },
     "execution_count": 15,
     "metadata": {},
     "output_type": "execute_result"
    }
   ],
   "source": [
    "l1.sort(reverse=True)\n",
    "l1"
   ]
  },
  {
   "cell_type": "code",
   "execution_count": 16,
   "id": "d743b699-28af-4357-a04c-e0e99b639ff7",
   "metadata": {},
   "outputs": [
    {
     "data": {
      "text/plain": [
       "[1, 1, 2, 2, 3, 4, 5]"
      ]
     },
     "execution_count": 16,
     "metadata": {},
     "output_type": "execute_result"
    }
   ],
   "source": [
    "l1.sort(reverse=False)\n",
    "l1"
   ]
  },
  {
   "cell_type": "code",
   "execution_count": 18,
   "id": "1ae8abcf-ac5b-42b5-8a70-d6e03d7b98f4",
   "metadata": {},
   "outputs": [
    {
     "data": {
      "text/plain": [
       "['A', 'BB', 'Y', 'a', 'c', 'ee']"
      ]
     },
     "execution_count": 18,
     "metadata": {},
     "output_type": "execute_result"
    }
   ],
   "source": [
    "l2 = ['a','A','BB', 'c','Y','ee']\n",
    "l2.sort()\n",
    "l2"
   ]
  },
  {
   "cell_type": "code",
   "execution_count": 19,
   "id": "baa534e7-a0ac-49fc-8c7c-aab8a0812b4f",
   "metadata": {},
   "outputs": [
    {
     "data": {
      "text/plain": [
       "['A', 'a', 'BB', 'c', 'ee', 'Y']"
      ]
     },
     "execution_count": 19,
     "metadata": {},
     "output_type": "execute_result"
    }
   ],
   "source": [
    "l2.sort(key=str.lower)\n",
    "l2"
   ]
  },
  {
   "cell_type": "code",
   "execution_count": 20,
   "id": "07bf6432-60ff-43c5-9684-74d72ce40ca1",
   "metadata": {},
   "outputs": [
    {
     "data": {
      "text/plain": [
       "['Y', 'ee', 'c', 'BB', 'A', 'a']"
      ]
     },
     "execution_count": 20,
     "metadata": {},
     "output_type": "execute_result"
    }
   ],
   "source": [
    "l2.sort(key=str.upper,reverse=True)\n",
    "l2"
   ]
  },
  {
   "cell_type": "code",
   "execution_count": 21,
   "id": "729b9918-2136-4053-9af4-4bc0eeb134eb",
   "metadata": {},
   "outputs": [
    {
     "data": {
      "text/plain": [
       "['A', 'a', 'BB', 'c', 'ee', 'Y']"
      ]
     },
     "execution_count": 21,
     "metadata": {},
     "output_type": "execute_result"
    }
   ],
   "source": [
    "l2.sort(key=str.upper,reverse=False)\n",
    "l2"
   ]
  },
  {
   "cell_type": "code",
   "execution_count": 23,
   "id": "511780f0-41d6-4bbd-970d-19cbf7839c98",
   "metadata": {},
   "outputs": [
    {
     "data": {
      "text/plain": [
       "['A', 'a', 'BB', 'c', 'ee', 'Y']"
      ]
     },
     "execution_count": 23,
     "metadata": {},
     "output_type": "execute_result"
    }
   ],
   "source": [
    "l2.reverse()\n",
    "l2"
   ]
  },
  {
   "cell_type": "code",
   "execution_count": 25,
   "id": "d4ba9612-ba0a-4b57-adba-070ae07dee70",
   "metadata": {},
   "outputs": [
    {
     "data": {
      "text/plain": [
       "['A', 'a', 'BB', 'c', 'ee', 'Y']"
      ]
     },
     "execution_count": 25,
     "metadata": {},
     "output_type": "execute_result"
    }
   ],
   "source": [
    "l2.reverse()\n",
    "l2"
   ]
  },
  {
   "cell_type": "code",
   "execution_count": 26,
   "id": "66b75b50-5afe-4fe9-bf76-2b96247f0437",
   "metadata": {},
   "outputs": [
    {
     "data": {
      "text/plain": [
       "['ee', 'c', 'a', 'Y', 'BB', 'A']"
      ]
     },
     "execution_count": 26,
     "metadata": {},
     "output_type": "execute_result"
    }
   ],
   "source": [
    "l2.sort(reverse=True)\n",
    "l2"
   ]
  },
  {
   "cell_type": "code",
   "execution_count": 38,
   "id": "a4c1c17f-8708-4a47-ac73-5dd9a81bf8a1",
   "metadata": {},
   "outputs": [
    {
     "name": "stdout",
     "output_type": "stream",
     "text": [
      "['A', 'BB', 'Y', 'a', 'c', 'ee']\n",
      "['ee', 'c', 'a', 'Y', 'BB', 'A']\n"
     ]
    }
   ],
   "source": [
    "print(sorted(l2))\n",
    "print(l2)"
   ]
  },
  {
   "cell_type": "code",
   "execution_count": 39,
   "id": "8b46116f-8e44-48b7-a907-91ef9b96f61b",
   "metadata": {},
   "outputs": [],
   "source": [
    "s = []\n",
    "for x in range(0,11):\n",
    "    s.append(x)"
   ]
  },
  {
   "cell_type": "code",
   "execution_count": 40,
   "id": "81b60de9-0c38-49f9-b270-b2b0d95a7b0e",
   "metadata": {},
   "outputs": [
    {
     "data": {
      "text/plain": [
       "[0, 1, 2, 3, 4, 5, 6, 7, 8, 9, 10]"
      ]
     },
     "execution_count": 40,
     "metadata": {},
     "output_type": "execute_result"
    }
   ],
   "source": [
    "s"
   ]
  },
  {
   "cell_type": "code",
   "execution_count": 43,
   "id": "2e55cadd-c22c-4ce0-b482-8639184a36e9",
   "metadata": {},
   "outputs": [],
   "source": [
    "L1 =[x for x in range(10)]"
   ]
  },
  {
   "cell_type": "code",
   "execution_count": 44,
   "id": "93db87de-f0a4-4a1c-898a-368f59a86d55",
   "metadata": {},
   "outputs": [
    {
     "data": {
      "text/plain": [
       "[0, 1, 2, 3, 4, 5, 6, 7, 8, 9]"
      ]
     },
     "execution_count": 44,
     "metadata": {},
     "output_type": "execute_result"
    }
   ],
   "source": [
    "L1"
   ]
  },
  {
   "cell_type": "code",
   "execution_count": 52,
   "id": "df879fab-ffa4-473a-8cca-8390c574e746",
   "metadata": {},
   "outputs": [
    {
     "name": "stdout",
     "output_type": "stream",
     "text": [
      "2\n",
      "4\n",
      "6\n",
      "8\n",
      "10\n"
     ]
    }
   ],
   "source": [
    "d = []\n",
    "for x in range(2,11):\n",
    "    if x%2==0:\n",
    "        print(x)"
   ]
  },
  {
   "cell_type": "code",
   "execution_count": 56,
   "id": "5988838d-6fd7-4714-9ffa-7d241de32968",
   "metadata": {},
   "outputs": [
    {
     "data": {
      "text/plain": [
       "[2, 4, 6, 8, 10]"
      ]
     },
     "execution_count": 56,
     "metadata": {},
     "output_type": "execute_result"
    }
   ],
   "source": [
    "d = [x for x in range(2,11) if x%2==0]\n",
    "d"
   ]
  },
  {
   "cell_type": "code",
   "execution_count": 57,
   "id": "800c5e93-621a-4388-acca-477e4b801eda",
   "metadata": {},
   "outputs": [
    {
     "data": {
      "text/plain": [
       "[4, 9, 16, 25]"
      ]
     },
     "execution_count": 57,
     "metadata": {},
     "output_type": "execute_result"
    }
   ],
   "source": [
    "f = [x ** 2 for x in range(2,6)]\n",
    "f"
   ]
  },
  {
   "cell_type": "code",
   "execution_count": 76,
   "id": "fa095697-7510-4ce4-bc41-6901e8cd63f7",
   "metadata": {},
   "outputs": [
    {
     "name": "stdout",
     "output_type": "stream",
     "text": [
      "[2, 10, 4, 6]\n"
     ]
    }
   ],
   "source": [
    "g=[]\n",
    "for x in (2,10,9,4,6,7):\n",
    "    if x%2==0:\n",
    "        g.append(x)\n",
    "\n",
    "\n",
    "print(g)"
   ]
  },
  {
   "cell_type": "code",
   "execution_count": 72,
   "id": "c3e0ddae-9cf4-4bc8-b93d-239636d96cd6",
   "metadata": {},
   "outputs": [
    {
     "data": {
      "text/plain": [
       "[4, 49, 100, 81, 64]"
      ]
     },
     "execution_count": 72,
     "metadata": {},
     "output_type": "execute_result"
    }
   ],
   "source": [
    "g = [x ** 2 for x in (2,7,10,9,8)]\n",
    "g"
   ]
  },
  {
   "cell_type": "code",
   "execution_count": 80,
   "id": "cea16d47-b516-43e2-ac3a-169c7371b0ad",
   "metadata": {},
   "outputs": [
    {
     "data": {
      "text/plain": [
       "['a', 'i', 'u', 'd', 's', 'b', 's']"
      ]
     },
     "execution_count": 80,
     "metadata": {},
     "output_type": "execute_result"
    }
   ],
   "source": [
    "l3 = [x for x in 'a13iudsbs' if x.isalpha()]\n",
    "l3"
   ]
  },
  {
   "cell_type": "code",
   "execution_count": 81,
   "id": "746846a0-656f-4358-83f4-6c4cd45e6d13",
   "metadata": {},
   "outputs": [
    {
     "name": "stdin",
     "output_type": "stream",
     "text": [
      "Enter the names gokul ram charn\n"
     ]
    },
    {
     "data": {
      "text/plain": [
       "'gokul ram charn'"
      ]
     },
     "execution_count": 81,
     "metadata": {},
     "output_type": "execute_result"
    }
   ],
   "source": [
    "data = input(\"Enter the names\")\n",
    "data"
   ]
  },
  {
   "cell_type": "code",
   "execution_count": 82,
   "id": "c8ee7334-9363-47c8-a076-4bb7db50d59d",
   "metadata": {},
   "outputs": [
    {
     "data": {
      "text/plain": [
       "['gokul', 'ram', 'charn']"
      ]
     },
     "execution_count": 82,
     "metadata": {},
     "output_type": "execute_result"
    }
   ],
   "source": [
    "l4 = data.split()\n",
    "l4"
   ]
  },
  {
   "cell_type": "code",
   "execution_count": 93,
   "id": "d9abb066-4645-49d4-91e1-522d7dffb48c",
   "metadata": {},
   "outputs": [
    {
     "name": "stdin",
     "output_type": "stream",
     "text": [
      "Enter the names: hcj ckjk cxkj\n"
     ]
    },
    {
     "data": {
      "text/plain": [
       "['hcj', 'ckjk', 'cxkj']"
      ]
     },
     "execution_count": 93,
     "metadata": {},
     "output_type": "execute_result"
    }
   ],
   "source": [
    "l6 = input('Enter the names:').split()\n",
    "l6"
   ]
  },
  {
   "cell_type": "code",
   "execution_count": 99,
   "id": "c47dbbdd-4ea6-4e3f-bb58-780dc86bd9af",
   "metadata": {},
   "outputs": [
    {
     "name": "stdin",
     "output_type": "stream",
     "text": [
      "Enter the names ram ravi gopal\n"
     ]
    },
    {
     "data": {
      "text/plain": [
       "['ram', 'ravi', 'gopal']"
      ]
     },
     "execution_count": 99,
     "metadata": {},
     "output_type": "execute_result"
    }
   ],
   "source": [
    "q = input(\"Enter the names\")\n",
    "l5 = q.split()\n",
    "l5"
   ]
  },
  {
   "cell_type": "code",
   "execution_count": 101,
   "id": "8ad567c2-8ae0-4968-88d7-2dff11b41711",
   "metadata": {},
   "outputs": [
    {
     "name": "stdin",
     "output_type": "stream",
     "text": [
      "Enter the names gopal ravi ram\n"
     ]
    },
    {
     "data": {
      "text/plain": [
       "['gopal', 'ravi', 'ram']"
      ]
     },
     "execution_count": 101,
     "metadata": {},
     "output_type": "execute_result"
    }
   ],
   "source": [
    "l6 = input(\"Enter the names\").split()\n",
    "l6"
   ]
  },
  {
   "cell_type": "code",
   "execution_count": 105,
   "id": "dea5d373-d757-4086-a113-ebc13d7e35d3",
   "metadata": {},
   "outputs": [
    {
     "name": "stdout",
     "output_type": "stream",
     "text": [
      "[[8, 8, 8]]\n"
     ]
    }
   ],
   "source": [
    "A =[[0,1,2],[3,4,5],[6,7,8]]\n",
    "B =[[8,7,6],[5,4,3],[2,1,0]]\n",
    "\n",
    "C = []\n",
    "\n",
    "for i in range(len(A)):\n",
    "    S=[]\n",
    "    for j in range(len(A[0])):\n",
    "        S.append(A[i][j] + B[i][j])\n",
    "\n",
    "C.append((S))\n",
    "\n",
    "print(C)\n",
    "        "
   ]
  },
  {
   "cell_type": "code",
   "execution_count": null,
   "id": "1aed5698-4ebf-45fb-bc94-305d22c5095b",
   "metadata": {},
   "outputs": [],
   "source": []
  }
 ],
 "metadata": {
  "kernelspec": {
   "display_name": "Python 3 (ipykernel)",
   "language": "python",
   "name": "python3"
  },
  "language_info": {
   "codemirror_mode": {
    "name": "ipython",
    "version": 3
   },
   "file_extension": ".py",
   "mimetype": "text/x-python",
   "name": "python",
   "nbconvert_exporter": "python",
   "pygments_lexer": "ipython3",
   "version": "3.8.10"
  }
 },
 "nbformat": 4,
 "nbformat_minor": 5
}
