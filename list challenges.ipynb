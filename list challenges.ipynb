{
 "cells": [
  {
   "cell_type": "code",
   "execution_count": 16,
   "id": "5a0bf3d1-a4cb-4ea8-9404-bf276a36ab22",
   "metadata": {},
   "outputs": [
    {
     "name": "stdin",
     "output_type": "stream",
     "text": [
      "Enter the working hours in a week 7 7 7 7 7\n"
     ]
    },
    {
     "name": "stdout",
     "output_type": "stream",
     "text": [
      "[7, 7, 7, 7, 7]\n",
      "35\n"
     ]
    },
    {
     "name": "stdin",
     "output_type": "stream",
     "text": [
      "Enter the wages per hour 100\n"
     ]
    },
    {
     "name": "stdout",
     "output_type": "stream",
     "text": [
      "3500\n"
     ]
    }
   ],
   "source": [
    "''' wages for the no of days of working'''\n",
    "\n",
    "working_days = [int(x) for x in (input(\"Enter the working hours in a week\")).split()]\n",
    "print(working_days)\n",
    "z = sum(working_days)\n",
    "print(z)\n",
    "wages = int(input(\"Enter the wages per hour\"))\n",
    "salary = wages * z\n",
    "print(salary)"
   ]
  },
  {
   "cell_type": "code",
   "execution_count": 26,
   "id": "067113fb-dcc9-44c0-ab8c-a23c161eff2a",
   "metadata": {},
   "outputs": [
    {
     "name": "stdin",
     "output_type": "stream",
     "text": [
      "Enter the elements 5 6 7 6\n"
     ]
    },
    {
     "name": "stdout",
     "output_type": "stream",
     "text": [
      "[5, 6, 7, 6]\n",
      "[5, 6, 7]\n"
     ]
    }
   ],
   "source": [
    "''' removeing duplicates from the list'''\n",
    "\n",
    "L1 = [int(x) for x in (input(\"Enter the elements\")).split()]\n",
    "print(L1)\n",
    "\n",
    "L2 = []\n",
    "\n",
    "for x in L1:\n",
    "    if x not in L2:\n",
    "        L2.append(x)\n",
    "    \n",
    "print(L2)"
   ]
  },
  {
   "cell_type": "code",
   "execution_count": 25,
   "id": "affe770a-eb61-41d7-8a7d-e7fc0018b6d9",
   "metadata": {},
   "outputs": [
    {
     "name": "stdout",
     "output_type": "stream",
     "text": [
      "1234"
     ]
    }
   ],
   "source": [
    "L1 = [1,2,3,4]\n",
    "\n",
    "for x in L1:\n",
    "    print(x, end ='')"
   ]
  },
  {
   "cell_type": "code",
   "execution_count": 5,
   "id": "af5db550-f89f-4810-8a01-3021c6085fea",
   "metadata": {},
   "outputs": [
    {
     "name": "stdout",
     "output_type": "stream",
     "text": [
      "rice 3\n"
     ]
    }
   ],
   "source": [
    "''' minimum index in sum of the two list'''\n",
    "\n",
    "L1 = ['pizza','hotdog','rice','pasta','noodles']\n",
    "\n",
    "L2 = ['noodles','rice','pasta','hotdog','pizza']\n",
    "\n",
    "index1 = 10\n",
    "index2 = 10\n",
    "\n",
    "for x in range(len(L1)):\n",
    "    indx = L2.index(L1[x])\n",
    "    \n",
    "    if x + indx < index1 + index2:\n",
    "        index1 = x\n",
    "        index2 = indx\n",
    "\n",
    "print(L1[index1],index1+index2)\n",
    "    "
   ]
  },
  {
   "cell_type": "code",
   "execution_count": 10,
   "id": "9425708d-9255-4a7e-96e6-28beccbe524f",
   "metadata": {},
   "outputs": [
    {
     "name": "stdout",
     "output_type": "stream",
     "text": [
      "cow 5\n"
     ]
    }
   ],
   "source": [
    "''' minimum index of tow lists'''\n",
    "\n",
    "L1 = ['dog', 'cat','cow','goat']\n",
    "\n",
    "L2 = ['goat', 'dog','cat','cow']\n",
    "\n",
    "index1 = 2\n",
    "\n",
    "index2 = 2\n",
    "\n",
    "for x in range(4):\n",
    "    indx = L2.index(L1[x])\n",
    "    \n",
    "    if x + indx > index1 + index2:\n",
    "        index1 = x\n",
    "        index2 = indx\n",
    "\n",
    "print(L1[index1], index1+index2)\n",
    "    "
   ]
  },
  {
   "cell_type": "code",
   "execution_count": 22,
   "id": "ced8cf32-d215-4785-992c-33113fe4b5c0",
   "metadata": {},
   "outputs": [
    {
     "name": "stdout",
     "output_type": "stream",
     "text": [
      "[2, 4, 8]\n"
     ]
    }
   ],
   "source": [
    "''' overlapping elements in two list'''\n",
    "\n",
    "L1 = [2,4,6,8]\n",
    "L2 = [2,5,4,8]\n",
    "L3 = []\n",
    "for x in L1:\n",
    "    if x in L2:\n",
    "       L3.append(x)\n",
    "\n",
    "print(L3)"
   ]
  },
  {
   "cell_type": "code",
   "execution_count": 3,
   "id": "ef5f6277-17b2-4d13-bf68-cea2220c8397",
   "metadata": {},
   "outputs": [
    {
     "name": "stdout",
     "output_type": "stream",
     "text": [
      "['A', 3, 'B', 2, 'C', 2]\n"
     ]
    }
   ],
   "source": [
    "''' finding the number of occurances of each item'''\n",
    "\n",
    "L1 = ['A','B','A', 'C','B','A','C']\n",
    "\n",
    "result =[]\n",
    "\n",
    "for x in L1:\n",
    "    if x not in result:\n",
    "        result.append(x)\n",
    "        cout = L1.count(x)\n",
    "        result.append(cout)\n",
    "\n",
    "print(result)\n",
    "        "
   ]
  },
  {
   "cell_type": "code",
   "execution_count": 6,
   "id": "bce13871-7fd6-45e4-a599-3aa0e42e8a28",
   "metadata": {},
   "outputs": [
    {
     "name": "stdin",
     "output_type": "stream",
     "text": [
      "Enter the word deface\n"
     ]
    },
    {
     "name": "stdout",
     "output_type": "stream",
     "text": [
      " _.. . .._. ._ _._. . \n"
     ]
    }
   ],
   "source": [
    "''' telegram morse code msg sending '''\n",
    "Morse = ['._' , '_…' , '_._.' , '_..' , '.' , '.._.' , '__.' , '….' , '..' , '.___']\n",
    "\n",
    "text = input(\"Enter the word\")\n",
    "\n",
    "req_code = ' '\n",
    "\n",
    "for x in text:\n",
    "    req_code += Morse[ord(x)-97] + ' '\n",
    "\n",
    "print(req_code)\n",
    "    "
   ]
  },
  {
   "cell_type": "code",
   "execution_count": 10,
   "id": "6713cf74-eeac-497d-8a6b-1357ce596ba6",
   "metadata": {},
   "outputs": [
    {
     "name": "stdout",
     "output_type": "stream",
     "text": [
      "[[6, 8, 10, 12], [6, 8, 10, 12], [6, 8, 10, 12]]\n"
     ]
    }
   ],
   "source": [
    "''' adding two matrices '''\n",
    "L1 = [[1,2,3,4],[1,2,3,4],[1,2,3,4]]\n",
    "\n",
    "L2 = [[5,6,7,8],[5,6,7,8],[5,6,7,8]]\n",
    "\n",
    "L3 = []\n",
    "\n",
    "for i in range(3):\n",
    "    s = []\n",
    "    for j in range(4):\n",
    "        r = L1[i][j] + L2[i][j]\n",
    "        s.append(r)\n",
    "\n",
    "    L3.append(s)\n",
    "\n",
    "print(L3)"
   ]
  },
  {
   "cell_type": "code",
   "execution_count": 13,
   "id": "e3ec2eeb-5a86-4196-8559-f10f2b201154",
   "metadata": {},
   "outputs": [
    {
     "name": "stdout",
     "output_type": "stream",
     "text": [
      "[[1, 1, 1], [2, 2, 2], [3, 3, 3], [4, 4, 4]]\n"
     ]
    }
   ],
   "source": [
    "''' transpose of matrix '''\n",
    "\n",
    "L1 = [[1,2,3,4],[1,2,3,4],[1,2,3,4]]\n",
    "\n",
    "L2 = []\n",
    "\n",
    "for x in range(4):\n",
    "    s = []\n",
    "    for y in range(3):\n",
    "        s.append(L1[y][x])\n",
    "\n",
    "    L2.append(s)\n",
    "\n",
    "print(L2)\n"
   ]
  },
  {
   "cell_type": "code",
   "execution_count": 21,
   "id": "109583b3-6bc9-444c-9a07-038d5539c073",
   "metadata": {},
   "outputs": [
    {
     "name": "stdin",
     "output_type": "stream",
     "text": [
      "Enter the letter s\n"
     ]
    },
    {
     "name": "stdout",
     "output_type": "stream",
     "text": [
      "saranya\n",
      "sree\n"
     ]
    }
   ],
   "source": [
    "''' check whther the given list starts with a given letter'''\n",
    "\n",
    "list = ['gokul','dharun', 'nafil','saranya','sree']\n",
    "\n",
    "letter = input(\"Enter the letter\")\n",
    "\n",
    "for x in list:\n",
    "    if x.startswith(letter):\n",
    "        print(x)"
   ]
  },
  {
   "cell_type": "code",
   "execution_count": null,
   "id": "de9126a5-562c-4e16-aaf8-f6ffdfadcb81",
   "metadata": {},
   "outputs": [],
   "source": []
  }
 ],
 "metadata": {
  "kernelspec": {
   "display_name": "Python 3 (ipykernel)",
   "language": "python",
   "name": "python3"
  },
  "language_info": {
   "codemirror_mode": {
    "name": "ipython",
    "version": 3
   },
   "file_extension": ".py",
   "mimetype": "text/x-python",
   "name": "python",
   "nbconvert_exporter": "python",
   "pygments_lexer": "ipython3",
   "version": "3.8.10"
  }
 },
 "nbformat": 4,
 "nbformat_minor": 5
}
