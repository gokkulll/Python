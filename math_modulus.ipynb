{
 "cells": [
  {
   "cell_type": "code",
   "execution_count": 2,
   "id": "da14b114-a7cf-4a34-a8ac-065955ae6256",
   "metadata": {},
   "outputs": [
    {
     "data": {
      "text/plain": [
       "Fraction(1, 2)"
      ]
     },
     "execution_count": 2,
     "metadata": {},
     "output_type": "execute_result"
    }
   ],
   "source": [
    "import fractions\n",
    "\n",
    "f1=fractions.Fraction(1,2)\n",
    "f1"
   ]
  },
  {
   "cell_type": "code",
   "execution_count": 4,
   "id": "60e7f374-7c56-40bc-9dfd-f7058071686f",
   "metadata": {},
   "outputs": [
    {
     "data": {
      "text/plain": [
       "Fraction(1, 2)"
      ]
     },
     "execution_count": 4,
     "metadata": {},
     "output_type": "execute_result"
    }
   ],
   "source": [
    "f2=fractions.Fraction(0.5)\n",
    "f2"
   ]
  },
  {
   "cell_type": "code",
   "execution_count": 6,
   "id": "acc46c54-0e92-494b-80a9-6f188404c130",
   "metadata": {},
   "outputs": [
    {
     "data": {
      "text/plain": [
       "Fraction(12, 1)"
      ]
     },
     "execution_count": 6,
     "metadata": {},
     "output_type": "execute_result"
    }
   ],
   "source": [
    "f3=fractions.Fraction('12')\n",
    "f3"
   ]
  },
  {
   "cell_type": "code",
   "execution_count": 9,
   "id": "02b7699e-dbc4-4b2a-ab47-86fadf780dff",
   "metadata": {},
   "outputs": [
    {
     "data": {
      "text/plain": [
       "Fraction(1, 2)"
      ]
     },
     "execution_count": 9,
     "metadata": {},
     "output_type": "execute_result"
    }
   ],
   "source": [
    "f2=f2.limit_denominator(10)\n",
    "f2"
   ]
  },
  {
   "cell_type": "code",
   "execution_count": 11,
   "id": "e8a934bb-f92d-4f4c-8e7e-774bd9f2b516",
   "metadata": {},
   "outputs": [
    {
     "name": "stdout",
     "output_type": "stream",
     "text": [
      "1\n"
     ]
    }
   ],
   "source": [
    "print('{}'.format(f1+f2))"
   ]
  },
  {
   "cell_type": "code",
   "execution_count": 13,
   "id": "5508cf9a-7d1a-4ece-8275-a3811e842868",
   "metadata": {},
   "outputs": [
    {
     "name": "stdout",
     "output_type": "stream",
     "text": [
      "0.6666666666666667\n"
     ]
    }
   ],
   "source": [
    "a =1/9\n",
    "b =5/9\n",
    "f1=1/2\n",
    "f2=2/2\n",
    "c = a+b\n",
    "print('{}'.format(c))"
   ]
  },
  {
   "cell_type": "code",
   "execution_count": 11,
   "id": "673f5615-f25d-4299-a47e-7258b5a600a9",
   "metadata": {},
   "outputs": [
    {
     "data": {
      "text/plain": [
       "2"
      ]
     },
     "execution_count": 11,
     "metadata": {},
     "output_type": "execute_result"
    }
   ],
   "source": [
    "import fractions\n",
    "\n",
    "f1=fractions.Fraction(1,2)\n",
    "f1.denominator"
   ]
  },
  {
   "cell_type": "code",
   "execution_count": 20,
   "id": "9889fec9-eb21-41df-b1ee-01a009173d21",
   "metadata": {},
   "outputs": [
    {
     "name": "stdout",
     "output_type": "stream",
     "text": [
      "86.87820229858093\n",
      "10\n",
      "41\n"
     ]
    }
   ],
   "source": [
    "import random\n",
    "\n",
    "random.random()\n",
    "print(random.uniform(1,100))\n",
    "\n",
    "print(random.randint(1,10))\n",
    "print(random.randrange(1,100,2))"
   ]
  },
  {
   "cell_type": "code",
   "execution_count": 25,
   "id": "e7e50bfc-7f80-4961-a708-fe8d271546e5",
   "metadata": {},
   "outputs": [
    {
     "name": "stdout",
     "output_type": "stream",
     "text": [
      "0.6229016948897019\n",
      "0.7417869892607294\n",
      "0.7951935655656966\n",
      "0.9424502837770503\n",
      "0.7398985747399307\n"
     ]
    }
   ],
   "source": [
    "random.seed(5)\n",
    "print(random.random())\n",
    "print(random.random())\n",
    "print(random.random())\n",
    "print(random.random())\n",
    "print(random.random())"
   ]
  },
  {
   "cell_type": "code",
   "execution_count": 24,
   "id": "8e968350-81ca-4615-ae5f-3e9b635a28f4",
   "metadata": {},
   "outputs": [
    {
     "name": "stdout",
     "output_type": "stream",
     "text": [
      "0.6229016948897019\n",
      "0.7417869892607294\n",
      "0.7951935655656966\n",
      "0.9424502837770503\n",
      "0.7398985747399307\n"
     ]
    }
   ],
   "source": [
    "random.seed(5)\n",
    "print(random.random())\n",
    "print(random.random())\n",
    "print(random.random())\n",
    "print(random.random())\n",
    "print(random.random())"
   ]
  },
  {
   "cell_type": "code",
   "execution_count": 26,
   "id": "bd252d96-d069-43f5-993b-45b764cd632e",
   "metadata": {},
   "outputs": [
    {
     "data": {
      "text/plain": [
       "1"
      ]
     },
     "execution_count": 26,
     "metadata": {},
     "output_type": "execute_result"
    }
   ],
   "source": [
    "L=[1,2,3,4,5,6,7,8]\n",
    "random.choice(L)"
   ]
  },
  {
   "cell_type": "code",
   "execution_count": 28,
   "id": "36c73e3b-c07d-48b5-9082-e5a09ba570d6",
   "metadata": {},
   "outputs": [
    {
     "data": {
      "text/plain": [
       "4"
      ]
     },
     "execution_count": 28,
     "metadata": {},
     "output_type": "execute_result"
    }
   ],
   "source": [
    "random.choice(L)"
   ]
  },
  {
   "cell_type": "code",
   "execution_count": 29,
   "id": "5ed59e02-fd60-4f40-9afa-f6bc23a6c678",
   "metadata": {},
   "outputs": [
    {
     "data": {
      "text/plain": [
       "[6, 8]"
      ]
     },
     "execution_count": 29,
     "metadata": {},
     "output_type": "execute_result"
    }
   ],
   "source": [
    "random.choices(L,k=2)"
   ]
  },
  {
   "cell_type": "code",
   "execution_count": 31,
   "id": "a95189bc-4220-4d0a-9981-9acff92f11b7",
   "metadata": {},
   "outputs": [
    {
     "data": {
      "text/plain": [
       "[2]"
      ]
     },
     "execution_count": 31,
     "metadata": {},
     "output_type": "execute_result"
    }
   ],
   "source": [
    "random.sample(L,k=1)"
   ]
  },
  {
   "cell_type": "code",
   "execution_count": 33,
   "id": "2dddad22-d664-477b-acc1-d350c50865c7",
   "metadata": {},
   "outputs": [
    {
     "data": {
      "text/plain": [
       "[8, 5, 3, 1, 7, 2, 4, 6]"
      ]
     },
     "execution_count": 33,
     "metadata": {},
     "output_type": "execute_result"
    }
   ],
   "source": [
    "random.shuffle(L)\n",
    "L"
   ]
  },
  {
   "cell_type": "code",
   "execution_count": 35,
   "id": "145aa492-089c-45b9-b836-e2d74158a37b",
   "metadata": {},
   "outputs": [
    {
     "data": {
      "text/plain": [
       "13"
      ]
     },
     "execution_count": 35,
     "metadata": {},
     "output_type": "execute_result"
    }
   ],
   "source": [
    "import math\n",
    "\n",
    "math.ceil(12.9)"
   ]
  },
  {
   "cell_type": "code",
   "execution_count": 36,
   "id": "3efe79be-812f-4cd7-a2ae-c1d34b55bb3c",
   "metadata": {},
   "outputs": [
    {
     "data": {
      "text/plain": [
       "13"
      ]
     },
     "execution_count": 36,
     "metadata": {},
     "output_type": "execute_result"
    }
   ],
   "source": [
    "math.ceil(12.8)"
   ]
  },
  {
   "cell_type": "code",
   "execution_count": 37,
   "id": "990dc81c-0cc7-4ced-88dc-12475f64a7d9",
   "metadata": {},
   "outputs": [
    {
     "data": {
      "text/plain": [
       "13"
      ]
     },
     "execution_count": 37,
     "metadata": {},
     "output_type": "execute_result"
    }
   ],
   "source": [
    "math.ceil(12.5)"
   ]
  },
  {
   "cell_type": "code",
   "execution_count": 38,
   "id": "eb9e1ad1-c737-4e63-876e-65a15733cb7a",
   "metadata": {},
   "outputs": [
    {
     "data": {
      "text/plain": [
       "12"
      ]
     },
     "execution_count": 38,
     "metadata": {},
     "output_type": "execute_result"
    }
   ],
   "source": [
    "math.floor(12.9)"
   ]
  },
  {
   "cell_type": "code",
   "execution_count": 39,
   "id": "45ec2225-6842-4887-9962-6b24a83dd22d",
   "metadata": {},
   "outputs": [
    {
     "data": {
      "text/plain": [
       "1.0"
      ]
     },
     "execution_count": 39,
     "metadata": {},
     "output_type": "execute_result"
    }
   ],
   "source": [
    "math.fabs(-1)"
   ]
  },
  {
   "cell_type": "code",
   "execution_count": 41,
   "id": "9df28a1f-65d6-444d-9aed-c5fad2b840e1",
   "metadata": {},
   "outputs": [
    {
     "data": {
      "text/plain": [
       "2.0"
      ]
     },
     "execution_count": 41,
     "metadata": {},
     "output_type": "execute_result"
    }
   ],
   "source": [
    "math.fmod(12,5)"
   ]
  },
  {
   "cell_type": "code",
   "execution_count": 42,
   "id": "0288559d-7fcc-4575-b7d4-a02148c47b7c",
   "metadata": {},
   "outputs": [
    {
     "data": {
      "text/plain": [
       "2.0"
      ]
     },
     "execution_count": 42,
     "metadata": {},
     "output_type": "execute_result"
    }
   ],
   "source": [
    "math.remainder(12,5)"
   ]
  },
  {
   "cell_type": "code",
   "execution_count": 43,
   "id": "3b061b26-dc22-476d-8d7e-f61ebb228be6",
   "metadata": {},
   "outputs": [
    {
     "data": {
      "text/plain": [
       "5.0"
      ]
     },
     "execution_count": 43,
     "metadata": {},
     "output_type": "execute_result"
    }
   ],
   "source": [
    "math.sqrt(25)"
   ]
  },
  {
   "cell_type": "code",
   "execution_count": 44,
   "id": "c69d2fb4-9f54-4afb-913d-0569d71e37e6",
   "metadata": {},
   "outputs": [
    {
     "data": {
      "text/plain": [
       "5"
      ]
     },
     "execution_count": 44,
     "metadata": {},
     "output_type": "execute_result"
    }
   ],
   "source": [
    "math.isqrt(25)"
   ]
  },
  {
   "cell_type": "code",
   "execution_count": 45,
   "id": "b32fdcfd-2a65-4384-b06d-cfa6bd804914",
   "metadata": {},
   "outputs": [
    {
     "data": {
      "text/plain": [
       "1024.0"
      ]
     },
     "execution_count": 45,
     "metadata": {},
     "output_type": "execute_result"
    }
   ],
   "source": [
    "math.pow(2,10)"
   ]
  },
  {
   "cell_type": "code",
   "execution_count": 46,
   "id": "ecfe7af6-67af-4c3c-ab79-0ca7bdfb9281",
   "metadata": {},
   "outputs": [
    {
     "data": {
      "text/plain": [
       "120"
      ]
     },
     "execution_count": 46,
     "metadata": {},
     "output_type": "execute_result"
    }
   ],
   "source": [
    "math.factorial(5)"
   ]
  },
  {
   "cell_type": "code",
   "execution_count": 49,
   "id": "7acb4e83-6d57-4668-8ddf-ea758689543b",
   "metadata": {},
   "outputs": [
    {
     "data": {
      "text/plain": [
       "120"
      ]
     },
     "execution_count": 49,
     "metadata": {},
     "output_type": "execute_result"
    }
   ],
   "source": [
    "math.prod([1,2,3,4,5])\n"
   ]
  },
  {
   "cell_type": "code",
   "execution_count": 50,
   "id": "2b69aa07-9583-4a0d-ae0c-970cb68b2d04",
   "metadata": {},
   "outputs": [
    {
     "data": {
      "text/plain": [
       "15.0"
      ]
     },
     "execution_count": 50,
     "metadata": {},
     "output_type": "execute_result"
    }
   ],
   "source": [
    "math.fsum([1,2,3,4,5])"
   ]
  },
  {
   "cell_type": "code",
   "execution_count": 53,
   "id": "fe76c18f-8fbf-4799-8c23-1ad142ba821a",
   "metadata": {},
   "outputs": [
    {
     "data": {
      "text/plain": [
       "10.0"
      ]
     },
     "execution_count": 53,
     "metadata": {},
     "output_type": "execute_result"
    }
   ],
   "source": [
    "math.log2(1024)"
   ]
  },
  {
   "cell_type": "code",
   "execution_count": 54,
   "id": "a4f7888d-aaa2-42bb-a380-5cf7f50ebd6d",
   "metadata": {},
   "outputs": [
    {
     "data": {
      "text/plain": [
       "2.718281828459045"
      ]
     },
     "execution_count": 54,
     "metadata": {},
     "output_type": "execute_result"
    }
   ],
   "source": [
    "math.e"
   ]
  },
  {
   "cell_type": "code",
   "execution_count": 56,
   "id": "630ecaf7-0c11-40ce-a126-06042f9ed658",
   "metadata": {},
   "outputs": [
    {
     "data": {
      "text/plain": [
       "3"
      ]
     },
     "execution_count": 56,
     "metadata": {},
     "output_type": "execute_result"
    }
   ],
   "source": [
    "import statistics as s\n",
    "\n",
    "s.mean([1,2,3,4,5])\n"
   ]
  },
  {
   "cell_type": "code",
   "execution_count": 57,
   "id": "999d2b1d-2ab0-4193-a809-726c4425b394",
   "metadata": {},
   "outputs": [
    {
     "data": {
      "text/plain": [
       "3"
      ]
     },
     "execution_count": 57,
     "metadata": {},
     "output_type": "execute_result"
    }
   ],
   "source": [
    "s.median([1,3,2,5,4])\n"
   ]
  },
  {
   "cell_type": "code",
   "execution_count": 58,
   "id": "886c0b68-2d96-43ca-8a4a-aba7ceff9f81",
   "metadata": {},
   "outputs": [
    {
     "data": {
      "text/plain": [
       "3.0"
      ]
     },
     "execution_count": 58,
     "metadata": {},
     "output_type": "execute_result"
    }
   ],
   "source": [
    "s.median_grouped([1,2,3,4,5])"
   ]
  },
  {
   "cell_type": "code",
   "execution_count": 59,
   "id": "be985d04-5ebc-426c-b39a-74f4dec04364",
   "metadata": {},
   "outputs": [
    {
     "data": {
      "text/plain": [
       "4"
      ]
     },
     "execution_count": 59,
     "metadata": {},
     "output_type": "execute_result"
    }
   ],
   "source": [
    "s.median_high([1,2,3,4,5,6])\n"
   ]
  },
  {
   "cell_type": "code",
   "execution_count": 60,
   "id": "ed65c769-7303-4eb0-b5f3-d95525b0147a",
   "metadata": {},
   "outputs": [
    {
     "data": {
      "text/plain": [
       "2"
      ]
     },
     "execution_count": 60,
     "metadata": {},
     "output_type": "execute_result"
    }
   ],
   "source": [
    "s.pvariance([1,2,3,4,5])\n"
   ]
  },
  {
   "cell_type": "code",
   "execution_count": 63,
   "id": "da5f23f6-af58-48d8-a0a6-ec75f14f5761",
   "metadata": {},
   "outputs": [
    {
     "data": {
      "text/plain": [
       "1.4142135623730951"
      ]
     },
     "execution_count": 63,
     "metadata": {},
     "output_type": "execute_result"
    }
   ],
   "source": [
    "s.pstdev([1,2,3,4,5])"
   ]
  },
  {
   "cell_type": "code",
   "execution_count": null,
   "id": "9179d4a2-e7b1-4a74-9ac1-1886ec5c9895",
   "metadata": {},
   "outputs": [],
   "source": []
  }
 ],
 "metadata": {
  "kernelspec": {
   "display_name": "Python 3 (ipykernel)",
   "language": "python",
   "name": "python3"
  },
  "language_info": {
   "codemirror_mode": {
    "name": "ipython",
    "version": 3
   },
   "file_extension": ".py",
   "mimetype": "text/x-python",
   "name": "python",
   "nbconvert_exporter": "python",
   "pygments_lexer": "ipython3",
   "version": "3.8.10"
  }
 },
 "nbformat": 4,
 "nbformat_minor": 5
}
