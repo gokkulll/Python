{
 "cells": [
  {
   "cell_type": "code",
   "execution_count": 12,
   "id": "aa514b19-9841-4c51-b479-7700c2ad9ec3",
   "metadata": {},
   "outputs": [
    {
     "data": {
      "text/plain": [
       "True"
      ]
     },
     "execution_count": 12,
     "metadata": {},
     "output_type": "execute_result"
    }
   ],
   "source": [
    "import os\n",
    "\n",
    "os.path.exists('/home/gokul/python workout/GOKUL M.png')"
   ]
  },
  {
   "cell_type": "code",
   "execution_count": 13,
   "id": "a97e016e-a5cc-4e01-a33a-9c2c1a749062",
   "metadata": {},
   "outputs": [
    {
     "data": {
      "text/plain": [
       "True"
      ]
     },
     "execution_count": 13,
     "metadata": {},
     "output_type": "execute_result"
    }
   ],
   "source": [
    "os.path.isfile('/home/gokul/python workout/GOKUL M.png')"
   ]
  },
  {
   "cell_type": "code",
   "execution_count": 14,
   "id": "053f47e4-8385-4d96-855b-9b9535173429",
   "metadata": {},
   "outputs": [
    {
     "data": {
      "text/plain": [
       "False"
      ]
     },
     "execution_count": 14,
     "metadata": {},
     "output_type": "execute_result"
    }
   ],
   "source": [
    "os.path.isdir(\"/home/gokul/python workout/GOKUL M.png\")"
   ]
  },
  {
   "cell_type": "code",
   "execution_count": 15,
   "id": "d36cb1bb-447b-4618-b73f-03db253c95ee",
   "metadata": {},
   "outputs": [
    {
     "data": {
      "text/plain": [
       "True"
      ]
     },
     "execution_count": 15,
     "metadata": {},
     "output_type": "execute_result"
    }
   ],
   "source": [
    "os.path.isdir(\"/home/gokul/python workout/\")"
   ]
  },
  {
   "cell_type": "code",
   "execution_count": 17,
   "id": "cae2b741-e55a-432f-b356-0f0aac39c054",
   "metadata": {},
   "outputs": [
    {
     "data": {
      "text/plain": [
       "('/home/gokul/python workout', 'GOKUL M.png')"
      ]
     },
     "execution_count": 17,
     "metadata": {},
     "output_type": "execute_result"
    }
   ],
   "source": [
    "os.path.split('/home/gokul/python workout/GOKUL M.png')\n"
   ]
  },
  {
   "cell_type": "code",
   "execution_count": 18,
   "id": "de730d97-dd77-41a9-b449-2c7964ff7106",
   "metadata": {},
   "outputs": [
    {
     "data": {
      "text/plain": [
       "'home/gokul/python workout/GOKUL M.png'"
      ]
     },
     "execution_count": 18,
     "metadata": {},
     "output_type": "execute_result"
    }
   ],
   "source": [
    "os.path.join('home/gokul/python workout','GOKUL M.png')"
   ]
  },
  {
   "cell_type": "code",
   "execution_count": 19,
   "id": "634786e5-250e-4638-8909-c5f244064a6b",
   "metadata": {},
   "outputs": [
    {
     "data": {
      "text/plain": [
       "'GOKUL M.png'"
      ]
     },
     "execution_count": 19,
     "metadata": {},
     "output_type": "execute_result"
    }
   ],
   "source": [
    "os.path.basename('/home/gokul/python workout/GOKUL M.png')"
   ]
  },
  {
   "cell_type": "code",
   "execution_count": 20,
   "id": "d716a8ae-3aa7-44d0-a7dc-4b8452958a47",
   "metadata": {},
   "outputs": [
    {
     "data": {
      "text/plain": [
       "'/home/gokul/python workout'"
      ]
     },
     "execution_count": 20,
     "metadata": {},
     "output_type": "execute_result"
    }
   ],
   "source": [
    "os.path.dirname('/home/gokul/python workout/GOKUL M.png')"
   ]
  },
  {
   "cell_type": "code",
   "execution_count": 5,
   "id": "2ee756b4-aaf6-4a55-9152-5f1df3d156c4",
   "metadata": {},
   "outputs": [
    {
     "data": {
      "text/plain": [
       "'/home/gokul/python workout'"
      ]
     },
     "execution_count": 5,
     "metadata": {},
     "output_type": "execute_result"
    }
   ],
   "source": [
    "\n",
    "import os\n",
    "\n",
    "os.chdir('/home/gokul/python workout')\n",
    "os.getcwd()\n"
   ]
  },
  {
   "cell_type": "code",
   "execution_count": 7,
   "id": "bc457b87-fb52-4ad0-98c1-54a6a62393a2",
   "metadata": {},
   "outputs": [
    {
     "data": {
      "text/plain": [
       "'../Cstudies/arithmetic.c'"
      ]
     },
     "execution_count": 7,
     "metadata": {},
     "output_type": "execute_result"
    }
   ],
   "source": [
    "os.path.relpath('/home/gokul/Cstudies/arithmetic.c')"
   ]
  },
  {
   "cell_type": "code",
   "execution_count": 8,
   "id": "485e0d85-832b-4af9-b823-302cbe36e5c1",
   "metadata": {},
   "outputs": [
    {
     "data": {
      "text/plain": [
       "'/home/gokul/Cstudies/arithmetic.c'"
      ]
     },
     "execution_count": 8,
     "metadata": {},
     "output_type": "execute_result"
    }
   ],
   "source": [
    "os.path.abspath('../Cstudies/arithmetic.c')"
   ]
  },
  {
   "cell_type": "code",
   "execution_count": 9,
   "id": "95485f73-6ba9-4465-8eb6-87005137eff4",
   "metadata": {},
   "outputs": [
    {
     "data": {
      "text/plain": [
       "'posix'"
      ]
     },
     "execution_count": 9,
     "metadata": {},
     "output_type": "execute_result"
    }
   ],
   "source": [
    "import os\n",
    "os.name\n"
   ]
  },
  {
   "cell_type": "code",
   "execution_count": 10,
   "id": "158b0d8d-34e3-4459-954a-53758a6cc6f9",
   "metadata": {},
   "outputs": [
    {
     "data": {
      "text/plain": [
       "'gokul'"
      ]
     },
     "execution_count": 10,
     "metadata": {},
     "output_type": "execute_result"
    }
   ],
   "source": [
    "os.getlogin()"
   ]
  },
  {
   "cell_type": "code",
   "execution_count": 11,
   "id": "3c4983e4-ec11-490c-86cd-23483ad47bd5",
   "metadata": {},
   "outputs": [
    {
     "data": {
      "text/plain": [
       "'/home/gokul/python workout'"
      ]
     },
     "execution_count": 11,
     "metadata": {},
     "output_type": "execute_result"
    }
   ],
   "source": [
    "os.getcwd()"
   ]
  },
  {
   "cell_type": "code",
   "execution_count": 2,
   "id": "49f999e2-27a1-4f1c-badb-810f283a45cb",
   "metadata": {},
   "outputs": [],
   "source": [
    "import os\n",
    "os.chdir('/home/gokul/Cstudies/')"
   ]
  },
  {
   "cell_type": "code",
   "execution_count": 3,
   "id": "e41656fc-c55f-4b4a-b534-8aef6ce228df",
   "metadata": {},
   "outputs": [
    {
     "data": {
      "text/plain": [
       "'/home/gokul/Cstudies'"
      ]
     },
     "execution_count": 3,
     "metadata": {},
     "output_type": "execute_result"
    }
   ],
   "source": [
    "os.getcwd()"
   ]
  },
  {
   "cell_type": "code",
   "execution_count": 4,
   "id": "07c35cee-b4e7-4ce4-94f2-28bd8b1bfdeb",
   "metadata": {},
   "outputs": [
    {
     "data": {
      "text/plain": [
       "['.arrow1.c.swp',\n",
       " 'arrow1',\n",
       " 'shift',\n",
       " 'relational_O.c',\n",
       " 'dot2.c',\n",
       " 'dot',\n",
       " 'arrow1.c',\n",
       " 'ptr',\n",
       " 'arithmetic.c',\n",
       " 'shifting.c',\n",
       " 'dot.c',\n",
       " 'arithmetic',\n",
       " 'ptr1.c',\n",
       " 'arrow1..c',\n",
       " 'ass',\n",
       " 'ass_opt.c',\n",
       " 'dot2',\n",
       " 'bit1.c',\n",
       " 'relational',\n",
       " '.ipynb_checkpoints',\n",
       " 'bit1']"
      ]
     },
     "execution_count": 4,
     "metadata": {},
     "output_type": "execute_result"
    }
   ],
   "source": [
    "os.listdir()\n"
   ]
  },
  {
   "cell_type": "code",
   "execution_count": 5,
   "id": "935c743a-b020-42ac-901b-4184f7c62582",
   "metadata": {},
   "outputs": [],
   "source": [
    "os.chdir('/home/gokul/python workout')\n"
   ]
  },
  {
   "cell_type": "code",
   "execution_count": 6,
   "id": "697f2417-50f7-4ccb-a581-17a403fb0825",
   "metadata": {},
   "outputs": [
    {
     "data": {
      "text/plain": [
       "'/home/gokul/python workout'"
      ]
     },
     "execution_count": 6,
     "metadata": {},
     "output_type": "execute_result"
    }
   ],
   "source": [
    "os.getcwd()"
   ]
  },
  {
   "cell_type": "code",
   "execution_count": 8,
   "id": "af2c5db2-f596-4f1d-ba1b-179614664e97",
   "metadata": {},
   "outputs": [],
   "source": [
    "os.rename(\"/home/gokul/Cstudies/\",\"/home/gokul/C_studies/\")"
   ]
  },
  {
   "cell_type": "code",
   "execution_count": null,
   "id": "f551e5da-ffab-4e93-89bc-2ef3cae8ce07",
   "metadata": {},
   "outputs": [],
   "source": []
  }
 ],
 "metadata": {
  "kernelspec": {
   "display_name": "Python 3 (ipykernel)",
   "language": "python",
   "name": "python3"
  },
  "language_info": {
   "codemirror_mode": {
    "name": "ipython",
    "version": 3
   },
   "file_extension": ".py",
   "mimetype": "text/x-python",
   "name": "python",
   "nbconvert_exporter": "python",
   "pygments_lexer": "ipython3",
   "version": "3.8.10"
  }
 },
 "nbformat": 4,
 "nbformat_minor": 5
}
