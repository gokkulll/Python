{
 "cells": [
  {
   "cell_type": "code",
   "execution_count": 8,
   "id": "f656d4d6-04cf-48b6-8fca-80fc74da8b7d",
   "metadata": {},
   "outputs": [
    {
     "name": "stdout",
     "output_type": "stream",
     "text": [
      "200\n",
      "6\n"
     ]
    }
   ],
   "source": [
    "#defining a class\n",
    "\n",
    "class cuboid:\n",
    "    def __init__(self,l,b,h):\n",
    "        self.length=l\n",
    "        self.breath = b\n",
    "        self.height=h\n",
    "\n",
    "    def lidarea(self):\n",
    "        return self.length * self.breath\n",
    "\n",
    "    def totalarea(self):\n",
    "        return 2 * (self.length*self.breath + self.length*self.height + self.breath*self.height)\n",
    "\n",
    "    def volume(self):\n",
    "        return self.length * self.breath * self.height\n",
    "\n",
    "c1 = cuboid(10,20,30)\n",
    "print(c1.lidarea())\n",
    "\n",
    "c2 = cuboid(1,2,3)\n",
    "c = c2.volume()\n",
    "print(c)"
   ]
  },
  {
   "cell_type": "code",
   "execution_count": 5,
   "id": "168495a1-2420-4ef5-b0d6-21329198140b",
   "metadata": {},
   "outputs": [
    {
     "name": "stdout",
     "output_type": "stream",
     "text": [
      "['__class__', '__delattr__', '__dict__', '__dir__', '__doc__', '__eq__', '__format__', '__ge__', '__getattribute__', '__gt__', '__hash__', '__init__', '__init_subclass__', '__le__', '__lt__', '__module__', '__ne__', '__new__', '__reduce__', '__reduce_ex__', '__repr__', '__setattr__', '__sizeof__', '__str__', '__subclasshook__', '__weakref__', 'a', 'b', 'c', 'fun']\n"
     ]
    }
   ],
   "source": [
    "class test:\n",
    "    def __init__(self):\n",
    "        self.a = 1\n",
    "\n",
    "    def fun(self):\n",
    "        self.b=2\n",
    "\n",
    "t1 = test()\n",
    "t1.fun()\n",
    "t1.c=3\n",
    "print(dir(t1))"
   ]
  },
  {
   "cell_type": "code",
   "execution_count": 22,
   "id": "f009d0ed-dc92-49c8-98f6-7413a84b52f4",
   "metadata": {},
   "outputs": [
    {
     "name": "stdout",
     "output_type": "stream",
     "text": [
      "2\n"
     ]
    }
   ],
   "source": [
    "class rectangle:\n",
    "\n",
    "    count = 0\n",
    "    def __init__(self,l,b):\n",
    "        self.length = l\n",
    "        self.breath = b\n",
    "        rectangle.count+=1\n",
    "\n",
    "    def area(self):\n",
    "        return self.length * self.breath\n",
    "\n",
    "    def perimeter(self):\n",
    "        return 2 * (self.length + self.breath)\n",
    "\n",
    "    @classmethod\n",
    "    def countrec(cls):\n",
    "        print(cls.count)\n",
    "\n",
    "r1=rectangle(1,2)\n",
    "r2 = rectangle(2,3)\n",
    "rectangle.countrec()"
   ]
  },
  {
   "cell_type": "code",
   "execution_count": 25,
   "id": "dfc1b362-a9df-4f85-8ffb-b3050d7b493d",
   "metadata": {},
   "outputs": [
    {
     "name": "stdout",
     "output_type": "stream",
     "text": [
      "2\n",
      "True\n"
     ]
    }
   ],
   "source": [
    "class rectangle:\n",
    "\n",
    "    count = 0\n",
    "    def __init__(self,l,b):\n",
    "        self.length = l\n",
    "        self.breath = b\n",
    "        rectangle.count+=1\n",
    "\n",
    "    def area(self):\n",
    "        return self.length * self.breath\n",
    "\n",
    "    def perimeter(self):\n",
    "        return 2 * (self.length + self.breath)\n",
    "\n",
    "    @staticmethod\n",
    "    def issquare(length,breath):\n",
    "        return length == breath\n",
    "\n",
    "\n",
    "\n",
    "r1=rectangle(1,2)\n",
    "print(r1.area())\n",
    "print(rectangle.issquare(1,1))"
   ]
  },
  {
   "cell_type": "code",
   "execution_count": 21,
   "id": "3030a368-be12-46f9-9ca1-5eeb3ad4efa3",
   "metadata": {},
   "outputs": [
    {
     "name": "stdout",
     "output_type": "stream",
     "text": [
      "10\n",
      "300\n"
     ]
    }
   ],
   "source": [
    "#accesors and mutators\n",
    "    \n",
    "class rectangle():\n",
    "    def __init__(self,l,b):\n",
    "        self.length=l\n",
    "        self.breath =b\n",
    "\n",
    "\n",
    "\n",
    "    def getlength(self):\n",
    "        return self.length\n",
    "\n",
    "    def setlength(self,l):\n",
    "        self.length=l\n",
    "\n",
    "    def area(self):\n",
    "        return self.length*self.breath\n",
    "\n",
    "r1 = rectangle(10,20)\n",
    "print(r1.getlength())\n",
    "\n",
    "r1.setlength(15)\n",
    "\n",
    "print(r1.area())\n"
   ]
  },
  {
   "cell_type": "code",
   "execution_count": 1,
   "id": "1195862f-7661-4d2d-ab0d-3890c91579c3",
   "metadata": {},
   "outputs": [
    {
     "name": "stdout",
     "output_type": "stream",
     "text": [
      "10\n"
     ]
    }
   ],
   "source": [
    "class rectangle():\n",
    "    def __init__(self,l,b):\n",
    "        self.length=l\n",
    "        self.breath =b\n",
    "\n",
    "class cuboid(rectangle):\n",
    "    def __init__(self,l,b,h):\n",
    "        self.height = h\n",
    "        #self.length = l\n",
    "        #self.breath= b\n",
    "\n",
    "        super().__init__(l,b)\n",
    "    def volume(self):\n",
    "        return self.length*self.breath*self.height\n",
    "\n",
    "c1 = cuboid(10,1,1)\n",
    "print(c1.volume())\n"
   ]
  },
  {
   "cell_type": "code",
   "execution_count": 19,
   "id": "91847522-9ffd-4992-b6bf-a1aa9a85b1f1",
   "metadata": {},
   "outputs": [
    {
     "name": "stdout",
     "output_type": "stream",
     "text": [
      "121\n",
      "jhk\n",
      "delhi\n",
      "200000\n"
     ]
    }
   ],
   "source": [
    "#nested class or inner class\n",
    "\n",
    "class customer:\n",
    "    def __init__(self,id,name,bdno,bstreet,bcity,bpin,pdno,pstreet,pcity,ppin):\n",
    "        self.id=id\n",
    "        self.name = name\n",
    "        self.badd=self.address(bdno,bstreet,bcity,bpin)\n",
    "        self.padd=self.address(pdno,pstreet,pcity,ppin)\n",
    "\n",
    "\n",
    "\n",
    "    class address:\n",
    "        def __init__(self,dno,street,city,pin):\n",
    "            self.dno=dno\n",
    "            self.street=street\n",
    "            self.city=city\n",
    "            self.pin=pin\n",
    "\n",
    "        def display(self):\n",
    "          \n",
    "            print(self.dno)\n",
    "            print(self.street)\n",
    "            print(self.city)\n",
    "            print(self.pin)\n",
    "\n",
    "c = customer(101,'gokul',121,'jhk','delhi',200000,121,'gdfg','mumbai',2000000)\n",
    "c.badd.display()"
   ]
  },
  {
   "cell_type": "code",
   "execution_count": 22,
   "id": "e7f19d74-47ec-4bde-8541-5219006eecaa",
   "metadata": {},
   "outputs": [
    {
     "name": "stdout",
     "output_type": "stream",
     "text": [
      "creta is good\n",
      "mercedus is good\n"
     ]
    }
   ],
   "source": [
    "'''polymorphism'''\n",
    "\n",
    "def driver(car):\n",
    "    car.drive()\n",
    "\n",
    "class creta:\n",
    "    def drive(self):\n",
    "        print(\"creta is good\")\n",
    "\n",
    "class mercedus:\n",
    "    def drive(self):\n",
    "        print(\"mercedus is good\")\n",
    "\n",
    "c = creta()\n",
    "driver(c)\n",
    "\n",
    "d = mercedus()\n",
    "driver(d)\n",
    "\n"
   ]
  },
  {
   "cell_type": "code",
   "execution_count": 37,
   "id": "84d595b8-9638-474d-9084-bdbae2b41461",
   "metadata": {},
   "outputs": [
    {
     "name": "stdout",
     "output_type": "stream",
     "text": [
      "duck can talk\n",
      "duck can walk\n",
      "\n",
      "dog can talk\n"
     ]
    }
   ],
   "source": [
    "def petlover(pet):\n",
    "    pet.talk()\n",
    "    if hasattr(pet,'walk'):\n",
    "        pet.walk()\n",
    "\n",
    "class duck:\n",
    "    def talk(self):\n",
    "        print(\"duck can talk\")\n",
    "\n",
    "    def walk(self):\n",
    "        print(\"duck can walk\\n\")\n",
    "\n",
    "class dog:\n",
    "    def talk(self):\n",
    "        print(\"dog can talk\")\n",
    "\n",
    "   # def walk(self):\n",
    "   #     print(\"dog can walk\")\n",
    "\n",
    "   \n",
    "\n",
    "d = duck()\n",
    "petlover(d)\n",
    "\n",
    "d1 = dog()\n",
    "petlover(d1)"
   ]
  },
  {
   "cell_type": "code",
   "execution_count": 55,
   "id": "204fe317-53fc-48da-b2e7-bfc81237d23e",
   "metadata": {},
   "outputs": [
    {
     "name": "stdout",
     "output_type": "stream",
     "text": [
      "12\n"
     ]
    }
   ],
   "source": [
    "class arith:\n",
    "    def sum(self,a,b,c=None):\n",
    "        s = a+b\n",
    "        if c==None:\n",
    "            return s\n",
    "        else:\n",
    "            return s+c\n",
    "\n",
    "   # def sum(self,a,b,c):\n",
    "    #    return a+b+c\n",
    "\n",
    "a = arith()\n",
    "print(a.sum(1,5,6))\n",
    "\n",
    "print("
   ]
  },
  {
   "cell_type": "code",
   "execution_count": 3,
   "id": "ab5a1a6c-17f3-4622-906a-9880df0079bd",
   "metadata": {},
   "outputs": [
    {
     "name": "stdout",
     "output_type": "stream",
     "text": [
      "home button is pressed\n",
      "home button is touched\n",
      "home button is pressed\n"
     ]
    }
   ],
   "source": [
    "#overriding\n",
    "\n",
    "class iphone6:\n",
    "    def home(self):\n",
    "        print(\"home button is pressed\")\n",
    "\n",
    "class iphone10(iphone6):\n",
    "    def home(self):\n",
    "        print(\"home button is touched\")\n",
    "        super().home()\n",
    "\n",
    "i6 = iphone6()\n",
    "i6.home()\n",
    "\n",
    "i10=iphone10()\n",
    "i10.home()"
   ]
  },
  {
   "cell_type": "code",
   "execution_count": 10,
   "id": "88eb02b8-2b7a-4a7e-bcb3-6b397f612fdf",
   "metadata": {},
   "outputs": [
    {
     "name": "stdout",
     "output_type": "stream",
     "text": [
      "4/4\n"
     ]
    }
   ],
   "source": [
    "#operator overloading\n",
    "\n",
    "class Rational:\n",
    "    def __init__(self,p=1,q=1):\n",
    "        self.p=p\n",
    "        self.q=q\n",
    "\n",
    "    def __add__(self,other):\n",
    "        s=Rational()\n",
    "        s.p=self.p * other.q + self.q * other.p\n",
    "        s.q=self.q * other.q\n",
    "        return s\n",
    "        \n",
    "    def __str__(self):\n",
    "        return str(self.p)+'/'+str(self.q)\n",
    "\n",
    "\n",
    "a1 = Rational(1,2)\n",
    "a2 = Rational(1,2)\n",
    "\n",
    "sum = a1+a2\n",
    "\n",
    "print(sum)"
   ]
  },
  {
   "cell_type": "code",
   "execution_count": null,
   "id": "4efe6678-ccac-4432-b6b3-afbcd93bd9df",
   "metadata": {},
   "outputs": [],
   "source": []
  }
 ],
 "metadata": {
  "kernelspec": {
   "display_name": "Python 3 (ipykernel)",
   "language": "python",
   "name": "python3"
  },
  "language_info": {
   "codemirror_mode": {
    "name": "ipython",
    "version": 3
   },
   "file_extension": ".py",
   "mimetype": "text/x-python",
   "name": "python",
   "nbconvert_exporter": "python",
   "pygments_lexer": "ipython3",
   "version": "3.8.10"
  }
 },
 "nbformat": 4,
 "nbformat_minor": 5
}
