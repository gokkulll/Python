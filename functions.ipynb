{
 "cells": [
  {
   "cell_type": "code",
   "execution_count": 4,
   "id": "5075fe91-a5a7-49f3-bbdb-f6e9a52688ad",
   "metadata": {},
   "outputs": [
    {
     "name": "stdout",
     "output_type": "stream",
     "text": [
      "30\n",
      "30\n"
     ]
    }
   ],
   "source": [
    "def add(a , b , c):\n",
    "    r = a + b + c\n",
    "    return r\n",
    "\n",
    "add(10,10,10)\n",
    "print(add(10,10,10))\n",
    "\n",
    "return_value = add(10,10,10)\n",
    "print(return_value)"
   ]
  },
  {
   "cell_type": "code",
   "execution_count": 14,
   "id": "9d7b9275-e51b-4d79-bd59-4bf25a7f787e",
   "metadata": {},
   "outputs": [
    {
     "name": "stdout",
     "output_type": "stream",
     "text": [
      "9764384 9764384 9764384\n",
      "9764384 9764384 9764384\n",
      "None\n"
     ]
    }
   ],
   "source": [
    "def f(a,b,c):\n",
    "    r = print(id(a),id(b),id(c))\n",
    "    return(r)\n",
    "\n",
    "x =1\n",
    "y =1\n",
    "z = 1\n",
    "\n",
    "print(id(x),id(y),id(z))\n",
    "r = f(x,y,z)\n",
    "print(r)"
   ]
  },
  {
   "cell_type": "code",
   "execution_count": 23,
   "id": "60a2b1f7-23cd-4eb7-816b-78477b14b5e2",
   "metadata": {},
   "outputs": [
    {
     "name": "stdout",
     "output_type": "stream",
     "text": [
      "12000\n",
      "12000\n"
     ]
    }
   ],
   "source": [
    "''' find the salary amount of an employee'''\n",
    "\n",
    "def emp(salary, allowance, deduction):\n",
    "    sal = salary+allowance-deduction\n",
    "    return sal\n",
    "\n",
    "print(emp(8000,6000,2000))\n",
    "\n",
    "sal_am=emp(8000,allowance=6000,deduction=2000)\n",
    "print(sal_am)"
   ]
  },
  {
   "cell_type": "code",
   "execution_count": 7,
   "id": "72d0ca84-651f-4cfd-a3e6-297444d48bb9",
   "metadata": {},
   "outputs": [
    {
     "name": "stdout",
     "output_type": "stream",
     "text": [
      "[(1, 2, 3, 4, 5)]\n"
     ]
    }
   ],
   "source": [
    "def additem(item,L=[]):\n",
    "    L.append(item)\n",
    "    return L\n",
    "\n",
    "j = additem((1,2,3,4,5))\n",
    "print(j)"
   ]
  },
  {
   "cell_type": "code",
   "execution_count": 17,
   "id": "11b68c1a-e06a-4379-be84-de511bb832bd",
   "metadata": {},
   "outputs": [
    {
     "name": "stdout",
     "output_type": "stream",
     "text": [
      "[1, 2, 3, 4, 5, 6]\n",
      "[1]\n"
     ]
    }
   ],
   "source": [
    "def add_item(item,L=[]):\n",
    "    L.append(item)\n",
    "    return L\n",
    "\n",
    "L1 = [1,2,3,4,5]\n",
    "print(add_item(6,L1))\n",
    "\n",
    "print(add_item(1))\n",
    "      \n",
    "      \n"
   ]
  },
  {
   "cell_type": "code",
   "execution_count": 5,
   "id": "057c8eed-6246-4703-9424-028ac7a779b7",
   "metadata": {},
   "outputs": [
    {
     "name": "stdout",
     "output_type": "stream",
     "text": [
      "10\n",
      "None\n"
     ]
    }
   ],
   "source": [
    "def ex(a,b,/,c,*,d):\n",
    "    print(a+b+c+d)\n",
    "    \n",
    "\n",
    "e = ex(1,2,3,d=4)\n",
    "print(e)\n",
    "     \n",
    "    "
   ]
  },
  {
   "cell_type": "code",
   "execution_count": 7,
   "id": "0e7c0fe2-a012-4329-8f88-07e97df809fa",
   "metadata": {},
   "outputs": [
    {
     "name": "stdout",
     "output_type": "stream",
     "text": [
      "2\n"
     ]
    }
   ],
   "source": [
    "def mul(*,a,b):\n",
    "    mul = a*b\n",
    "    return mul\n",
    "\n",
    "e = mul(a =1,b=2)\n",
    "print(e)"
   ]
  },
  {
   "cell_type": "code",
   "execution_count": 13,
   "id": "5d60e537-bb50-4429-9ecc-397eb547a642",
   "metadata": {},
   "outputs": [
    {
     "name": "stdout",
     "output_type": "stream",
     "text": [
      "(5, (5, 6, 7, 8))\n"
     ]
    }
   ],
   "source": [
    "def goku(a,b,*arg):\n",
    "    d = a+b,arg\n",
    "    return d\n",
    "\n",
    "e= goku(2,3,5,6,7,8)\n",
    "print(e)"
   ]
  },
  {
   "cell_type": "code",
   "execution_count": 16,
   "id": "dc036ac1-d037-4ba2-8d03-332798326e88",
   "metadata": {},
   "outputs": [
    {
     "name": "stdout",
     "output_type": "stream",
     "text": [
      "(10, 20, 30)\n"
     ]
    }
   ],
   "source": [
    "def unpack(a,b,c):\n",
    "    c = (a,b,c)\n",
    "    print(c)\n",
    "\n",
    "t1 = (10,20,30)\n",
    "unpack(*t1)"
   ]
  },
  {
   "cell_type": "code",
   "execution_count": 24,
   "id": "1f80f218-81fa-4106-9c4a-ad754e4c9005",
   "metadata": {},
   "outputs": [
    {
     "name": "stdout",
     "output_type": "stream",
     "text": [
      "60\n",
      "None\n"
     ]
    }
   ],
   "source": [
    "def un_pack(a,b,c):\n",
    "    c=a+b+c\n",
    "    print(c)\n",
    "\n",
    "t1 = (10,20,30)\n",
    "x = un_pack(*t1)\n",
    "print(x)\n",
    "    "
   ]
  },
  {
   "cell_type": "code",
   "execution_count": 5,
   "id": "ba06795c-b0dc-43a4-bad3-556157cc7205",
   "metadata": {},
   "outputs": [
    {
     "name": "stdout",
     "output_type": "stream",
     "text": [
      "{'name': 'ajay', 'r_no': '101', 'place': 'tamilnadu'}\n"
     ]
    }
   ],
   "source": [
    "def func(**kwargs):\n",
    "    print(kwargs)\n",
    "\n",
    "func(name=\"ajay\",r_no='101',place='tamilnadu')"
   ]
  },
  {
   "cell_type": "code",
   "execution_count": 8,
   "id": "3ef98491-b610-4e70-a8ff-e4625376dc8a",
   "metadata": {},
   "outputs": [
    {
     "name": "stdout",
     "output_type": "stream",
     "text": [
      "('name', 'gokul')\n",
      "('r_no', 101)\n",
      "('address', 'delhi')\n",
      "None\n"
     ]
    }
   ],
   "source": [
    "def func2(**kwargs):\n",
    "    for x in kwargs:\n",
    "        result=(x,kwargs[x])\n",
    "        print(result)\n",
    "z = func2(name='gokul',r_no=101,address='delhi')\n",
    "print(z)"
   ]
  },
  {
   "cell_type": "code",
   "execution_count": 13,
   "id": "1ca34c47-7f04-4852-8659-1d82f02d1303",
   "metadata": {},
   "outputs": [
    {
     "name": "stdout",
     "output_type": "stream",
     "text": [
      "1\n",
      "2\n",
      "3\n",
      "4\n",
      "5\n"
     ]
    }
   ],
   "source": [
    "L = [1,2,3,4,5]\n",
    "itr = iter(L)\n",
    "\n",
    "print(next(itr))\n",
    "print(next(itr))\n",
    "print(next(itr))\n",
    "print(next(itr))\n",
    "print(next(itr))\n",
    "\n"
   ]
  },
  {
   "cell_type": "code",
   "execution_count": 22,
   "id": "08848e9f-da0d-4454-83d4-29442c9bf792",
   "metadata": {},
   "outputs": [
    {
     "name": "stdout",
     "output_type": "stream",
     "text": [
      "sun\n",
      "mon\n",
      "tues\n",
      "wed\n"
     ]
    }
   ],
   "source": [
    "def days():\n",
    "    \n",
    "    L =['sun','mon','tues','wed','thurs','fri','sat']\n",
    "    i =0\n",
    "    while True:\n",
    "        x = L[i]\n",
    "        i = (i+1) % 7\n",
    "        yield x\n",
    "\n",
    "\n",
    "z = days()\n",
    "print(next(z))\n",
    "print(next(z))\n",
    "print(next(z))\n",
    "print(next(z))"
   ]
  },
  {
   "cell_type": "code",
   "execution_count": 25,
   "id": "dc10ce63-ff4e-44c0-b00a-cdc505007d08",
   "metadata": {},
   "outputs": [
    {
     "name": "stdout",
     "output_type": "stream",
     "text": [
      "1\n",
      "2\n",
      "3\n",
      "4\n",
      "5\n",
      "6\n",
      "7\n",
      "1\n",
      "2\n"
     ]
    }
   ],
   "source": [
    "def week():\n",
    "    w=[1,2,3,4,5,6,7]\n",
    "    i=0\n",
    "    while True:\n",
    "        x = w[i]\n",
    "        i=(i+1)%7\n",
    "        yield x\n",
    "\n",
    "w = week()\n",
    "print(next(w))\n",
    "print(next(w))\n",
    "print(next(w))\n",
    "print(next(w))\n",
    "print(next(w))\n",
    "print(next(w))\n",
    "print(next(w))\n",
    "print(next(w))\n",
    "print(next(w))"
   ]
  },
  {
   "cell_type": "code",
   "execution_count": 2,
   "id": "eddfdf21-b5e2-4700-8121-f9e831188ad0",
   "metadata": {},
   "outputs": [
    {
     "name": "stdout",
     "output_type": "stream",
     "text": [
      "3\n",
      "10\n"
     ]
    }
   ],
   "source": [
    "g= 10\n",
    "\n",
    "def var(a,b):\n",
    "    c = a+b\n",
    "    print(c)\n",
    "\n",
    "var(1,2)\n",
    "print(g)"
   ]
  },
  {
   "cell_type": "code",
   "execution_count": 4,
   "id": "63eaffdf-1db1-40c4-ab0d-ed9b662f6748",
   "metadata": {},
   "outputs": [
    {
     "name": "stdout",
     "output_type": "stream",
     "text": [
      "3\n",
      "10\n"
     ]
    }
   ],
   "source": [
    "g= 10\n",
    "\n",
    "def var_1(a,b):\n",
    "    g=a+b\n",
    "    print(g)\n",
    "\n",
    "var_1(1,2)\n",
    "print(g)"
   ]
  },
  {
   "cell_type": "code",
   "execution_count": 5,
   "id": "813a7695-34e5-419a-a510-4fd6ab29c99c",
   "metadata": {},
   "outputs": [
    {
     "ename": "UnboundLocalError",
     "evalue": "local variable 'g' referenced before assignment",
     "output_type": "error",
     "traceback": [
      "\u001b[0;31m---------------------------------------------------------------------------\u001b[0m",
      "\u001b[0;31mUnboundLocalError\u001b[0m                         Traceback (most recent call last)",
      "Cell \u001b[0;32mIn[5], line 7\u001b[0m\n\u001b[1;32m      4\u001b[0m     g\u001b[38;5;241m=\u001b[39mg\u001b[38;5;241m+\u001b[39m\u001b[38;5;241m5\u001b[39m\n\u001b[1;32m      5\u001b[0m     \u001b[38;5;28mprint\u001b[39m(g)\n\u001b[0;32m----> 7\u001b[0m \u001b[43mlocal\u001b[49m\u001b[43m(\u001b[49m\u001b[43m)\u001b[49m\n",
      "Cell \u001b[0;32mIn[5], line 4\u001b[0m, in \u001b[0;36mlocal\u001b[0;34m()\u001b[0m\n\u001b[1;32m      3\u001b[0m \u001b[38;5;28;01mdef\u001b[39;00m \u001b[38;5;21mlocal\u001b[39m():\n\u001b[0;32m----> 4\u001b[0m     g\u001b[38;5;241m=\u001b[39m\u001b[43mg\u001b[49m\u001b[38;5;241m+\u001b[39m\u001b[38;5;241m5\u001b[39m\n\u001b[1;32m      5\u001b[0m     \u001b[38;5;28mprint\u001b[39m(g)\n",
      "\u001b[0;31mUnboundLocalError\u001b[0m: local variable 'g' referenced before assignment"
     ]
    }
   ],
   "source": [
    "g = 20\n",
    "\n",
    "def local():\n",
    "    g=g+5\n",
    "    print(g)\n",
    "\n",
    "local()"
   ]
  },
  {
   "cell_type": "code",
   "execution_count": 8,
   "id": "41bf433f-84bc-426e-8160-1f0eaa8632a7",
   "metadata": {},
   "outputs": [
    {
     "name": "stdout",
     "output_type": "stream",
     "text": [
      "local 25\n",
      "global 25\n"
     ]
    }
   ],
   "source": [
    "g = 20\n",
    "\n",
    "def local():\n",
    "    global g\n",
    "    g=g+5\n",
    "    print(\"local\", g)\n",
    "\n",
    "local()\n",
    "print(\"global\", g)"
   ]
  },
  {
   "cell_type": "code",
   "execution_count": 13,
   "id": "8a61169d-ddf6-4500-aaa1-4484802912f6",
   "metadata": {},
   "outputs": [
    {
     "name": "stdout",
     "output_type": "stream",
     "text": [
      "{'x': 1, 'y': 2, 'z': 3}\n",
      "{'__name__': '__main__', '__doc__': 'Automatically created module for IPython interactive environment', '__package__': None, '__loader__': None, '__spec__': None, '__builtin__': <module 'builtins' (built-in)>, '__builtins__': <module 'builtins' (built-in)>, '_ih': ['', 'g= 10\\n\\ndef var(a,b):\\n    c = a+b\\n    print(c)\\n\\nprint(var(1,2))\\nprint(g)', 'g= 10\\n\\ndef var(a,b):\\n    c = a+b\\n    print(c)\\n\\nvar(1,2)\\nprint(g)', 'g= 10\\n\\ndef var_1(a,b):\\n    g=a+b\\n    print(g)\\n\\nvar_1(1,2)', 'g= 10\\n\\ndef var_1(a,b):\\n    g=a+b\\n    print(g)\\n\\nvar_1(1,2)\\nprint(g)', 'g = 20\\n\\ndef local():\\n    g=g+5\\n    print(g)\\n\\nlocal()', 'g = 20\\n\\ndef local():\\n    global g\\n    g=g+5\\n    print(g)\\n\\nlocal()', 'g = 20\\n\\ndef local():\\n    global g\\n    g=g+5\\n    print(g)\\n\\nlocal()\\nprint(\"global\", g)', 'g = 20\\n\\ndef local():\\n    global g\\n    g=g+5\\n    print(\"local\", g)\\n\\nlocal()\\nprint(\"global\", g)', 'a=20,b=30,c=40\\n\\ndef local():\\n    x =1,y=2,z=3\\n\\nprint(locals())', 'a,b,c=10,20,30\\n\\ndef local():\\n    x,y,z=1,2,3\\n\\nprint(locals())', 'a,b,c=10,20,30\\n\\ndef local():\\n    x,y,z=1,2,3\\n    print(locals())\\n\\nlocal()', 'a,b,c=10,20,30\\n\\ndef local():\\n    x,y,z=1,2,3\\n    print(locals())\\n\\nlocal()\\n\\nprint(globals())', 'a,b,c=10,20,30\\n\\ndef local():\\n    x,y,z=1,2,3\\n    print(locals())\\n\\nlocal()\\n\\nz = globals()\\nprint(z)'], '_oh': {}, '_dh': [PosixPath('/home/gokul/python workout')], 'In': ['', 'g= 10\\n\\ndef var(a,b):\\n    c = a+b\\n    print(c)\\n\\nprint(var(1,2))\\nprint(g)', 'g= 10\\n\\ndef var(a,b):\\n    c = a+b\\n    print(c)\\n\\nvar(1,2)\\nprint(g)', 'g= 10\\n\\ndef var_1(a,b):\\n    g=a+b\\n    print(g)\\n\\nvar_1(1,2)', 'g= 10\\n\\ndef var_1(a,b):\\n    g=a+b\\n    print(g)\\n\\nvar_1(1,2)\\nprint(g)', 'g = 20\\n\\ndef local():\\n    g=g+5\\n    print(g)\\n\\nlocal()', 'g = 20\\n\\ndef local():\\n    global g\\n    g=g+5\\n    print(g)\\n\\nlocal()', 'g = 20\\n\\ndef local():\\n    global g\\n    g=g+5\\n    print(g)\\n\\nlocal()\\nprint(\"global\", g)', 'g = 20\\n\\ndef local():\\n    global g\\n    g=g+5\\n    print(\"local\", g)\\n\\nlocal()\\nprint(\"global\", g)', 'a=20,b=30,c=40\\n\\ndef local():\\n    x =1,y=2,z=3\\n\\nprint(locals())', 'a,b,c=10,20,30\\n\\ndef local():\\n    x,y,z=1,2,3\\n\\nprint(locals())', 'a,b,c=10,20,30\\n\\ndef local():\\n    x,y,z=1,2,3\\n    print(locals())\\n\\nlocal()', 'a,b,c=10,20,30\\n\\ndef local():\\n    x,y,z=1,2,3\\n    print(locals())\\n\\nlocal()\\n\\nprint(globals())', 'a,b,c=10,20,30\\n\\ndef local():\\n    x,y,z=1,2,3\\n    print(locals())\\n\\nlocal()\\n\\nz = globals()\\nprint(z)'], 'Out': {}, 'get_ipython': <bound method InteractiveShell.get_ipython of <ipykernel.zmqshell.ZMQInteractiveShell object at 0x7f9887d887c0>>, 'exit': <IPython.core.autocall.ZMQExitAutocall object at 0x7f9887d99640>, 'quit': <IPython.core.autocall.ZMQExitAutocall object at 0x7f9887d99640>, 'open': <function open at 0x7f9889dceca0>, '_': '', '__': '', '___': '', '__session__': '/home/gokul/python workout/functions.ipynb', '_i': 'a,b,c=10,20,30\\n\\ndef local():\\n    x,y,z=1,2,3\\n    print(locals())\\n\\nlocal()\\n\\nprint(globals())', '_ii': 'a,b,c=10,20,30\\n\\ndef local():\\n    x,y,z=1,2,3\\n    print(locals())\\n\\nlocal()', '_iii': 'a,b,c=10,20,30\\n\\ndef local():\\n    x,y,z=1,2,3\\n\\nprint(locals())', '_i1': 'g= 10\\n\\ndef var(a,b):\\n    c = a+b\\n    print(c)\\n\\nprint(var(1,2))\\nprint(g)', 'g': 25, 'var': <function var at 0x7f9884557af0>, '_i2': 'g= 10\\n\\ndef var(a,b):\\n    c = a+b\\n    print(c)\\n\\nvar(1,2)\\nprint(g)', '_i3': 'g= 10\\n\\ndef var_1(a,b):\\n    g=a+b\\n    print(g)\\n\\nvar_1(1,2)', 'var_1': <function var_1 at 0x7f9884557a60>, '_i4': 'g= 10\\n\\ndef var_1(a,b):\\n    g=a+b\\n    print(g)\\n\\nvar_1(1,2)\\nprint(g)', '_i5': 'g = 20\\n\\ndef local():\\n    g=g+5\\n    print(g)\\n\\nlocal()', 'local': <function local at 0x7f98841ab040>, '_i6': 'g = 20\\n\\ndef local():\\n    global g\\n    g=g+5\\n    print(g)\\n\\nlocal()', '_i7': 'g = 20\\n\\ndef local():\\n    global g\\n    g=g+5\\n    print(g)\\n\\nlocal()\\nprint(\"global\", g)', '_i8': 'g = 20\\n\\ndef local():\\n    global g\\n    g=g+5\\n    print(\"local\", g)\\n\\nlocal()\\nprint(\"global\", g)', '_i9': 'a=20,b=30,c=40\\n\\ndef local():\\n    x =1,y=2,z=3\\n\\nprint(locals())', '_i10': 'a,b,c=10,20,30\\n\\ndef local():\\n    x,y,z=1,2,3\\n\\nprint(locals())', 'a': 10, 'b': 20, 'c': 30, '_i11': 'a,b,c=10,20,30\\n\\ndef local():\\n    x,y,z=1,2,3\\n    print(locals())\\n\\nlocal()', '_i12': 'a,b,c=10,20,30\\n\\ndef local():\\n    x,y,z=1,2,3\\n    print(locals())\\n\\nlocal()\\n\\nprint(globals())', '_i13': 'a,b,c=10,20,30\\n\\ndef local():\\n    x,y,z=1,2,3\\n    print(locals())\\n\\nlocal()\\n\\nz = globals()\\nprint(z)', 'z': {...}}\n"
     ]
    }
   ],
   "source": [
    "a,b,c=10,20,30\n",
    "\n",
    "def local():\n",
    "    x,y,z=1,2,3\n",
    "    print(locals())\n",
    "\n",
    "local()\n",
    "\n",
    "z = globals()\n",
    "print(z)"
   ]
  },
  {
   "cell_type": "code",
   "execution_count": 1,
   "id": "bda0bd62-3a48-4678-8997-2bc07d99792f",
   "metadata": {},
   "outputs": [
    {
     "data": {
      "text/plain": [
       "120"
      ]
     },
     "execution_count": 1,
     "metadata": {},
     "output_type": "execute_result"
    }
   ],
   "source": [
    "#find the factorial of the given number\n",
    "\n",
    "def fact(n):\n",
    "    if n==0:\n",
    "        return 1\n",
    "    else:\n",
    "        res=n*fact(n-1)\n",
    "        return res\n",
    "\n",
    "fact(5)"
   ]
  },
  {
   "cell_type": "code",
   "execution_count": 2,
   "id": "e9b9568f-3fee-40ce-81df-d4bf1f318e9a",
   "metadata": {},
   "outputs": [
    {
     "data": {
      "text/plain": [
       "13"
      ]
     },
     "execution_count": 2,
     "metadata": {},
     "output_type": "execute_result"
    }
   ],
   "source": [
    "a = -13\n",
    "abs(a)"
   ]
  },
  {
   "cell_type": "code",
   "execution_count": 3,
   "id": "c74dc81d-2a8a-42e1-af90-2ea20597a12f",
   "metadata": {},
   "outputs": [
    {
     "data": {
      "text/plain": [
       "\"'gokul'\""
      ]
     },
     "execution_count": 3,
     "metadata": {},
     "output_type": "execute_result"
    }
   ],
   "source": [
    "a = 'gokul'\n",
    "ascii(a)"
   ]
  },
  {
   "cell_type": "code",
   "execution_count": 4,
   "id": "12af50af-45d2-4e59-85ab-a32dc47e7521",
   "metadata": {},
   "outputs": [
    {
     "data": {
      "text/plain": [
       "'0b1100'"
      ]
     },
     "execution_count": 4,
     "metadata": {},
     "output_type": "execute_result"
    }
   ],
   "source": [
    "a=12\n",
    "bin(a)"
   ]
  },
  {
   "cell_type": "code",
   "execution_count": 5,
   "id": "45574f5c-f9fb-4529-8a0b-68b923e1f1b0",
   "metadata": {},
   "outputs": [
    {
     "data": {
      "text/plain": [
       "True"
      ]
     },
     "execution_count": 5,
     "metadata": {},
     "output_type": "execute_result"
    }
   ],
   "source": [
    "callable(fact)"
   ]
  },
  {
   "cell_type": "code",
   "execution_count": 9,
   "id": "b9c3ffa4-9977-49f0-b491-439fbd062605",
   "metadata": {
    "scrolled": true
   },
   "outputs": [
    {
     "name": "stdout",
     "output_type": "stream",
     "text": [
      "A\n",
      "65\n",
      "['__add__', '__class__', '__contains__', '__delattr__', '__dir__', '__doc__', '__eq__', '__format__', '__ge__', '__getattribute__', '__getitem__', '__getnewargs__', '__gt__', '__hash__', '__init__', '__init_subclass__', '__iter__', '__le__', '__len__', '__lt__', '__mod__', '__mul__', '__ne__', '__new__', '__reduce__', '__reduce_ex__', '__repr__', '__rmod__', '__rmul__', '__setattr__', '__sizeof__', '__str__', '__subclasshook__', 'capitalize', 'casefold', 'center', 'count', 'encode', 'endswith', 'expandtabs', 'find', 'format', 'format_map', 'index', 'isalnum', 'isalpha', 'isascii', 'isdecimal', 'isdigit', 'isidentifier', 'islower', 'isnumeric', 'isprintable', 'isspace', 'istitle', 'isupper', 'join', 'ljust', 'lower', 'lstrip', 'maketrans', 'partition', 'replace', 'rfind', 'rindex', 'rjust', 'rpartition', 'rsplit', 'rstrip', 'split', 'splitlines', 'startswith', 'strip', 'swapcase', 'title', 'translate', 'upper', 'zfill']\n"
     ]
    }
   ],
   "source": [
    "print(chr(65))\n",
    "print(ord('A'))\n",
    "print(dir(str))"
   ]
  },
  {
   "cell_type": "code",
   "execution_count": 13,
   "id": "af7b5199-d4c3-4a89-aeb4-fb08af5ee579",
   "metadata": {},
   "outputs": [
    {
     "name": "stdout",
     "output_type": "stream",
     "text": [
      "2\n",
      "2\n"
     ]
    }
   ],
   "source": [
    "l = 12\n",
    "k = 5\n",
    "x,y = divmod(l,k)\n",
    "print(x)\n",
    "print(y)"
   ]
  },
  {
   "cell_type": "code",
   "execution_count": 17,
   "id": "e37e2b93-71fe-4b15-8a19-aee69e6f5e77",
   "metadata": {},
   "outputs": [
    {
     "data": {
      "text/plain": [
       "0.6666666666666666"
      ]
     },
     "execution_count": 17,
     "metadata": {},
     "output_type": "execute_result"
    }
   ],
   "source": [
    "eval('2%3**9/3')\n"
   ]
  },
  {
   "cell_type": "code",
   "execution_count": 18,
   "id": "a2e78a61-38e8-411d-9d63-875544c87866",
   "metadata": {},
   "outputs": [
    {
     "name": "stdout",
     "output_type": "stream",
     "text": [
      "(0, 1)\n",
      "(1, 2)\n",
      "(2, 3)\n",
      "(3, 4)\n",
      "(4, 5)\n"
     ]
    }
   ],
   "source": [
    "l = [1,2,3,4,5]\n",
    "en = enumerate(l)\n",
    "\n",
    "for i in en:\n",
    "    print(i)"
   ]
  },
  {
   "cell_type": "code",
   "execution_count": 23,
   "id": "ac254fd7-9eed-42c5-b7bc-d2e32ccc5e71",
   "metadata": {},
   "outputs": [
    {
     "name": "stdout",
     "output_type": "stream",
     "text": [
      "30\n",
      "10\n"
     ]
    }
   ],
   "source": [
    "ex_ = 'x=10\\ny=20\\nprint(x+y)'\n",
    "\n",
    "exec(ex_)\n",
    "print(x)"
   ]
  },
  {
   "cell_type": "code",
   "execution_count": 31,
   "id": "4791f21e-01af-4e77-97b6-b6dce6dbaf5a",
   "metadata": {},
   "outputs": [
    {
     "name": "stdout",
     "output_type": "stream",
     "text": [
      "2\n",
      "4\n",
      "6\n"
     ]
    }
   ],
   "source": [
    "#filter function\n",
    "\n",
    "L =[1,2,3,4,5,6,7]\n",
    "\n",
    "def even(x):\n",
    "    if x%2==0:\n",
    "        return L\n",
    "    else:\n",
    "        return None\n",
    "\n",
    "f = filter(even,L)\n",
    "\n",
    "for i in f:\n",
    "    print(i)"
   ]
  },
  {
   "cell_type": "code",
   "execution_count": 37,
   "id": "dbcd1997-6d46-499b-9e39-f99c443a7093",
   "metadata": {},
   "outputs": [
    {
     "name": "stdout",
     "output_type": "stream",
     "text": [
      "2\n",
      "3\n",
      "4\n",
      "5\n",
      "6\n",
      "7\n"
     ]
    }
   ],
   "source": [
    "f = filter(lambda x:x>1,L)\n",
    "for i in f:\n",
    "    print(i)"
   ]
  },
  {
   "cell_type": "code",
   "execution_count": 38,
   "id": "dda8d3d8-a3a7-43b3-942c-f31be169506e",
   "metadata": {},
   "outputs": [
    {
     "data": {
      "text/plain": [
       "frozenset({1, 2, 3, 4, 5, 6, 7})"
      ]
     },
     "execution_count": 38,
     "metadata": {},
     "output_type": "execute_result"
    }
   ],
   "source": [
    "fz = frozenset(L)\n",
    "fz"
   ]
  },
  {
   "cell_type": "code",
   "execution_count": 41,
   "id": "4d3b2189-2a78-41cc-8535-9a01246f3b3f",
   "metadata": {},
   "outputs": [
    {
     "ename": "AttributeError",
     "evalue": "'frozenset' object has no attribute 'discard'",
     "output_type": "error",
     "traceback": [
      "\u001b[0;31m---------------------------------------------------------------------------\u001b[0m",
      "\u001b[0;31mAttributeError\u001b[0m                            Traceback (most recent call last)",
      "Cell \u001b[0;32mIn[41], line 1\u001b[0m\n\u001b[0;32m----> 1\u001b[0m \u001b[43mfz\u001b[49m\u001b[38;5;241;43m.\u001b[39;49m\u001b[43mdiscard\u001b[49m(\u001b[38;5;241m8\u001b[39m)\n\u001b[1;32m      2\u001b[0m fz\n",
      "\u001b[0;31mAttributeError\u001b[0m: 'frozenset' object has no attribute 'discard'"
     ]
    }
   ],
   "source": [
    "fz.discard(8)\n",
    "fz"
   ]
  },
  {
   "cell_type": "code",
   "execution_count": 42,
   "id": "934f295f-e84c-468e-9625-d8c464ff287a",
   "metadata": {},
   "outputs": [
    {
     "data": {
      "text/plain": [
       "{'__name__': '__main__',\n",
       " '__doc__': 'Automatically created module for IPython interactive environment',\n",
       " '__package__': None,\n",
       " '__loader__': None,\n",
       " '__spec__': None,\n",
       " '__builtin__': <module 'builtins' (built-in)>,\n",
       " '__builtins__': <module 'builtins' (built-in)>,\n",
       " '_ih': ['',\n",
       "  '#find the factorial of the given number\\n\\ndef fact(n):\\n    if n==0:\\n        return 1\\n    else:\\n        res=n*fact(n-1)\\n        return res\\n\\nfact(5)',\n",
       "  'a = -13\\nabs(a)',\n",
       "  \"a = 'gokul'\\nascii(a)\",\n",
       "  'a=12\\nbin(a)',\n",
       "  'callable(fact)',\n",
       "  \"printa(chr(65))\\npriint(ord('A'))\",\n",
       "  \"print(chr(65))\\npriint(ord('A'))\",\n",
       "  \"print(chr(65))\\nprint(ord('A'))\",\n",
       "  \"print(chr(65))\\nprint(ord('A'))\\nprint(dir(str))\",\n",
       "  'l = 12\\nk = 5\\ndivmod(l,k)',\n",
       "  'l = 12\\nk = 5\\nx,y = divmod(l,k)',\n",
       "  'l = 12\\nk = 5\\nx,y = divmod(l,k)\\nprint(x)\\nprint(y_',\n",
       "  'l = 12\\nk = 5\\nx,y = divmod(l,k)\\nprint(x)\\nprint(y)',\n",
       "  'eval(2%3**9/3)',\n",
       "  \"eval('2%3**9/3')\",\n",
       "  'eval(2%3**9/3)',\n",
       "  \"eval('2%3**9/3')\",\n",
       "  'l = [1,2,3,4,5]\\nen = enumerate(l)\\n\\nfor i in en:\\n    print(i)',\n",
       "  'ex_ = x=10\\\\ny=20\\\\nprint(a+b)\\n\\nexec(ec_)',\n",
       "  \"ex_ = 'x=10\\\\ny=20\\\\nprint(a+b)'\\n\\nexec(ec_)\",\n",
       "  \"ex_ = 'x=10\\\\ny=20\\\\nprint(a+b)'\\n\\nexec(ex_)\",\n",
       "  \"ex_ = 'x=10\\\\ny=20\\\\nprint(x+y)'\\n\\nexec(ex_)\",\n",
       "  \"ex_ = 'x=10\\\\ny=20\\\\nprint(x+y)'\\n\\nexec(ex_)\\nprint(x)\",\n",
       "  '#filter function\\n\\nL =[1,2,3,4,5,6,7]\\n\\ndef even(L):\\n    if L%2==0:\\n        return True\\n    else:\\n        return False\\n\\nf = filter(even(L))',\n",
       "  '#filter function\\n\\nL =[1,2,3,4,5,6,7]\\n\\ndef even(x):\\n    if x%2==0:\\n        return True\\n    else:\\n        return False\\n\\nf = filter(even(L))',\n",
       "  '#filter function\\n\\nL =[1,2,3,4,5,6,7]\\n\\ndef even(x):\\n    if x%2==0:\\n        return True\\n    else:\\n        return False\\n\\nf = filter(even(x))',\n",
       "  '#filter function\\n\\nL =[1,2,3,4,5,6,7]\\n\\ndef even(x):\\n    if x%2==0:\\n        return True\\n    else:\\n        return False\\n\\nf = filter(even,L)',\n",
       "  '#filter function\\n\\nL =[1,2,3,4,5,6,7]\\n\\ndef even(x):\\n    if x%2==0:\\n        return True\\n    else:\\n        return False\\n\\nf = filter(even,L)\\n\\nfor i in f:\\n    print(i)',\n",
       "  '#filter function\\n\\nL =[1,2,3,4,5,6,7]\\n\\ndef even(x):\\n    if x%2==0:\\n        return L\\n    else:\\n        return False\\n\\nf = filter(even,L)\\n\\nfor i in f:\\n    print(i)',\n",
       "  '#filter function\\n\\nL =[1,2,3,4,5,6,7]\\n\\ndef even(x):\\n    if x%2==0:\\n        return L\\n    else:\\n        return none\\n\\nf = filter(even,L)\\n\\nfor i in f:\\n    print(i)',\n",
       "  '#filter function\\n\\nL =[1,2,3,4,5,6,7]\\n\\ndef even(x):\\n    if x%2==0:\\n        return L\\n    else:\\n        return None\\n\\nf = filter(even,L)\\n\\nfor i in f:\\n    print(i)',\n",
       "  'f = filter(lambda x:x>L,print(L))',\n",
       "  'f = filter(lambda x:x>L,L)',\n",
       "  'f = filter(lambda x:x>L,print(L))',\n",
       "  'f = filter(lambda x:x>L,L)\\nfor i in f:\\n    print(L)',\n",
       "  'f = filter(lambda x:x>L,L)\\nfor i in f:\\n    print(i)',\n",
       "  'f = filter(lambda x:x>1,L)\\nfor i in f:\\n    print(i)',\n",
       "  'fz = frozenset(L)\\nfz',\n",
       "  'fz.append(8)\\nfz',\n",
       "  'fz.add(8)\\nfz',\n",
       "  'fz.discard(8)\\nfz',\n",
       "  'globals()'],\n",
       " '_oh': {1: 120,\n",
       "  2: 13,\n",
       "  3: \"'gokul'\",\n",
       "  4: '0b1100',\n",
       "  5: True,\n",
       "  10: (2, 2),\n",
       "  15: 0.6666666666666666,\n",
       "  17: 0.6666666666666666,\n",
       "  38: frozenset({1, 2, 3, 4, 5, 6, 7})},\n",
       " '_dh': [PosixPath('/home/gokul/python workout')],\n",
       " 'In': ['',\n",
       "  '#find the factorial of the given number\\n\\ndef fact(n):\\n    if n==0:\\n        return 1\\n    else:\\n        res=n*fact(n-1)\\n        return res\\n\\nfact(5)',\n",
       "  'a = -13\\nabs(a)',\n",
       "  \"a = 'gokul'\\nascii(a)\",\n",
       "  'a=12\\nbin(a)',\n",
       "  'callable(fact)',\n",
       "  \"printa(chr(65))\\npriint(ord('A'))\",\n",
       "  \"print(chr(65))\\npriint(ord('A'))\",\n",
       "  \"print(chr(65))\\nprint(ord('A'))\",\n",
       "  \"print(chr(65))\\nprint(ord('A'))\\nprint(dir(str))\",\n",
       "  'l = 12\\nk = 5\\ndivmod(l,k)',\n",
       "  'l = 12\\nk = 5\\nx,y = divmod(l,k)',\n",
       "  'l = 12\\nk = 5\\nx,y = divmod(l,k)\\nprint(x)\\nprint(y_',\n",
       "  'l = 12\\nk = 5\\nx,y = divmod(l,k)\\nprint(x)\\nprint(y)',\n",
       "  'eval(2%3**9/3)',\n",
       "  \"eval('2%3**9/3')\",\n",
       "  'eval(2%3**9/3)',\n",
       "  \"eval('2%3**9/3')\",\n",
       "  'l = [1,2,3,4,5]\\nen = enumerate(l)\\n\\nfor i in en:\\n    print(i)',\n",
       "  'ex_ = x=10\\\\ny=20\\\\nprint(a+b)\\n\\nexec(ec_)',\n",
       "  \"ex_ = 'x=10\\\\ny=20\\\\nprint(a+b)'\\n\\nexec(ec_)\",\n",
       "  \"ex_ = 'x=10\\\\ny=20\\\\nprint(a+b)'\\n\\nexec(ex_)\",\n",
       "  \"ex_ = 'x=10\\\\ny=20\\\\nprint(x+y)'\\n\\nexec(ex_)\",\n",
       "  \"ex_ = 'x=10\\\\ny=20\\\\nprint(x+y)'\\n\\nexec(ex_)\\nprint(x)\",\n",
       "  '#filter function\\n\\nL =[1,2,3,4,5,6,7]\\n\\ndef even(L):\\n    if L%2==0:\\n        return True\\n    else:\\n        return False\\n\\nf = filter(even(L))',\n",
       "  '#filter function\\n\\nL =[1,2,3,4,5,6,7]\\n\\ndef even(x):\\n    if x%2==0:\\n        return True\\n    else:\\n        return False\\n\\nf = filter(even(L))',\n",
       "  '#filter function\\n\\nL =[1,2,3,4,5,6,7]\\n\\ndef even(x):\\n    if x%2==0:\\n        return True\\n    else:\\n        return False\\n\\nf = filter(even(x))',\n",
       "  '#filter function\\n\\nL =[1,2,3,4,5,6,7]\\n\\ndef even(x):\\n    if x%2==0:\\n        return True\\n    else:\\n        return False\\n\\nf = filter(even,L)',\n",
       "  '#filter function\\n\\nL =[1,2,3,4,5,6,7]\\n\\ndef even(x):\\n    if x%2==0:\\n        return True\\n    else:\\n        return False\\n\\nf = filter(even,L)\\n\\nfor i in f:\\n    print(i)',\n",
       "  '#filter function\\n\\nL =[1,2,3,4,5,6,7]\\n\\ndef even(x):\\n    if x%2==0:\\n        return L\\n    else:\\n        return False\\n\\nf = filter(even,L)\\n\\nfor i in f:\\n    print(i)',\n",
       "  '#filter function\\n\\nL =[1,2,3,4,5,6,7]\\n\\ndef even(x):\\n    if x%2==0:\\n        return L\\n    else:\\n        return none\\n\\nf = filter(even,L)\\n\\nfor i in f:\\n    print(i)',\n",
       "  '#filter function\\n\\nL =[1,2,3,4,5,6,7]\\n\\ndef even(x):\\n    if x%2==0:\\n        return L\\n    else:\\n        return None\\n\\nf = filter(even,L)\\n\\nfor i in f:\\n    print(i)',\n",
       "  'f = filter(lambda x:x>L,print(L))',\n",
       "  'f = filter(lambda x:x>L,L)',\n",
       "  'f = filter(lambda x:x>L,print(L))',\n",
       "  'f = filter(lambda x:x>L,L)\\nfor i in f:\\n    print(L)',\n",
       "  'f = filter(lambda x:x>L,L)\\nfor i in f:\\n    print(i)',\n",
       "  'f = filter(lambda x:x>1,L)\\nfor i in f:\\n    print(i)',\n",
       "  'fz = frozenset(L)\\nfz',\n",
       "  'fz.append(8)\\nfz',\n",
       "  'fz.add(8)\\nfz',\n",
       "  'fz.discard(8)\\nfz',\n",
       "  'globals()'],\n",
       " 'Out': {1: 120,\n",
       "  2: 13,\n",
       "  3: \"'gokul'\",\n",
       "  4: '0b1100',\n",
       "  5: True,\n",
       "  10: (2, 2),\n",
       "  15: 0.6666666666666666,\n",
       "  17: 0.6666666666666666,\n",
       "  38: frozenset({1, 2, 3, 4, 5, 6, 7})},\n",
       " 'get_ipython': <bound method InteractiveShell.get_ipython of <ipykernel.zmqshell.ZMQInteractiveShell object at 0x7f336daf27c0>>,\n",
       " 'exit': <IPython.core.autocall.ZMQExitAutocall at 0x7f336db03640>,\n",
       " 'quit': <IPython.core.autocall.ZMQExitAutocall at 0x7f336db03640>,\n",
       " 'open': <function io.open(file, mode='r', buffering=-1, encoding=None, errors=None, newline=None, closefd=True, opener=None)>,\n",
       " '_': frozenset({1, 2, 3, 4, 5, 6, 7}),\n",
       " '__': 0.6666666666666666,\n",
       " '___': 0.6666666666666666,\n",
       " '__session__': '/home/gokul/python workout/functions.ipynb',\n",
       " '_i': 'fz.discard(8)\\nfz',\n",
       " '_ii': 'fz.add(8)\\nfz',\n",
       " '_iii': 'fz.append(8)\\nfz',\n",
       " '_i1': '#find the factorial of the given number\\n\\ndef fact(n):\\n    if n==0:\\n        return 1\\n    else:\\n        res=n*fact(n-1)\\n        return res\\n\\nfact(5)',\n",
       " 'fact': <function __main__.fact(n)>,\n",
       " '_1': 120,\n",
       " '_i2': 'a = -13\\nabs(a)',\n",
       " 'a': 12,\n",
       " '_2': 13,\n",
       " '_i3': \"a = 'gokul'\\nascii(a)\",\n",
       " '_3': \"'gokul'\",\n",
       " '_i4': 'a=12\\nbin(a)',\n",
       " '_4': '0b1100',\n",
       " '_i5': 'callable(fact)',\n",
       " '_5': True,\n",
       " '_i6': \"printa(chr(65))\\npriint(ord('A'))\",\n",
       " '_i7': \"print(chr(65))\\npriint(ord('A'))\",\n",
       " '_i8': \"print(chr(65))\\nprint(ord('A'))\",\n",
       " '_i9': \"print(chr(65))\\nprint(ord('A'))\\nprint(dir(str))\",\n",
       " '_i10': 'l = 12\\nk = 5\\ndivmod(l,k)',\n",
       " 'l': [1, 2, 3, 4, 5],\n",
       " 'k': 5,\n",
       " '_10': (2, 2),\n",
       " '_i11': 'l = 12\\nk = 5\\nx,y = divmod(l,k)',\n",
       " 'x': 10,\n",
       " 'y': 20,\n",
       " '_i12': 'l = 12\\nk = 5\\nx,y = divmod(l,k)\\nprint(x)\\nprint(y_',\n",
       " '_i13': 'l = 12\\nk = 5\\nx,y = divmod(l,k)\\nprint(x)\\nprint(y)',\n",
       " '_i14': 'eval(2%3**9/3)',\n",
       " '_i15': \"eval('2%3**9/3')\",\n",
       " '_15': 0.6666666666666666,\n",
       " '_i16': 'eval(2%3**9/3)',\n",
       " '_i17': \"eval('2%3**9/3')\",\n",
       " '_17': 0.6666666666666666,\n",
       " '_i18': 'l = [1,2,3,4,5]\\nen = enumerate(l)\\n\\nfor i in en:\\n    print(i)',\n",
       " 'en': <enumerate at 0x7f335cf2ac00>,\n",
       " 'i': 7,\n",
       " '_i19': 'ex_ = x=10\\\\ny=20\\\\nprint(a+b)\\n\\nexec(ec_)',\n",
       " '_i20': \"ex_ = 'x=10\\\\ny=20\\\\nprint(a+b)'\\n\\nexec(ec_)\",\n",
       " 'ex_': 'x=10\\ny=20\\nprint(x+y)',\n",
       " '_i21': \"ex_ = 'x=10\\\\ny=20\\\\nprint(a+b)'\\n\\nexec(ex_)\",\n",
       " '_i22': \"ex_ = 'x=10\\\\ny=20\\\\nprint(x+y)'\\n\\nexec(ex_)\",\n",
       " '_i23': \"ex_ = 'x=10\\\\ny=20\\\\nprint(x+y)'\\n\\nexec(ex_)\\nprint(x)\",\n",
       " '_i24': '#filter function\\n\\nL =[1,2,3,4,5,6,7]\\n\\ndef even(L):\\n    if L%2==0:\\n        return True\\n    else:\\n        return False\\n\\nf = filter(even(L))',\n",
       " 'L': [1, 2, 3, 4, 5, 6, 7],\n",
       " 'even': <function __main__.even(x)>,\n",
       " '_i25': '#filter function\\n\\nL =[1,2,3,4,5,6,7]\\n\\ndef even(x):\\n    if x%2==0:\\n        return True\\n    else:\\n        return False\\n\\nf = filter(even(L))',\n",
       " '_i26': '#filter function\\n\\nL =[1,2,3,4,5,6,7]\\n\\ndef even(x):\\n    if x%2==0:\\n        return True\\n    else:\\n        return False\\n\\nf = filter(even(x))',\n",
       " '_i27': '#filter function\\n\\nL =[1,2,3,4,5,6,7]\\n\\ndef even(x):\\n    if x%2==0:\\n        return True\\n    else:\\n        return False\\n\\nf = filter(even,L)',\n",
       " 'f': <filter at 0x7f335ce7a5b0>,\n",
       " '_i28': '#filter function\\n\\nL =[1,2,3,4,5,6,7]\\n\\ndef even(x):\\n    if x%2==0:\\n        return True\\n    else:\\n        return False\\n\\nf = filter(even,L)\\n\\nfor i in f:\\n    print(i)',\n",
       " '_i29': '#filter function\\n\\nL =[1,2,3,4,5,6,7]\\n\\ndef even(x):\\n    if x%2==0:\\n        return L\\n    else:\\n        return False\\n\\nf = filter(even,L)\\n\\nfor i in f:\\n    print(i)',\n",
       " '_i30': '#filter function\\n\\nL =[1,2,3,4,5,6,7]\\n\\ndef even(x):\\n    if x%2==0:\\n        return L\\n    else:\\n        return none\\n\\nf = filter(even,L)\\n\\nfor i in f:\\n    print(i)',\n",
       " '_i31': '#filter function\\n\\nL =[1,2,3,4,5,6,7]\\n\\ndef even(x):\\n    if x%2==0:\\n        return L\\n    else:\\n        return None\\n\\nf = filter(even,L)\\n\\nfor i in f:\\n    print(i)',\n",
       " '_i32': 'f = filter(lambda x:x>L,print(L))',\n",
       " '_i33': 'f = filter(lambda x:x>L,L)',\n",
       " '_i34': 'f = filter(lambda x:x>L,print(L))',\n",
       " '_i35': 'f = filter(lambda x:x>L,L)\\nfor i in f:\\n    print(L)',\n",
       " '_i36': 'f = filter(lambda x:x>L,L)\\nfor i in f:\\n    print(i)',\n",
       " '_i37': 'f = filter(lambda x:x>1,L)\\nfor i in f:\\n    print(i)',\n",
       " '_i38': 'fz = frozenset(L)\\nfz',\n",
       " 'fz': frozenset({1, 2, 3, 4, 5, 6, 7}),\n",
       " '_38': frozenset({1, 2, 3, 4, 5, 6, 7}),\n",
       " '_i39': 'fz.append(8)\\nfz',\n",
       " '_i40': 'fz.add(8)\\nfz',\n",
       " '_i41': 'fz.discard(8)\\nfz',\n",
       " '_i42': 'globals()'}"
      ]
     },
     "execution_count": 42,
     "metadata": {},
     "output_type": "execute_result"
    }
   ],
   "source": [
    "globals()"
   ]
  },
  {
   "cell_type": "code",
   "execution_count": 43,
   "id": "d192e767-7914-4762-b4bd-62f428243b7b",
   "metadata": {},
   "outputs": [
    {
     "data": {
      "text/plain": [
       "{'__name__': '__main__',\n",
       " '__doc__': 'Automatically created module for IPython interactive environment',\n",
       " '__package__': None,\n",
       " '__loader__': None,\n",
       " '__spec__': None,\n",
       " '__builtin__': <module 'builtins' (built-in)>,\n",
       " '__builtins__': <module 'builtins' (built-in)>,\n",
       " '_ih': ['',\n",
       "  '#find the factorial of the given number\\n\\ndef fact(n):\\n    if n==0:\\n        return 1\\n    else:\\n        res=n*fact(n-1)\\n        return res\\n\\nfact(5)',\n",
       "  'a = -13\\nabs(a)',\n",
       "  \"a = 'gokul'\\nascii(a)\",\n",
       "  'a=12\\nbin(a)',\n",
       "  'callable(fact)',\n",
       "  \"printa(chr(65))\\npriint(ord('A'))\",\n",
       "  \"print(chr(65))\\npriint(ord('A'))\",\n",
       "  \"print(chr(65))\\nprint(ord('A'))\",\n",
       "  \"print(chr(65))\\nprint(ord('A'))\\nprint(dir(str))\",\n",
       "  'l = 12\\nk = 5\\ndivmod(l,k)',\n",
       "  'l = 12\\nk = 5\\nx,y = divmod(l,k)',\n",
       "  'l = 12\\nk = 5\\nx,y = divmod(l,k)\\nprint(x)\\nprint(y_',\n",
       "  'l = 12\\nk = 5\\nx,y = divmod(l,k)\\nprint(x)\\nprint(y)',\n",
       "  'eval(2%3**9/3)',\n",
       "  \"eval('2%3**9/3')\",\n",
       "  'eval(2%3**9/3)',\n",
       "  \"eval('2%3**9/3')\",\n",
       "  'l = [1,2,3,4,5]\\nen = enumerate(l)\\n\\nfor i in en:\\n    print(i)',\n",
       "  'ex_ = x=10\\\\ny=20\\\\nprint(a+b)\\n\\nexec(ec_)',\n",
       "  \"ex_ = 'x=10\\\\ny=20\\\\nprint(a+b)'\\n\\nexec(ec_)\",\n",
       "  \"ex_ = 'x=10\\\\ny=20\\\\nprint(a+b)'\\n\\nexec(ex_)\",\n",
       "  \"ex_ = 'x=10\\\\ny=20\\\\nprint(x+y)'\\n\\nexec(ex_)\",\n",
       "  \"ex_ = 'x=10\\\\ny=20\\\\nprint(x+y)'\\n\\nexec(ex_)\\nprint(x)\",\n",
       "  '#filter function\\n\\nL =[1,2,3,4,5,6,7]\\n\\ndef even(L):\\n    if L%2==0:\\n        return True\\n    else:\\n        return False\\n\\nf = filter(even(L))',\n",
       "  '#filter function\\n\\nL =[1,2,3,4,5,6,7]\\n\\ndef even(x):\\n    if x%2==0:\\n        return True\\n    else:\\n        return False\\n\\nf = filter(even(L))',\n",
       "  '#filter function\\n\\nL =[1,2,3,4,5,6,7]\\n\\ndef even(x):\\n    if x%2==0:\\n        return True\\n    else:\\n        return False\\n\\nf = filter(even(x))',\n",
       "  '#filter function\\n\\nL =[1,2,3,4,5,6,7]\\n\\ndef even(x):\\n    if x%2==0:\\n        return True\\n    else:\\n        return False\\n\\nf = filter(even,L)',\n",
       "  '#filter function\\n\\nL =[1,2,3,4,5,6,7]\\n\\ndef even(x):\\n    if x%2==0:\\n        return True\\n    else:\\n        return False\\n\\nf = filter(even,L)\\n\\nfor i in f:\\n    print(i)',\n",
       "  '#filter function\\n\\nL =[1,2,3,4,5,6,7]\\n\\ndef even(x):\\n    if x%2==0:\\n        return L\\n    else:\\n        return False\\n\\nf = filter(even,L)\\n\\nfor i in f:\\n    print(i)',\n",
       "  '#filter function\\n\\nL =[1,2,3,4,5,6,7]\\n\\ndef even(x):\\n    if x%2==0:\\n        return L\\n    else:\\n        return none\\n\\nf = filter(even,L)\\n\\nfor i in f:\\n    print(i)',\n",
       "  '#filter function\\n\\nL =[1,2,3,4,5,6,7]\\n\\ndef even(x):\\n    if x%2==0:\\n        return L\\n    else:\\n        return None\\n\\nf = filter(even,L)\\n\\nfor i in f:\\n    print(i)',\n",
       "  'f = filter(lambda x:x>L,print(L))',\n",
       "  'f = filter(lambda x:x>L,L)',\n",
       "  'f = filter(lambda x:x>L,print(L))',\n",
       "  'f = filter(lambda x:x>L,L)\\nfor i in f:\\n    print(L)',\n",
       "  'f = filter(lambda x:x>L,L)\\nfor i in f:\\n    print(i)',\n",
       "  'f = filter(lambda x:x>1,L)\\nfor i in f:\\n    print(i)',\n",
       "  'fz = frozenset(L)\\nfz',\n",
       "  'fz.append(8)\\nfz',\n",
       "  'fz.add(8)\\nfz',\n",
       "  'fz.discard(8)\\nfz',\n",
       "  'globals()',\n",
       "  'locals()'],\n",
       " '_oh': {1: 120,\n",
       "  2: 13,\n",
       "  3: \"'gokul'\",\n",
       "  4: '0b1100',\n",
       "  5: True,\n",
       "  10: (2, 2),\n",
       "  15: 0.6666666666666666,\n",
       "  17: 0.6666666666666666,\n",
       "  38: frozenset({1, 2, 3, 4, 5, 6, 7}),\n",
       "  42: {...}},\n",
       " '_dh': [PosixPath('/home/gokul/python workout')],\n",
       " 'In': ['',\n",
       "  '#find the factorial of the given number\\n\\ndef fact(n):\\n    if n==0:\\n        return 1\\n    else:\\n        res=n*fact(n-1)\\n        return res\\n\\nfact(5)',\n",
       "  'a = -13\\nabs(a)',\n",
       "  \"a = 'gokul'\\nascii(a)\",\n",
       "  'a=12\\nbin(a)',\n",
       "  'callable(fact)',\n",
       "  \"printa(chr(65))\\npriint(ord('A'))\",\n",
       "  \"print(chr(65))\\npriint(ord('A'))\",\n",
       "  \"print(chr(65))\\nprint(ord('A'))\",\n",
       "  \"print(chr(65))\\nprint(ord('A'))\\nprint(dir(str))\",\n",
       "  'l = 12\\nk = 5\\ndivmod(l,k)',\n",
       "  'l = 12\\nk = 5\\nx,y = divmod(l,k)',\n",
       "  'l = 12\\nk = 5\\nx,y = divmod(l,k)\\nprint(x)\\nprint(y_',\n",
       "  'l = 12\\nk = 5\\nx,y = divmod(l,k)\\nprint(x)\\nprint(y)',\n",
       "  'eval(2%3**9/3)',\n",
       "  \"eval('2%3**9/3')\",\n",
       "  'eval(2%3**9/3)',\n",
       "  \"eval('2%3**9/3')\",\n",
       "  'l = [1,2,3,4,5]\\nen = enumerate(l)\\n\\nfor i in en:\\n    print(i)',\n",
       "  'ex_ = x=10\\\\ny=20\\\\nprint(a+b)\\n\\nexec(ec_)',\n",
       "  \"ex_ = 'x=10\\\\ny=20\\\\nprint(a+b)'\\n\\nexec(ec_)\",\n",
       "  \"ex_ = 'x=10\\\\ny=20\\\\nprint(a+b)'\\n\\nexec(ex_)\",\n",
       "  \"ex_ = 'x=10\\\\ny=20\\\\nprint(x+y)'\\n\\nexec(ex_)\",\n",
       "  \"ex_ = 'x=10\\\\ny=20\\\\nprint(x+y)'\\n\\nexec(ex_)\\nprint(x)\",\n",
       "  '#filter function\\n\\nL =[1,2,3,4,5,6,7]\\n\\ndef even(L):\\n    if L%2==0:\\n        return True\\n    else:\\n        return False\\n\\nf = filter(even(L))',\n",
       "  '#filter function\\n\\nL =[1,2,3,4,5,6,7]\\n\\ndef even(x):\\n    if x%2==0:\\n        return True\\n    else:\\n        return False\\n\\nf = filter(even(L))',\n",
       "  '#filter function\\n\\nL =[1,2,3,4,5,6,7]\\n\\ndef even(x):\\n    if x%2==0:\\n        return True\\n    else:\\n        return False\\n\\nf = filter(even(x))',\n",
       "  '#filter function\\n\\nL =[1,2,3,4,5,6,7]\\n\\ndef even(x):\\n    if x%2==0:\\n        return True\\n    else:\\n        return False\\n\\nf = filter(even,L)',\n",
       "  '#filter function\\n\\nL =[1,2,3,4,5,6,7]\\n\\ndef even(x):\\n    if x%2==0:\\n        return True\\n    else:\\n        return False\\n\\nf = filter(even,L)\\n\\nfor i in f:\\n    print(i)',\n",
       "  '#filter function\\n\\nL =[1,2,3,4,5,6,7]\\n\\ndef even(x):\\n    if x%2==0:\\n        return L\\n    else:\\n        return False\\n\\nf = filter(even,L)\\n\\nfor i in f:\\n    print(i)',\n",
       "  '#filter function\\n\\nL =[1,2,3,4,5,6,7]\\n\\ndef even(x):\\n    if x%2==0:\\n        return L\\n    else:\\n        return none\\n\\nf = filter(even,L)\\n\\nfor i in f:\\n    print(i)',\n",
       "  '#filter function\\n\\nL =[1,2,3,4,5,6,7]\\n\\ndef even(x):\\n    if x%2==0:\\n        return L\\n    else:\\n        return None\\n\\nf = filter(even,L)\\n\\nfor i in f:\\n    print(i)',\n",
       "  'f = filter(lambda x:x>L,print(L))',\n",
       "  'f = filter(lambda x:x>L,L)',\n",
       "  'f = filter(lambda x:x>L,print(L))',\n",
       "  'f = filter(lambda x:x>L,L)\\nfor i in f:\\n    print(L)',\n",
       "  'f = filter(lambda x:x>L,L)\\nfor i in f:\\n    print(i)',\n",
       "  'f = filter(lambda x:x>1,L)\\nfor i in f:\\n    print(i)',\n",
       "  'fz = frozenset(L)\\nfz',\n",
       "  'fz.append(8)\\nfz',\n",
       "  'fz.add(8)\\nfz',\n",
       "  'fz.discard(8)\\nfz',\n",
       "  'globals()',\n",
       "  'locals()'],\n",
       " 'Out': {1: 120,\n",
       "  2: 13,\n",
       "  3: \"'gokul'\",\n",
       "  4: '0b1100',\n",
       "  5: True,\n",
       "  10: (2, 2),\n",
       "  15: 0.6666666666666666,\n",
       "  17: 0.6666666666666666,\n",
       "  38: frozenset({1, 2, 3, 4, 5, 6, 7}),\n",
       "  42: {...}},\n",
       " 'get_ipython': <bound method InteractiveShell.get_ipython of <ipykernel.zmqshell.ZMQInteractiveShell object at 0x7f336daf27c0>>,\n",
       " 'exit': <IPython.core.autocall.ZMQExitAutocall at 0x7f336db03640>,\n",
       " 'quit': <IPython.core.autocall.ZMQExitAutocall at 0x7f336db03640>,\n",
       " 'open': <function io.open(file, mode='r', buffering=-1, encoding=None, errors=None, newline=None, closefd=True, opener=None)>,\n",
       " '_': {...},\n",
       " '__': frozenset({1, 2, 3, 4, 5, 6, 7}),\n",
       " '___': 0.6666666666666666,\n",
       " '__session__': '/home/gokul/python workout/functions.ipynb',\n",
       " '_i': 'globals()',\n",
       " '_ii': 'fz.discard(8)\\nfz',\n",
       " '_iii': 'fz.add(8)\\nfz',\n",
       " '_i1': '#find the factorial of the given number\\n\\ndef fact(n):\\n    if n==0:\\n        return 1\\n    else:\\n        res=n*fact(n-1)\\n        return res\\n\\nfact(5)',\n",
       " 'fact': <function __main__.fact(n)>,\n",
       " '_1': 120,\n",
       " '_i2': 'a = -13\\nabs(a)',\n",
       " 'a': 12,\n",
       " '_2': 13,\n",
       " '_i3': \"a = 'gokul'\\nascii(a)\",\n",
       " '_3': \"'gokul'\",\n",
       " '_i4': 'a=12\\nbin(a)',\n",
       " '_4': '0b1100',\n",
       " '_i5': 'callable(fact)',\n",
       " '_5': True,\n",
       " '_i6': \"printa(chr(65))\\npriint(ord('A'))\",\n",
       " '_i7': \"print(chr(65))\\npriint(ord('A'))\",\n",
       " '_i8': \"print(chr(65))\\nprint(ord('A'))\",\n",
       " '_i9': \"print(chr(65))\\nprint(ord('A'))\\nprint(dir(str))\",\n",
       " '_i10': 'l = 12\\nk = 5\\ndivmod(l,k)',\n",
       " 'l': [1, 2, 3, 4, 5],\n",
       " 'k': 5,\n",
       " '_10': (2, 2),\n",
       " '_i11': 'l = 12\\nk = 5\\nx,y = divmod(l,k)',\n",
       " 'x': 10,\n",
       " 'y': 20,\n",
       " '_i12': 'l = 12\\nk = 5\\nx,y = divmod(l,k)\\nprint(x)\\nprint(y_',\n",
       " '_i13': 'l = 12\\nk = 5\\nx,y = divmod(l,k)\\nprint(x)\\nprint(y)',\n",
       " '_i14': 'eval(2%3**9/3)',\n",
       " '_i15': \"eval('2%3**9/3')\",\n",
       " '_15': 0.6666666666666666,\n",
       " '_i16': 'eval(2%3**9/3)',\n",
       " '_i17': \"eval('2%3**9/3')\",\n",
       " '_17': 0.6666666666666666,\n",
       " '_i18': 'l = [1,2,3,4,5]\\nen = enumerate(l)\\n\\nfor i in en:\\n    print(i)',\n",
       " 'en': <enumerate at 0x7f335cf2ac00>,\n",
       " 'i': 7,\n",
       " '_i19': 'ex_ = x=10\\\\ny=20\\\\nprint(a+b)\\n\\nexec(ec_)',\n",
       " '_i20': \"ex_ = 'x=10\\\\ny=20\\\\nprint(a+b)'\\n\\nexec(ec_)\",\n",
       " 'ex_': 'x=10\\ny=20\\nprint(x+y)',\n",
       " '_i21': \"ex_ = 'x=10\\\\ny=20\\\\nprint(a+b)'\\n\\nexec(ex_)\",\n",
       " '_i22': \"ex_ = 'x=10\\\\ny=20\\\\nprint(x+y)'\\n\\nexec(ex_)\",\n",
       " '_i23': \"ex_ = 'x=10\\\\ny=20\\\\nprint(x+y)'\\n\\nexec(ex_)\\nprint(x)\",\n",
       " '_i24': '#filter function\\n\\nL =[1,2,3,4,5,6,7]\\n\\ndef even(L):\\n    if L%2==0:\\n        return True\\n    else:\\n        return False\\n\\nf = filter(even(L))',\n",
       " 'L': [1, 2, 3, 4, 5, 6, 7],\n",
       " 'even': <function __main__.even(x)>,\n",
       " '_i25': '#filter function\\n\\nL =[1,2,3,4,5,6,7]\\n\\ndef even(x):\\n    if x%2==0:\\n        return True\\n    else:\\n        return False\\n\\nf = filter(even(L))',\n",
       " '_i26': '#filter function\\n\\nL =[1,2,3,4,5,6,7]\\n\\ndef even(x):\\n    if x%2==0:\\n        return True\\n    else:\\n        return False\\n\\nf = filter(even(x))',\n",
       " '_i27': '#filter function\\n\\nL =[1,2,3,4,5,6,7]\\n\\ndef even(x):\\n    if x%2==0:\\n        return True\\n    else:\\n        return False\\n\\nf = filter(even,L)',\n",
       " 'f': <filter at 0x7f335ce7a5b0>,\n",
       " '_i28': '#filter function\\n\\nL =[1,2,3,4,5,6,7]\\n\\ndef even(x):\\n    if x%2==0:\\n        return True\\n    else:\\n        return False\\n\\nf = filter(even,L)\\n\\nfor i in f:\\n    print(i)',\n",
       " '_i29': '#filter function\\n\\nL =[1,2,3,4,5,6,7]\\n\\ndef even(x):\\n    if x%2==0:\\n        return L\\n    else:\\n        return False\\n\\nf = filter(even,L)\\n\\nfor i in f:\\n    print(i)',\n",
       " '_i30': '#filter function\\n\\nL =[1,2,3,4,5,6,7]\\n\\ndef even(x):\\n    if x%2==0:\\n        return L\\n    else:\\n        return none\\n\\nf = filter(even,L)\\n\\nfor i in f:\\n    print(i)',\n",
       " '_i31': '#filter function\\n\\nL =[1,2,3,4,5,6,7]\\n\\ndef even(x):\\n    if x%2==0:\\n        return L\\n    else:\\n        return None\\n\\nf = filter(even,L)\\n\\nfor i in f:\\n    print(i)',\n",
       " '_i32': 'f = filter(lambda x:x>L,print(L))',\n",
       " '_i33': 'f = filter(lambda x:x>L,L)',\n",
       " '_i34': 'f = filter(lambda x:x>L,print(L))',\n",
       " '_i35': 'f = filter(lambda x:x>L,L)\\nfor i in f:\\n    print(L)',\n",
       " '_i36': 'f = filter(lambda x:x>L,L)\\nfor i in f:\\n    print(i)',\n",
       " '_i37': 'f = filter(lambda x:x>1,L)\\nfor i in f:\\n    print(i)',\n",
       " '_i38': 'fz = frozenset(L)\\nfz',\n",
       " 'fz': frozenset({1, 2, 3, 4, 5, 6, 7}),\n",
       " '_38': frozenset({1, 2, 3, 4, 5, 6, 7}),\n",
       " '_i39': 'fz.append(8)\\nfz',\n",
       " '_i40': 'fz.add(8)\\nfz',\n",
       " '_i41': 'fz.discard(8)\\nfz',\n",
       " '_i42': 'globals()',\n",
       " '_42': {...},\n",
       " '_i43': 'locals()'}"
      ]
     },
     "execution_count": 43,
     "metadata": {},
     "output_type": "execute_result"
    }
   ],
   "source": [
    "locals()"
   ]
  },
  {
   "cell_type": "code",
   "execution_count": 45,
   "id": "8e3924aa-8c24-47ad-91d9-4359a803fee3",
   "metadata": {},
   "outputs": [
    {
     "name": "stdout",
     "output_type": "stream",
     "text": [
      "Help on built-in function append:\n",
      "\n",
      "append(object, /) method of builtins.list instance\n",
      "    Append object to the end of the list.\n",
      "\n"
     ]
    }
   ],
   "source": [
    "help(L.append)"
   ]
  },
  {
   "cell_type": "code",
   "execution_count": 61,
   "id": "51af9cd9-9327-4bbe-a769-b5653ca94b10",
   "metadata": {},
   "outputs": [
    {
     "data": {
      "text/plain": [
       "True"
      ]
     },
     "execution_count": 61,
     "metadata": {},
     "output_type": "execute_result"
    }
   ],
   "source": [
    "#hasattribute\n",
    "\n",
    "s = 'adcdef'\n",
    "hasattr(s,'lower')\n",
    "hasattr(s,'isdigit')\n",
    "hasattr(s,'string')\n",
    "\n",
    "#isinstance\n",
    "\n",
    "a ='abc'\n",
    "b =12\n",
    "\n",
    "isinstance(a, str)"
   ]
  },
  {
   "cell_type": "code",
   "execution_count": 73,
   "id": "15847d5b-1bbf-4a01-9a43-6492ba5dda02",
   "metadata": {},
   "outputs": [
    {
     "data": {
      "text/plain": [
       "[1, 4, 9, 16]"
      ]
     },
     "execution_count": 73,
     "metadata": {},
     "output_type": "execute_result"
    }
   ],
   "source": [
    "L1 = [1,2,3,4]\n",
    "\n",
    "m = map(lambda x:x**2,L1)\n",
    "list(L1)\n",
    "list(m)\n",
    "    "
   ]
  },
  {
   "cell_type": "code",
   "execution_count": 75,
   "id": "b8c71ebf-cd08-4f6b-9a92-997313a4d1b4",
   "metadata": {},
   "outputs": [
    {
     "data": {
      "text/plain": [
       "[1, 6, 15, 28]"
      ]
     },
     "execution_count": 75,
     "metadata": {},
     "output_type": "execute_result"
    }
   ],
   "source": [
    "L2 = [1,3,5,7]\n",
    "m = map(lambda x,y:x*y,L1,L2)\n",
    "list(m)\n"
   ]
  },
  {
   "cell_type": "code",
   "execution_count": 76,
   "id": "204a4ab7-d93e-45f2-bdd5-8954f0c7d623",
   "metadata": {},
   "outputs": [
    {
     "data": {
      "text/plain": [
       "[1, 2, 3, 4]"
      ]
     },
     "execution_count": 76,
     "metadata": {},
     "output_type": "execute_result"
    }
   ],
   "source": [
    "list(L1)"
   ]
  },
  {
   "cell_type": "code",
   "execution_count": 78,
   "id": "289335b4-a9ab-4479-a97e-56cf36ab7054",
   "metadata": {},
   "outputs": [
    {
     "data": {
      "text/plain": [
       "[1, 2, 3, 4]"
      ]
     },
     "execution_count": 78,
     "metadata": {},
     "output_type": "execute_result"
    }
   ],
   "source": [
    "sorted(L1,reverse=False)"
   ]
  },
  {
   "cell_type": "code",
   "execution_count": 80,
   "id": "e7faff2c-d1a7-4760-be5c-ca6503975fa9",
   "metadata": {},
   "outputs": [
    {
     "data": {
      "text/plain": [
       "[7, 5, 3, 1]"
      ]
     },
     "execution_count": 80,
     "metadata": {},
     "output_type": "execute_result"
    }
   ],
   "source": [
    "sorted(L2, reverse=True)"
   ]
  },
  {
   "cell_type": "code",
   "execution_count": 86,
   "id": "0e3c80dc-6a8c-42be-bdbe-6bb625d3d7f1",
   "metadata": {},
   "outputs": [
    {
     "ename": "TypeError",
     "evalue": "'list' object is not callable",
     "output_type": "error",
     "traceback": [
      "\u001b[0;31m---------------------------------------------------------------------------\u001b[0m",
      "\u001b[0;31mTypeError\u001b[0m                                 Traceback (most recent call last)",
      "Cell \u001b[0;32mIn[86], line 2\u001b[0m\n\u001b[1;32m      1\u001b[0m s \u001b[38;5;241m=\u001b[39m \u001b[38;5;28mslice\u001b[39m(\u001b[38;5;241m0\u001b[39m,\u001b[38;5;241m2\u001b[39m)\n\u001b[0;32m----> 2\u001b[0m \u001b[43mL2\u001b[49m\u001b[43m(\u001b[49m\u001b[43ms\u001b[49m\u001b[43m)\u001b[49m\n",
      "\u001b[0;31mTypeError\u001b[0m: 'list' object is not callable"
     ]
    }
   ],
   "source": [
    "s = slice(0,2)\n",
    "L2(s)\n"
   ]
  },
  {
   "cell_type": "code",
   "execution_count": 90,
   "id": "07e32c84-e542-4c0c-8ea6-13d6d7284bcf",
   "metadata": {},
   "outputs": [
    {
     "name": "stdout",
     "output_type": "stream",
     "text": [
      "Help on class slice in module builtins:\n",
      "\n",
      "class slice(object)\n",
      " |  slice(stop)\n",
      " |  slice(start, stop[, step])\n",
      " |  \n",
      " |  Create a slice object.  This is used for extended slicing (e.g. a[0:10:2]).\n",
      " |  \n",
      " |  Methods defined here:\n",
      " |  \n",
      " |  __eq__(self, value, /)\n",
      " |      Return self==value.\n",
      " |  \n",
      " |  __ge__(self, value, /)\n",
      " |      Return self>=value.\n",
      " |  \n",
      " |  __getattribute__(self, name, /)\n",
      " |      Return getattr(self, name).\n",
      " |  \n",
      " |  __gt__(self, value, /)\n",
      " |      Return self>value.\n",
      " |  \n",
      " |  __le__(self, value, /)\n",
      " |      Return self<=value.\n",
      " |  \n",
      " |  __lt__(self, value, /)\n",
      " |      Return self<value.\n",
      " |  \n",
      " |  __ne__(self, value, /)\n",
      " |      Return self!=value.\n",
      " |  \n",
      " |  __reduce__(...)\n",
      " |      Return state information for pickling.\n",
      " |  \n",
      " |  __repr__(self, /)\n",
      " |      Return repr(self).\n",
      " |  \n",
      " |  indices(...)\n",
      " |      S.indices(len) -> (start, stop, stride)\n",
      " |      \n",
      " |      Assuming a sequence of length len, calculate the start and stop\n",
      " |      indices, and the stride length of the extended slice described by\n",
      " |      S. Out of bounds indices are clipped in a manner consistent with the\n",
      " |      handling of normal slices.\n",
      " |  \n",
      " |  ----------------------------------------------------------------------\n",
      " |  Static methods defined here:\n",
      " |  \n",
      " |  __new__(*args, **kwargs) from builtins.type\n",
      " |      Create and return a new object.  See help(type) for accurate signature.\n",
      " |  \n",
      " |  ----------------------------------------------------------------------\n",
      " |  Data descriptors defined here:\n",
      " |  \n",
      " |  start\n",
      " |  \n",
      " |  step\n",
      " |  \n",
      " |  stop\n",
      " |  \n",
      " |  ----------------------------------------------------------------------\n",
      " |  Data and other attributes defined here:\n",
      " |  \n",
      " |  __hash__ = None\n",
      "\n"
     ]
    }
   ],
   "source": [
    "help(slice)"
   ]
  },
  {
   "cell_type": "code",
   "execution_count": 92,
   "id": "dbff43f5-eb4e-4fe1-ae8b-91f45d147fb5",
   "metadata": {},
   "outputs": [
    {
     "data": {
      "text/plain": [
       "<zip at 0x7f335ce06e00>"
      ]
     },
     "execution_count": 92,
     "metadata": {},
     "output_type": "execute_result"
    }
   ],
   "source": [
    "z = zip(L1,L2)\n",
    "z"
   ]
  },
  {
   "cell_type": "code",
   "execution_count": 93,
   "id": "195109cc-690c-4766-a57f-7064327e2a71",
   "metadata": {},
   "outputs": [
    {
     "name": "stdout",
     "output_type": "stream",
     "text": [
      "(1, 1)\n",
      "(2, 3)\n",
      "(3, 5)\n",
      "(4, 7)\n"
     ]
    }
   ],
   "source": [
    "for i in z:\n",
    "    print(i)"
   ]
  },
  {
   "cell_type": "code",
   "execution_count": 94,
   "id": "e6674e81-2477-4eb6-8ca4-2bf910288372",
   "metadata": {},
   "outputs": [
    {
     "data": {
      "text/plain": [
       "<list_reverseiterator at 0x7f335c54a520>"
      ]
     },
     "execution_count": 94,
     "metadata": {},
     "output_type": "execute_result"
    }
   ],
   "source": [
    "r = reversed(L1)\n",
    "r"
   ]
  },
  {
   "cell_type": "code",
   "execution_count": 95,
   "id": "e4bff70b-3fd3-4c4e-85f9-ddf4b3033e8d",
   "metadata": {},
   "outputs": [
    {
     "data": {
      "text/plain": [
       "4"
      ]
     },
     "execution_count": 95,
     "metadata": {},
     "output_type": "execute_result"
    }
   ],
   "source": [
    "next(r)"
   ]
  },
  {
   "cell_type": "code",
   "execution_count": 96,
   "id": "f092a807-5144-400b-9444-9a1b9417961e",
   "metadata": {},
   "outputs": [
    {
     "data": {
      "text/plain": [
       "3"
      ]
     },
     "execution_count": 96,
     "metadata": {},
     "output_type": "execute_result"
    }
   ],
   "source": [
    "next(r)"
   ]
  },
  {
   "cell_type": "code",
   "execution_count": 97,
   "id": "ed64a25d-b0ac-445b-bb60-dcced81f70f7",
   "metadata": {},
   "outputs": [
    {
     "data": {
      "text/plain": [
       "12"
      ]
     },
     "execution_count": 97,
     "metadata": {},
     "output_type": "execute_result"
    }
   ],
   "source": [
    "round(12.4988)"
   ]
  },
  {
   "cell_type": "code",
   "execution_count": 98,
   "id": "a4f414da-56d3-4363-ae99-a3ddb95191fa",
   "metadata": {},
   "outputs": [
    {
     "data": {
      "text/plain": [
       "13"
      ]
     },
     "execution_count": 98,
     "metadata": {},
     "output_type": "execute_result"
    }
   ],
   "source": [
    "round(12.9888)"
   ]
  },
  {
   "cell_type": "code",
   "execution_count": 100,
   "id": "e31b2529-74d8-4686-a059-b2bd03f2547e",
   "metadata": {},
   "outputs": [
    {
     "ename": "ModuleNotFoundError",
     "evalue": "No module named 'h'",
     "output_type": "error",
     "traceback": [
      "\u001b[0;31m---------------------------------------------------------------------------\u001b[0m",
      "\u001b[0;31mModuleNotFoundError\u001b[0m                       Traceback (most recent call last)",
      "Cell \u001b[0;32mIn[100], line 1\u001b[0m\n\u001b[0;32m----> 1\u001b[0m \u001b[38;5;28;01mimport\u001b[39;00m \u001b[38;5;21;01mh\u001b[39;00m \u001b[38;5;28;01mas\u001b[39;00m \u001b[38;5;21;01mmo\u001b[39;00m\n\u001b[1;32m      3\u001b[0m a \u001b[38;5;241m=\u001b[39m \u001b[38;5;241m2\u001b[39m\n\u001b[1;32m      4\u001b[0m b \u001b[38;5;241m=\u001b[39m \u001b[38;5;241m3\u001b[39m\n",
      "\u001b[0;31mModuleNotFoundError\u001b[0m: No module named 'h'"
     ]
    }
   ],
   "source": [
    "import h as mo\n",
    "\n",
    "a = 2\n",
    "b = 3\n",
    "\n",
    "print(mo.add(x,y))\n",
    "print(mo.add(x,y))\n",
    "print(mo.add(total_amount))"
   ]
  },
  {
   "cell_type": "code",
   "execution_count": null,
   "id": "8a4c42a7-c3c4-48f6-919b-545262f9c9a9",
   "metadata": {},
   "outputs": [],
   "source": []
  }
 ],
 "metadata": {
  "kernelspec": {
   "display_name": "Python 3 (ipykernel)",
   "language": "python",
   "name": "python3"
  },
  "language_info": {
   "codemirror_mode": {
    "name": "ipython",
    "version": 3
   },
   "file_extension": ".py",
   "mimetype": "text/x-python",
   "name": "python",
   "nbconvert_exporter": "python",
   "pygments_lexer": "ipython3",
   "version": "3.8.10"
  }
 },
 "nbformat": 4,
 "nbformat_minor": 5
}
