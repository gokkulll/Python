{
 "cells": [
  {
   "cell_type": "code",
   "execution_count": 17,
   "id": "2ea1c23f-4b9d-440f-893e-067e9d8010cd",
   "metadata": {},
   "outputs": [
    {
     "name": "stdout",
     "output_type": "stream",
     "text": [
      "4\n",
      "3\n"
     ]
    }
   ],
   "source": [
    "#rolling a dice and getting a random number on two dice \n",
    "\n",
    "from random import *\n",
    "\n",
    "class Dice:\n",
    "    def __init__(self,slide_1,slide_2):\n",
    "        self.slide_1=slide_1\n",
    "        self.slide_2=slide_2\n",
    "\n",
    "    def rolldice(self):\n",
    "        return randint(1,self.slide_1)\n",
    "\n",
    "d1 = Dice(6,6)\n",
    "print(d1.rolldice())\n",
    "\n",
    "print(d1.rolldice())"
   ]
  },
  {
   "cell_type": "code",
   "execution_count": 21,
   "id": "eb1e47fc-ba17-4d33-9cf9-bc9f8faac0cd",
   "metadata": {},
   "outputs": [
    {
     "name": "stdout",
     "output_type": "stream",
     "text": [
      "5\n",
      "2\n"
     ]
    }
   ],
   "source": [
    "#rolling a single to get a random number\n",
    "from random import *\n",
    "\n",
    "class Dice:\n",
    "    def __init__(self,slides):\n",
    "        self.slides=slides\n",
    "      \n",
    "    def rolldice(self):\n",
    "        return randint(1,self.slides)\n",
    "\n",
    "d1 = Dice(6)\n",
    "print(d1.rolldice())\n",
    "\n",
    "print(d1.rolldice())"
   ]
  },
  {
   "cell_type": "code",
   "execution_count": 25,
   "id": "cbef4d7f-b398-40cb-b646-497d80513fec",
   "metadata": {},
   "outputs": [
    {
     "name": "stdout",
     "output_type": "stream",
     "text": [
      "153.93804002589985\n",
      "43.982297150257104\n"
     ]
    }
   ],
   "source": [
    "#finding a and perimeter of the given circle\n",
    "\n",
    "import math\n",
    "\n",
    "class Circle:\n",
    "\n",
    "    def __init__(self,radius):\n",
    "        self.radius=radius\n",
    "\n",
    "    def area(self):\n",
    "        return math.pi * self.radius * self.radius\n",
    "\n",
    "    def perimeter(self):\n",
    "        return math.pi * 2 * self.radius\n",
    "\n",
    "c1 = Circle(7)\n",
    "\n",
    "print(c1.area())\n",
    "print(c1.perimeter())"
   ]
  },
  {
   "cell_type": "code",
   "execution_count": 27,
   "id": "e377a8b1-47d9-45cc-aaa2-6b608bea42e1",
   "metadata": {},
   "outputs": [
    {
     "name": "stdout",
     "output_type": "stream",
     "text": [
      "python\n",
      "abdul bari\n",
      "1000\n",
      "\n",
      "\n",
      "java\n",
      "abdul bari\n",
      "1200\n",
      "\n",
      "\n"
     ]
    }
   ],
   "source": [
    "# to print the book details\n",
    "\n",
    "class Book():\n",
    "    def __init__(self,book,author,price):\n",
    "        self.book = book\n",
    "        self.author = author\n",
    "        self.price = price\n",
    "\n",
    "    def showdetails(self):\n",
    "        print(self.book)\n",
    "        print(self.author)\n",
    "        print(self.price)\n",
    "        print('\\n')\n",
    "\n",
    "b1 = Book('python','abdul bari',1000)\n",
    "b2 = Book('java','abdul bari',1200)\n",
    "\n",
    "b1.showdetails()\n",
    "b2.showdetails()\n"
   ]
  },
  {
   "cell_type": "code",
   "execution_count": 9,
   "id": "809e31ff-623d-4f8c-bcc9-79d4910cbcc9",
   "metadata": {},
   "outputs": [
    {
     "name": "stdout",
     "output_type": "stream",
     "text": [
      "Mark\n",
      "e101\n",
      "Team Leader\n",
      "10000\n",
      "3\n"
     ]
    }
   ],
   "source": [
    "#employee details with automation of the employee id\n",
    "\n",
    "class Employee:\n",
    "\n",
    "    Employee_count=101\n",
    "\n",
    "    def __init__(self,name,designation,salary):\n",
    "        self.name=name\n",
    "        self.designation=designation\n",
    "        self.salary=salary\n",
    "        self.eid = 'e' + str(Employee.Employee_count)\n",
    "        Employee.Employee_count +=1\n",
    "      #  self.eid = self.Employee_count\n",
    "       # self.Employee_count += 1\n",
    "    def showdetails(self):\n",
    "        print(self.name)\n",
    "        print(self.eid)\n",
    "        print(self.designation)\n",
    "        print(self.salary)\n",
    "\n",
    "    \n",
    "    def total_emp(self):\n",
    "        return self.Employee_count-101\n",
    "\n",
    "\n",
    "e1 = Employee(\"Mark\",\"Team Leader\",10000)\n",
    "e2 = Employee(\"Antony\",\"Manager\", 12000)\n",
    "e3= Employee('amrk_antony','salesManager',11000)\n",
    "e1.showdetails()\n",
    "\n",
    "print(e1.total_emp())"
   ]
  },
  {
   "cell_type": "code",
   "execution_count": 58,
   "id": "cdca3cfd-1819-48d4-b806-c0c12dd9a502",
   "metadata": {},
   "outputs": [
    {
     "name": "stdout",
     "output_type": "stream",
     "text": [
      "3\n"
     ]
    }
   ],
   "source": [
    "#simple calculator\n",
    "\n",
    "class Calculator():\n",
    "    def add(a,b):\n",
    "        return a+b\n",
    "\n",
    "    def sub(a,b):\n",
    "        return a-b\n",
    "\n",
    "    def mul(a,b):\n",
    "        return a*b\n",
    "\n",
    "    def div(a,b):\n",
    "        return a/b\n",
    "'''\n",
    "x=1\n",
    "y=2\n",
    "'''\n",
    "print(Calculator.add(1,2))"
   ]
  },
  {
   "cell_type": "code",
   "execution_count": 66,
   "id": "f9b742d9-58ef-48de-b7e8-ce67a0f3f8fb",
   "metadata": {},
   "outputs": [
    {
     "name": "stdout",
     "output_type": "stream",
     "text": [
      "gokul\n",
      "984234778\n",
      "8667062162\n"
     ]
    }
   ],
   "source": [
    "#get name and phone number and to change the phone number of the customer\n",
    "\n",
    "class Customer:\n",
    "\n",
    "    def __init__(self,name,phoneno):\n",
    "        self.name=name\n",
    "        self.p_no=phoneno\n",
    "\n",
    "    def get_name(self):\n",
    "        return self.name\n",
    "\n",
    "    def get_phoneno(self):\n",
    "        return self.p_no\n",
    "    def set_phoneno(self,p2no):\n",
    "        self.p_no= p2no\n",
    "\n",
    "c1= Customer('gokul',984234778)\n",
    "print(c1.get_name())\n",
    "print(c1.get_phoneno())\n",
    "\n",
    "\n",
    "\n",
    "c1.set_phoneno(8667062162)\n",
    "print(c1.get_phoneno())"
   ]
  },
  {
   "cell_type": "code",
   "execution_count": 73,
   "id": "485686d3-049c-46fc-9589-29981eb8ad5a",
   "metadata": {},
   "outputs": [
    {
     "name": "stdout",
     "output_type": "stream",
     "text": [
      "USD=8000\n",
      "AUD=60000\n"
     ]
    }
   ],
   "source": [
    "#currency converor\n",
    "\n",
    "class currency:\n",
    "    def __init__(self,currency,rate):\n",
    "        self.currency=currency\n",
    "        self.rate=rate\n",
    "\n",
    "    def get_currency(self):\n",
    "        return self.currency\n",
    "\n",
    "    def get_rate(self):\n",
    "        return self.rate\n",
    "\n",
    "    def set_currency(self,name):\n",
    "        self.currency=name\n",
    "\n",
    "    def set_rate(self,rate):\n",
    "        self.rate=rate\n",
    "\n",
    "    def conversion(self,amount):\n",
    "        return self.currency + '=' + str(self.rate*amount)\n",
    "\n",
    "c1 = currency(\"USD\", 80)\n",
    "print(c1.conversion(100))\n",
    "\n",
    "\n",
    "c1.set_currency(\"AUD\")\n",
    "c1.set_rate(60)\n",
    "\n",
    "print(c1.conversion(1000))\n"
   ]
  },
  {
   "cell_type": "code",
   "execution_count": 3,
   "id": "a08962fe-9b64-4cab-999a-5453965cbfa6",
   "metadata": {},
   "outputs": [
    {
     "name": "stdout",
     "output_type": "stream",
     "text": [
      "Account Number 1001\n",
      "Name John\n",
      "Balance 2000\n"
     ]
    }
   ],
   "source": [
    "class MinimumBalanceError(Exception):\n",
    "    pass\n",
    "\n",
    "class Account:\n",
    "    AccNumber = 1001\n",
    "\n",
    "    def __init__(self, name, balance=1000):\n",
    "\n",
    "        if balance < 1000:\n",
    "            raise MinimumBalanceError('Account Cannot be Created')\n",
    "        self.name = name\n",
    "        self.balance = balance\n",
    "        self.account_number = Account.AccNumber\n",
    "        Account.AccNumber += 1\n",
    "\n",
    "    def deposit(self, amt):\n",
    "        self.balance += amt\n",
    "\n",
    "    def withdraw(self, amt):\n",
    "        if self.balance - amt < 1000:\n",
    "            raise MinimumBalanceError('Amount cannot be withdrawn')\n",
    "        self.balance -= amt\n",
    "\n",
    "    def show_details(self):\n",
    "        print('Account Number',self.account_number)\n",
    "        print('Name',self.name)\n",
    "        print('Balance',self.balance)\n",
    "\n",
    "\n",
    "a1 = Account('John', 2000)\n",
    "a1.withdraw(1500)\n",
    "a1.show_details()"
   ]
  },
  {
   "cell_type": "code",
   "execution_count": 13,
   "id": "ba23f305-18cc-42c4-a31a-294f2e5279b0",
   "metadata": {},
   "outputs": [
    {
     "name": "stdout",
     "output_type": "stream",
     "text": [
      "43.634848458542855\n"
     ]
    }
   ],
   "source": [
    "#calculating the area of the circle inheriting the sides from the polygon\n",
    "import math\n",
    "\n",
    "\n",
    "class polygon:\n",
    "    def __init__(self,ns,*sides):\n",
    "        self.ns=ns\n",
    "        self.sides=sides[:ns]\n",
    "\n",
    "class triangle(polygon):\n",
    "    def __init__(self,ns,*sides):\n",
    "        polygon.__init__(self,ns,*sides)\n",
    "\n",
    "    def area(self):\n",
    "        a,b,c=self.sides\n",
    "        s=(a+b+c)/2\n",
    "        area = math.sqrt(s*(s-a)*(s-b)*(s-c))\n",
    "        return area\n",
    "\n",
    "t1 = triangle(3,10,15,9)\n",
    "print(t1.area())"
   ]
  },
  {
   "cell_type": "code",
   "execution_count": 1,
   "id": "54c4b74f-78ee-42d8-8d01-b9b20a9e84be",
   "metadata": {},
   "outputs": [
    {
     "name": "stdout",
     "output_type": "stream",
     "text": [
      "python\n",
      "128\n",
      "The books are\n",
      "real world python\n",
      "python tips\n"
     ]
    }
   ],
   "source": [
    "#printing the name of the course and its details using variable length argument\n",
    "\n",
    "\n",
    "class Course:\n",
    "\n",
    "    def __init__(self,cname,duration,*books):\n",
    "        self.cname=cname\n",
    "        self.duration=duration\n",
    "        self.books= [self.book(b) for b in books]\n",
    "\n",
    "    def show_details(self):\n",
    "        print(self.cname)\n",
    "        print(self.duration)\n",
    "        print(\"The books are\")\n",
    "        for b in self.books:\n",
    "            print(b)\n",
    "\n",
    "    class book:\n",
    "        def __init__(self,title):\n",
    "            self.title=title\n",
    "\n",
    "        def __str__(self):\n",
    "            return self.title\n",
    "\n",
    "c1 = Course('python',128,'real world python','python tips')\n",
    "c1.show_details()\n",
    "            "
   ]
  },
  {
   "cell_type": "code",
   "execution_count": 2,
   "id": "8e495060-f259-4336-83d4-a2fea7a289a6",
   "metadata": {},
   "outputs": [
    {
     "name": "stdout",
     "output_type": "stream",
     "text": [
      "Name: PC101\n",
      "Make: Intel\n",
      "OS Name: Windows\n"
     ]
    }
   ],
   "source": [
    "class Computer:\n",
    "\n",
    "    def __init__(self, name, make, os):\n",
    "        self.name = name\n",
    "        self.cpu = self.CPU(make)\n",
    "        self.os = self.OS(os)\n",
    "\n",
    "    def __str__(self):\n",
    "        return 'Name: '+self.name + '\\nMake: ' + self.cpu.get_make() + '\\nOS Name: ' + self.os.get_name()\n",
    "\n",
    "    class CPU:\n",
    "\n",
    "        def __init__(self, make):\n",
    "            self.make = make\n",
    "\n",
    "        def get_make(self):\n",
    "            return self.make\n",
    "\n",
    "    class OS:\n",
    "\n",
    "        def __init__(self, os):\n",
    "            self.name = os\n",
    "\n",
    "        def get_name(self):\n",
    "            return self.name\n",
    "\n",
    "\n",
    "c1 = Computer('PC101', 'Intel', 'Windows')\n",
    "print(c1)"
   ]
  },
  {
   "cell_type": "code",
   "execution_count": 11,
   "id": "d3b211a8-5330-4099-9459-6623502f1651",
   "metadata": {},
   "outputs": [
    {
     "name": "stdout",
     "output_type": "stream",
     "text": [
      "I'm kitty and my age is 3\n",
      "I'm tiger and my age is 5\n"
     ]
    }
   ],
   "source": [
    "#defining pet details\n",
    "\n",
    "class cat:\n",
    "\n",
    "    def __init__(self,name,age):\n",
    "        self.name=name\n",
    "        self.age=age\n",
    "\n",
    "    def info(self):\n",
    "        print(\"I'm \" + self.name+' and my age is ' + str(self.age))\n",
    "\n",
    "    def get_sound(self):\n",
    "        print(\"meow\")\n",
    "\n",
    "class dog:\n",
    "\n",
    "    def __init__(self,name,age):\n",
    "        self.name=name\n",
    "        self.age=age\n",
    "\n",
    "    def info(self):\n",
    "        print(\"I'm \" + self.name+' and my age is ' + str(self.age))\n",
    "\n",
    "    def get_sound(self):\n",
    "        print(\"bow bow\")\n",
    "\n",
    "def pet_name(pet):\n",
    "    return pet.info()\n",
    "    return pet.get_sound()\n",
    "\n",
    "c1 = cat(\"kitty\", 3)\n",
    "d1 = dog('tiger', 5)\n",
    "\n",
    "pet_name(c1)\n",
    "pet_name(d1)\n"
   ]
  },
  {
   "cell_type": "code",
   "execution_count": 16,
   "id": "75a41c5c-9982-4446-9e76-b4092d6f0a62",
   "metadata": {},
   "outputs": [
    {
     "data": {
      "text/plain": [
       "'hello'"
      ]
     },
     "execution_count": 16,
     "metadata": {},
     "output_type": "execute_result"
    }
   ],
   "source": [
    "class english:\n",
    "\n",
    "    def __init__(self,word):\n",
    "        self.word = word\n",
    "\n",
    "    def greetings(self):\n",
    "        return self.word\n",
    "\n",
    "class french:\n",
    "\n",
    "    def __init__(self,word):\n",
    "        self.word = word\n",
    "\n",
    "    def greetings(self):\n",
    "        return self.word\n",
    "\n",
    "def language(lan):\n",
    "    return lan.greetings()\n",
    "\n",
    "e1 = english(\"hello\")\n",
    "f1 = french(\"banjour\")\n",
    "\n",
    "language(e1)"
   ]
  },
  {
   "cell_type": "code",
   "execution_count": 16,
   "id": "b57550fd-c789-4129-aa9c-aab7e64a5fc6",
   "metadata": {},
   "outputs": [
    {
     "name": "stdout",
     "output_type": "stream",
     "text": [
      "25\n",
      "25\n",
      "50\n"
     ]
    }
   ],
   "source": [
    "#print the angle\n",
    "\n",
    "class Angle:\n",
    "\n",
    "    def __init__(self,degree):\n",
    "        self.degree=degree\n",
    "\n",
    "    def __add__(self,ang):\n",
    "        sum = Angle(self.degree + ang.degree)\n",
    "        return sum\n",
    "\n",
    "    def __str__(self):\n",
    "        return str(self.degree)\n",
    "\n",
    "a1 = Angle(25)\n",
    "print(a1)\n",
    "\n",
    "a2 = Angle(25)\n",
    "print(a2)\n",
    "\n",
    "a3 = a1 + a2 \n",
    "print(a3)\n"
   ]
  },
  {
   "cell_type": "code",
   "execution_count": 20,
   "id": "5f3da418-3eab-405b-980e-4aeb49a93566",
   "metadata": {},
   "outputs": [
    {
     "name": "stdout",
     "output_type": "stream",
     "text": [
      "hello bro\n",
      "I'm here to help u\n"
     ]
    }
   ],
   "source": [
    "#polce robot\n",
    "\n",
    "class Robot:\n",
    "\n",
    "    def __init__(self,name):\n",
    "        self.name = name\n",
    "\n",
    "    def say_hi(self):\n",
    "        print(\"hello bro\")\n",
    "\n",
    "class Policerobot(Robot):\n",
    "\n",
    "        def say_hi(self):\n",
    "            print(\"I'm here to help u\")\n",
    "\n",
    "\n",
    "r1 = Robot(\"jan\")\n",
    "r1.say_hi()\n",
    "\n",
    "r2 = Policerobot(\"jan\")\n",
    "r2.say_hi()"
   ]
  },
  {
   "cell_type": "code",
   "execution_count": 36,
   "id": "77cfb2b4-8883-4729-86f7-a2c85778f4ff",
   "metadata": {},
   "outputs": [
    {
     "name": "stdout",
     "output_type": "stream",
     "text": [
      "hello bro\n"
     ]
    }
   ],
   "source": [
    "#area of the given shapes \n",
    "\n",
    "import math\n",
    "class shape:\n",
    "\n",
    "    def __init__(self,name):\n",
    "\n",
    "        self.name = name\n",
    "\n",
    "    def area(self):\n",
    "        print(\"hello bro\")\n",
    "\n",
    "class Rectangle:\n",
    "\n",
    "    def __init__(self,length,breath):\n",
    "        self.length=length\n",
    "        self.breath=breath\n",
    "\n",
    "    def area(self):\n",
    "        return self.length * self.breath\n",
    "\n",
    "class Circle:\n",
    "\n",
    "    def __init__(self,radius):\n",
    "        self.radius = radius\n",
    "\n",
    "    def area(self):\n",
    "        return math.pi * self.radius *self.radius\n",
    "\n",
    "r1 = Rectangle(5,2)\n",
    "r1.area()\n",
    "\n",
    "s1 = shape(\"triangle\")\n",
    "s1.area()"
   ]
  },
  {
   "cell_type": "code",
   "execution_count": 54,
   "id": "e841fd62-9920-45ab-9b03-4b11c5e90d87",
   "metadata": {},
   "outputs": [
    {
     "name": "stdout",
     "output_type": "stream",
     "text": [
      "16/16\n"
     ]
    }
   ],
   "source": [
    "#rational number\n",
    "\n",
    "class Rational:\n",
    "\n",
    "    def __init__(self,p,q):\n",
    "        self.p=p\n",
    "        self.q=q\n",
    "\n",
    "    def __add__(self,other):\n",
    "        p = self.p * other.q + self.q * other.p\n",
    "        q = self.q * other.q\n",
    "        sum = Rational(p,q)\n",
    "        return sum\n",
    "\n",
    "    def __sub__(self,other):\n",
    "\n",
    "        p = self.p * other.q - self.q * other.p\n",
    "        q = self.q * other.q\n",
    "        sub = Rational(p,q)\n",
    "        return sub\n",
    "\n",
    "    def __str__(self):\n",
    "        return str(self.p) + '/' + str(self.q)\n",
    "\n",
    "r1 = Rational(5,4)\n",
    "r2 = Rational(1,4)\n",
    "\n",
    "r3 =r1 - r2\n",
    "print(r3)"
   ]
  },
  {
   "cell_type": "code",
   "execution_count": 55,
   "id": "a136af8c-6a07-4195-8800-bc427e4e3f7d",
   "metadata": {},
   "outputs": [
    {
     "name": "stdout",
     "output_type": "stream",
     "text": [
      "Cart Contents: Soap, paste, brush, \n",
      "Cart Size: 3\n",
      "Cart Contents: Soap, paste, brush, \n",
      "Cart Contents: Soap, brush, \n"
     ]
    }
   ],
   "source": [
    "#adding items and removing items in the list\n",
    "\n",
    "\n",
    "class Orders:\n",
    "\n",
    "    def __init__(self):\n",
    "        self.cart = []\n",
    "\n",
    "    def add_to_cart(self, item):\n",
    "        self.cart.append(item)\n",
    "\n",
    "    def remove(self, item):\n",
    "        self.cart.remove(item)\n",
    "\n",
    "    def __len__(self):\n",
    "        return len(self.cart)\n",
    "\n",
    "    def __str__(self):\n",
    "        items = 'Cart Contents: '\n",
    "        for i in self.cart:\n",
    "            items += i + ', '\n",
    "        return items\n",
    "\n",
    "\n",
    "o = Orders()\n",
    "o.add_to_cart('Soap')\n",
    "o.add_to_cart('paste')\n",
    "o.add_to_cart('brush')\n",
    "\n",
    "print(o)\n",
    "\n",
    "print('Cart Size:', len(o))\n",
    "print(o)\n",
    "\n",
    "o.remove('paste')\n",
    "print(o)"
   ]
  }
 ],
 "metadata": {
  "kernelspec": {
   "display_name": "Python 3 (ipykernel)",
   "language": "python",
   "name": "python3"
  },
  "language_info": {
   "codemirror_mode": {
    "name": "ipython",
    "version": 3
   },
   "file_extension": ".py",
   "mimetype": "text/x-python",
   "name": "python",
   "nbconvert_exporter": "python",
   "pygments_lexer": "ipython3",
   "version": "3.8.10"
  }
 },
 "nbformat": 4,
 "nbformat_minor": 5
}
