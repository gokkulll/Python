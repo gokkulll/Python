{
 "cells": [
  {
   "cell_type": "code",
   "execution_count": 1,
   "id": "1c33a531-5bc8-4c01-a21e-9f22f15e234e",
   "metadata": {},
   "outputs": [
    {
     "data": {
      "text/plain": [
       "'gokul'"
      ]
     },
     "execution_count": 1,
     "metadata": {},
     "output_type": "execute_result"
    }
   ],
   "source": [
    "dict1 = {101:'gokul',102:'tharun',103:'dharani'}\n",
    "dict1[101]"
   ]
  },
  {
   "cell_type": "code",
   "execution_count": 2,
   "id": "ce7ccd3b-c4b0-4bbe-8bba-3c8c1384974d",
   "metadata": {},
   "outputs": [
    {
     "data": {
      "text/plain": [
       "{101: 'gokul', 102: 'mathew', 103: 'dharani'}"
      ]
     },
     "execution_count": 2,
     "metadata": {},
     "output_type": "execute_result"
    }
   ],
   "source": [
    "dict1[102] = 'mathew'\n",
    "dict1"
   ]
  },
  {
   "cell_type": "code",
   "execution_count": 3,
   "id": "16145014-92a2-4033-98b5-2e18970e8f0a",
   "metadata": {},
   "outputs": [
    {
     "data": {
      "text/plain": [
       "{101: 'gokul', 102: 'mathew', 103: 'dharani', 104: 'tharun'}"
      ]
     },
     "execution_count": 3,
     "metadata": {},
     "output_type": "execute_result"
    }
   ],
   "source": [
    "dict1[104]='tharun'\n",
    "dict1"
   ]
  },
  {
   "cell_type": "code",
   "execution_count": 6,
   "id": "b32ecc2e-36fe-4798-9227-25942fc218e8",
   "metadata": {},
   "outputs": [
    {
     "data": {
      "text/plain": [
       "{101: 'gokul', 103: 'dharani', 104: 'tharun'}"
      ]
     },
     "execution_count": 6,
     "metadata": {},
     "output_type": "execute_result"
    }
   ],
   "source": [
    "del dict1[102]\n",
    "dict1"
   ]
  },
  {
   "cell_type": "code",
   "execution_count": 7,
   "id": "cc8478ba-1015-4a39-a6ed-7f57ecff14f8",
   "metadata": {},
   "outputs": [
    {
     "name": "stdout",
     "output_type": "stream",
     "text": [
      "101\n",
      "103\n",
      "104\n"
     ]
    }
   ],
   "source": [
    "for x in dict1:\n",
    "    print(x)"
   ]
  },
  {
   "cell_type": "code",
   "execution_count": 11,
   "id": "e187cd59-6a23-4d48-970f-849d0e7f1d7d",
   "metadata": {},
   "outputs": [
    {
     "name": "stdout",
     "output_type": "stream",
     "text": [
      "101 gokul  103 dharani  104 tharun  "
     ]
    }
   ],
   "source": [
    "for x in dict1:\n",
    "    print(x,dict1[x],end='  ')"
   ]
  },
  {
   "cell_type": "code",
   "execution_count": 12,
   "id": "eefc7048-7dd6-46f8-b695-a7078477fe3b",
   "metadata": {},
   "outputs": [
    {
     "data": {
      "text/plain": [
       "{1: 2, 2: 4, 3: 6}"
      ]
     },
     "execution_count": 12,
     "metadata": {},
     "output_type": "execute_result"
    }
   ],
   "source": [
    "dict2 = dict(((1,2),(2,4),(3,6)))\n",
    "dict2"
   ]
  },
  {
   "cell_type": "code",
   "execution_count": 13,
   "id": "818a821b-248c-4c32-9683-88fa07266148",
   "metadata": {},
   "outputs": [
    {
     "data": {
      "text/plain": [
       "{1: 2, 2: 4, 3: 6}"
      ]
     },
     "execution_count": 13,
     "metadata": {},
     "output_type": "execute_result"
    }
   ],
   "source": [
    "dict3 = dict(([1,2],[2,4],[3,6]))\n",
    "dict3"
   ]
  },
  {
   "cell_type": "code",
   "execution_count": 14,
   "id": "dc308a59-7f17-4fa0-8645-cb232b3344cc",
   "metadata": {},
   "outputs": [
    {
     "data": {
      "text/plain": [
       "{'a': 'b', 'c': 'd'}"
      ]
     },
     "execution_count": 14,
     "metadata": {},
     "output_type": "execute_result"
    }
   ],
   "source": [
    "dict4 = dict(('ab','cd'))\n",
    "dict4"
   ]
  },
  {
   "cell_type": "code",
   "execution_count": 21,
   "id": "b9ddd00e-6bf9-49d8-9a8f-a987457b2900",
   "metadata": {},
   "outputs": [
    {
     "name": "stdout",
     "output_type": "stream",
     "text": [
      "{101: 'gokul', 103: 'dharani', 104: 'tharun', 0: 0, 1: 2, 2: 4, 3: 6, 4: 8, 5: 10, 6: 12, 7: 14, 8: 16, 9: 18, 10: 20}\n"
     ]
    }
   ],
   "source": [
    "\n",
    "for x in range(0,11):\n",
    "    dict1[x]=2*x\n",
    "    \n",
    "    \n",
    "print(dict1)"
   ]
  },
  {
   "cell_type": "code",
   "execution_count": 24,
   "id": "adaab87f-318d-4f9f-a081-9b08ed49b66a",
   "metadata": {},
   "outputs": [
    {
     "ename": "TypeError",
     "evalue": "'dict' object is not callable",
     "output_type": "error",
     "traceback": [
      "\u001b[0;31m---------------------------------------------------------------------------\u001b[0m",
      "\u001b[0;31mTypeError\u001b[0m                                 Traceback (most recent call last)",
      "Cell \u001b[0;32mIn[24], line 4\u001b[0m\n\u001b[1;32m      1\u001b[0m l1 \u001b[38;5;241m=\u001b[39m [\u001b[38;5;241m1\u001b[39m,\u001b[38;5;241m2\u001b[39m,\u001b[38;5;241m3\u001b[39m]\n\u001b[1;32m      2\u001b[0m l2 \u001b[38;5;241m=\u001b[39m[\u001b[38;5;124m'\u001b[39m\u001b[38;5;124mgokul\u001b[39m\u001b[38;5;124m'\u001b[39m,\u001b[38;5;124m'\u001b[39m\u001b[38;5;124mtharun\u001b[39m\u001b[38;5;124m'\u001b[39m,\u001b[38;5;124m'\u001b[39m\u001b[38;5;124msaranya\u001b[39m\u001b[38;5;124m'\u001b[39m]\n\u001b[0;32m----> 4\u001b[0m d1 \u001b[38;5;241m=\u001b[39m \u001b[38;5;28;43mdict\u001b[39;49m\u001b[43m(\u001b[49m\u001b[38;5;28;43mzip\u001b[39;49m\u001b[43m(\u001b[49m\u001b[43ml1\u001b[49m\u001b[43m,\u001b[49m\u001b[43ml2\u001b[49m\u001b[43m)\u001b[49m\u001b[43m)\u001b[49m\n\u001b[1;32m      5\u001b[0m d1\n",
      "\u001b[0;31mTypeError\u001b[0m: 'dict' object is not callable"
     ]
    }
   ],
   "source": [
    "l1 = [1,2,3]\n",
    "l2 =['gokul','tharun','saranya']\n",
    "\n",
    "d1 = dict(zip(l1,l2))\n",
    "d1\n"
   ]
  },
  {
   "cell_type": "code",
   "execution_count": 1,
   "id": "0d3aeb29-1451-41e3-8177-631248846920",
   "metadata": {},
   "outputs": [
    {
     "data": {
      "text/plain": [
       "{1: 2, 2: 4, 3: 6}"
      ]
     },
     "execution_count": 1,
     "metadata": {},
     "output_type": "execute_result"
    }
   ],
   "source": [
    "dict3 = dict(zip(([1,2,3]),([2,4,6])))\n",
    "dict3"
   ]
  },
  {
   "cell_type": "code",
   "execution_count": 2,
   "id": "5aa4847e-ed5d-4d63-b59b-2816b820f976",
   "metadata": {},
   "outputs": [
    {
     "data": {
      "text/plain": [
       "{1: 'gokul', 2: 'rahul', 3: 'jai'}"
      ]
     },
     "execution_count": 2,
     "metadata": {},
     "output_type": "execute_result"
    }
   ],
   "source": [
    "l1 = [1,2,3,4,5]\n",
    "l2= ['gokul','rahul','jai']\n",
    "\n",
    "dict5 = dict(zip(l1,l2))\n",
    "dict5"
   ]
  },
  {
   "cell_type": "code",
   "execution_count": 3,
   "id": "29f55fbd-e56f-4abb-b05a-110a9ccaf21e",
   "metadata": {},
   "outputs": [
    {
     "data": {
      "text/plain": [
       "{1: 101, 2: 102, 3: 103}"
      ]
     },
     "execution_count": 3,
     "metadata": {},
     "output_type": "execute_result"
    }
   ],
   "source": [
    "dict = dict(zip([1,2,3],(101,102,103,104,105)))\n",
    "dict"
   ]
  },
  {
   "cell_type": "code",
   "execution_count": 18,
   "id": "d5bdbbd0-9dd7-4000-a626-b8e67d5079cc",
   "metadata": {},
   "outputs": [
    {
     "name": "stdout",
     "output_type": "stream",
     "text": [
      "(0, 'A')(1, 'B')(2, 'C')"
     ]
    }
   ],
   "source": [
    "dict = ['A','B','C']\n",
    "\n",
    "for x in enumerate(dict):\n",
    "    print(x,end='')"
   ]
  },
  {
   "cell_type": "code",
   "execution_count": 17,
   "id": "5826dcde-aa89-48eb-b1ad-8dc62cbca02e",
   "metadata": {},
   "outputs": [
    {
     "ename": "TypeError",
     "evalue": "'list' object is not callable",
     "output_type": "error",
     "traceback": [
      "\u001b[0;31m---------------------------------------------------------------------------\u001b[0m",
      "\u001b[0;31mTypeError\u001b[0m                                 Traceback (most recent call last)",
      "Cell \u001b[0;32mIn[17], line 1\u001b[0m\n\u001b[0;32m----> 1\u001b[0m dict1 \u001b[38;5;241m=\u001b[39m \u001b[38;5;28;43mdict\u001b[39;49m\u001b[43m(\u001b[49m\u001b[38;5;28;43menumerate\u001b[39;49m\u001b[43m(\u001b[49m\u001b[38;5;28;43mdict\u001b[39;49m\u001b[43m)\u001b[49m\u001b[43m)\u001b[49m\n\u001b[1;32m      2\u001b[0m dict1\n",
      "\u001b[0;31mTypeError\u001b[0m: 'list' object is not callable"
     ]
    }
   ],
   "source": [
    "dict1 = dict(enumerate(dict))\n",
    "dict1"
   ]
  },
  {
   "cell_type": "code",
   "execution_count": 31,
   "id": "bd697bc0-d788-4c59-9695-094de558dc1a",
   "metadata": {},
   "outputs": [
    {
     "ename": "TypeError",
     "evalue": "'list' object is not callable",
     "output_type": "error",
     "traceback": [
      "\u001b[0;31m---------------------------------------------------------------------------\u001b[0m",
      "\u001b[0;31mTypeError\u001b[0m                                 Traceback (most recent call last)",
      "Cell \u001b[0;32mIn[31], line 3\u001b[0m\n\u001b[1;32m      1\u001b[0m L1 \u001b[38;5;241m=\u001b[39m[\u001b[38;5;124m'\u001b[39m\u001b[38;5;124mA\u001b[39m\u001b[38;5;124m'\u001b[39m,\u001b[38;5;124m'\u001b[39m\u001b[38;5;124mB\u001b[39m\u001b[38;5;124m'\u001b[39m,\u001b[38;5;124m'\u001b[39m\u001b[38;5;124mC\u001b[39m\u001b[38;5;124m'\u001b[39m]\n\u001b[0;32m----> 3\u001b[0m dict4 \u001b[38;5;241m=\u001b[39m \u001b[38;5;28;43mdict\u001b[39;49m\u001b[43m(\u001b[49m\u001b[38;5;28;43menumerate\u001b[39;49m\u001b[43m(\u001b[49m\u001b[43mL1\u001b[49m\u001b[43m)\u001b[49m\u001b[43m)\u001b[49m\n\u001b[1;32m      4\u001b[0m \u001b[38;5;28mprint\u001b[39m(dict4)\n",
      "\u001b[0;31mTypeError\u001b[0m: 'list' object is not callable"
     ]
    }
   ],
   "source": [
    "L1 =['A','B','C']\n",
    "\n",
    "dict4 = dict(enumerate(L1))\n",
    "print(dict4)"
   ]
  },
  {
   "cell_type": "code",
   "execution_count": 22,
   "id": "da03e855-6925-40cf-abf6-869bb849b917",
   "metadata": {},
   "outputs": [
    {
     "data": {
      "text/plain": [
       "{1: 1, 2: 4, 3: 9, 4: 16, 5: 25, 6: 36, 7: 49, 8: 64, 9: 81, 10: 100}"
      ]
     },
     "execution_count": 22,
     "metadata": {},
     "output_type": "execute_result"
    }
   ],
   "source": [
    "dict6 ={x:x**2 for x in range(1,11)}\n",
    "dict6\n"
   ]
  },
  {
   "cell_type": "code",
   "execution_count": 30,
   "id": "a7212dff-2173-4697-8a3a-b433a3677cba",
   "metadata": {},
   "outputs": [
    {
     "name": "stdout",
     "output_type": "stream",
     "text": [
      "{(7, 49), (2, 4), (4, 16), (1, 1), (8, 64), (6, 36), (10, 100), (3, 9), (5, 25), (9, 81)}\n"
     ]
    }
   ],
   "source": [
    "dict5 = { (x,x**2) for x in range(1,11)}\n",
    "print(dict5)"
   ]
  },
  {
   "cell_type": "code",
   "execution_count": 34,
   "id": "aeedbd15-d38e-4ad6-897c-9b8a344e1ce0",
   "metadata": {},
   "outputs": [
    {
     "ename": "TypeError",
     "evalue": "'list' object is not callable",
     "output_type": "error",
     "traceback": [
      "\u001b[0;31m---------------------------------------------------------------------------\u001b[0m",
      "\u001b[0;31mTypeError\u001b[0m                                 Traceback (most recent call last)",
      "Cell \u001b[0;32mIn[34], line 1\u001b[0m\n\u001b[0;32m----> 1\u001b[0m dict8 \u001b[38;5;241m=\u001b[39m \u001b[38;5;28;43mdict\u001b[39;49m\u001b[43m(\u001b[49m\u001b[43m(\u001b[49m\u001b[43mx\u001b[49m\u001b[43m,\u001b[49m\u001b[43mx\u001b[49m\u001b[38;5;241;43m*\u001b[39;49m\u001b[38;5;241;43m*\u001b[39;49m\u001b[38;5;241;43m2\u001b[39;49m\u001b[43m)\u001b[49m\u001b[43m \u001b[49m\u001b[38;5;28;43;01mfor\u001b[39;49;00m\u001b[43m \u001b[49m\u001b[43mx\u001b[49m\u001b[43m \u001b[49m\u001b[38;5;129;43;01min\u001b[39;49;00m\u001b[43m \u001b[49m\u001b[38;5;28;43mrange\u001b[39;49m\u001b[43m(\u001b[49m\u001b[38;5;241;43m1\u001b[39;49m\u001b[43m,\u001b[49m\u001b[38;5;241;43m11\u001b[39;49m\u001b[43m)\u001b[49m\u001b[43m)\u001b[49m\n\u001b[1;32m      2\u001b[0m \u001b[38;5;28mprint\u001b[39m(dict8)\n",
      "\u001b[0;31mTypeError\u001b[0m: 'list' object is not callable"
     ]
    }
   ],
   "source": [
    "dict8 = dict((x,x**2) for x in range(1,11))\n",
    "print(dict8)"
   ]
  },
  {
   "cell_type": "code",
   "execution_count": 36,
   "id": "af45fe81-6b56-42c5-aa97-533d13d0aefd",
   "metadata": {},
   "outputs": [
    {
     "name": "stdout",
     "output_type": "stream",
     "text": [
      "1 101\n",
      "2 102\n",
      "3 103\n"
     ]
    }
   ],
   "source": [
    "L1 = [1,2,3]\n",
    "L2 =[101,102,103]\n",
    "\n",
    "for x,y in zip(L1,L2):\n",
    "    print(x,y)"
   ]
  },
  {
   "cell_type": "code",
   "execution_count": 37,
   "id": "7941bef8-a7c7-44b0-a106-18943d579871",
   "metadata": {},
   "outputs": [
    {
     "ename": "TypeError",
     "evalue": "'list' object is not callable",
     "output_type": "error",
     "traceback": [
      "\u001b[0;31m---------------------------------------------------------------------------\u001b[0m",
      "\u001b[0;31mTypeError\u001b[0m                                 Traceback (most recent call last)",
      "Cell \u001b[0;32mIn[37], line 1\u001b[0m\n\u001b[0;32m----> 1\u001b[0m dict3 \u001b[38;5;241m=\u001b[39m \u001b[38;5;28;43mdict\u001b[39;49m\u001b[43m(\u001b[49m\u001b[43m(\u001b[49m\u001b[43mx\u001b[49m\u001b[43m,\u001b[49m\u001b[43my\u001b[49m\u001b[43m)\u001b[49m\u001b[43m \u001b[49m\u001b[38;5;28;43;01mfor\u001b[39;49;00m\u001b[43m \u001b[49m\u001b[43mx\u001b[49m\u001b[43m,\u001b[49m\u001b[43my\u001b[49m\u001b[43m \u001b[49m\u001b[38;5;129;43;01min\u001b[39;49;00m\u001b[43m \u001b[49m\u001b[38;5;28;43mzip\u001b[39;49m\u001b[43m(\u001b[49m\u001b[43mL1\u001b[49m\u001b[43m,\u001b[49m\u001b[43mL2\u001b[49m\u001b[43m)\u001b[49m\u001b[43m)\u001b[49m\n\u001b[1;32m      2\u001b[0m \u001b[38;5;28mprint\u001b[39m(dict3)\n",
      "\u001b[0;31mTypeError\u001b[0m: 'list' object is not callable"
     ]
    }
   ],
   "source": [
    "dict3 = dict((x,y) for x,y in zip(L1,L2))\n",
    "print(dict3)"
   ]
  },
  {
   "cell_type": "code",
   "execution_count": 3,
   "id": "21f5735c-f424-46d4-b95b-333a86ce30f2",
   "metadata": {},
   "outputs": [
    {
     "name": "stdout",
     "output_type": "stream",
     "text": [
      "{1: 101, 2: 102, 3: 103}\n"
     ]
    }
   ],
   "source": [
    "dict1 = {1:101,2:102,3:103}\n",
    "dict2 = dict1.copy()\n",
    "print(dict2)"
   ]
  },
  {
   "cell_type": "code",
   "execution_count": 4,
   "id": "30449532-a10e-494c-abee-baaa812d7bfd",
   "metadata": {},
   "outputs": [
    {
     "name": "stdout",
     "output_type": "stream",
     "text": [
      "{1: 101, 2: 102, 3: 103, 4: 104, 5: 105}\n"
     ]
    }
   ],
   "source": [
    "dict3 = {4:104,5:105}\n",
    "dict1.update(dict3)\n",
    "print(dict1)"
   ]
  },
  {
   "cell_type": "code",
   "execution_count": 8,
   "id": "2371763a-d6ef-4f83-85e4-3b0a5cb7edf2",
   "metadata": {},
   "outputs": [
    {
     "data": {
      "text/plain": [
       "{1: 101, 2: 102, 3: 103, 4: 104, 5: 105, 6: None}"
      ]
     },
     "execution_count": 8,
     "metadata": {},
     "output_type": "execute_result"
    }
   ],
   "source": [
    "dict1.setdefault(6)\n",
    "dict1"
   ]
  },
  {
   "cell_type": "code",
   "execution_count": 10,
   "id": "ca835aea-7713-4a1d-9e19-17ff62161508",
   "metadata": {},
   "outputs": [
    {
     "name": "stdout",
     "output_type": "stream",
     "text": [
      "{1: 101, 2: 102, 3: 103, 4: 104, 5: 105, 6: None}\n"
     ]
    }
   ],
   "source": [
    "dict1.setdefault(6, 106)\n",
    "print(dict1)"
   ]
  },
  {
   "cell_type": "code",
   "execution_count": 11,
   "id": "762b329a-1e21-4577-ab82-af95bc42bb69",
   "metadata": {},
   "outputs": [
    {
     "name": "stdout",
     "output_type": "stream",
     "text": [
      "{1: 101, 2: 102, 3: 103, 4: 104, 5: 105, 6: None, 7: 107}\n"
     ]
    }
   ],
   "source": [
    "dict1.setdefault(7, 107)\n",
    "print(dict1)"
   ]
  },
  {
   "cell_type": "code",
   "execution_count": 18,
   "id": "705c0cef-ecf4-4fe6-a8dc-f694d72b730d",
   "metadata": {},
   "outputs": [
    {
     "data": {
      "text/plain": [
       "{1: 'gokul', 2: 'gokul', 3: 'gokul', 4: 'gokul'}"
      ]
     },
     "execution_count": 18,
     "metadata": {},
     "output_type": "execute_result"
    }
   ],
   "source": [
    "s = [1,2,3,4]\n",
    "dict5 ={}\n",
    "dict5.fromkeys(s, 'gokul')"
   ]
  },
  {
   "cell_type": "code",
   "execution_count": null,
   "id": "1d95a7b0-b687-4851-b90a-cbfc9fc28bb9",
   "metadata": {},
   "outputs": [],
   "source": []
  }
 ],
 "metadata": {
  "kernelspec": {
   "display_name": "Python 3 (ipykernel)",
   "language": "python",
   "name": "python3"
  },
  "language_info": {
   "codemirror_mode": {
    "name": "ipython",
    "version": 3
   },
   "file_extension": ".py",
   "mimetype": "text/x-python",
   "name": "python",
   "nbconvert_exporter": "python",
   "pygments_lexer": "ipython3",
   "version": "3.8.10"
  }
 },
 "nbformat": 4,
 "nbformat_minor": 5
}
