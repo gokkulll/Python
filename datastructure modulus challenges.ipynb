{
 "cells": [
  {
   "cell_type": "code",
   "execution_count": 6,
   "id": "b03baaf8-91ec-441b-b235-f9f61987cd57",
   "metadata": {},
   "outputs": [
    {
     "name": "stdout",
     "output_type": "stream",
     "text": [
      "[('and', 6), ('Python', 4), ('dynamic', 3)]\n"
     ]
    }
   ],
   "source": [
    "#find the most repeating words in a given paragraph \n",
    "\n",
    "\n",
    "\n",
    "from collections import Counter\n",
    "import re\n",
    "\n",
    "text = '''Python is an interpreted, object-oriented, high-level programming language with dynamic semantics.\n",
    "Its high-level built in data structures, combined with dynamic typing and dynamic binding, make it very attractive for Rapid \n",
    "Application Development, as well as for use as a scripting or glue language to connect existing components together. \n",
    "Python's simple, easy to learn syntax emphasizes readability and therefore reduces the cost of program maintenance. Python \n",
    "supports modules and packages, which encourages program modularity and code reuse. The Python interpreter and the extensive \n",
    "standard library are available in source or binary form without charge for all major platforms, and can be freely distributed.'''\n",
    "'''\n",
    "words=text.split()\n",
    "'''\n",
    "\n",
    "words = re.findall('\\w+', text)\n",
    "count = Counter(words)\n",
    "print(count.most_common(3))\n",
    "\n"
   ]
  },
  {
   "cell_type": "code",
   "execution_count": 7,
   "id": "53a3ecf6-0701-4dbb-a101-df15118931c7",
   "metadata": {},
   "outputs": [
    {
     "name": "stdout",
     "output_type": "stream",
     "text": [
      "Counter({'Grapes': 170, 'Banana': 140, 'Orange': 120, 'Apple': 45})\n"
     ]
    }
   ],
   "source": [
    "#updating the inventory after customer sales\n",
    "\n",
    "from collections import Counter\n",
    "\n",
    "inventory = Counter(Apple=100,Banana=200,Orange=150,Grapes=170)\n",
    "def update_inventory(order):\n",
    "    sub = inventory.subtract(order)\n",
    "    return sub\n",
    "\n",
    "\n",
    "order_1= Counter(Apple=55,Banana=60,Orange=30)\n",
    "update_inventory(order_1)\n",
    "print(inventory)"
   ]
  },
  {
   "cell_type": "code",
   "execution_count": 15,
   "id": "2319a3e8-e14f-4a7c-adae-cc3070760c2c",
   "metadata": {},
   "outputs": [
    {
     "name": "stdout",
     "output_type": "stream",
     "text": [
      "apple 100 x 3 = 300\n",
      "Subtotal: 300\n",
      "orange 80 x 2 = 160\n",
      "Subtotal: 460\n",
      "grapes 40 x 2 = 80\n",
      "Subtotal: 540\n"
     ]
    }
   ],
   "source": [
    "#Bills with subtotals\n",
    "\n",
    "from collections import Counter\n",
    "\n",
    "prices={'apple':100,'orange':80,'banana':60,'grapes':40}\n",
    "\n",
    "def generate_bill(cart):\n",
    "\n",
    "    total=0\n",
    "    for item,qty in cart.items():\n",
    "        print(f'{item} {prices[item]} x {qty} = {prices[item]*qty}')\n",
    "        total += prices[item]*qty\n",
    "        print('Subtotal:', total)\n",
    "\n",
    "\n",
    "\n",
    "\n",
    "\n",
    "cart = Counter(apple=3,orange=2,grapes=2)\n",
    "generate_bill(cart)\n"
   ]
  },
  {
   "cell_type": "code",
   "execution_count": 18,
   "id": "c3a172fa-814c-469d-8165-8b41e9534201",
   "metadata": {},
   "outputs": [
    {
     "name": "stdout",
     "output_type": "stream",
     "text": [
      "gokul\n",
      "Tharun\n"
     ]
    }
   ],
   "source": [
    "#barbershop queue\n",
    "\n",
    "from collections import deque\n",
    "\n",
    "customer=deque()\n",
    "\n",
    "def walk_in(customers):\n",
    "    customer.append(customers)\n",
    "\n",
    "def serviced():\n",
    "    cust=customer.popleft()\n",
    "    \n",
    "\n",
    "\n",
    "walk_in('John')\n",
    "walk_in(\"gokul\")\n",
    "walk_in('Tharun')\n",
    "serviced()\n",
    "\n",
    "for i in customer:\n",
    "    print(i)"
   ]
  },
  {
   "cell_type": "code",
   "execution_count": 27,
   "id": "e13d00b3-5ee1-4557-b87c-cb3dc701c18d",
   "metadata": {},
   "outputs": [
    {
     "name": "stdout",
     "output_type": "stream",
     "text": [
      "breakfast session\n",
      "deque([1, 2, 3, 4, 5, 6, 7, 8, 9, 10])\n",
      "\n",
      "\n",
      "lunch session\n",
      "deque([2, 3, 4, 5, 6, 7, 8, 9, 10, 1])\n",
      "\n",
      "\n",
      "dinner session\n",
      "deque([3, 4, 5, 6, 7, 8, 9, 10, 1, 2])\n"
     ]
    }
   ],
   "source": [
    "#canteen queue for students\n",
    "\n",
    "from collections import deque\n",
    "\n",
    "\n",
    "\n",
    "\n",
    "students = deque([1,2,3,4,5,6,7,8,9,10])\n",
    "\n",
    "def serve():\n",
    "    print(students)\n",
    "    students.rotate(-1)\n",
    "\n",
    "\n",
    "\n",
    "print('breakfast session')\n",
    "serve()\n",
    "print('\\n')\n",
    "print('lunch session')\n",
    "serve()\n",
    "print('\\n')\n",
    "print('dinner session')\n",
    "serve()"
   ]
  },
  {
   "cell_type": "code",
   "execution_count": 33,
   "id": "8b898a2e-dc2c-4b81-bdbe-206cc376bf28",
   "metadata": {},
   "outputs": [
    {
     "data": {
      "text/plain": [
       "4"
      ]
     },
     "execution_count": 33,
     "metadata": {},
     "output_type": "execute_result"
    }
   ],
   "source": [
    "#finding duplicates in a given array\n",
    "\n",
    "\n",
    "import array\n",
    "\n",
    "def find_duplicate(num):\n",
    "\n",
    "    num_set=set()\n",
    "\n",
    "\n",
    "    for n in num:\n",
    "        if n in num_set:\n",
    "            return n\n",
    "        else:\n",
    "            num_set.add(n)\n",
    "\n",
    "\n",
    "    else:\n",
    "        return -1\n",
    "\n",
    "\n",
    "arr=array.array('i',[1,2,3,4,5,4,6,3,7,4,5])\n",
    "find_duplicate(arr)\n",
    "    \n"
   ]
  },
  {
   "cell_type": "code",
   "execution_count": 9,
   "id": "e94d9450-8c7e-46ac-a5bf-a29902254180",
   "metadata": {},
   "outputs": [
    {
     "name": "stdout",
     "output_type": "stream",
     "text": [
      "No number is missing\n"
     ]
    }
   ],
   "source": [
    "#find the missing natural number\n",
    "\n",
    "import array\n",
    "\n",
    "def missing_nat(arr):\n",
    "    start=arr[0]\n",
    "    end = arr[len(arr)-1]\n",
    "\n",
    "    actual_list=list(range(start,end+1))\n",
    "    actual_sum = sum(actual_list)\n",
    "    user_sum= sum(arr)\n",
    "\n",
    "    return actual_sum - user_sum\n",
    "\n",
    "\n",
    "arr_1=array.array('i',[1,2,3,4,5])\n",
    "\n",
    "miss_num = missing_nat(arr_1)\n",
    "\n",
    "if miss_num>0:\n",
    "    print(\"Misssing number is:\", missing_nat(arr_1))\n",
    "else:\n",
    "    print(\"No number is missing\")"
   ]
  },
  {
   "cell_type": "code",
   "execution_count": 19,
   "id": "92b3d722-503e-4700-93fe-4463a3a31df0",
   "metadata": {},
   "outputs": [
    {
     "data": {
      "text/plain": [
       "(5, 6)"
      ]
     },
     "execution_count": 19,
     "metadata": {},
     "output_type": "execute_result"
    }
   ],
   "source": [
    "#finding the product of the maximum pairs in an  array\n",
    "import array\n",
    "\n",
    "def max_product(arr):\n",
    "    x = arr[0]\n",
    "    y = arr[1]\n",
    "\n",
    "    for i in range(len(arr)):\n",
    "        for j in range(i+1, len(arr)):\n",
    "            if arr[i] * arr[j] > x*y:\n",
    "                x = arr[i]\n",
    "                y = arr[j]\n",
    "\n",
    "    return x,y\n",
    "\n",
    "arr= array.array('i',[2,3,4,5,6])\n",
    "\n",
    "max_product(arr)"
   ]
  },
  {
   "cell_type": "code",
   "execution_count": 39,
   "id": "163617f3-b3c0-42db-a925-82617f06888f",
   "metadata": {},
   "outputs": [
    {
     "data": {
      "text/plain": [
       "[-5, 2, 2, 10, 30, 34, 56, 100]"
      ]
     },
     "execution_count": 39,
     "metadata": {},
     "output_type": "execute_result"
    }
   ],
   "source": [
    "#performing heap sorting\n",
    "\n",
    "import heapq\n",
    "\n",
    "def Sort_elements(elements):\n",
    "    heapq.heapify(elements)\n",
    "\n",
    "    sort_elements=[]\n",
    "\n",
    "    for i in range(len(elements)):\n",
    "        x = heapq.heappop(elements)\n",
    "        sort_elements.append(x)\n",
    "    return sort_elements\n",
    "        \n",
    "\n",
    "elements=[2,-5,10,2,30,100,34,56]\n",
    "Sort_elements(elements)"
   ]
  },
  {
   "cell_type": "code",
   "execution_count": 50,
   "id": "7bd8f5a5-e853-43d1-ad7f-488c672deb5a",
   "metadata": {},
   "outputs": [
    {
     "data": {
      "text/plain": [
       "85"
      ]
     },
     "execution_count": 50,
     "metadata": {},
     "output_type": "execute_result"
    }
   ],
   "source": [
    "#finding the kth largest element in a list\n",
    "\n",
    "import heapq\n",
    "\n",
    "def K_largest(element,k):\n",
    "    sorted_ele=[]\n",
    "\n",
    "    for i in element:\n",
    "        heapq.heappush(sorted_ele, -i)\n",
    "\n",
    "    for e in range(k-1):\n",
    "        heapq.heappop(sorted_ele)\n",
    "    return -heapq.heappop(sorted_ele)\n",
    "\n",
    "element=[23,44,39,85,38]\n",
    "K_largest(element,1)\n"
   ]
  },
  {
   "cell_type": "code",
   "execution_count": 56,
   "id": "22ac3c77-f739-4cf3-b2cf-9bab4628b354",
   "metadata": {},
   "outputs": [
    {
     "data": {
      "text/plain": [
       "[1, 2, 3, 4, 5, 6, 7, 8, 9, 10]"
      ]
     },
     "execution_count": 56,
     "metadata": {},
     "output_type": "execute_result"
    }
   ],
   "source": [
    "#sorted order in the list\n",
    "\n",
    "import bisect\n",
    "\n",
    "def sort_ele(elements):\n",
    "    Sorted_elements=[]\n",
    "\n",
    "    for i in elements:\n",
    "        bisect.insort(Sorted_elements, i)\n",
    "    return Sorted_elements\n",
    "\n",
    "elements=[1,3,5,7,9,2,4,6,8,10]\n",
    "sort_ele(elements)"
   ]
  }
 ],
 "metadata": {
  "kernelspec": {
   "display_name": "Python 3 (ipykernel)",
   "language": "python",
   "name": "python3"
  },
  "language_info": {
   "codemirror_mode": {
    "name": "ipython",
    "version": 3
   },
   "file_extension": ".py",
   "mimetype": "text/x-python",
   "name": "python",
   "nbconvert_exporter": "python",
   "pygments_lexer": "ipython3",
   "version": "3.8.10"
  }
 },
 "nbformat": 4,
 "nbformat_minor": 5
}
