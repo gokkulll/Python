{
 "cells": [
  {
   "cell_type": "code",
   "execution_count": 2,
   "id": "3fd9a1ce-7118-4189-b089-0566e2e2ed96",
   "metadata": {},
   "outputs": [
    {
     "data": {
      "text/plain": [
       "1715482927.2441902"
      ]
     },
     "execution_count": 2,
     "metadata": {},
     "output_type": "execute_result"
    }
   ],
   "source": [
    "import time\n",
    "time.time()"
   ]
  },
  {
   "cell_type": "code",
   "execution_count": 3,
   "id": "7739482b-ced8-431e-8a6c-3c24f691de04",
   "metadata": {},
   "outputs": [
    {
     "data": {
      "text/plain": [
       "'Sun May 12 08:38:55 2024'"
      ]
     },
     "execution_count": 3,
     "metadata": {},
     "output_type": "execute_result"
    }
   ],
   "source": [
    "import time\n",
    "import datetime\n",
    "\n",
    "time.ctime()"
   ]
  },
  {
   "cell_type": "code",
   "execution_count": 5,
   "id": "e76ceff5-6008-40fa-b5df-452c350fe7fe",
   "metadata": {},
   "outputs": [
    {
     "data": {
      "text/plain": [
       "datetime.datetime(2024, 5, 12, 8, 39, 26, 809683)"
      ]
     },
     "execution_count": 5,
     "metadata": {},
     "output_type": "execute_result"
    }
   ],
   "source": [
    "datetime.datetime.now()"
   ]
  },
  {
   "cell_type": "code",
   "execution_count": 6,
   "id": "63fb80cf-5746-4e3a-a993-0ff9d3586623",
   "metadata": {},
   "outputs": [
    {
     "data": {
      "text/plain": [
       "datetime.datetime(2010, 1, 1, 10, 10, 10)"
      ]
     },
     "execution_count": 6,
     "metadata": {},
     "output_type": "execute_result"
    }
   ],
   "source": [
    "dt1 = datetime.datetime(2010,1,1,10,10,10)\n",
    "dt2 = datetime.datetime(month=1,day=1,year=2011,hour=10,second=10,minute=10)\n",
    "dt1"
   ]
  },
  {
   "cell_type": "code",
   "execution_count": 7,
   "id": "cf35888d-3a4a-46ec-b5d5-b83dae0309a8",
   "metadata": {},
   "outputs": [
    {
     "data": {
      "text/plain": [
       "datetime.datetime(2011, 1, 1, 10, 10, 10)"
      ]
     },
     "execution_count": 7,
     "metadata": {},
     "output_type": "execute_result"
    }
   ],
   "source": [
    "dt2"
   ]
  },
  {
   "cell_type": "code",
   "execution_count": 10,
   "id": "a44e2fc4-2b58-44b5-8209-0cac9324d031",
   "metadata": {},
   "outputs": [
    {
     "data": {
      "text/plain": [
       "datetime.timedelta(days=365)"
      ]
     },
     "execution_count": 10,
     "metadata": {},
     "output_type": "execute_result"
    }
   ],
   "source": [
    "dt2 - dt1"
   ]
  },
  {
   "cell_type": "code",
   "execution_count": 13,
   "id": "1f329a63-8a78-46ff-a330-961dabc25de1",
   "metadata": {},
   "outputs": [
    {
     "data": {
      "text/plain": [
       "datetime.datetime(2011, 1, 1, 10, 10, 10)"
      ]
     },
     "execution_count": 13,
     "metadata": {},
     "output_type": "execute_result"
    }
   ],
   "source": [
    "date1 = datetime.date(2011,1,1)\n",
    "time1= datetime.time(10,10,10)\n",
    "\n",
    "dt1 = datetime.datetime.combine(date1,time1)\n",
    "dt1"
   ]
  },
  {
   "cell_type": "code",
   "execution_count": 5,
   "id": "7dd1f195-1096-4525-ab58-ccda7665cdf9",
   "metadata": {},
   "outputs": [
    {
     "data": {
      "text/plain": [
       "True"
      ]
     },
     "execution_count": 5,
     "metadata": {},
     "output_type": "execute_result"
    }
   ],
   "source": [
    "from calendar import *\n",
    "isleap(2024)"
   ]
  },
  {
   "cell_type": "code",
   "execution_count": 7,
   "id": "a3430db1-03d5-417f-aeaf-e876bddaecba",
   "metadata": {},
   "outputs": [
    {
     "data": {
      "text/plain": [
       "6"
      ]
     },
     "execution_count": 7,
     "metadata": {},
     "output_type": "execute_result"
    }
   ],
   "source": [
    "leapdays(2000, 2024)"
   ]
  },
  {
   "cell_type": "code",
   "execution_count": 8,
   "id": "25df6c03-38e9-4d07-b5b2-499c27067c0a",
   "metadata": {},
   "outputs": [
    {
     "name": "stdout",
     "output_type": "stream",
     "text": [
      "      May 2024\n",
      "Mo Tu We Th Fr Sa Su\n",
      "       1  2  3  4  5\n",
      " 6  7  8  9 10 11 12\n",
      "13 14 15 16 17 18 19\n",
      "20 21 22 23 24 25 26\n",
      "27 28 29 30 31\n"
     ]
    }
   ],
   "source": [
    "prmonth(2024,5)"
   ]
  },
  {
   "cell_type": "code",
   "execution_count": 9,
   "id": "63eda8cb-035d-40d7-8313-77c2ddcfd670",
   "metadata": {},
   "outputs": [
    {
     "data": {
      "text/plain": [
       "4"
      ]
     },
     "execution_count": 9,
     "metadata": {},
     "output_type": "execute_result"
    }
   ],
   "source": [
    "weekday(2002,9,20)"
   ]
  },
  {
   "cell_type": "code",
   "execution_count": 9,
   "id": "50cc1068-75a2-48f3-a6bb-6e2439d778ee",
   "metadata": {},
   "outputs": [
    {
     "name": "stdout",
     "output_type": "stream",
     "text": [
      "0\n",
      "1\n",
      "2\n",
      "3\n",
      "4\n",
      "5\n",
      "6\n"
     ]
    }
   ],
   "source": [
    "from calendar import *\n",
    "\n",
    "c = Calendar()\n",
    "c\n",
    "\n",
    "for i in c.iterweekdays():\n",
    "    print(i)\n",
    "\n"
   ]
  },
  {
   "cell_type": "code",
   "execution_count": 10,
   "id": "f7b85585-5392-4898-8e94-86be61113cd9",
   "metadata": {},
   "outputs": [
    {
     "name": "stdout",
     "output_type": "stream",
     "text": [
      "2024-04-29\n",
      "2024-04-30\n",
      "2024-05-01\n",
      "2024-05-02\n",
      "2024-05-03\n",
      "2024-05-04\n",
      "2024-05-05\n",
      "2024-05-06\n",
      "2024-05-07\n",
      "2024-05-08\n",
      "2024-05-09\n",
      "2024-05-10\n",
      "2024-05-11\n",
      "2024-05-12\n",
      "2024-05-13\n",
      "2024-05-14\n",
      "2024-05-15\n",
      "2024-05-16\n",
      "2024-05-17\n",
      "2024-05-18\n",
      "2024-05-19\n",
      "2024-05-20\n",
      "2024-05-21\n",
      "2024-05-22\n",
      "2024-05-23\n",
      "2024-05-24\n",
      "2024-05-25\n",
      "2024-05-26\n",
      "2024-05-27\n",
      "2024-05-28\n",
      "2024-05-29\n",
      "2024-05-30\n",
      "2024-05-31\n",
      "2024-06-01\n",
      "2024-06-02\n"
     ]
    }
   ],
   "source": [
    "for i in c.itermonthdates(2024,5):\n",
    "    print(i)"
   ]
  },
  {
   "cell_type": "code",
   "execution_count": 12,
   "id": "dac41922-0814-44e4-bd73-fdb48c9275fd",
   "metadata": {},
   "outputs": [
    {
     "name": "stdout",
     "output_type": "stream",
     "text": [
      "[datetime.date(2024, 4, 29), datetime.date(2024, 4, 30), datetime.date(2024, 5, 1), datetime.date(2024, 5, 2), datetime.date(2024, 5, 3), datetime.date(2024, 5, 4), datetime.date(2024, 5, 5)]\n",
      "[datetime.date(2024, 5, 6), datetime.date(2024, 5, 7), datetime.date(2024, 5, 8), datetime.date(2024, 5, 9), datetime.date(2024, 5, 10), datetime.date(2024, 5, 11), datetime.date(2024, 5, 12)]\n",
      "[datetime.date(2024, 5, 13), datetime.date(2024, 5, 14), datetime.date(2024, 5, 15), datetime.date(2024, 5, 16), datetime.date(2024, 5, 17), datetime.date(2024, 5, 18), datetime.date(2024, 5, 19)]\n",
      "[datetime.date(2024, 5, 20), datetime.date(2024, 5, 21), datetime.date(2024, 5, 22), datetime.date(2024, 5, 23), datetime.date(2024, 5, 24), datetime.date(2024, 5, 25), datetime.date(2024, 5, 26)]\n",
      "[datetime.date(2024, 5, 27), datetime.date(2024, 5, 28), datetime.date(2024, 5, 29), datetime.date(2024, 5, 30), datetime.date(2024, 5, 31), datetime.date(2024, 6, 1), datetime.date(2024, 6, 2)]\n"
     ]
    }
   ],
   "source": [
    "for i in c.monthdatescalendar(2024,5):\n",
    "    print(i)"
   ]
  },
  {
   "cell_type": "code",
   "execution_count": 18,
   "id": "56bf19b9-23b8-4cdb-a777-a85fbb1aae17",
   "metadata": {},
   "outputs": [
    {
     "name": "stdout",
     "output_type": "stream",
     "text": [
      "      May 2024\n",
      "Mo Tu We Th Fr Sa Su\n",
      "       1  2  3  4  5\n",
      " 6  7  8  9 10 11 12\n",
      "13 14 15 16 17 18 19\n",
      "20 21 22 23 24 25 26\n",
      "27 28 29 30 31\n"
     ]
    }
   ],
   "source": [
    "c = TextCalendar()\n",
    "\n",
    "c.prmonth(2024,5)\n"
   ]
  },
  {
   "cell_type": "code",
   "execution_count": 19,
   "id": "7ea34363-07ef-4b81-aed5-0d760c0092c3",
   "metadata": {},
   "outputs": [
    {
     "name": "stdout",
     "output_type": "stream",
     "text": [
      "                                  2024\n",
      "\n",
      "      January                   February                   March\n",
      "Mo Tu We Th Fr Sa Su      Mo Tu We Th Fr Sa Su      Mo Tu We Th Fr Sa Su\n",
      " 1  2  3  4  5  6  7                1  2  3  4                   1  2  3\n",
      " 8  9 10 11 12 13 14       5  6  7  8  9 10 11       4  5  6  7  8  9 10\n",
      "15 16 17 18 19 20 21      12 13 14 15 16 17 18      11 12 13 14 15 16 17\n",
      "22 23 24 25 26 27 28      19 20 21 22 23 24 25      18 19 20 21 22 23 24\n",
      "29 30 31                  26 27 28 29               25 26 27 28 29 30 31\n",
      "\n",
      "       April                      May                       June\n",
      "Mo Tu We Th Fr Sa Su      Mo Tu We Th Fr Sa Su      Mo Tu We Th Fr Sa Su\n",
      " 1  2  3  4  5  6  7             1  2  3  4  5                      1  2\n",
      " 8  9 10 11 12 13 14       6  7  8  9 10 11 12       3  4  5  6  7  8  9\n",
      "15 16 17 18 19 20 21      13 14 15 16 17 18 19      10 11 12 13 14 15 16\n",
      "22 23 24 25 26 27 28      20 21 22 23 24 25 26      17 18 19 20 21 22 23\n",
      "29 30                     27 28 29 30 31            24 25 26 27 28 29 30\n",
      "\n",
      "        July                     August                  September\n",
      "Mo Tu We Th Fr Sa Su      Mo Tu We Th Fr Sa Su      Mo Tu We Th Fr Sa Su\n",
      " 1  2  3  4  5  6  7                1  2  3  4                         1\n",
      " 8  9 10 11 12 13 14       5  6  7  8  9 10 11       2  3  4  5  6  7  8\n",
      "15 16 17 18 19 20 21      12 13 14 15 16 17 18       9 10 11 12 13 14 15\n",
      "22 23 24 25 26 27 28      19 20 21 22 23 24 25      16 17 18 19 20 21 22\n",
      "29 30 31                  26 27 28 29 30 31         23 24 25 26 27 28 29\n",
      "                                                    30\n",
      "\n",
      "      October                   November                  December\n",
      "Mo Tu We Th Fr Sa Su      Mo Tu We Th Fr Sa Su      Mo Tu We Th Fr Sa Su\n",
      "    1  2  3  4  5  6                   1  2  3                         1\n",
      " 7  8  9 10 11 12 13       4  5  6  7  8  9 10       2  3  4  5  6  7  8\n",
      "14 15 16 17 18 19 20      11 12 13 14 15 16 17       9 10 11 12 13 14 15\n",
      "21 22 23 24 25 26 27      18 19 20 21 22 23 24      16 17 18 19 20 21 22\n",
      "28 29 30 31               25 26 27 28 29 30         23 24 25 26 27 28 29\n",
      "                                                    30 31\n"
     ]
    }
   ],
   "source": [
    "c.pryear(2024)\n"
   ]
  },
  {
   "cell_type": "code",
   "execution_count": null,
   "id": "08431482-d7bb-4c97-9e36-6856beaa627d",
   "metadata": {},
   "outputs": [],
   "source": []
  }
 ],
 "metadata": {
  "kernelspec": {
   "display_name": "Python 3 (ipykernel)",
   "language": "python",
   "name": "python3"
  },
  "language_info": {
   "codemirror_mode": {
    "name": "ipython",
    "version": 3
   },
   "file_extension": ".py",
   "mimetype": "text/x-python",
   "name": "python",
   "nbconvert_exporter": "python",
   "pygments_lexer": "ipython3",
   "version": "3.8.10"
  }
 },
 "nbformat": 4,
 "nbformat_minor": 5
}
