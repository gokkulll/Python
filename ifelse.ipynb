{
 "cells": [
  {
   "cell_type": "code",
   "execution_count": 1,
   "id": "d98121d6-83df-4b11-bc7d-487c8cd71fc0",
   "metadata": {},
   "outputs": [
    {
     "name": "stdout",
     "output_type": "stream",
     "text": [
      "b is greatest\n"
     ]
    }
   ],
   "source": [
    "a = 20\n",
    "b = 30\n",
    "if b>a:\n",
    "    print(\"b is greatest\")\n",
    "    "
   ]
  },
  {
   "cell_type": "code",
   "execution_count": 2,
   "id": "eaff03d1-c35e-46ee-9456-22f9a5dc9772",
   "metadata": {},
   "outputs": [
    {
     "name": "stdout",
     "output_type": "stream",
     "text": [
      "a is equal to b\n"
     ]
    }
   ],
   "source": [
    "a = 1\n",
    "b = 1\n",
    "if a>b:\n",
    "    print(\"a is greater than b\")\n",
    "\n",
    "elif a == b:\n",
    "    print(\"a is equal to b\")\n",
    "    "
   ]
  },
  {
   "cell_type": "code",
   "execution_count": 9,
   "id": "ce783399-33c5-451b-9de4-9ba75da7c923",
   "metadata": {},
   "outputs": [
    {
     "name": "stdout",
     "output_type": "stream",
     "text": [
      "b is greater than b\n"
     ]
    }
   ],
   "source": [
    "a = 20 \n",
    "b = 30 \n",
    "print(\"a is greatest\") if a > b else print(\"a is equal to b\") if a==b else print(\"b is greater than b\") \n"
   ]
  },
  {
   "cell_type": "code",
   "execution_count": 15,
   "id": "c519e04e-4ac5-4d09-93b6-96a5fd4b1bcb",
   "metadata": {},
   "outputs": [],
   "source": [
    "a = 1\n",
    "b = 2\n",
    "c = 3\n",
    "if a<b or b>c:\n",
    "    pass"
   ]
  },
  {
   "cell_type": "code",
   "execution_count": null,
   "id": "8a4abfe2-4ea4-40b2-b639-0182b4ccbb36",
   "metadata": {},
   "outputs": [],
   "source": []
  }
 ],
 "metadata": {
  "kernelspec": {
   "display_name": "Python 3 (ipykernel)",
   "language": "python",
   "name": "python3"
  },
  "language_info": {
   "codemirror_mode": {
    "name": "ipython",
    "version": 3
   },
   "file_extension": ".py",
   "mimetype": "text/x-python",
   "name": "python",
   "nbconvert_exporter": "python",
   "pygments_lexer": "ipython3",
   "version": "3.8.10"
  }
 },
 "nbformat": 4,
 "nbformat_minor": 5
}
