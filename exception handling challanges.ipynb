{
 "cells": [
  {
   "cell_type": "code",
   "execution_count": 18,
   "id": "38fcae11-70b6-4db2-9d1d-cc96adaa2e4d",
   "metadata": {},
   "outputs": [
    {
     "name": "stdin",
     "output_type": "stream",
     "text": [
      "Enter the age 56\n"
     ]
    },
    {
     "name": "stdout",
     "output_type": "stream",
     "text": [
      "Old\n"
     ]
    }
   ],
   "source": [
    "#to show the name of the ages and throw an exception as negavtiveerror\n",
    "\n",
    "class NegativeError(Exception):\n",
    "    pass\n",
    "#class ValueError(Exception):\n",
    " #   pass\n",
    "    \n",
    "def stage(age):\n",
    "    if age<=0:\n",
    "        raise NegativeError(\"Age can not be zero\")\n",
    "    if age>=0 and age<13:\n",
    "        print(\"Kid\")\n",
    "    elif age>=13 and age<18:\n",
    "        print(\"Boy\")\n",
    "    elif age>=18 and age<28:\n",
    "        print(\"teenage\")\n",
    "    elif age>=28:\n",
    "        print(\"Old\")\n",
    "    else:\n",
    "        raise ValueError(\"Enter the valid integer not string\")\n",
    "\n",
    "age = int(input(\"Enter the age\"))\n",
    "\n",
    "try:\n",
    "    stage(age)\n",
    "\n",
    "except NegativeError as msg:\n",
    "    print(msg)\n",
    "\n",
    "#except ValueError as msg:\n",
    " #   print(msg)"
   ]
  },
  {
   "cell_type": "code",
   "execution_count": 6,
   "id": "2670c0bc-b68d-42e5-9cfd-14596b6d44bc",
   "metadata": {},
   "outputs": [],
   "source": [
    "#Account Balance Exception\n",
    "\n",
    "class AccountBalance(Exception):\n",
    "    pass\n",
    "\n",
    "full  = 10000\n",
    "def balance(amount):\n",
    "\n",
    "    global full\n",
    "    if amount>10000:\n",
    "        sub = full - amount\n",
    "        if sub<5000:\n",
    "            raise AccountBalance(\"AccountBalance must be a minimun of 5000\")\n",
    "        else:\n",
    "            print(\"balance is\", sub)\n",
    "\n",
    "\n",
    "\n",
    "try:\n",
    "    balance(6000)\n",
    "except AccountBalance as msg:\n",
    "    print(msg)\n",
    "    \n",
    "    \n",
    "    "
   ]
  },
  {
   "cell_type": "code",
   "execution_count": 9,
   "id": "f94c81b4-3d92-4ca3-8cc6-5ad63d9a3372",
   "metadata": {},
   "outputs": [
    {
     "name": "stdin",
     "output_type": "stream",
     "text": [
      "Enter the amount 3000\n"
     ]
    },
    {
     "name": "stdout",
     "output_type": "stream",
     "text": [
      "Min balance is must\n"
     ]
    }
   ],
   "source": [
    "#account balance Exception\n",
    "class AccountBalance(Exception):\n",
    "    pass\n",
    "\n",
    "balance = 1000\n",
    "def withdraw(Amt):\n",
    "    global balance\n",
    "\n",
    "    if balance-Amt<5000:\n",
    "        raise AccountBalance(\"Min balance is must\")\n",
    "    else:\n",
    "        a = balance - Amt\n",
    "        print(\"Balance would be:\", a)\n",
    "\n",
    "\n",
    "Amt = int(input(\"Enter the amount\"))\n",
    "try:\n",
    "    withdraw(Amt)\n",
    "except AccountBalance as msg:\n",
    "    print(msg)\n"
   ]
  },
  {
   "cell_type": "code",
   "execution_count": 26,
   "id": "d2d68085-5300-436a-9f25-29ef5a34586b",
   "metadata": {},
   "outputs": [
    {
     "name": "stdin",
     "output_type": "stream",
     "text": [
      "Enter the formula eg:10 + 2 12+2\n"
     ]
    },
    {
     "name": "stdout",
     "output_type": "stream",
     "text": [
      "should contain spacesbetween them\n"
     ]
    }
   ],
   "source": [
    "#SimpleCalculator\n",
    "\n",
    "class Error(Exception):\n",
    "    pass\n",
    "\n",
    "def number(formula):\n",
    "\n",
    "    f = formula.split()\n",
    "    if len(f)<3:\n",
    "        raise Error(\"should contain spacesbetween them\")\n",
    "    if f[1] == '+' or f[1]=='-' or f[1]=='*' or f[1] == '/' :\n",
    "        op1 = int(f[0])\n",
    "        op2 = int(f[2])\n",
    "\n",
    "        if f[1]==\"+\":\n",
    "            res = op1 + op2\n",
    "        elif f[1] == '-':\n",
    "            res = op1 - op2\n",
    "        elif f[1] == '*':\n",
    "            res = op1 * op2\n",
    "        else:\n",
    "            res = op1 / op2\n",
    "        return res\n",
    "    else:\n",
    "        raise Error(\"formula should be of form Eg: 10 + 2\")\n",
    "\n",
    "\n",
    "\n",
    "try:\n",
    "    formula = input(\"Enter the formula eg:10 + 2\")\n",
    "    print(number(formula))\n",
    "except Error as msg:\n",
    "    print(msg)\n",
    "            \n",
    "            "
   ]
  },
  {
   "cell_type": "code",
   "execution_count": null,
   "id": "60593382-904d-46e0-beea-699339431795",
   "metadata": {},
   "outputs": [],
   "source": []
  }
 ],
 "metadata": {
  "kernelspec": {
   "display_name": "Python 3 (ipykernel)",
   "language": "python",
   "name": "python3"
  },
  "language_info": {
   "codemirror_mode": {
    "name": "ipython",
    "version": 3
   },
   "file_extension": ".py",
   "mimetype": "text/x-python",
   "name": "python",
   "nbconvert_exporter": "python",
   "pygments_lexer": "ipython3",
   "version": "3.8.10"
  }
 },
 "nbformat": 4,
 "nbformat_minor": 5
}
