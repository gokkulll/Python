{
 "cells": [
  {
   "cell_type": "code",
   "execution_count": 5,
   "id": "c29fb4c5-f353-4bd2-a226-2483f86e99fd",
   "metadata": {},
   "outputs": [
    {
     "name": "stdout",
     "output_type": "stream",
     "text": [
      "{'brand': 'Ford', 'model': 'Mustang', 'year': 1964}\n"
     ]
    }
   ],
   "source": [
    "thisdict =\t{\n",
    "  \"brand\": \"Ford\",\n",
    "  \"model\": \"Mustang\",\n",
    "  \"year\": 1964\n",
    "}\n",
    "print(thisdict)"
   ]
  },
  {
   "cell_type": "code",
   "execution_count": 6,
   "id": "79d12aa1-574c-46fa-bfa5-f46c9b638513",
   "metadata": {},
   "outputs": [
    {
     "name": "stdout",
     "output_type": "stream",
     "text": [
      "{'brand': 'mustang', 'year': 1934, 'car': 'ford'}\n"
     ]
    }
   ],
   "source": [
    "x = {\n",
    "    'brand': 'mustang',\n",
    "    'year': 1934,\n",
    "    'car': 'ford'\n",
    "}\n",
    "print(x)"
   ]
  },
  {
   "cell_type": "code",
   "execution_count": 5,
   "id": "6f3af6c8-a497-477c-a5a8-fda7559c1ef0",
   "metadata": {},
   "outputs": [
    {
     "name": "stdout",
     "output_type": "stream",
     "text": [
      "{'name': 'ford', 'model': 'mustang', 'year': 1999}\n"
     ]
    }
   ],
   "source": [
    "x = dict(name=\"ford\", model= \"mustang\", year= 1999)\n",
    "print(x)"
   ]
  },
  {
   "cell_type": "code",
   "execution_count": 6,
   "id": "0f5128bf-4905-4268-8caa-8ffa5a300483",
   "metadata": {},
   "outputs": [
    {
     "name": "stdout",
     "output_type": "stream",
     "text": [
      "mustang\n"
     ]
    }
   ],
   "source": [
    "y = x[\"model\"]\n",
    "print(y)"
   ]
  },
  {
   "cell_type": "code",
   "execution_count": 8,
   "id": "73d97f15-5768-40ae-ac40-f780ac989b58",
   "metadata": {},
   "outputs": [
    {
     "name": "stdout",
     "output_type": "stream",
     "text": [
      "mustang\n"
     ]
    }
   ],
   "source": [
    "y = x.get(\"model\")\n",
    "print(y)"
   ]
  },
  {
   "cell_type": "code",
   "execution_count": 9,
   "id": "47c385fd-68aa-41ad-8024-017927dc5290",
   "metadata": {},
   "outputs": [
    {
     "name": "stdout",
     "output_type": "stream",
     "text": [
      "dict_keys(['name', 'model', 'year'])\n"
     ]
    }
   ],
   "source": [
    "y = x.keys()\n",
    "print(y)"
   ]
  },
  {
   "cell_type": "code",
   "execution_count": 17,
   "id": "a3d2e6ee-a9c2-4f43-a560-b172ffbd8bce",
   "metadata": {},
   "outputs": [
    {
     "name": "stdout",
     "output_type": "stream",
     "text": [
      "dict_keys(['apple', 'orange', 'grapes'])\n",
      "dict_values(['red', 'yellow', 'purple'])\n"
     ]
    }
   ],
   "source": [
    "fruits = {\n",
    "    \"apple\": \"red\",\n",
    "    \"orange\": \"yellow\",\n",
    "    \"grapes\": \"violet\"\n",
    "}\n",
    "x = fruits.keys()\n",
    "print(x)\n",
    "fruits[\"grapes\"] = \"purple\"\n",
    "y = fruits.values()\n",
    "print(y)"
   ]
  },
  {
   "cell_type": "code",
   "execution_count": 13,
   "id": "dc9339c7-e3e0-43c8-b3f4-b47a4b22b827",
   "metadata": {},
   "outputs": [
    {
     "name": "stdout",
     "output_type": "stream",
     "text": [
      "{'apple': 'red', 'orange': 'yellow', 'grapes': 'violet', 'blums': 'purple'}\n"
     ]
    }
   ],
   "source": [
    "print(fruits)"
   ]
  },
  {
   "cell_type": "code",
   "execution_count": 14,
   "id": "3ed68145-bc0e-422a-bb95-8901b2a25d6d",
   "metadata": {},
   "outputs": [
    {
     "name": "stdout",
     "output_type": "stream",
     "text": [
      "dict_values(['red', 'yellow', 'violet', 'purple'])\n"
     ]
    }
   ],
   "source": [
    "y = fruits.values()\n",
    "print(y)"
   ]
  },
  {
   "cell_type": "code",
   "execution_count": 19,
   "id": "f46c0d9d-7d32-4f62-be3f-8900c845cdb8",
   "metadata": {},
   "outputs": [
    {
     "name": "stdout",
     "output_type": "stream",
     "text": [
      "yes, it is present in it\n"
     ]
    }
   ],
   "source": [
    "if \"orange\" in fruits:\n",
    "    print(\"yes, it is present in it\")"
   ]
  },
  {
   "cell_type": "code",
   "execution_count": 20,
   "id": "05f3839b-78b7-4481-8821-d030a2c5ff7a",
   "metadata": {},
   "outputs": [
    {
     "name": "stdout",
     "output_type": "stream",
     "text": [
      "{'apple': 'red', 'orange': 'yellow', 'grapes': 'lavender'}\n"
     ]
    }
   ],
   "source": [
    "fruits[\"grapes\"] = \"lavender\"\n",
    "print(fruits)"
   ]
  },
  {
   "cell_type": "code",
   "execution_count": 28,
   "id": "36a25177-fa03-4de2-b887-b1b4b9574946",
   "metadata": {},
   "outputs": [
    {
     "name": "stdout",
     "output_type": "stream",
     "text": [
      "{'apple': 'red', 'orange': 'yellow', 'grapes': 'violet'}\n"
     ]
    }
   ],
   "source": [
    "fruits.update({\"grapes\":\"violet\"})\n",
    "print(fruits)"
   ]
  },
  {
   "cell_type": "code",
   "execution_count": 29,
   "id": "01333b03-1ec3-46ca-94e2-1b4d51e720cc",
   "metadata": {},
   "outputs": [
    {
     "name": "stdout",
     "output_type": "stream",
     "text": [
      "dict_keys(['apple', 'orange'])\n"
     ]
    }
   ],
   "source": [
    "y = fruits.pop(\"grapes\")\n",
    "print(x)"
   ]
  },
  {
   "cell_type": "code",
   "execution_count": 30,
   "id": "b4dbde60-8a7b-4365-b4ec-f558db1827d5",
   "metadata": {},
   "outputs": [
    {
     "name": "stdout",
     "output_type": "stream",
     "text": [
      "{'apple': 'red', 'orange': 'yellow'}\n"
     ]
    }
   ],
   "source": [
    "print(fruits)"
   ]
  },
  {
   "cell_type": "code",
   "execution_count": 32,
   "id": "b088b7e6-afa7-40c7-9b78-29bff04547d7",
   "metadata": {},
   "outputs": [
    {
     "name": "stdout",
     "output_type": "stream",
     "text": [
      "{'apple': 'red'}\n"
     ]
    }
   ],
   "source": [
    "y = fruits.popitem()\n",
    "print(fruits)"
   ]
  },
  {
   "cell_type": "code",
   "execution_count": 33,
   "id": "b90aa3bf-4bd6-42b4-8b80-ca637d9dcb75",
   "metadata": {},
   "outputs": [
    {
     "name": "stdout",
     "output_type": "stream",
     "text": [
      "None\n"
     ]
    }
   ],
   "source": [
    "y = fruits.clear()\n",
    "print(y)"
   ]
  },
  {
   "cell_type": "code",
   "execution_count": 34,
   "id": "517ccbc8-6509-43e1-856a-78c80203042f",
   "metadata": {},
   "outputs": [
    {
     "ename": "NameError",
     "evalue": "name 'fruits' is not defined",
     "output_type": "error",
     "traceback": [
      "\u001b[0;31m---------------------------------------------------------------------------\u001b[0m",
      "\u001b[0;31mNameError\u001b[0m                                 Traceback (most recent call last)",
      "Cell \u001b[0;32mIn[34], line 2\u001b[0m\n\u001b[1;32m      1\u001b[0m \u001b[38;5;28;01mdel\u001b[39;00m fruits\n\u001b[0;32m----> 2\u001b[0m \u001b[38;5;28mprint\u001b[39m(\u001b[43mfruits\u001b[49m)\n",
      "\u001b[0;31mNameError\u001b[0m: name 'fruits' is not defined"
     ]
    }
   ],
   "source": [
    "del fruits\n",
    "print(fruits)"
   ]
  },
  {
   "cell_type": "code",
   "execution_count": 44,
   "id": "7cdaecd7-829c-44c5-b443-eb40f934043b",
   "metadata": {},
   "outputs": [
    {
     "name": "stdout",
     "output_type": "stream",
     "text": [
      "{}\n"
     ]
    }
   ],
   "source": [
    "fruits = dict(apple= \"red\", orange= \"yellow\")\n",
    "fruits.clear()\n",
    "print(fruits)"
   ]
  },
  {
   "cell_type": "code",
   "execution_count": 45,
   "id": "3ae87479-b439-4fc6-94be-006ff4e89e80",
   "metadata": {},
   "outputs": [
    {
     "ename": "NameError",
     "evalue": "name 'fruits' is not defined",
     "output_type": "error",
     "traceback": [
      "\u001b[0;31m---------------------------------------------------------------------------\u001b[0m",
      "\u001b[0;31mNameError\u001b[0m                                 Traceback (most recent call last)",
      "Cell \u001b[0;32mIn[45], line 2\u001b[0m\n\u001b[1;32m      1\u001b[0m \u001b[38;5;28;01mdel\u001b[39;00m fruits\n\u001b[0;32m----> 2\u001b[0m \u001b[38;5;28mprint\u001b[39m(\u001b[43mfruits\u001b[49m)\n",
      "\u001b[0;31mNameError\u001b[0m: name 'fruits' is not defined"
     ]
    }
   ],
   "source": [
    "del fruits\n",
    "print(fruits)"
   ]
  },
  {
   "cell_type": "code",
   "execution_count": 49,
   "id": "b8fbc157-3987-48cd-aaa7-9edd9b36fa3c",
   "metadata": {},
   "outputs": [
    {
     "ename": "NameError",
     "evalue": "name 'fruits' is not defined",
     "output_type": "error",
     "traceback": [
      "\u001b[0;31m---------------------------------------------------------------------------\u001b[0m",
      "\u001b[0;31mNameError\u001b[0m                                 Traceback (most recent call last)",
      "Cell \u001b[0;32mIn[49], line 7\u001b[0m\n\u001b[1;32m      1\u001b[0m fruits \u001b[38;5;241m=\u001b[39m {\n\u001b[1;32m      2\u001b[0m     \u001b[38;5;124m\"\u001b[39m\u001b[38;5;124mapple\u001b[39m\u001b[38;5;124m\"\u001b[39m: \u001b[38;5;124m\"\u001b[39m\u001b[38;5;124mred\u001b[39m\u001b[38;5;124m\"\u001b[39m,\n\u001b[1;32m      3\u001b[0m     \u001b[38;5;124m\"\u001b[39m\u001b[38;5;124mgrapes\u001b[39m\u001b[38;5;124m\"\u001b[39m: \u001b[38;5;124m\"\u001b[39m\u001b[38;5;124mviolet\u001b[39m\u001b[38;5;124m\"\u001b[39m,\n\u001b[1;32m      4\u001b[0m     \u001b[38;5;124m\"\u001b[39m\u001b[38;5;124mpine apple\u001b[39m\u001b[38;5;124m\"\u001b[39m: \u001b[38;5;124m\"\u001b[39m\u001b[38;5;124myellow\u001b[39m\u001b[38;5;124m\"\u001b[39m\n\u001b[1;32m      5\u001b[0m }\n\u001b[1;32m      6\u001b[0m \u001b[38;5;28;01mdel\u001b[39;00m fruits\n\u001b[0;32m----> 7\u001b[0m \u001b[38;5;28mprint\u001b[39m(\u001b[43mfruits\u001b[49m)\n",
      "\u001b[0;31mNameError\u001b[0m: name 'fruits' is not defined"
     ]
    }
   ],
   "source": [
    "fruits = {\n",
    "    \"apple\": \"red\",\n",
    "    \"grapes\": \"violet\",\n",
    "    \"pine apple\": \"yellow\"\n",
    "}\n",
    "del fruits\n",
    "print(fruits)"
   ]
  },
  {
   "cell_type": "code",
   "execution_count": 50,
   "id": "6aeaa445-8bdc-4ad0-9c07-7447ff5c4699",
   "metadata": {},
   "outputs": [
    {
     "ename": "NameError",
     "evalue": "name 'fruits' is not defined",
     "output_type": "error",
     "traceback": [
      "\u001b[0;31m---------------------------------------------------------------------------\u001b[0m",
      "\u001b[0;31mNameError\u001b[0m                                 Traceback (most recent call last)",
      "Cell \u001b[0;32mIn[50], line 1\u001b[0m\n\u001b[0;32m----> 1\u001b[0m \u001b[43mfruits\u001b[49m\u001b[38;5;241m.\u001b[39mclear()\n\u001b[1;32m      2\u001b[0m \u001b[38;5;28mprint\u001b[39m(fruits)\n",
      "\u001b[0;31mNameError\u001b[0m: name 'fruits' is not defined"
     ]
    }
   ],
   "source": [
    "fruits.clear()\n",
    "print(fruits)"
   ]
  },
  {
   "cell_type": "code",
   "execution_count": 56,
   "id": "f1a199a8-c0c4-4a1d-90b6-9e64c3bd8889",
   "metadata": {},
   "outputs": [
    {
     "name": "stdout",
     "output_type": "stream",
     "text": [
      "apple\n",
      "red\n",
      "grapes\n",
      "violet\n",
      "blueberry\n",
      "blue\n"
     ]
    }
   ],
   "source": [
    "fruits = {\n",
    "    \"apple\": \"red\",\n",
    "    \"grapes\": \"violet\",\n",
    "    \"blueberry\": \"blue\"\n",
    "}\n",
    "for x in fruits:\n",
    "    print(x)\n",
    "    print(fruits[x])"
   ]
  },
  {
   "cell_type": "code",
   "execution_count": 58,
   "id": "1ee880d8-9a9c-4725-89a9-804522576e70",
   "metadata": {},
   "outputs": [
    {
     "name": "stdout",
     "output_type": "stream",
     "text": [
      "apple\n",
      "grapes\n",
      "blueberry\n"
     ]
    }
   ],
   "source": [
    "for x in fruits.keys():\n",
    "    print(x)"
   ]
  },
  {
   "cell_type": "code",
   "execution_count": 60,
   "id": "c8844f30-ec4b-46d1-b6ed-44a4b92f0c71",
   "metadata": {},
   "outputs": [
    {
     "name": "stdout",
     "output_type": "stream",
     "text": [
      "red\n",
      "violet\n",
      "blue\n"
     ]
    }
   ],
   "source": [
    "for x in fruits.values():\n",
    "    print(x)"
   ]
  },
  {
   "cell_type": "code",
   "execution_count": 63,
   "id": "61ac7dd5-4f61-4358-a9b8-187879e95ff5",
   "metadata": {},
   "outputs": [
    {
     "name": "stdout",
     "output_type": "stream",
     "text": [
      "apple red\n",
      "grapes violet\n",
      "blueberry blue\n"
     ]
    }
   ],
   "source": [
    "for x,y in fruits.items():\n",
    "    print(x,y)"
   ]
  },
  {
   "cell_type": "code",
   "execution_count": 64,
   "id": "9d630fa2-bbb2-4f74-acaa-67ef8ec09fde",
   "metadata": {},
   "outputs": [
    {
     "name": "stdout",
     "output_type": "stream",
     "text": [
      "{'apple': 'red', 'grapes': 'violet', 'blueberry': 'blue'}\n"
     ]
    }
   ],
   "source": [
    "x = fruits.copy()\n",
    "print(x)"
   ]
  },
  {
   "cell_type": "code",
   "execution_count": 65,
   "id": "ed9a1ccf-c9d5-4c37-8450-93beb422524c",
   "metadata": {},
   "outputs": [
    {
     "name": "stdout",
     "output_type": "stream",
     "text": [
      "{'apple': 'red', 'grapes': 'violet', 'blueberry': 'blue'}\n"
     ]
    }
   ],
   "source": [
    "y = dict(fruits)\n",
    "print(y)"
   ]
  },
  {
   "cell_type": "code",
   "execution_count": 67,
   "id": "04d153f0-769b-493a-859f-a68653425882",
   "metadata": {},
   "outputs": [
    {
     "name": "stdout",
     "output_type": "stream",
     "text": [
      "{'good fruits': {'apple': 'red'}, 'bad fruits': {'grapes': 'violet'}}\n"
     ]
    }
   ],
   "source": [
    "myfruits = {\n",
    "    \"good fruits\": {\n",
    "        \"apple\": \"red\"\n",
    "    },\n",
    "    \"bad fruits\": {\n",
    "        \"grapes\": \"violet\"\n",
    "    }\n",
    "}\n",
    "print(myfruits)\n",
    "    "
   ]
  },
  {
   "cell_type": "code",
   "execution_count": 68,
   "id": "fd2551ea-6edb-4f10-8bfb-07d72172733e",
   "metadata": {},
   "outputs": [
    {
     "name": "stdout",
     "output_type": "stream",
     "text": [
      "{}\n"
     ]
    }
   ],
   "source": [
    "myfruits.clear()\n",
    "print(myfruits)"
   ]
  },
  {
   "cell_type": "code",
   "execution_count": 70,
   "id": "1bc569be-25fb-408c-8a19-079d1c7204b3",
   "metadata": {},
   "outputs": [
    {
     "name": "stdout",
     "output_type": "stream",
     "text": [
      "{'good fruits': {'apple': 'red'}, 'bad fruits': {'grapes': 'violet'}}\n"
     ]
    }
   ],
   "source": [
    "good_fruits= {\n",
    "    \"apple\": \"red\"\n",
    "}\n",
    "bad_fruits= {\n",
    "    \"grapes\": \"violet\"\n",
    "}\n",
    "\n",
    "fruits = {\n",
    "    \"good fruits\": good_fruits,\n",
    "    \"bad fruits\": bad_fruits\n",
    "}\n",
    "print(fruits)"
   ]
  },
  {
   "cell_type": "code",
   "execution_count": 75,
   "id": "a9f643bc-1376-4eb3-8a23-b31ee642b7d6",
   "metadata": {},
   "outputs": [
    {
     "name": "stdout",
     "output_type": "stream",
     "text": [
      "red\n"
     ]
    }
   ],
   "source": [
    "print(fruits[\"good fruits\"][\"apple\"])"
   ]
  },
  {
   "cell_type": "code",
   "execution_count": 2,
   "id": "e6d42efa-f1c9-4d38-9f06-e09075cbb85f",
   "metadata": {},
   "outputs": [
    {
     "ename": "NameError",
     "evalue": "name 'good_fruits' is not defined",
     "output_type": "error",
     "traceback": [
      "\u001b[0;31m---------------------------------------------------------------------------\u001b[0m",
      "\u001b[0;31mNameError\u001b[0m                                 Traceback (most recent call last)",
      "Cell \u001b[0;32mIn[2], line 1\u001b[0m\n\u001b[0;32m----> 1\u001b[0m x \u001b[38;5;241m=\u001b[39m \u001b[43mgood_fruits\u001b[49m\u001b[38;5;241m.\u001b[39mkeys()\n\u001b[1;32m      2\u001b[0m \u001b[38;5;28mprint\u001b[39m(x)\n\u001b[1;32m      3\u001b[0m y \u001b[38;5;241m=\u001b[39m good_fruits\u001b[38;5;241m.\u001b[39mvalues()\n",
      "\u001b[0;31mNameError\u001b[0m: name 'good_fruits' is not defined"
     ]
    }
   ],
   "source": [
    "x = good_fruits.keys()\n",
    "print(x)\n",
    "y = good_fruits.values()\n",
    "print(y)\n",
    "z = good_fruits.items()\n",
    "print(z)"
   ]
  },
  {
   "cell_type": "code",
   "execution_count": 4,
   "id": "9369c714-ce59-41e4-a36f-aa314726c501",
   "metadata": {},
   "outputs": [
    {
     "name": "stdout",
     "output_type": "stream",
     "text": [
      "dict_keys(['apple', 'grapes'])\n"
     ]
    }
   ],
   "source": [
    "fruits = {\n",
    "    'apple': 'red',\n",
    "    'grapes': 'violet',\n",
    "}\n",
    "x = fruits.keys()\n",
    "print(x)"
   ]
  },
  {
   "cell_type": "code",
   "execution_count": null,
   "id": "94c2ade6-4055-439f-bce6-a3f6873a56ee",
   "metadata": {},
   "outputs": [],
   "source": []
  }
 ],
 "metadata": {
  "kernelspec": {
   "display_name": "Python 3 (ipykernel)",
   "language": "python",
   "name": "python3"
  },
  "language_info": {
   "codemirror_mode": {
    "name": "ipython",
    "version": 3
   },
   "file_extension": ".py",
   "mimetype": "text/x-python",
   "name": "python",
   "nbconvert_exporter": "python",
   "pygments_lexer": "ipython3",
   "version": "3.8.10"
  }
 },
 "nbformat": 4,
 "nbformat_minor": 5
}
