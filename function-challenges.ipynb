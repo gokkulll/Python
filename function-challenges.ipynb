{
 "cells": [
  {
   "cell_type": "code",
   "execution_count": 2,
   "id": "877df4b1-95ae-4da9-ac0c-eb5d0daad246",
   "metadata": {},
   "outputs": [
    {
     "name": "stdin",
     "output_type": "stream",
     "text": [
      "Enter the 1st number: 12\n",
      "Enter the 2nd number: 13\n"
     ]
    },
    {
     "name": "stdout",
     "output_type": "stream",
     "text": [
      "difference: 1\n"
     ]
    }
   ],
   "source": [
    "#difference between two numbers if the maximum difference is 5\n",
    "\n",
    "a = int(input(\"Enter the 1st number:\"))\n",
    "b = int(input(\"Enter the 2nd number:\"))\n",
    "\n",
    "if b>a:\n",
    "    diff = b-a\n",
    "    if diff<=5:\n",
    "        print(\"difference:\", diff)\n",
    "    else:\n",
    "        print(\"Error:Enter other numbers\")"
   ]
  },
  {
   "cell_type": "code",
   "execution_count": 15,
   "id": "7098ccf9-6deb-46b5-8f00-ba30e8c74e7d",
   "metadata": {},
   "outputs": [
    {
     "name": "stdout",
     "output_type": "stream",
     "text": [
      "True\n"
     ]
    }
   ],
   "source": [
    "#diff of two numbers in function\n",
    "\n",
    "\n",
    "def diff(a,b):\n",
    "    if b>a:\n",
    "        d = b-a\n",
    "        if abs(d<=5):\n",
    "            return True\n",
    "        else:\n",
    "            return False\n",
    "\n",
    "    else:\n",
    "        return \"Error\"\n",
    "\n",
    "\n",
    "q=diff(-5,-3)\n",
    "print(q)          "
   ]
  },
  {
   "cell_type": "code",
   "execution_count": 20,
   "id": "81c8c87b-5e2e-48b3-9023-e1250c5ba189",
   "metadata": {},
   "outputs": [
    {
     "name": "stdout",
     "output_type": "stream",
     "text": [
      "123.4\n"
     ]
    }
   ],
   "source": [
    "#maximum of three numbers\n",
    "\n",
    "\n",
    "def maxi_mum(a,b,c):\n",
    "    d = max(a,b)\n",
    "    e = max(d,c)\n",
    "    return e\n",
    "\n",
    "print(maxi_mum(12.3,32.5,123.4))\n"
   ]
  },
  {
   "cell_type": "code",
   "execution_count": 42,
   "id": "d2a44307-4c1c-48b9-a502-1b6dfc8e8fef",
   "metadata": {},
   "outputs": [
    {
     "name": "stdout",
     "output_type": "stream",
     "text": [
      "iam gokul and iam working as a Developer\n"
     ]
    }
   ],
   "source": [
    "#using positonal arguments printing the message\n",
    "\n",
    "def student(name,profession,/):\n",
    "    stu_dent=\"iam \"+ name+\" and iam working as a \"+ profession\n",
    "    return stu_dent\n",
    "\n",
    "print(student('gokul','Developer'))"
   ]
  },
  {
   "cell_type": "code",
   "execution_count": 46,
   "id": "f4ac43f6-e4a9-4405-a97d-b8463c9032e0",
   "metadata": {},
   "outputs": [
    {
     "name": "stdin",
     "output_type": "stream",
     "text": [
      "Enter the id 4\n"
     ]
    },
    {
     "name": "stdout",
     "output_type": "stream",
     "text": [
      "Earth\n"
     ]
    }
   ],
   "source": [
    "#find the planets using its id\n",
    "\n",
    "\n",
    "def planets(id):\n",
    "    planets = {1:\"Mercury\",2:\"venus\",3:\"Earth\",4:\"mars\",5:\"jupyter\",6:\"saturn\",7:\"neptune\",8:\"uranus\",9:\"pluto\"}\n",
    "    return planets[id]\n",
    "\n",
    "id = int(input(\"Enter the id\"))\n",
    "e = planets(3)\n",
    "print(e)"
   ]
  },
  {
   "cell_type": "code",
   "execution_count": 2,
   "id": "b3dc477e-edc9-4174-a44d-38b7943d6c77",
   "metadata": {},
   "outputs": [
    {
     "data": {
      "text/plain": [
       "700"
      ]
     },
     "execution_count": 2,
     "metadata": {},
     "output_type": "execute_result"
    }
   ],
   "source": [
    "#adding student marks divisible by 0\n",
    "\n",
    "\n",
    "def student(L):\n",
    "    s = 0\n",
    "    for i in L:\n",
    "        if i%10==0:\n",
    "            s=s+i\n",
    "    return s\n",
    "\n",
    "L = [100,150,200,250,345,545]\n",
    "student(L)"
   ]
  },
  {
   "cell_type": "code",
   "execution_count": 8,
   "id": "4a2274db-2e6c-4cc5-8403-949ff6338393",
   "metadata": {},
   "outputs": [
    {
     "name": "stdout",
     "output_type": "stream",
     "text": [
      "{'a': 1, 'b': 2, 'c': 3}\n"
     ]
    }
   ],
   "source": [
    "#In the dictionary making keys as values and values as keys\n",
    "\n",
    "\n",
    "def invert(d):\n",
    "    new_d={}\n",
    "    for k,v in d.items():\n",
    "        new_d[v] = k\n",
    "    return new_d\n",
    "\n",
    "d1 = {1:'a',2:'b',3:'c'}\n",
    "\n",
    "d2 = invert(d1)\n",
    "print(d2)\n"
   ]
  },
  {
   "cell_type": "code",
   "execution_count": null,
   "id": "087c92b5-4097-4a8c-aa37-d2677ac99f56",
   "metadata": {},
   "outputs": [],
   "source": [
    "#pangram phrase\n",
    "\n",
    "\n",
    "def alpha(phr):\n",
    "    letters=['a','b','c','d','e','f','g','h','i','j','k','l','m','n','o','p','q','r','s','t','u','v','w','x','y','z']\n",
    "    phr = set(phr)\n",
    "    if len(phr)>=len(letters):\n",
    "        return True\n",
    "    else:\n",
    "        return False\n",
    "\n",
    "phr = 'The five boxing wizards jump quickly'\n",
    "print(alpha(phr))\n",
    "        "
   ]
  },
  {
   "cell_type": "code",
   "execution_count": null,
   "id": "8e092ca7-daa9-4721-831d-1e7f18ddcc0c",
   "metadata": {},
   "outputs": [],
   "source": [
    "#counting the number of upper and lower case letters\n",
    "\n",
    "def letters(alpha):\n",
    "    uc = 0\n",
    "    lc = 0\n",
    "    for i in alpha:\n",
    "        if i.isupper():\n",
    "            uc= uc+1\n",
    "            \n",
    "        if i.islower():\n",
    "            lc=lc+1\n",
    "\n",
    "    return uc,lc\n",
    "a = letters('GoKul')\n",
    "print(a)"
   ]
  },
  {
   "cell_type": "code",
   "execution_count": 20,
   "id": "0f46c477-8cc4-4124-931b-4192b2e6586a",
   "metadata": {},
   "outputs": [
    {
     "name": "stdout",
     "output_type": "stream",
     "text": [
      "[1]\n",
      "[1, 1]\n",
      "[1, 2, 1]\n",
      "[1, 3, 3, 1]\n",
      "[1, 4, 6, 4, 1]\n",
      "[1, 5, 10, 10, 5, 1]\n",
      "[1, 6, 15, 20, 15, 6, 1]\n"
     ]
    }
   ],
   "source": [
    "#pascal triangle\n",
    "\n",
    "def pascal(n):\n",
    "    r=[1]\n",
    "    for i in range(n):  #doubt.....\n",
    "        print(r)\n",
    "        tr = [0] + r\n",
    "        r = r + [0]\n",
    "        nr = [ x+y for x,y in zip(r,tr)]\n",
    "        r = nr\n",
    "\n",
    "pascal(7)"
   ]
  },
  {
   "cell_type": "code",
   "execution_count": 28,
   "id": "74c4b37c-28c1-42f4-9f2c-5310f60fc92d",
   "metadata": {},
   "outputs": [
    {
     "name": "stdout",
     "output_type": "stream",
     "text": [
      "1\n",
      "2\n",
      "3\n",
      "4\n",
      "5\n"
     ]
    }
   ],
   "source": [
    "#flatten a given nexted list\n",
    "\n",
    "def flatten(L):\n",
    "    for e in L:\n",
    "        if hasattr(e,'__iter__'):\n",
    "            yield e\n",
    "        else:\n",
    "            yield e\n",
    "\n",
    "L = flatten([1,2,3,4,5,6,7,8])\n",
    "print(next(L))\n",
    "print(next(L))\n",
    "print(next(L))\n",
    "print(next(L))\n",
    "print(next(L))"
   ]
  },
  {
   "cell_type": "code",
   "execution_count": null,
   "id": "6ea75e70-7407-4779-ac95-63eaba2a3fc4",
   "metadata": {},
   "outputs": [],
   "source": []
  }
 ],
 "metadata": {
  "kernelspec": {
   "display_name": "Python 3 (ipykernel)",
   "language": "python",
   "name": "python3"
  },
  "language_info": {
   "codemirror_mode": {
    "name": "ipython",
    "version": 3
   },
   "file_extension": ".py",
   "mimetype": "text/x-python",
   "name": "python",
   "nbconvert_exporter": "python",
   "pygments_lexer": "ipython3",
   "version": "3.8.10"
  }
 },
 "nbformat": 4,
 "nbformat_minor": 5
}
