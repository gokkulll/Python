{
 "cells": [
  {
   "cell_type": "code",
   "execution_count": 18,
   "id": "4cc0bd20-f2bd-416f-ba20-0d43cfc07181",
   "metadata": {},
   "outputs": [
    {
     "name": "stdin",
     "output_type": "stream",
     "text": [
      "Enter the name gokul\n"
     ]
    },
    {
     "name": "stdout",
     "output_type": "stream",
     "text": [
      "no name\n"
     ]
    }
   ],
   "source": [
    "'''find the birthdays by entering the name'''\n",
    "birthdays = {\n",
    "    'rahul': '12/7/1999',\n",
    "    'ramu': '13/11/1998',\n",
    "    'jegan': '16/12/2000'\n",
    "}\n",
    "\n",
    "name = input(\"Enter the name\")\n",
    "\n",
    "if name in birthdays:\n",
    "    print('the birthday is %s' %(birthdays[name]))\n",
    "else:\n",
    "    print(\"no name\")"
   ]
  },
  {
   "cell_type": "code",
   "execution_count": 18,
   "id": "02dcd119-7db0-408a-af20-6e6436fec7b8",
   "metadata": {},
   "outputs": [
    {
     "ename": "TypeError",
     "evalue": "'int' object is not callable",
     "output_type": "error",
     "traceback": [
      "\u001b[0;31m---------------------------------------------------------------------------\u001b[0m",
      "\u001b[0;31mTypeError\u001b[0m                                 Traceback (most recent call last)",
      "Cell \u001b[0;32mIn[18], line 13\u001b[0m\n\u001b[1;32m     10\u001b[0m values \u001b[38;5;241m=\u001b[39m \u001b[38;5;28mlist\u001b[39m((\u001b[38;5;28mdict\u001b[39m\u001b[38;5;241m.\u001b[39mvalues()))\n\u001b[1;32m     11\u001b[0m lens \u001b[38;5;241m=\u001b[39m [ \u001b[38;5;28mlen\u001b[39m(x) \u001b[38;5;28;01mfor\u001b[39;00m x \u001b[38;5;129;01min\u001b[39;00m values]\n\u001b[0;32m---> 13\u001b[0m max_len \u001b[38;5;241m=\u001b[39m \u001b[38;5;28;43mmax\u001b[39;49m\u001b[43m(\u001b[49m\u001b[43mlens\u001b[49m\u001b[43m)\u001b[49m\n",
      "\u001b[0;31mTypeError\u001b[0m: 'int' object is not callable"
     ]
    }
   ],
   "source": [
    "'''find the max and min word in a givem dictionary'''\n",
    "\n",
    "dict = {\n",
    "    'Vorfreude':'The joyful anticipation and excitement of anticipating a future event',\n",
    "    'Paroxysm':'A sudden, violent outburst of emotion or action',\n",
    "    'Hapless':'Unfortunate or unlucky'\n",
    "}\n",
    "\n",
    "keys = list((dict.keys()))\n",
    "values = list((dict.values()))\n",
    "lens = [ len(x) for x in values]\n",
    "\n",
    "max_len = max(lens)\n",
    "''' code in online compiler '''"
   ]
  },
  {
   "cell_type": "code",
   "execution_count": 23,
   "id": "f494f139-f784-4a72-a28b-8f5cce05ad73",
   "metadata": {},
   "outputs": [
    {
     "name": "stdin",
     "output_type": "stream",
     "text": [
      "Enter the country name india\n",
      "Enter the country name italy\n",
      "Enter the country name mexico\n",
      "Enter the country name rome\n"
     ]
    },
    {
     "name": "stdout",
     "output_type": "stream",
     "text": [
      "{'I': ['india', 'italy'], 'M': ['mexico'], 'R': ['rome']}\n"
     ]
    }
   ],
   "source": [
    "''' add the countries to the dictionary'''\n",
    "\n",
    "countries = {}\n",
    "for i in range(4):\n",
    "    name = input(\"Enter the country name\")\n",
    "    if name[0].upper() not in countries:\n",
    "            countries[name[0].upper()] = [name]\n",
    "    else:\n",
    "        countries[name[0].upper()].append(name)\n",
    "\n",
    "print(countries)\n",
    "        \n",
    "                               "
   ]
  },
  {
   "cell_type": "code",
   "execution_count": null,
   "id": "8710d089-562b-4ffa-bf94-2da2c58a7993",
   "metadata": {},
   "outputs": [],
   "source": []
  }
 ],
 "metadata": {
  "kernelspec": {
   "display_name": "Python 3 (ipykernel)",
   "language": "python",
   "name": "python3"
  },
  "language_info": {
   "codemirror_mode": {
    "name": "ipython",
    "version": 3
   },
   "file_extension": ".py",
   "mimetype": "text/x-python",
   "name": "python",
   "nbconvert_exporter": "python",
   "pygments_lexer": "ipython3",
   "version": "3.8.10"
  }
 },
 "nbformat": 4,
 "nbformat_minor": 5
}
